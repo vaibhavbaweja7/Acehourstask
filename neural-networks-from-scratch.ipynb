{
 "cells": [
  {
   "cell_type": "markdown",
   "id": "a6ea410e",
   "metadata": {
    "papermill": {
     "duration": 0.006275,
     "end_time": "2024-01-04T13:07:55.928911",
     "exception": false,
     "start_time": "2024-01-04T13:07:55.922636",
     "status": "completed"
    },
    "tags": []
   },
   "source": [
    "# Importing libraries we will be using "
   ]
  },
  {
   "cell_type": "code",
   "execution_count": 1,
   "id": "e105a557",
   "metadata": {
    "execution": {
     "iopub.execute_input": "2024-01-04T13:07:55.943784Z",
     "iopub.status.busy": "2024-01-04T13:07:55.942902Z",
     "iopub.status.idle": "2024-01-04T13:07:57.576490Z",
     "shell.execute_reply": "2024-01-04T13:07:57.575190Z"
    },
    "papermill": {
     "duration": 1.644406,
     "end_time": "2024-01-04T13:07:57.579620",
     "exception": false,
     "start_time": "2024-01-04T13:07:55.935214",
     "status": "completed"
    },
    "tags": []
   },
   "outputs": [],
   "source": [
    "import numpy as np\n",
    "from sklearn.datasets import load_breast_cancer\n",
    "from sklearn.model_selection import train_test_split\n",
    "from sklearn.preprocessing import StandardScaler\n",
    "import matplotlib.pyplot as plt\n",
    "from sklearn.metrics import confusion_matrix"
   ]
  },
  {
   "cell_type": "markdown",
   "id": "f4b91342",
   "metadata": {
    "papermill": {
     "duration": 0.005655,
     "end_time": "2024-01-04T13:07:57.591329",
     "exception": false,
     "start_time": "2024-01-04T13:07:57.585674",
     "status": "completed"
    },
    "tags": []
   },
   "source": [
    "# Defining the neural network function"
   ]
  },
  {
   "cell_type": "code",
   "execution_count": 2,
   "id": "7b2862ce",
   "metadata": {
    "execution": {
     "iopub.execute_input": "2024-01-04T13:07:57.605795Z",
     "iopub.status.busy": "2024-01-04T13:07:57.604947Z",
     "iopub.status.idle": "2024-01-04T13:07:57.623508Z",
     "shell.execute_reply": "2024-01-04T13:07:57.622303Z"
    },
    "papermill": {
     "duration": 0.029055,
     "end_time": "2024-01-04T13:07:57.626344",
     "exception": false,
     "start_time": "2024-01-04T13:07:57.597289",
     "status": "completed"
    },
    "tags": []
   },
   "outputs": [],
   "source": [
    "class NeuralNetwork:\n",
    "    def __init__(self, input_size, hidden_size, output_size):\n",
    "        # Initialize weights and biases randomly\n",
    "        self.weights1 = np.random.randn(input_size, hidden_size)\n",
    "        self.biases1 = np.zeros((1, hidden_size))\n",
    "        self.weights2 = np.random.randn(hidden_size, output_size)\n",
    "        self.biases2 = np.zeros((1, output_size))\n",
    "\n",
    "    def sigmoid(self, x):\n",
    "        return 1 / (1 + np.exp(-x))\n",
    "\n",
    "    def forward(self, x):\n",
    "        # Forward propagation through the network\n",
    "        hidden = self.sigmoid(np.dot(x, self.weights1) + self.biases1)\n",
    "        output = self.sigmoid(np.dot(hidden, self.weights2) + self.biases2)\n",
    "        return output\n",
    "\n",
    "    def train(self, X_train, y_train, learning_rate, epochs, validation_data=None):\n",
    "        # Train the network using backpropagation\n",
    "        for epoch in range(epochs):\n",
    "            loss = 0  # Initialize loss to 0 for each epoch\n",
    "\n",
    "            for i in range(len(X_train)):\n",
    "                x = X_train[i]\n",
    "                y_true = y_train[i]\n",
    "                y_pred = self.forward(x)\n",
    "\n",
    "                # Calculate gradients using backpropagation\n",
    "                error = y_true - y_pred\n",
    "                delta2 = error * y_pred * (1 - y_pred)\n",
    "\n",
    "                # Store the hidden layer output for backpropagation\n",
    "                hidden = self.sigmoid(np.dot(x, self.weights1) + self.biases1)\n",
    "\n",
    "                delta1 = np.dot(delta2, self.weights2.T) * hidden * (1 - hidden)\n",
    "\n",
    "                # Reshape x to have 2D shape for the dot product\n",
    "                x = x.reshape(1, -1)  # Reshape to (1, 30)\n",
    "\n",
    "                # Update weights and biases\n",
    "                self.weights2 += learning_rate * np.dot(hidden.T, delta2)\n",
    "                self.biases2 += learning_rate * delta2\n",
    "                self.weights1 += learning_rate * np.dot(x.T, delta1)\n",
    "                self.biases1 += learning_rate * delta1\n",
    "\n",
    "                # Calculate loss for each training example\n",
    "                loss += error**2  # Assuming mean squared error loss\n",
    "\n",
    "            # Calculate average loss over the epoch\n",
    "            loss /= len(X_train)\n",
    "\n",
    "            if validation_data is not None:\n",
    "                # Calculate validation loss and accuracy (implement these)\n",
    "                val_loss = 0\n",
    "                val_accuracy = 0\n",
    "                prev_val_loss = val_loss\n",
    "\n",
    "                print(\"Epoch:\", epoch, \"Training Loss:\", loss, \"Validation Loss:\", val_loss, \"Validation Accuracy:\", val_accuracy)\n",
    "\n",
    "                # Implement early stopping if desired\n",
    "                if early_stopping and val_loss > prev_val_loss:\n",
    "                    print(\"Early stopping triggered!\")\n",
    "                    break\n",
    "\n",
    "    def predict(self, X_test):\n",
    "        # Make predictions on test data\n",
    "        predictions = np.round(self.forward(X_test))\n",
    "        return predictions"
   ]
  },
  {
   "cell_type": "markdown",
   "id": "97a2eb1c",
   "metadata": {
    "papermill": {
     "duration": 0.005604,
     "end_time": "2024-01-04T13:07:57.637872",
     "exception": false,
     "start_time": "2024-01-04T13:07:57.632268",
     "status": "completed"
    },
    "tags": []
   },
   "source": [
    "# Load the dataset\n"
   ]
  },
  {
   "cell_type": "code",
   "execution_count": 3,
   "id": "d6dc62f3",
   "metadata": {
    "execution": {
     "iopub.execute_input": "2024-01-04T13:07:57.652596Z",
     "iopub.status.busy": "2024-01-04T13:07:57.652152Z",
     "iopub.status.idle": "2024-01-04T13:07:57.674537Z",
     "shell.execute_reply": "2024-01-04T13:07:57.673585Z"
    },
    "papermill": {
     "duration": 0.033269,
     "end_time": "2024-01-04T13:07:57.677192",
     "exception": false,
     "start_time": "2024-01-04T13:07:57.643923",
     "status": "completed"
    },
    "tags": []
   },
   "outputs": [],
   "source": [
    "# Load the dataset\n",
    "data = load_breast_cancer()\n",
    "X = data.data\n",
    "y = data.target"
   ]
  },
  {
   "cell_type": "markdown",
   "id": "76b52eb5",
   "metadata": {
    "papermill": {
     "duration": 0.005707,
     "end_time": "2024-01-04T13:07:57.689633",
     "exception": false,
     "start_time": "2024-01-04T13:07:57.683926",
     "status": "completed"
    },
    "tags": []
   },
   "source": [
    "# Preprocess the data"
   ]
  },
  {
   "cell_type": "code",
   "execution_count": 4,
   "id": "b5476e9d",
   "metadata": {
    "execution": {
     "iopub.execute_input": "2024-01-04T13:07:57.706185Z",
     "iopub.status.busy": "2024-01-04T13:07:57.705390Z",
     "iopub.status.idle": "2024-01-04T13:07:57.720192Z",
     "shell.execute_reply": "2024-01-04T13:07:57.719121Z"
    },
    "papermill": {
     "duration": 0.025803,
     "end_time": "2024-01-04T13:07:57.723102",
     "exception": false,
     "start_time": "2024-01-04T13:07:57.697299",
     "status": "completed"
    },
    "tags": []
   },
   "outputs": [],
   "source": [
    "# Preprocess the data\n",
    "X_train, X_val_test, y_train, y_val_test = train_test_split(X, y, test_size=0.4, random_state=42)\n",
    "X_val, X_test, y_val, y_test = train_test_split(X_val_test, y_val_test, test_size=0.5, random_state=42)\n",
    "# Scale all datasets\n",
    "scaler = StandardScaler()\n",
    "X_train = scaler.fit_transform(X_train)\n",
    "X_val = scaler.transform(X_val)  # Scale the validation set\n",
    "X_test = scaler.transform(X_test)"
   ]
  },
  {
   "cell_type": "markdown",
   "id": "b236b0d3",
   "metadata": {
    "papermill": {
     "duration": 0.005585,
     "end_time": "2024-01-04T13:07:57.734883",
     "exception": false,
     "start_time": "2024-01-04T13:07:57.729298",
     "status": "completed"
    },
    "tags": []
   },
   "source": [
    "# Define the hyperparameters"
   ]
  },
  {
   "cell_type": "code",
   "execution_count": 5,
   "id": "0dfd1874",
   "metadata": {
    "execution": {
     "iopub.execute_input": "2024-01-04T13:07:57.748744Z",
     "iopub.status.busy": "2024-01-04T13:07:57.748263Z",
     "iopub.status.idle": "2024-01-04T13:07:57.754269Z",
     "shell.execute_reply": "2024-01-04T13:07:57.753092Z"
    },
    "papermill": {
     "duration": 0.015822,
     "end_time": "2024-01-04T13:07:57.756675",
     "exception": false,
     "start_time": "2024-01-04T13:07:57.740853",
     "status": "completed"
    },
    "tags": []
   },
   "outputs": [],
   "source": [
    "# Define hyperparameters (adjust as needed)\n",
    "input_size = X_train.shape[1]\n",
    "hidden_size = 20  # Experiment with different sizes\n",
    "output_size = 1\n",
    "learning_rate = 0.01  # Try smaller learning rates\n",
    "epochs = 300  # Train for more epochs\n",
    "early_stopping = True  # Implement early stopping"
   ]
  },
  {
   "cell_type": "markdown",
   "id": "0461baca",
   "metadata": {
    "papermill": {
     "duration": 0.005951,
     "end_time": "2024-01-04T13:07:57.768585",
     "exception": false,
     "start_time": "2024-01-04T13:07:57.762634",
     "status": "completed"
    },
    "tags": []
   },
   "source": [
    "# Create and train the neural network"
   ]
  },
  {
   "cell_type": "code",
   "execution_count": 6,
   "id": "700e1456",
   "metadata": {
    "execution": {
     "iopub.execute_input": "2024-01-04T13:07:57.782601Z",
     "iopub.status.busy": "2024-01-04T13:07:57.781966Z",
     "iopub.status.idle": "2024-01-04T13:08:07.875731Z",
     "shell.execute_reply": "2024-01-04T13:08:07.874333Z"
    },
    "papermill": {
     "duration": 10.103948,
     "end_time": "2024-01-04T13:08:07.878460",
     "exception": false,
     "start_time": "2024-01-04T13:07:57.774512",
     "status": "completed"
    },
    "tags": []
   },
   "outputs": [
    {
     "name": "stdout",
     "output_type": "stream",
     "text": [
      "Epoch: 0 Training Loss: [[0.33893085]] Validation Loss: 0 Validation Accuracy: 0\n",
      "Epoch: 1 Training Loss: [[0.18563925]] Validation Loss: 0 Validation Accuracy: 0\n",
      "Epoch: 2 Training Loss: [[0.13226641]] Validation Loss: 0 Validation Accuracy: 0\n",
      "Epoch: 3 Training Loss: [[0.10734432]] Validation Loss: 0 Validation Accuracy: 0\n",
      "Epoch: 4 Training Loss: [[0.09175923]] Validation Loss: 0 Validation Accuracy: 0\n",
      "Epoch: 5 Training Loss: [[0.08073277]] Validation Loss: 0 Validation Accuracy: 0\n",
      "Epoch: 6 Training Loss: [[0.07248944]] Validation Loss: 0 Validation Accuracy: 0\n",
      "Epoch: 7 Training Loss: [[0.06614388]] Validation Loss: 0 Validation Accuracy: 0\n",
      "Epoch: 8 Training Loss: [[0.06114827]] Validation Loss: 0 Validation Accuracy: 0\n",
      "Epoch: 9 Training Loss: [[0.05713857]] Validation Loss: 0 Validation Accuracy: 0\n",
      "Epoch: 10 Training Loss: [[0.05386619]] Validation Loss: 0 Validation Accuracy: 0\n",
      "Epoch: 11 Training Loss: [[0.05115575]] Validation Loss: 0 Validation Accuracy: 0\n",
      "Epoch: 12 Training Loss: [[0.04887964]] Validation Loss: 0 Validation Accuracy: 0\n",
      "Epoch: 13 Training Loss: [[0.04694307]] Validation Loss: 0 Validation Accuracy: 0\n",
      "Epoch: 14 Training Loss: [[0.04527488]] Validation Loss: 0 Validation Accuracy: 0\n",
      "Epoch: 15 Training Loss: [[0.04382136]] Validation Loss: 0 Validation Accuracy: 0\n",
      "Epoch: 16 Training Loss: [[0.04254168]] Validation Loss: 0 Validation Accuracy: 0\n",
      "Epoch: 17 Training Loss: [[0.04140457]] Validation Loss: 0 Validation Accuracy: 0\n",
      "Epoch: 18 Training Loss: [[0.04038579]] Validation Loss: 0 Validation Accuracy: 0\n",
      "Epoch: 19 Training Loss: [[0.03946633]] Validation Loss: 0 Validation Accuracy: 0\n",
      "Epoch: 20 Training Loss: [[0.03863107]] Validation Loss: 0 Validation Accuracy: 0\n",
      "Epoch: 21 Training Loss: [[0.03786785]] Validation Loss: 0 Validation Accuracy: 0\n",
      "Epoch: 22 Training Loss: [[0.03716673]] Validation Loss: 0 Validation Accuracy: 0\n",
      "Epoch: 23 Training Loss: [[0.03651953]] Validation Loss: 0 Validation Accuracy: 0\n",
      "Epoch: 24 Training Loss: [[0.03591943]] Validation Loss: 0 Validation Accuracy: 0\n",
      "Epoch: 25 Training Loss: [[0.03536071]] Validation Loss: 0 Validation Accuracy: 0\n",
      "Epoch: 26 Training Loss: [[0.03483852]] Validation Loss: 0 Validation Accuracy: 0\n",
      "Epoch: 27 Training Loss: [[0.03434873]] Validation Loss: 0 Validation Accuracy: 0\n",
      "Epoch: 28 Training Loss: [[0.03388783]] Validation Loss: 0 Validation Accuracy: 0\n",
      "Epoch: 29 Training Loss: [[0.03345277]] Validation Loss: 0 Validation Accuracy: 0\n",
      "Epoch: 30 Training Loss: [[0.03304094]] Validation Loss: 0 Validation Accuracy: 0\n",
      "Epoch: 31 Training Loss: [[0.03265006]] Validation Loss: 0 Validation Accuracy: 0\n",
      "Epoch: 32 Training Loss: [[0.03227815]] Validation Loss: 0 Validation Accuracy: 0\n",
      "Epoch: 33 Training Loss: [[0.03192349]] Validation Loss: 0 Validation Accuracy: 0\n",
      "Epoch: 34 Training Loss: [[0.03158456]] Validation Loss: 0 Validation Accuracy: 0\n",
      "Epoch: 35 Training Loss: [[0.03126003]] Validation Loss: 0 Validation Accuracy: 0\n",
      "Epoch: 36 Training Loss: [[0.03094872]] Validation Loss: 0 Validation Accuracy: 0\n",
      "Epoch: 37 Training Loss: [[0.0306496]] Validation Loss: 0 Validation Accuracy: 0\n",
      "Epoch: 38 Training Loss: [[0.03036173]] Validation Loss: 0 Validation Accuracy: 0\n",
      "Epoch: 39 Training Loss: [[0.0300843]] Validation Loss: 0 Validation Accuracy: 0\n",
      "Epoch: 40 Training Loss: [[0.02981657]] Validation Loss: 0 Validation Accuracy: 0\n",
      "Epoch: 41 Training Loss: [[0.02955788]] Validation Loss: 0 Validation Accuracy: 0\n",
      "Epoch: 42 Training Loss: [[0.02930763]] Validation Loss: 0 Validation Accuracy: 0\n",
      "Epoch: 43 Training Loss: [[0.0290653]] Validation Loss: 0 Validation Accuracy: 0\n",
      "Epoch: 44 Training Loss: [[0.02883039]] Validation Loss: 0 Validation Accuracy: 0\n",
      "Epoch: 45 Training Loss: [[0.02860246]] Validation Loss: 0 Validation Accuracy: 0\n",
      "Epoch: 46 Training Loss: [[0.02838112]] Validation Loss: 0 Validation Accuracy: 0\n",
      "Epoch: 47 Training Loss: [[0.02816601]] Validation Loss: 0 Validation Accuracy: 0\n",
      "Epoch: 48 Training Loss: [[0.02795678]] Validation Loss: 0 Validation Accuracy: 0\n",
      "Epoch: 49 Training Loss: [[0.02775313]] Validation Loss: 0 Validation Accuracy: 0\n",
      "Epoch: 50 Training Loss: [[0.02755479]] Validation Loss: 0 Validation Accuracy: 0\n",
      "Epoch: 51 Training Loss: [[0.02736149]] Validation Loss: 0 Validation Accuracy: 0\n",
      "Epoch: 52 Training Loss: [[0.027173]] Validation Loss: 0 Validation Accuracy: 0\n",
      "Epoch: 53 Training Loss: [[0.02698908]] Validation Loss: 0 Validation Accuracy: 0\n",
      "Epoch: 54 Training Loss: [[0.02680955]] Validation Loss: 0 Validation Accuracy: 0\n",
      "Epoch: 55 Training Loss: [[0.0266342]] Validation Loss: 0 Validation Accuracy: 0\n",
      "Epoch: 56 Training Loss: [[0.02646285]] Validation Loss: 0 Validation Accuracy: 0\n",
      "Epoch: 57 Training Loss: [[0.02629535]] Validation Loss: 0 Validation Accuracy: 0\n",
      "Epoch: 58 Training Loss: [[0.02613154]] Validation Loss: 0 Validation Accuracy: 0\n",
      "Epoch: 59 Training Loss: [[0.02597127]] Validation Loss: 0 Validation Accuracy: 0\n",
      "Epoch: 60 Training Loss: [[0.0258144]] Validation Loss: 0 Validation Accuracy: 0\n",
      "Epoch: 61 Training Loss: [[0.02566081]] Validation Loss: 0 Validation Accuracy: 0\n",
      "Epoch: 62 Training Loss: [[0.02551037]] Validation Loss: 0 Validation Accuracy: 0\n",
      "Epoch: 63 Training Loss: [[0.02536298]] Validation Loss: 0 Validation Accuracy: 0\n",
      "Epoch: 64 Training Loss: [[0.02521852]] Validation Loss: 0 Validation Accuracy: 0\n",
      "Epoch: 65 Training Loss: [[0.02507689]] Validation Loss: 0 Validation Accuracy: 0\n",
      "Epoch: 66 Training Loss: [[0.024938]] Validation Loss: 0 Validation Accuracy: 0\n",
      "Epoch: 67 Training Loss: [[0.02480175]] Validation Loss: 0 Validation Accuracy: 0\n",
      "Epoch: 68 Training Loss: [[0.02466807]] Validation Loss: 0 Validation Accuracy: 0\n",
      "Epoch: 69 Training Loss: [[0.02453685]] Validation Loss: 0 Validation Accuracy: 0\n",
      "Epoch: 70 Training Loss: [[0.02440804]] Validation Loss: 0 Validation Accuracy: 0\n",
      "Epoch: 71 Training Loss: [[0.02428155]] Validation Loss: 0 Validation Accuracy: 0\n",
      "Epoch: 72 Training Loss: [[0.02415731]] Validation Loss: 0 Validation Accuracy: 0\n",
      "Epoch: 73 Training Loss: [[0.02403525]] Validation Loss: 0 Validation Accuracy: 0\n",
      "Epoch: 74 Training Loss: [[0.02391531]] Validation Loss: 0 Validation Accuracy: 0\n",
      "Epoch: 75 Training Loss: [[0.02379743]] Validation Loss: 0 Validation Accuracy: 0\n",
      "Epoch: 76 Training Loss: [[0.02368155]] Validation Loss: 0 Validation Accuracy: 0\n",
      "Epoch: 77 Training Loss: [[0.0235676]] Validation Loss: 0 Validation Accuracy: 0\n",
      "Epoch: 78 Training Loss: [[0.02345554]] Validation Loss: 0 Validation Accuracy: 0\n",
      "Epoch: 79 Training Loss: [[0.02334532]] Validation Loss: 0 Validation Accuracy: 0\n",
      "Epoch: 80 Training Loss: [[0.02323688]] Validation Loss: 0 Validation Accuracy: 0\n",
      "Epoch: 81 Training Loss: [[0.02313017]] Validation Loss: 0 Validation Accuracy: 0\n",
      "Epoch: 82 Training Loss: [[0.02302515]] Validation Loss: 0 Validation Accuracy: 0\n",
      "Epoch: 83 Training Loss: [[0.02292177]] Validation Loss: 0 Validation Accuracy: 0\n",
      "Epoch: 84 Training Loss: [[0.02282]] Validation Loss: 0 Validation Accuracy: 0\n",
      "Epoch: 85 Training Loss: [[0.02271978]] Validation Loss: 0 Validation Accuracy: 0\n",
      "Epoch: 86 Training Loss: [[0.02262108]] Validation Loss: 0 Validation Accuracy: 0\n",
      "Epoch: 87 Training Loss: [[0.02252386]] Validation Loss: 0 Validation Accuracy: 0\n",
      "Epoch: 88 Training Loss: [[0.02242809]] Validation Loss: 0 Validation Accuracy: 0\n",
      "Epoch: 89 Training Loss: [[0.02233372]] Validation Loss: 0 Validation Accuracy: 0\n",
      "Epoch: 90 Training Loss: [[0.02224072]] Validation Loss: 0 Validation Accuracy: 0\n",
      "Epoch: 91 Training Loss: [[0.02214906]] Validation Loss: 0 Validation Accuracy: 0\n",
      "Epoch: 92 Training Loss: [[0.02205871]] Validation Loss: 0 Validation Accuracy: 0\n",
      "Epoch: 93 Training Loss: [[0.02196964]] Validation Loss: 0 Validation Accuracy: 0\n",
      "Epoch: 94 Training Loss: [[0.02188181]] Validation Loss: 0 Validation Accuracy: 0\n",
      "Epoch: 95 Training Loss: [[0.02179519]] Validation Loss: 0 Validation Accuracy: 0\n",
      "Epoch: 96 Training Loss: [[0.02170976]] Validation Loss: 0 Validation Accuracy: 0\n",
      "Epoch: 97 Training Loss: [[0.02162549]] Validation Loss: 0 Validation Accuracy: 0\n",
      "Epoch: 98 Training Loss: [[0.02154235]] Validation Loss: 0 Validation Accuracy: 0\n",
      "Epoch: 99 Training Loss: [[0.02146032]] Validation Loss: 0 Validation Accuracy: 0\n",
      "Epoch: 100 Training Loss: [[0.02137937]] Validation Loss: 0 Validation Accuracy: 0\n",
      "Epoch: 101 Training Loss: [[0.02129948]] Validation Loss: 0 Validation Accuracy: 0\n",
      "Epoch: 102 Training Loss: [[0.02122062]] Validation Loss: 0 Validation Accuracy: 0\n",
      "Epoch: 103 Training Loss: [[0.02114277]] Validation Loss: 0 Validation Accuracy: 0\n",
      "Epoch: 104 Training Loss: [[0.02106591]] Validation Loss: 0 Validation Accuracy: 0\n",
      "Epoch: 105 Training Loss: [[0.02099001]] Validation Loss: 0 Validation Accuracy: 0\n",
      "Epoch: 106 Training Loss: [[0.02091506]] Validation Loss: 0 Validation Accuracy: 0\n",
      "Epoch: 107 Training Loss: [[0.02084104]] Validation Loss: 0 Validation Accuracy: 0\n",
      "Epoch: 108 Training Loss: [[0.02076792]] Validation Loss: 0 Validation Accuracy: 0\n",
      "Epoch: 109 Training Loss: [[0.02069568]] Validation Loss: 0 Validation Accuracy: 0\n",
      "Epoch: 110 Training Loss: [[0.02062431]] Validation Loss: 0 Validation Accuracy: 0\n",
      "Epoch: 111 Training Loss: [[0.02055379]] Validation Loss: 0 Validation Accuracy: 0\n",
      "Epoch: 112 Training Loss: [[0.0204841]] Validation Loss: 0 Validation Accuracy: 0\n",
      "Epoch: 113 Training Loss: [[0.02041522]] Validation Loss: 0 Validation Accuracy: 0\n",
      "Epoch: 114 Training Loss: [[0.02034714]] Validation Loss: 0 Validation Accuracy: 0\n",
      "Epoch: 115 Training Loss: [[0.02027984]] Validation Loss: 0 Validation Accuracy: 0\n",
      "Epoch: 116 Training Loss: [[0.0202133]] Validation Loss: 0 Validation Accuracy: 0\n",
      "Epoch: 117 Training Loss: [[0.02014752]] Validation Loss: 0 Validation Accuracy: 0\n",
      "Epoch: 118 Training Loss: [[0.02008246]] Validation Loss: 0 Validation Accuracy: 0\n",
      "Epoch: 119 Training Loss: [[0.02001812]] Validation Loss: 0 Validation Accuracy: 0\n",
      "Epoch: 120 Training Loss: [[0.01995449]] Validation Loss: 0 Validation Accuracy: 0\n",
      "Epoch: 121 Training Loss: [[0.01989154]] Validation Loss: 0 Validation Accuracy: 0\n",
      "Epoch: 122 Training Loss: [[0.01982928]] Validation Loss: 0 Validation Accuracy: 0\n",
      "Epoch: 123 Training Loss: [[0.01976767]] Validation Loss: 0 Validation Accuracy: 0\n",
      "Epoch: 124 Training Loss: [[0.01970671]] Validation Loss: 0 Validation Accuracy: 0\n",
      "Epoch: 125 Training Loss: [[0.01964639]] Validation Loss: 0 Validation Accuracy: 0\n",
      "Epoch: 126 Training Loss: [[0.0195867]] Validation Loss: 0 Validation Accuracy: 0\n",
      "Epoch: 127 Training Loss: [[0.01952762]] Validation Loss: 0 Validation Accuracy: 0\n",
      "Epoch: 128 Training Loss: [[0.01946914]] Validation Loss: 0 Validation Accuracy: 0\n",
      "Epoch: 129 Training Loss: [[0.01941124]] Validation Loss: 0 Validation Accuracy: 0\n",
      "Epoch: 130 Training Loss: [[0.01935393]] Validation Loss: 0 Validation Accuracy: 0\n",
      "Epoch: 131 Training Loss: [[0.01929718]] Validation Loss: 0 Validation Accuracy: 0\n",
      "Epoch: 132 Training Loss: [[0.01924099]] Validation Loss: 0 Validation Accuracy: 0\n",
      "Epoch: 133 Training Loss: [[0.01918535]] Validation Loss: 0 Validation Accuracy: 0\n",
      "Epoch: 134 Training Loss: [[0.01913024]] Validation Loss: 0 Validation Accuracy: 0\n",
      "Epoch: 135 Training Loss: [[0.01907565]] Validation Loss: 0 Validation Accuracy: 0\n",
      "Epoch: 136 Training Loss: [[0.01902159]] Validation Loss: 0 Validation Accuracy: 0\n",
      "Epoch: 137 Training Loss: [[0.01896802]] Validation Loss: 0 Validation Accuracy: 0\n",
      "Epoch: 138 Training Loss: [[0.01891496]] Validation Loss: 0 Validation Accuracy: 0\n",
      "Epoch: 139 Training Loss: [[0.01886238]] Validation Loss: 0 Validation Accuracy: 0\n",
      "Epoch: 140 Training Loss: [[0.01881029]] Validation Loss: 0 Validation Accuracy: 0\n",
      "Epoch: 141 Training Loss: [[0.01875866]] Validation Loss: 0 Validation Accuracy: 0\n",
      "Epoch: 142 Training Loss: [[0.0187075]] Validation Loss: 0 Validation Accuracy: 0\n",
      "Epoch: 143 Training Loss: [[0.01865679]] Validation Loss: 0 Validation Accuracy: 0\n",
      "Epoch: 144 Training Loss: [[0.01860652]] Validation Loss: 0 Validation Accuracy: 0\n",
      "Epoch: 145 Training Loss: [[0.01855669]] Validation Loss: 0 Validation Accuracy: 0\n",
      "Epoch: 146 Training Loss: [[0.0185073]] Validation Loss: 0 Validation Accuracy: 0\n",
      "Epoch: 147 Training Loss: [[0.01845832]] Validation Loss: 0 Validation Accuracy: 0\n",
      "Epoch: 148 Training Loss: [[0.01840977]] Validation Loss: 0 Validation Accuracy: 0\n",
      "Epoch: 149 Training Loss: [[0.01836162]] Validation Loss: 0 Validation Accuracy: 0\n",
      "Epoch: 150 Training Loss: [[0.01831387]] Validation Loss: 0 Validation Accuracy: 0\n",
      "Epoch: 151 Training Loss: [[0.01826651]] Validation Loss: 0 Validation Accuracy: 0\n",
      "Epoch: 152 Training Loss: [[0.01821954]] Validation Loss: 0 Validation Accuracy: 0\n",
      "Epoch: 153 Training Loss: [[0.01817296]] Validation Loss: 0 Validation Accuracy: 0\n",
      "Epoch: 154 Training Loss: [[0.01812674]] Validation Loss: 0 Validation Accuracy: 0\n",
      "Epoch: 155 Training Loss: [[0.0180809]] Validation Loss: 0 Validation Accuracy: 0\n",
      "Epoch: 156 Training Loss: [[0.01803542]] Validation Loss: 0 Validation Accuracy: 0\n",
      "Epoch: 157 Training Loss: [[0.01799029]] Validation Loss: 0 Validation Accuracy: 0\n",
      "Epoch: 158 Training Loss: [[0.01794551]] Validation Loss: 0 Validation Accuracy: 0\n",
      "Epoch: 159 Training Loss: [[0.01790108]] Validation Loss: 0 Validation Accuracy: 0\n",
      "Epoch: 160 Training Loss: [[0.01785698]] Validation Loss: 0 Validation Accuracy: 0\n",
      "Epoch: 161 Training Loss: [[0.01781322]] Validation Loss: 0 Validation Accuracy: 0\n",
      "Epoch: 162 Training Loss: [[0.01776979]] Validation Loss: 0 Validation Accuracy: 0\n",
      "Epoch: 163 Training Loss: [[0.01772668]] Validation Loss: 0 Validation Accuracy: 0\n",
      "Epoch: 164 Training Loss: [[0.01768388]] Validation Loss: 0 Validation Accuracy: 0\n",
      "Epoch: 165 Training Loss: [[0.0176414]] Validation Loss: 0 Validation Accuracy: 0\n",
      "Epoch: 166 Training Loss: [[0.01759922]] Validation Loss: 0 Validation Accuracy: 0\n",
      "Epoch: 167 Training Loss: [[0.01755735]] Validation Loss: 0 Validation Accuracy: 0\n",
      "Epoch: 168 Training Loss: [[0.01751577]] Validation Loss: 0 Validation Accuracy: 0\n",
      "Epoch: 169 Training Loss: [[0.01747449]] Validation Loss: 0 Validation Accuracy: 0\n",
      "Epoch: 170 Training Loss: [[0.01743349]] Validation Loss: 0 Validation Accuracy: 0\n",
      "Epoch: 171 Training Loss: [[0.01739278]] Validation Loss: 0 Validation Accuracy: 0\n",
      "Epoch: 172 Training Loss: [[0.01735235]] Validation Loss: 0 Validation Accuracy: 0\n",
      "Epoch: 173 Training Loss: [[0.01731219]] Validation Loss: 0 Validation Accuracy: 0\n",
      "Epoch: 174 Training Loss: [[0.0172723]] Validation Loss: 0 Validation Accuracy: 0\n",
      "Epoch: 175 Training Loss: [[0.01723268]] Validation Loss: 0 Validation Accuracy: 0\n",
      "Epoch: 176 Training Loss: [[0.01719333]] Validation Loss: 0 Validation Accuracy: 0\n",
      "Epoch: 177 Training Loss: [[0.01715423]] Validation Loss: 0 Validation Accuracy: 0\n",
      "Epoch: 178 Training Loss: [[0.01711539]] Validation Loss: 0 Validation Accuracy: 0\n",
      "Epoch: 179 Training Loss: [[0.01707679]] Validation Loss: 0 Validation Accuracy: 0\n",
      "Epoch: 180 Training Loss: [[0.01703845]] Validation Loss: 0 Validation Accuracy: 0\n",
      "Epoch: 181 Training Loss: [[0.01700035]] Validation Loss: 0 Validation Accuracy: 0\n",
      "Epoch: 182 Training Loss: [[0.01696249]] Validation Loss: 0 Validation Accuracy: 0\n",
      "Epoch: 183 Training Loss: [[0.01692487]] Validation Loss: 0 Validation Accuracy: 0\n",
      "Epoch: 184 Training Loss: [[0.01688748]] Validation Loss: 0 Validation Accuracy: 0\n",
      "Epoch: 185 Training Loss: [[0.01685032]] Validation Loss: 0 Validation Accuracy: 0\n",
      "Epoch: 186 Training Loss: [[0.01681338]] Validation Loss: 0 Validation Accuracy: 0\n",
      "Epoch: 187 Training Loss: [[0.01677668]] Validation Loss: 0 Validation Accuracy: 0\n",
      "Epoch: 188 Training Loss: [[0.01674019]] Validation Loss: 0 Validation Accuracy: 0\n",
      "Epoch: 189 Training Loss: [[0.01670392]] Validation Loss: 0 Validation Accuracy: 0\n",
      "Epoch: 190 Training Loss: [[0.01666786]] Validation Loss: 0 Validation Accuracy: 0\n",
      "Epoch: 191 Training Loss: [[0.01663202]] Validation Loss: 0 Validation Accuracy: 0\n",
      "Epoch: 192 Training Loss: [[0.01659639]] Validation Loss: 0 Validation Accuracy: 0\n",
      "Epoch: 193 Training Loss: [[0.01656096]] Validation Loss: 0 Validation Accuracy: 0\n",
      "Epoch: 194 Training Loss: [[0.01652574]] Validation Loss: 0 Validation Accuracy: 0\n",
      "Epoch: 195 Training Loss: [[0.01649071]] Validation Loss: 0 Validation Accuracy: 0\n",
      "Epoch: 196 Training Loss: [[0.01645589]] Validation Loss: 0 Validation Accuracy: 0\n",
      "Epoch: 197 Training Loss: [[0.01642126]] Validation Loss: 0 Validation Accuracy: 0\n",
      "Epoch: 198 Training Loss: [[0.01638682]] Validation Loss: 0 Validation Accuracy: 0\n",
      "Epoch: 199 Training Loss: [[0.01635258]] Validation Loss: 0 Validation Accuracy: 0\n",
      "Epoch: 200 Training Loss: [[0.01631852]] Validation Loss: 0 Validation Accuracy: 0\n",
      "Epoch: 201 Training Loss: [[0.01628465]] Validation Loss: 0 Validation Accuracy: 0\n",
      "Epoch: 202 Training Loss: [[0.01625096]] Validation Loss: 0 Validation Accuracy: 0\n",
      "Epoch: 203 Training Loss: [[0.01621746]] Validation Loss: 0 Validation Accuracy: 0\n",
      "Epoch: 204 Training Loss: [[0.01618413]] Validation Loss: 0 Validation Accuracy: 0\n",
      "Epoch: 205 Training Loss: [[0.01615098]] Validation Loss: 0 Validation Accuracy: 0\n",
      "Epoch: 206 Training Loss: [[0.01611801]] Validation Loss: 0 Validation Accuracy: 0\n",
      "Epoch: 207 Training Loss: [[0.01608521]] Validation Loss: 0 Validation Accuracy: 0\n",
      "Epoch: 208 Training Loss: [[0.01605258]] Validation Loss: 0 Validation Accuracy: 0\n",
      "Epoch: 209 Training Loss: [[0.01602012]] Validation Loss: 0 Validation Accuracy: 0\n",
      "Epoch: 210 Training Loss: [[0.01598782]] Validation Loss: 0 Validation Accuracy: 0\n",
      "Epoch: 211 Training Loss: [[0.0159557]] Validation Loss: 0 Validation Accuracy: 0\n",
      "Epoch: 212 Training Loss: [[0.01592373]] Validation Loss: 0 Validation Accuracy: 0\n",
      "Epoch: 213 Training Loss: [[0.01589193]] Validation Loss: 0 Validation Accuracy: 0\n",
      "Epoch: 214 Training Loss: [[0.01586029]] Validation Loss: 0 Validation Accuracy: 0\n",
      "Epoch: 215 Training Loss: [[0.0158288]] Validation Loss: 0 Validation Accuracy: 0\n",
      "Epoch: 216 Training Loss: [[0.01579747]] Validation Loss: 0 Validation Accuracy: 0\n",
      "Epoch: 217 Training Loss: [[0.0157663]] Validation Loss: 0 Validation Accuracy: 0\n",
      "Epoch: 218 Training Loss: [[0.01573528]] Validation Loss: 0 Validation Accuracy: 0\n",
      "Epoch: 219 Training Loss: [[0.01570441]] Validation Loss: 0 Validation Accuracy: 0\n",
      "Epoch: 220 Training Loss: [[0.01567369]] Validation Loss: 0 Validation Accuracy: 0\n",
      "Epoch: 221 Training Loss: [[0.01564312]] Validation Loss: 0 Validation Accuracy: 0\n",
      "Epoch: 222 Training Loss: [[0.0156127]] Validation Loss: 0 Validation Accuracy: 0\n",
      "Epoch: 223 Training Loss: [[0.01558243]] Validation Loss: 0 Validation Accuracy: 0\n",
      "Epoch: 224 Training Loss: [[0.01555229]] Validation Loss: 0 Validation Accuracy: 0\n",
      "Epoch: 225 Training Loss: [[0.0155223]] Validation Loss: 0 Validation Accuracy: 0\n",
      "Epoch: 226 Training Loss: [[0.01549246]] Validation Loss: 0 Validation Accuracy: 0\n",
      "Epoch: 227 Training Loss: [[0.01546275]] Validation Loss: 0 Validation Accuracy: 0\n",
      "Epoch: 228 Training Loss: [[0.01543318]] Validation Loss: 0 Validation Accuracy: 0\n",
      "Epoch: 229 Training Loss: [[0.01540375]] Validation Loss: 0 Validation Accuracy: 0\n",
      "Epoch: 230 Training Loss: [[0.01537446]] Validation Loss: 0 Validation Accuracy: 0\n",
      "Epoch: 231 Training Loss: [[0.0153453]] Validation Loss: 0 Validation Accuracy: 0\n",
      "Epoch: 232 Training Loss: [[0.01531628]] Validation Loss: 0 Validation Accuracy: 0\n",
      "Epoch: 233 Training Loss: [[0.01528739]] Validation Loss: 0 Validation Accuracy: 0\n",
      "Epoch: 234 Training Loss: [[0.01525863]] Validation Loss: 0 Validation Accuracy: 0\n",
      "Epoch: 235 Training Loss: [[0.01523]] Validation Loss: 0 Validation Accuracy: 0\n",
      "Epoch: 236 Training Loss: [[0.0152015]] Validation Loss: 0 Validation Accuracy: 0\n",
      "Epoch: 237 Training Loss: [[0.01517313]] Validation Loss: 0 Validation Accuracy: 0\n",
      "Epoch: 238 Training Loss: [[0.01514489]] Validation Loss: 0 Validation Accuracy: 0\n",
      "Epoch: 239 Training Loss: [[0.01511677]] Validation Loss: 0 Validation Accuracy: 0\n",
      "Epoch: 240 Training Loss: [[0.01508878]] Validation Loss: 0 Validation Accuracy: 0\n",
      "Epoch: 241 Training Loss: [[0.01506092]] Validation Loss: 0 Validation Accuracy: 0\n",
      "Epoch: 242 Training Loss: [[0.01503318]] Validation Loss: 0 Validation Accuracy: 0\n",
      "Epoch: 243 Training Loss: [[0.01500556]] Validation Loss: 0 Validation Accuracy: 0\n",
      "Epoch: 244 Training Loss: [[0.01497806]] Validation Loss: 0 Validation Accuracy: 0\n",
      "Epoch: 245 Training Loss: [[0.01495069]] Validation Loss: 0 Validation Accuracy: 0\n",
      "Epoch: 246 Training Loss: [[0.01492343]] Validation Loss: 0 Validation Accuracy: 0\n",
      "Epoch: 247 Training Loss: [[0.01489629]] Validation Loss: 0 Validation Accuracy: 0\n",
      "Epoch: 248 Training Loss: [[0.01486927]] Validation Loss: 0 Validation Accuracy: 0\n",
      "Epoch: 249 Training Loss: [[0.01484237]] Validation Loss: 0 Validation Accuracy: 0\n",
      "Epoch: 250 Training Loss: [[0.01481559]] Validation Loss: 0 Validation Accuracy: 0\n",
      "Epoch: 251 Training Loss: [[0.01478892]] Validation Loss: 0 Validation Accuracy: 0\n",
      "Epoch: 252 Training Loss: [[0.01476237]] Validation Loss: 0 Validation Accuracy: 0\n",
      "Epoch: 253 Training Loss: [[0.01473593]] Validation Loss: 0 Validation Accuracy: 0\n",
      "Epoch: 254 Training Loss: [[0.0147096]] Validation Loss: 0 Validation Accuracy: 0\n",
      "Epoch: 255 Training Loss: [[0.01468339]] Validation Loss: 0 Validation Accuracy: 0\n",
      "Epoch: 256 Training Loss: [[0.01465728]] Validation Loss: 0 Validation Accuracy: 0\n",
      "Epoch: 257 Training Loss: [[0.01463129]] Validation Loss: 0 Validation Accuracy: 0\n",
      "Epoch: 258 Training Loss: [[0.01460541]] Validation Loss: 0 Validation Accuracy: 0\n",
      "Epoch: 259 Training Loss: [[0.01457964]] Validation Loss: 0 Validation Accuracy: 0\n",
      "Epoch: 260 Training Loss: [[0.01455398]] Validation Loss: 0 Validation Accuracy: 0\n",
      "Epoch: 261 Training Loss: [[0.01452843]] Validation Loss: 0 Validation Accuracy: 0\n",
      "Epoch: 262 Training Loss: [[0.01450298]] Validation Loss: 0 Validation Accuracy: 0\n",
      "Epoch: 263 Training Loss: [[0.01447764]] Validation Loss: 0 Validation Accuracy: 0\n",
      "Epoch: 264 Training Loss: [[0.01445241]] Validation Loss: 0 Validation Accuracy: 0\n",
      "Epoch: 265 Training Loss: [[0.01442728]] Validation Loss: 0 Validation Accuracy: 0\n",
      "Epoch: 266 Training Loss: [[0.01440226]] Validation Loss: 0 Validation Accuracy: 0\n",
      "Epoch: 267 Training Loss: [[0.01437734]] Validation Loss: 0 Validation Accuracy: 0\n",
      "Epoch: 268 Training Loss: [[0.01435253]] Validation Loss: 0 Validation Accuracy: 0\n",
      "Epoch: 269 Training Loss: [[0.01432782]] Validation Loss: 0 Validation Accuracy: 0\n",
      "Epoch: 270 Training Loss: [[0.01430321]] Validation Loss: 0 Validation Accuracy: 0\n",
      "Epoch: 271 Training Loss: [[0.0142787]] Validation Loss: 0 Validation Accuracy: 0\n",
      "Epoch: 272 Training Loss: [[0.01425429]] Validation Loss: 0 Validation Accuracy: 0\n",
      "Epoch: 273 Training Loss: [[0.01422998]] Validation Loss: 0 Validation Accuracy: 0\n",
      "Epoch: 274 Training Loss: [[0.01420578]] Validation Loss: 0 Validation Accuracy: 0\n",
      "Epoch: 275 Training Loss: [[0.01418167]] Validation Loss: 0 Validation Accuracy: 0\n",
      "Epoch: 276 Training Loss: [[0.01415766]] Validation Loss: 0 Validation Accuracy: 0\n",
      "Epoch: 277 Training Loss: [[0.01413375]] Validation Loss: 0 Validation Accuracy: 0\n",
      "Epoch: 278 Training Loss: [[0.01410994]] Validation Loss: 0 Validation Accuracy: 0\n",
      "Epoch: 279 Training Loss: [[0.01408622]] Validation Loss: 0 Validation Accuracy: 0\n",
      "Epoch: 280 Training Loss: [[0.0140626]] Validation Loss: 0 Validation Accuracy: 0\n",
      "Epoch: 281 Training Loss: [[0.01403907]] Validation Loss: 0 Validation Accuracy: 0\n",
      "Epoch: 282 Training Loss: [[0.01401564]] Validation Loss: 0 Validation Accuracy: 0\n",
      "Epoch: 283 Training Loss: [[0.01399231]] Validation Loss: 0 Validation Accuracy: 0\n",
      "Epoch: 284 Training Loss: [[0.01396907]] Validation Loss: 0 Validation Accuracy: 0\n",
      "Epoch: 285 Training Loss: [[0.01394592]] Validation Loss: 0 Validation Accuracy: 0\n",
      "Epoch: 286 Training Loss: [[0.01392286]] Validation Loss: 0 Validation Accuracy: 0\n",
      "Epoch: 287 Training Loss: [[0.0138999]] Validation Loss: 0 Validation Accuracy: 0\n",
      "Epoch: 288 Training Loss: [[0.01387703]] Validation Loss: 0 Validation Accuracy: 0\n",
      "Epoch: 289 Training Loss: [[0.01385425]] Validation Loss: 0 Validation Accuracy: 0\n",
      "Epoch: 290 Training Loss: [[0.01383156]] Validation Loss: 0 Validation Accuracy: 0\n",
      "Epoch: 291 Training Loss: [[0.01380896]] Validation Loss: 0 Validation Accuracy: 0\n",
      "Epoch: 292 Training Loss: [[0.01378644]] Validation Loss: 0 Validation Accuracy: 0\n",
      "Epoch: 293 Training Loss: [[0.01376402]] Validation Loss: 0 Validation Accuracy: 0\n",
      "Epoch: 294 Training Loss: [[0.01374169]] Validation Loss: 0 Validation Accuracy: 0\n",
      "Epoch: 295 Training Loss: [[0.01371944]] Validation Loss: 0 Validation Accuracy: 0\n",
      "Epoch: 296 Training Loss: [[0.01369728]] Validation Loss: 0 Validation Accuracy: 0\n",
      "Epoch: 297 Training Loss: [[0.01367521]] Validation Loss: 0 Validation Accuracy: 0\n",
      "Epoch: 298 Training Loss: [[0.01365323]] Validation Loss: 0 Validation Accuracy: 0\n",
      "Epoch: 299 Training Loss: [[0.01363132]] Validation Loss: 0 Validation Accuracy: 0\n"
     ]
    }
   ],
   "source": [
    "# Create the neural network with dropout\n",
    "nn = NeuralNetwork(input_size, hidden_size, output_size)\n",
    "\n",
    "# Train the network with validation\n",
    "nn.train(X_train, y_train, learning_rate, epochs, validation_data=(X_val, y_val))"
   ]
  },
  {
   "cell_type": "markdown",
   "id": "ee8ad1c1",
   "metadata": {
    "papermill": {
     "duration": 0.010681,
     "end_time": "2024-01-04T13:08:07.900131",
     "exception": false,
     "start_time": "2024-01-04T13:08:07.889450",
     "status": "completed"
    },
    "tags": []
   },
   "source": [
    "# Evaluate the performance"
   ]
  },
  {
   "cell_type": "code",
   "execution_count": 7,
   "id": "a5651033",
   "metadata": {
    "execution": {
     "iopub.execute_input": "2024-01-04T13:08:07.923864Z",
     "iopub.status.busy": "2024-01-04T13:08:07.923373Z",
     "iopub.status.idle": "2024-01-04T13:08:07.930011Z",
     "shell.execute_reply": "2024-01-04T13:08:07.928969Z"
    },
    "papermill": {
     "duration": 0.021468,
     "end_time": "2024-01-04T13:08:07.932355",
     "exception": false,
     "start_time": "2024-01-04T13:08:07.910887",
     "status": "completed"
    },
    "tags": []
   },
   "outputs": [
    {
     "name": "stdout",
     "output_type": "stream",
     "text": [
      "Accuracy: 0.5526315789473685\n"
     ]
    }
   ],
   "source": [
    "# Evaluate performance and visualize results\n",
    "predictions = nn.predict(X_test)\n",
    "accuracy = np.mean(predictions == y_test)\n",
    "print(\"Accuracy:\", accuracy)"
   ]
  },
  {
   "cell_type": "markdown",
   "id": "d2692216",
   "metadata": {
    "papermill": {
     "duration": 0.010835,
     "end_time": "2024-01-04T13:08:07.954685",
     "exception": false,
     "start_time": "2024-01-04T13:08:07.943850",
     "status": "completed"
    },
    "tags": []
   },
   "source": [
    "# Visualize confusion matrix"
   ]
  },
  {
   "cell_type": "code",
   "execution_count": 8,
   "id": "4c3c8342",
   "metadata": {
    "execution": {
     "iopub.execute_input": "2024-01-04T13:08:07.979433Z",
     "iopub.status.busy": "2024-01-04T13:08:07.979019Z",
     "iopub.status.idle": "2024-01-04T13:08:08.509213Z",
     "shell.execute_reply": "2024-01-04T13:08:08.508263Z"
    },
    "papermill": {
     "duration": 0.545149,
     "end_time": "2024-01-04T13:08:08.511546",
     "exception": false,
     "start_time": "2024-01-04T13:08:07.966397",
     "status": "completed"
    },
    "tags": []
   },
   "outputs": [
    {
     "data": {
      "image/png": "[encoded data removed]",
      "text/plain": [
       "<Figure size 480x480 with 2 Axes>"
      ]
     },
     "metadata": {},
     "output_type": "display_data"
    }
   ],
   "source": [
    "# Visualize confusion matrix\n",
    "cm = confusion_matrix(y_test, predictions)\n",
    "plt.matshow(cm, cmap=plt.cm.Blues)\n",
    "plt.title(\"Confusion Matrix\")\n",
    "plt.colorbar()\n",
    "plt.xlabel(\"Predicted\")\n",
    "plt.ylabel(\"True\")\n",
    "plt.show()"
   ]
  },
  {
   "cell_type": "code",
   "execution_count": null,
   "id": "a5a9a87b",
   "metadata": {
    "papermill": {
     "duration": 0.011519,
     "end_time": "2024-01-04T13:08:08.534443",
     "exception": false,
     "start_time": "2024-01-04T13:08:08.522924",
     "status": "completed"
    },
    "tags": []
   },
   "outputs": [],
   "source": []
  },
  {
   "cell_type": "code",
   "execution_count": null,
   "id": "b578bd77",
   "metadata": {
    "papermill": {
     "duration": 0.01077,
     "end_time": "2024-01-04T13:08:08.557056",
     "exception": false,
     "start_time": "2024-01-04T13:08:08.546286",
     "status": "completed"
    },
    "tags": []
   },
   "outputs": [],
   "source": []
  }
 ],
 "metadata": {
  "kaggle": {
   "accelerator": "none",
   "dataSources": [],
   "dockerImageVersionId": 30626,
   "isGpuEnabled": false,
   "isInternetEnabled": true,
   "language": "python",
   "sourceType": "notebook"
  },
  "kernelspec": {
   "display_name": "Python 3",
   "language": "python",
   "name": "python3"
  },
  "language_info": {
   "codemirror_mode": {
    "name": "ipython",
    "version": 3
   },
   "file_extension": ".py",
   "mimetype": "text/x-python",
   "name": "python",
   "nbconvert_exporter": "python",
   "pygments_lexer": "ipython3",
   "version": "3.10.12"
  },
  "papermill": {
   "default_parameters": {},
   "duration": 16.764799,
   "end_time": "2024-01-04T13:08:09.089125",
   "environment_variables": {},
   "exception": null,
   "input_path": "__notebook__.ipynb",
   "output_path": "__notebook__.ipynb",
   "parameters": {},
   "start_time": "2024-01-04T13:07:52.324326",
   "version": "2.4.0"
  }
 },
 "nbformat": 4,
 "nbformat_minor": 5
}
