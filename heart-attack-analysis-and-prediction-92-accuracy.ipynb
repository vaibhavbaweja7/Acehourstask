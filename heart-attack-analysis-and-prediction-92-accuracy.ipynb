{
 "cells": [
  {
   "cell_type": "markdown",
   "id": "2d1b606e",
   "metadata": {
    "execution": {
     "iopub.execute_input": "2024-01-18T09:49:15.694785Z",
     "iopub.status.busy": "2024-01-18T09:49:15.694378Z",
     "iopub.status.idle": "2024-01-18T09:49:16.768270Z",
     "shell.execute_reply": "2024-01-18T09:49:16.767245Z",
     "shell.execute_reply.started": "2024-01-18T09:49:15.694754Z"
    },
    "papermill": {
     "duration": 0.014107,
     "end_time": "2024-01-23T11:40:49.348340",
     "exception": false,
     "start_time": "2024-01-23T11:40:49.334233",
     "status": "completed"
    },
    "tags": []
   },
   "source": [
    "# Heart attack data - EDA and prediction "
   ]
  },
  {
   "cell_type": "markdown",
   "id": "945723af",
   "metadata": {
    "papermill": {
     "duration": 0.012274,
     "end_time": "2024-01-23T11:40:49.373973",
     "exception": false,
     "start_time": "2024-01-23T11:40:49.361699",
     "status": "completed"
    },
    "tags": []
   },
   "source": [
    "Age : Age of the patient\n",
    "\n",
    "Sex : Sex of the patient\n",
    "\n",
    "exang: exercise induced angina (1 = yes; 0 = no)\n",
    "\n",
    "ca: number of major vessels (0-3)\n",
    "\n",
    "cp : Chest Pain type chest pain type\n",
    "\n",
    "Value 1: typical angina\n",
    "Value 2: atypical angina\n",
    "Value 3: non-anginal pain\n",
    "Value 4: asymptomatic\n",
    "trtbps : resting blood pressure (in mm Hg)\n",
    "\n",
    "chol : cholestoral in mg/dl fetched via BMI sensor\n",
    "\n",
    "fbs : (fasting blood sugar > 120 mg/dl) (1 = true; 0 = false)\n",
    "\n",
    "rest_ecg : resting electrocardiographic results\n",
    "\n",
    "Value 0: normal\n",
    "Value 1: having ST-T wave abnormality (T wave inversions and/or ST elevation or depression of > 0.05 mV)\n",
    "Value 2: showing probable or definite left ventricular hypertrophy by Estes' criteria\n",
    "thalach : maximum heart rate achieved\n",
    "\n",
    "target : 0= less chance of heart attack 1= more chance of heart attack"
   ]
  },
  {
   "cell_type": "code",
   "execution_count": 1,
   "id": "f55a236e",
   "metadata": {
    "execution": {
     "iopub.execute_input": "2024-01-23T11:40:49.401488Z",
     "iopub.status.busy": "2024-01-23T11:40:49.400990Z",
     "iopub.status.idle": "2024-01-23T11:41:04.978498Z",
     "shell.execute_reply": "2024-01-23T11:41:04.977188Z"
    },
    "papermill": {
     "duration": 15.594707,
     "end_time": "2024-01-23T11:41:04.981309",
     "exception": false,
     "start_time": "2024-01-23T11:40:49.386602",
     "status": "completed"
    },
    "tags": []
   },
   "outputs": [],
   "source": [
    "import numpy as np \n",
    "import pandas as pd\n",
    "import matplotlib.pyplot as plt\n",
    "from sklearn.model_selection import train_test_split\n",
    "import seaborn as sns\n",
    "from sklearn.metrics import accuracy_score, confusion_matrix, classification_report\n",
    "from sklearn.preprocessing import StandardScaler\n",
    "from sklearn.model_selection import ParameterGrid\n",
    "from tensorflow import zeros\n",
    "from tensorflow.data import Dataset\n",
    "from tensorflow.keras import Sequential, backend\n",
    "from tensorflow.keras.layers import Dense, Dropout, LeakyReLU\n",
    "from tensorflow.keras.metrics import AUC\n",
    "from tensorflow.keras.callbacks import EarlyStopping\n",
    "from tensorflow.keras.optimizers import Adam, RMSprop, SGD\n"
   ]
  },
  {
   "cell_type": "markdown",
   "id": "5c646e19",
   "metadata": {
    "papermill": {
     "duration": 0.012245,
     "end_time": "2024-01-23T11:41:05.006379",
     "exception": false,
     "start_time": "2024-01-23T11:41:04.994134",
     "status": "completed"
    },
    "tags": []
   },
   "source": [
    "### Reading the data"
   ]
  },
  {
   "cell_type": "code",
   "execution_count": 2,
   "id": "15c74db5",
   "metadata": {
    "execution": {
     "iopub.execute_input": "2024-01-23T11:41:05.034665Z",
     "iopub.status.busy": "2024-01-23T11:41:05.033463Z",
     "iopub.status.idle": "2024-01-23T11:41:05.059509Z",
     "shell.execute_reply": "2024-01-23T11:41:05.058282Z"
    },
    "papermill": {
     "duration": 0.043256,
     "end_time": "2024-01-23T11:41:05.062321",
     "exception": false,
     "start_time": "2024-01-23T11:41:05.019065",
     "status": "completed"
    },
    "tags": []
   },
   "outputs": [],
   "source": [
    "heartdata = pd.read_csv(r'/kaggle/input/heart-attack-analysis-prediction-dataset/heart.csv')\n",
    "o2saturation = pd.read_csv(r'/kaggle/input/heart-attack-analysis-prediction-dataset/o2Saturation.csv')"
   ]
  },
  {
   "cell_type": "markdown",
   "id": "9b143269",
   "metadata": {
    "papermill": {
     "duration": 0.012327,
     "end_time": "2024-01-23T11:41:05.087945",
     "exception": false,
     "start_time": "2024-01-23T11:41:05.075618",
     "status": "completed"
    },
    "tags": []
   },
   "source": [
    "# Exploratory Data Analysis"
   ]
  },
  {
   "cell_type": "code",
   "execution_count": 3,
   "id": "c6c27d70",
   "metadata": {
    "execution": {
     "iopub.execute_input": "2024-01-23T11:41:05.114615Z",
     "iopub.status.busy": "2024-01-23T11:41:05.114180Z",
     "iopub.status.idle": "2024-01-23T11:41:05.137355Z",
     "shell.execute_reply": "2024-01-23T11:41:05.136110Z"
    },
    "papermill": {
     "duration": 0.039431,
     "end_time": "2024-01-23T11:41:05.139910",
     "exception": false,
     "start_time": "2024-01-23T11:41:05.100479",
     "status": "completed"
    },
    "tags": []
   },
   "outputs": [
    {
     "data": {
      "text/html": [
       "<div>\n",
       "<style scoped>\n",
       "    .dataframe tbody tr th:only-of-type {\n",
       "        vertical-align: middle;\n",
       "    }\n",
       "\n",
       "    .dataframe tbody tr th {\n",
       "        vertical-align: top;\n",
       "    }\n",
       "\n",
       "    .dataframe thead th {\n",
       "        text-align: right;\n",
       "    }\n",
       "</style>\n",
       "<table border=\"1\" class=\"dataframe\">\n",
       "  <thead>\n",
       "    <tr style=\"text-align: right;\">\n",
       "      <th></th>\n",
       "      <th>98.6</th>\n",
       "    </tr>\n",
       "  </thead>\n",
       "  <tbody>\n",
       "    <tr>\n",
       "      <th>0</th>\n",
       "      <td>98.6</td>\n",
       "    </tr>\n",
       "    <tr>\n",
       "      <th>1</th>\n",
       "      <td>98.6</td>\n",
       "    </tr>\n",
       "    <tr>\n",
       "      <th>2</th>\n",
       "      <td>98.6</td>\n",
       "    </tr>\n",
       "    <tr>\n",
       "      <th>3</th>\n",
       "      <td>98.1</td>\n",
       "    </tr>\n",
       "    <tr>\n",
       "      <th>4</th>\n",
       "      <td>97.5</td>\n",
       "    </tr>\n",
       "    <tr>\n",
       "      <th>5</th>\n",
       "      <td>97.5</td>\n",
       "    </tr>\n",
       "    <tr>\n",
       "      <th>6</th>\n",
       "      <td>97.5</td>\n",
       "    </tr>\n",
       "    <tr>\n",
       "      <th>7</th>\n",
       "      <td>97.5</td>\n",
       "    </tr>\n",
       "    <tr>\n",
       "      <th>8</th>\n",
       "      <td>97.5</td>\n",
       "    </tr>\n",
       "    <tr>\n",
       "      <th>9</th>\n",
       "      <td>97.5</td>\n",
       "    </tr>\n",
       "    <tr>\n",
       "      <th>10</th>\n",
       "      <td>97.5</td>\n",
       "    </tr>\n",
       "    <tr>\n",
       "      <th>11</th>\n",
       "      <td>97.5</td>\n",
       "    </tr>\n",
       "    <tr>\n",
       "      <th>12</th>\n",
       "      <td>97.5</td>\n",
       "    </tr>\n",
       "    <tr>\n",
       "      <th>13</th>\n",
       "      <td>97.5</td>\n",
       "    </tr>\n",
       "    <tr>\n",
       "      <th>14</th>\n",
       "      <td>97.5</td>\n",
       "    </tr>\n",
       "    <tr>\n",
       "      <th>15</th>\n",
       "      <td>98.1</td>\n",
       "    </tr>\n",
       "    <tr>\n",
       "      <th>16</th>\n",
       "      <td>98.6</td>\n",
       "    </tr>\n",
       "    <tr>\n",
       "      <th>17</th>\n",
       "      <td>98.6</td>\n",
       "    </tr>\n",
       "    <tr>\n",
       "      <th>18</th>\n",
       "      <td>98.6</td>\n",
       "    </tr>\n",
       "    <tr>\n",
       "      <th>19</th>\n",
       "      <td>98.6</td>\n",
       "    </tr>\n",
       "  </tbody>\n",
       "</table>\n",
       "</div>"
      ],
      "text/plain": [
       "    98.6\n",
       "0   98.6\n",
       "1   98.6\n",
       "2   98.6\n",
       "3   98.1\n",
       "4   97.5\n",
       "5   97.5\n",
       "6   97.5\n",
       "7   97.5\n",
       "8   97.5\n",
       "9   97.5\n",
       "10  97.5\n",
       "11  97.5\n",
       "12  97.5\n",
       "13  97.5\n",
       "14  97.5\n",
       "15  98.1\n",
       "16  98.6\n",
       "17  98.6\n",
       "18  98.6\n",
       "19  98.6"
      ]
     },
     "execution_count": 3,
     "metadata": {},
     "output_type": "execute_result"
    }
   ],
   "source": [
    "o2saturation.head(20)"
   ]
  },
  {
   "cell_type": "code",
   "execution_count": 4,
   "id": "6a6ad54c",
   "metadata": {
    "execution": {
     "iopub.execute_input": "2024-01-23T11:41:05.168450Z",
     "iopub.status.busy": "2024-01-23T11:41:05.167602Z",
     "iopub.status.idle": "2024-01-23T11:41:05.190323Z",
     "shell.execute_reply": "2024-01-23T11:41:05.189111Z"
    },
    "papermill": {
     "duration": 0.039383,
     "end_time": "2024-01-23T11:41:05.192694",
     "exception": false,
     "start_time": "2024-01-23T11:41:05.153311",
     "status": "completed"
    },
    "tags": []
   },
   "outputs": [
    {
     "data": {
      "text/html": [
       "<div>\n",
       "<style scoped>\n",
       "    .dataframe tbody tr th:only-of-type {\n",
       "        vertical-align: middle;\n",
       "    }\n",
       "\n",
       "    .dataframe tbody tr th {\n",
       "        vertical-align: top;\n",
       "    }\n",
       "\n",
       "    .dataframe thead th {\n",
       "        text-align: right;\n",
       "    }\n",
       "</style>\n",
       "<table border=\"1\" class=\"dataframe\">\n",
       "  <thead>\n",
       "    <tr style=\"text-align: right;\">\n",
       "      <th></th>\n",
       "      <th>age</th>\n",
       "      <th>sex</th>\n",
       "      <th>cp</th>\n",
       "      <th>trtbps</th>\n",
       "      <th>chol</th>\n",
       "      <th>fbs</th>\n",
       "      <th>restecg</th>\n",
       "      <th>thalachh</th>\n",
       "      <th>exng</th>\n",
       "      <th>oldpeak</th>\n",
       "      <th>slp</th>\n",
       "      <th>caa</th>\n",
       "      <th>thall</th>\n",
       "      <th>output</th>\n",
       "    </tr>\n",
       "  </thead>\n",
       "  <tbody>\n",
       "    <tr>\n",
       "      <th>0</th>\n",
       "      <td>63</td>\n",
       "      <td>1</td>\n",
       "      <td>3</td>\n",
       "      <td>145</td>\n",
       "      <td>233</td>\n",
       "      <td>1</td>\n",
       "      <td>0</td>\n",
       "      <td>150</td>\n",
       "      <td>0</td>\n",
       "      <td>2.3</td>\n",
       "      <td>0</td>\n",
       "      <td>0</td>\n",
       "      <td>1</td>\n",
       "      <td>1</td>\n",
       "    </tr>\n",
       "    <tr>\n",
       "      <th>1</th>\n",
       "      <td>37</td>\n",
       "      <td>1</td>\n",
       "      <td>2</td>\n",
       "      <td>130</td>\n",
       "      <td>250</td>\n",
       "      <td>0</td>\n",
       "      <td>1</td>\n",
       "      <td>187</td>\n",
       "      <td>0</td>\n",
       "      <td>3.5</td>\n",
       "      <td>0</td>\n",
       "      <td>0</td>\n",
       "      <td>2</td>\n",
       "      <td>1</td>\n",
       "    </tr>\n",
       "    <tr>\n",
       "      <th>2</th>\n",
       "      <td>41</td>\n",
       "      <td>0</td>\n",
       "      <td>1</td>\n",
       "      <td>130</td>\n",
       "      <td>204</td>\n",
       "      <td>0</td>\n",
       "      <td>0</td>\n",
       "      <td>172</td>\n",
       "      <td>0</td>\n",
       "      <td>1.4</td>\n",
       "      <td>2</td>\n",
       "      <td>0</td>\n",
       "      <td>2</td>\n",
       "      <td>1</td>\n",
       "    </tr>\n",
       "    <tr>\n",
       "      <th>3</th>\n",
       "      <td>56</td>\n",
       "      <td>1</td>\n",
       "      <td>1</td>\n",
       "      <td>120</td>\n",
       "      <td>236</td>\n",
       "      <td>0</td>\n",
       "      <td>1</td>\n",
       "      <td>178</td>\n",
       "      <td>0</td>\n",
       "      <td>0.8</td>\n",
       "      <td>2</td>\n",
       "      <td>0</td>\n",
       "      <td>2</td>\n",
       "      <td>1</td>\n",
       "    </tr>\n",
       "    <tr>\n",
       "      <th>4</th>\n",
       "      <td>57</td>\n",
       "      <td>0</td>\n",
       "      <td>0</td>\n",
       "      <td>120</td>\n",
       "      <td>354</td>\n",
       "      <td>0</td>\n",
       "      <td>1</td>\n",
       "      <td>163</td>\n",
       "      <td>1</td>\n",
       "      <td>0.6</td>\n",
       "      <td>2</td>\n",
       "      <td>0</td>\n",
       "      <td>2</td>\n",
       "      <td>1</td>\n",
       "    </tr>\n",
       "    <tr>\n",
       "      <th>5</th>\n",
       "      <td>57</td>\n",
       "      <td>1</td>\n",
       "      <td>0</td>\n",
       "      <td>140</td>\n",
       "      <td>192</td>\n",
       "      <td>0</td>\n",
       "      <td>1</td>\n",
       "      <td>148</td>\n",
       "      <td>0</td>\n",
       "      <td>0.4</td>\n",
       "      <td>1</td>\n",
       "      <td>0</td>\n",
       "      <td>1</td>\n",
       "      <td>1</td>\n",
       "    </tr>\n",
       "    <tr>\n",
       "      <th>6</th>\n",
       "      <td>56</td>\n",
       "      <td>0</td>\n",
       "      <td>1</td>\n",
       "      <td>140</td>\n",
       "      <td>294</td>\n",
       "      <td>0</td>\n",
       "      <td>0</td>\n",
       "      <td>153</td>\n",
       "      <td>0</td>\n",
       "      <td>1.3</td>\n",
       "      <td>1</td>\n",
       "      <td>0</td>\n",
       "      <td>2</td>\n",
       "      <td>1</td>\n",
       "    </tr>\n",
       "    <tr>\n",
       "      <th>7</th>\n",
       "      <td>44</td>\n",
       "      <td>1</td>\n",
       "      <td>1</td>\n",
       "      <td>120</td>\n",
       "      <td>263</td>\n",
       "      <td>0</td>\n",
       "      <td>1</td>\n",
       "      <td>173</td>\n",
       "      <td>0</td>\n",
       "      <td>0.0</td>\n",
       "      <td>2</td>\n",
       "      <td>0</td>\n",
       "      <td>3</td>\n",
       "      <td>1</td>\n",
       "    </tr>\n",
       "    <tr>\n",
       "      <th>8</th>\n",
       "      <td>52</td>\n",
       "      <td>1</td>\n",
       "      <td>2</td>\n",
       "      <td>172</td>\n",
       "      <td>199</td>\n",
       "      <td>1</td>\n",
       "      <td>1</td>\n",
       "      <td>162</td>\n",
       "      <td>0</td>\n",
       "      <td>0.5</td>\n",
       "      <td>2</td>\n",
       "      <td>0</td>\n",
       "      <td>3</td>\n",
       "      <td>1</td>\n",
       "    </tr>\n",
       "    <tr>\n",
       "      <th>9</th>\n",
       "      <td>57</td>\n",
       "      <td>1</td>\n",
       "      <td>2</td>\n",
       "      <td>150</td>\n",
       "      <td>168</td>\n",
       "      <td>0</td>\n",
       "      <td>1</td>\n",
       "      <td>174</td>\n",
       "      <td>0</td>\n",
       "      <td>1.6</td>\n",
       "      <td>2</td>\n",
       "      <td>0</td>\n",
       "      <td>2</td>\n",
       "      <td>1</td>\n",
       "    </tr>\n",
       "    <tr>\n",
       "      <th>10</th>\n",
       "      <td>54</td>\n",
       "      <td>1</td>\n",
       "      <td>0</td>\n",
       "      <td>140</td>\n",
       "      <td>239</td>\n",
       "      <td>0</td>\n",
       "      <td>1</td>\n",
       "      <td>160</td>\n",
       "      <td>0</td>\n",
       "      <td>1.2</td>\n",
       "      <td>2</td>\n",
       "      <td>0</td>\n",
       "      <td>2</td>\n",
       "      <td>1</td>\n",
       "    </tr>\n",
       "    <tr>\n",
       "      <th>11</th>\n",
       "      <td>48</td>\n",
       "      <td>0</td>\n",
       "      <td>2</td>\n",
       "      <td>130</td>\n",
       "      <td>275</td>\n",
       "      <td>0</td>\n",
       "      <td>1</td>\n",
       "      <td>139</td>\n",
       "      <td>0</td>\n",
       "      <td>0.2</td>\n",
       "      <td>2</td>\n",
       "      <td>0</td>\n",
       "      <td>2</td>\n",
       "      <td>1</td>\n",
       "    </tr>\n",
       "    <tr>\n",
       "      <th>12</th>\n",
       "      <td>49</td>\n",
       "      <td>1</td>\n",
       "      <td>1</td>\n",
       "      <td>130</td>\n",
       "      <td>266</td>\n",
       "      <td>0</td>\n",
       "      <td>1</td>\n",
       "      <td>171</td>\n",
       "      <td>0</td>\n",
       "      <td>0.6</td>\n",
       "      <td>2</td>\n",
       "      <td>0</td>\n",
       "      <td>2</td>\n",
       "      <td>1</td>\n",
       "    </tr>\n",
       "    <tr>\n",
       "      <th>13</th>\n",
       "      <td>64</td>\n",
       "      <td>1</td>\n",
       "      <td>3</td>\n",
       "      <td>110</td>\n",
       "      <td>211</td>\n",
       "      <td>0</td>\n",
       "      <td>0</td>\n",
       "      <td>144</td>\n",
       "      <td>1</td>\n",
       "      <td>1.8</td>\n",
       "      <td>1</td>\n",
       "      <td>0</td>\n",
       "      <td>2</td>\n",
       "      <td>1</td>\n",
       "    </tr>\n",
       "    <tr>\n",
       "      <th>14</th>\n",
       "      <td>58</td>\n",
       "      <td>0</td>\n",
       "      <td>3</td>\n",
       "      <td>150</td>\n",
       "      <td>283</td>\n",
       "      <td>1</td>\n",
       "      <td>0</td>\n",
       "      <td>162</td>\n",
       "      <td>0</td>\n",
       "      <td>1.0</td>\n",
       "      <td>2</td>\n",
       "      <td>0</td>\n",
       "      <td>2</td>\n",
       "      <td>1</td>\n",
       "    </tr>\n",
       "    <tr>\n",
       "      <th>15</th>\n",
       "      <td>50</td>\n",
       "      <td>0</td>\n",
       "      <td>2</td>\n",
       "      <td>120</td>\n",
       "      <td>219</td>\n",
       "      <td>0</td>\n",
       "      <td>1</td>\n",
       "      <td>158</td>\n",
       "      <td>0</td>\n",
       "      <td>1.6</td>\n",
       "      <td>1</td>\n",
       "      <td>0</td>\n",
       "      <td>2</td>\n",
       "      <td>1</td>\n",
       "    </tr>\n",
       "    <tr>\n",
       "      <th>16</th>\n",
       "      <td>58</td>\n",
       "      <td>0</td>\n",
       "      <td>2</td>\n",
       "      <td>120</td>\n",
       "      <td>340</td>\n",
       "      <td>0</td>\n",
       "      <td>1</td>\n",
       "      <td>172</td>\n",
       "      <td>0</td>\n",
       "      <td>0.0</td>\n",
       "      <td>2</td>\n",
       "      <td>0</td>\n",
       "      <td>2</td>\n",
       "      <td>1</td>\n",
       "    </tr>\n",
       "    <tr>\n",
       "      <th>17</th>\n",
       "      <td>66</td>\n",
       "      <td>0</td>\n",
       "      <td>3</td>\n",
       "      <td>150</td>\n",
       "      <td>226</td>\n",
       "      <td>0</td>\n",
       "      <td>1</td>\n",
       "      <td>114</td>\n",
       "      <td>0</td>\n",
       "      <td>2.6</td>\n",
       "      <td>0</td>\n",
       "      <td>0</td>\n",
       "      <td>2</td>\n",
       "      <td>1</td>\n",
       "    </tr>\n",
       "    <tr>\n",
       "      <th>18</th>\n",
       "      <td>43</td>\n",
       "      <td>1</td>\n",
       "      <td>0</td>\n",
       "      <td>150</td>\n",
       "      <td>247</td>\n",
       "      <td>0</td>\n",
       "      <td>1</td>\n",
       "      <td>171</td>\n",
       "      <td>0</td>\n",
       "      <td>1.5</td>\n",
       "      <td>2</td>\n",
       "      <td>0</td>\n",
       "      <td>2</td>\n",
       "      <td>1</td>\n",
       "    </tr>\n",
       "    <tr>\n",
       "      <th>19</th>\n",
       "      <td>69</td>\n",
       "      <td>0</td>\n",
       "      <td>3</td>\n",
       "      <td>140</td>\n",
       "      <td>239</td>\n",
       "      <td>0</td>\n",
       "      <td>1</td>\n",
       "      <td>151</td>\n",
       "      <td>0</td>\n",
       "      <td>1.8</td>\n",
       "      <td>2</td>\n",
       "      <td>2</td>\n",
       "      <td>2</td>\n",
       "      <td>1</td>\n",
       "    </tr>\n",
       "  </tbody>\n",
       "</table>\n",
       "</div>"
      ],
      "text/plain": [
       "    age  sex  cp  trtbps  chol  fbs  restecg  thalachh  exng  oldpeak  slp  \\\n",
       "0    63    1   3     145   233    1        0       150     0      2.3    0   \n",
       "1    37    1   2     130   250    0        1       187     0      3.5    0   \n",
       "2    41    0   1     130   204    0        0       172     0      1.4    2   \n",
       "3    56    1   1     120   236    0        1       178     0      0.8    2   \n",
       "4    57    0   0     120   354    0        1       163     1      0.6    2   \n",
       "5    57    1   0     140   192    0        1       148     0      0.4    1   \n",
       "6    56    0   1     140   294    0        0       153     0      1.3    1   \n",
       "7    44    1   1     120   263    0        1       173     0      0.0    2   \n",
       "8    52    1   2     172   199    1        1       162     0      0.5    2   \n",
       "9    57    1   2     150   168    0        1       174     0      1.6    2   \n",
       "10   54    1   0     140   239    0        1       160     0      1.2    2   \n",
       "11   48    0   2     130   275    0        1       139     0      0.2    2   \n",
       "12   49    1   1     130   266    0        1       171     0      0.6    2   \n",
       "13   64    1   3     110   211    0        0       144     1      1.8    1   \n",
       "14   58    0   3     150   283    1        0       162     0      1.0    2   \n",
       "15   50    0   2     120   219    0        1       158     0      1.6    1   \n",
       "16   58    0   2     120   340    0        1       172     0      0.0    2   \n",
       "17   66    0   3     150   226    0        1       114     0      2.6    0   \n",
       "18   43    1   0     150   247    0        1       171     0      1.5    2   \n",
       "19   69    0   3     140   239    0        1       151     0      1.8    2   \n",
       "\n",
       "    caa  thall  output  \n",
       "0     0      1       1  \n",
       "1     0      2       1  \n",
       "2     0      2       1  \n",
       "3     0      2       1  \n",
       "4     0      2       1  \n",
       "5     0      1       1  \n",
       "6     0      2       1  \n",
       "7     0      3       1  \n",
       "8     0      3       1  \n",
       "9     0      2       1  \n",
       "10    0      2       1  \n",
       "11    0      2       1  \n",
       "12    0      2       1  \n",
       "13    0      2       1  \n",
       "14    0      2       1  \n",
       "15    0      2       1  \n",
       "16    0      2       1  \n",
       "17    0      2       1  \n",
       "18    0      2       1  \n",
       "19    2      2       1  "
      ]
     },
     "execution_count": 4,
     "metadata": {},
     "output_type": "execute_result"
    }
   ],
   "source": [
    "heartdata.head(20)"
   ]
  },
  {
   "cell_type": "code",
   "execution_count": 5,
   "id": "e96b0a0c",
   "metadata": {
    "execution": {
     "iopub.execute_input": "2024-01-23T11:41:05.221427Z",
     "iopub.status.busy": "2024-01-23T11:41:05.221042Z",
     "iopub.status.idle": "2024-01-23T11:41:05.277960Z",
     "shell.execute_reply": "2024-01-23T11:41:05.276681Z"
    },
    "papermill": {
     "duration": 0.074312,
     "end_time": "2024-01-23T11:41:05.280681",
     "exception": false,
     "start_time": "2024-01-23T11:41:05.206369",
     "status": "completed"
    },
    "tags": []
   },
   "outputs": [
    {
     "data": {
      "text/html": [
       "<div>\n",
       "<style scoped>\n",
       "    .dataframe tbody tr th:only-of-type {\n",
       "        vertical-align: middle;\n",
       "    }\n",
       "\n",
       "    .dataframe tbody tr th {\n",
       "        vertical-align: top;\n",
       "    }\n",
       "\n",
       "    .dataframe thead th {\n",
       "        text-align: right;\n",
       "    }\n",
       "</style>\n",
       "<table border=\"1\" class=\"dataframe\">\n",
       "  <thead>\n",
       "    <tr style=\"text-align: right;\">\n",
       "      <th></th>\n",
       "      <th>age</th>\n",
       "      <th>sex</th>\n",
       "      <th>cp</th>\n",
       "      <th>trtbps</th>\n",
       "      <th>chol</th>\n",
       "      <th>fbs</th>\n",
       "      <th>restecg</th>\n",
       "      <th>thalachh</th>\n",
       "      <th>exng</th>\n",
       "      <th>oldpeak</th>\n",
       "      <th>slp</th>\n",
       "      <th>caa</th>\n",
       "      <th>thall</th>\n",
       "      <th>output</th>\n",
       "    </tr>\n",
       "  </thead>\n",
       "  <tbody>\n",
       "    <tr>\n",
       "      <th>count</th>\n",
       "      <td>303.000000</td>\n",
       "      <td>303.000000</td>\n",
       "      <td>303.000000</td>\n",
       "      <td>303.000000</td>\n",
       "      <td>303.000000</td>\n",
       "      <td>303.000000</td>\n",
       "      <td>303.000000</td>\n",
       "      <td>303.000000</td>\n",
       "      <td>303.000000</td>\n",
       "      <td>303.000000</td>\n",
       "      <td>303.000000</td>\n",
       "      <td>303.000000</td>\n",
       "      <td>303.000000</td>\n",
       "      <td>303.000000</td>\n",
       "    </tr>\n",
       "    <tr>\n",
       "      <th>mean</th>\n",
       "      <td>54.366337</td>\n",
       "      <td>0.683168</td>\n",
       "      <td>0.966997</td>\n",
       "      <td>131.623762</td>\n",
       "      <td>246.264026</td>\n",
       "      <td>0.148515</td>\n",
       "      <td>0.528053</td>\n",
       "      <td>149.646865</td>\n",
       "      <td>0.326733</td>\n",
       "      <td>1.039604</td>\n",
       "      <td>1.399340</td>\n",
       "      <td>0.729373</td>\n",
       "      <td>2.313531</td>\n",
       "      <td>0.544554</td>\n",
       "    </tr>\n",
       "    <tr>\n",
       "      <th>std</th>\n",
       "      <td>9.082101</td>\n",
       "      <td>0.466011</td>\n",
       "      <td>1.032052</td>\n",
       "      <td>17.538143</td>\n",
       "      <td>51.830751</td>\n",
       "      <td>0.356198</td>\n",
       "      <td>0.525860</td>\n",
       "      <td>22.905161</td>\n",
       "      <td>0.469794</td>\n",
       "      <td>1.161075</td>\n",
       "      <td>0.616226</td>\n",
       "      <td>1.022606</td>\n",
       "      <td>0.612277</td>\n",
       "      <td>0.498835</td>\n",
       "    </tr>\n",
       "    <tr>\n",
       "      <th>min</th>\n",
       "      <td>29.000000</td>\n",
       "      <td>0.000000</td>\n",
       "      <td>0.000000</td>\n",
       "      <td>94.000000</td>\n",
       "      <td>126.000000</td>\n",
       "      <td>0.000000</td>\n",
       "      <td>0.000000</td>\n",
       "      <td>71.000000</td>\n",
       "      <td>0.000000</td>\n",
       "      <td>0.000000</td>\n",
       "      <td>0.000000</td>\n",
       "      <td>0.000000</td>\n",
       "      <td>0.000000</td>\n",
       "      <td>0.000000</td>\n",
       "    </tr>\n",
       "    <tr>\n",
       "      <th>25%</th>\n",
       "      <td>47.500000</td>\n",
       "      <td>0.000000</td>\n",
       "      <td>0.000000</td>\n",
       "      <td>120.000000</td>\n",
       "      <td>211.000000</td>\n",
       "      <td>0.000000</td>\n",
       "      <td>0.000000</td>\n",
       "      <td>133.500000</td>\n",
       "      <td>0.000000</td>\n",
       "      <td>0.000000</td>\n",
       "      <td>1.000000</td>\n",
       "      <td>0.000000</td>\n",
       "      <td>2.000000</td>\n",
       "      <td>0.000000</td>\n",
       "    </tr>\n",
       "    <tr>\n",
       "      <th>50%</th>\n",
       "      <td>55.000000</td>\n",
       "      <td>1.000000</td>\n",
       "      <td>1.000000</td>\n",
       "      <td>130.000000</td>\n",
       "      <td>240.000000</td>\n",
       "      <td>0.000000</td>\n",
       "      <td>1.000000</td>\n",
       "      <td>153.000000</td>\n",
       "      <td>0.000000</td>\n",
       "      <td>0.800000</td>\n",
       "      <td>1.000000</td>\n",
       "      <td>0.000000</td>\n",
       "      <td>2.000000</td>\n",
       "      <td>1.000000</td>\n",
       "    </tr>\n",
       "    <tr>\n",
       "      <th>75%</th>\n",
       "      <td>61.000000</td>\n",
       "      <td>1.000000</td>\n",
       "      <td>2.000000</td>\n",
       "      <td>140.000000</td>\n",
       "      <td>274.500000</td>\n",
       "      <td>0.000000</td>\n",
       "      <td>1.000000</td>\n",
       "      <td>166.000000</td>\n",
       "      <td>1.000000</td>\n",
       "      <td>1.600000</td>\n",
       "      <td>2.000000</td>\n",
       "      <td>1.000000</td>\n",
       "      <td>3.000000</td>\n",
       "      <td>1.000000</td>\n",
       "    </tr>\n",
       "    <tr>\n",
       "      <th>max</th>\n",
       "      <td>77.000000</td>\n",
       "      <td>1.000000</td>\n",
       "      <td>3.000000</td>\n",
       "      <td>200.000000</td>\n",
       "      <td>564.000000</td>\n",
       "      <td>1.000000</td>\n",
       "      <td>2.000000</td>\n",
       "      <td>202.000000</td>\n",
       "      <td>1.000000</td>\n",
       "      <td>6.200000</td>\n",
       "      <td>2.000000</td>\n",
       "      <td>4.000000</td>\n",
       "      <td>3.000000</td>\n",
       "      <td>1.000000</td>\n",
       "    </tr>\n",
       "  </tbody>\n",
       "</table>\n",
       "</div>"
      ],
      "text/plain": [
       "              age         sex          cp      trtbps        chol         fbs  \\\n",
       "count  303.000000  303.000000  303.000000  303.000000  303.000000  303.000000   \n",
       "mean    54.366337    0.683168    0.966997  131.623762  246.264026    0.148515   \n",
       "std      9.082101    0.466011    1.032052   17.538143   51.830751    0.356198   \n",
       "min     29.000000    0.000000    0.000000   94.000000  126.000000    0.000000   \n",
       "25%     47.500000    0.000000    0.000000  120.000000  211.000000    0.000000   \n",
       "50%     55.000000    1.000000    1.000000  130.000000  240.000000    0.000000   \n",
       "75%     61.000000    1.000000    2.000000  140.000000  274.500000    0.000000   \n",
       "max     77.000000    1.000000    3.000000  200.000000  564.000000    1.000000   \n",
       "\n",
       "          restecg    thalachh        exng     oldpeak         slp         caa  \\\n",
       "count  303.000000  303.000000  303.000000  303.000000  303.000000  303.000000   \n",
       "mean     0.528053  149.646865    0.326733    1.039604    1.399340    0.729373   \n",
       "std      0.525860   22.905161    0.469794    1.161075    0.616226    1.022606   \n",
       "min      0.000000   71.000000    0.000000    0.000000    0.000000    0.000000   \n",
       "25%      0.000000  133.500000    0.000000    0.000000    1.000000    0.000000   \n",
       "50%      1.000000  153.000000    0.000000    0.800000    1.000000    0.000000   \n",
       "75%      1.000000  166.000000    1.000000    1.600000    2.000000    1.000000   \n",
       "max      2.000000  202.000000    1.000000    6.200000    2.000000    4.000000   \n",
       "\n",
       "            thall      output  \n",
       "count  303.000000  303.000000  \n",
       "mean     2.313531    0.544554  \n",
       "std      0.612277    0.498835  \n",
       "min      0.000000    0.000000  \n",
       "25%      2.000000    0.000000  \n",
       "50%      2.000000    1.000000  \n",
       "75%      3.000000    1.000000  \n",
       "max      3.000000    1.000000  "
      ]
     },
     "execution_count": 5,
     "metadata": {},
     "output_type": "execute_result"
    }
   ],
   "source": [
    "heartdata.describe()"
   ]
  },
  {
   "cell_type": "code",
   "execution_count": 6,
   "id": "801f3296",
   "metadata": {
    "execution": {
     "iopub.execute_input": "2024-01-23T11:41:05.310327Z",
     "iopub.status.busy": "2024-01-23T11:41:05.309949Z",
     "iopub.status.idle": "2024-01-23T11:41:05.337672Z",
     "shell.execute_reply": "2024-01-23T11:41:05.336320Z"
    },
    "papermill": {
     "duration": 0.046104,
     "end_time": "2024-01-23T11:41:05.340871",
     "exception": false,
     "start_time": "2024-01-23T11:41:05.294767",
     "status": "completed"
    },
    "tags": []
   },
   "outputs": [
    {
     "name": "stdout",
     "output_type": "stream",
     "text": [
      "<class 'pandas.core.frame.DataFrame'>\n",
      "RangeIndex: 303 entries, 0 to 302\n",
      "Data columns (total 14 columns):\n",
      " #   Column    Non-Null Count  Dtype  \n",
      "---  ------    --------------  -----  \n",
      " 0   age       303 non-null    int64  \n",
      " 1   sex       303 non-null    int64  \n",
      " 2   cp        303 non-null    int64  \n",
      " 3   trtbps    303 non-null    int64  \n",
      " 4   chol      303 non-null    int64  \n",
      " 5   fbs       303 non-null    int64  \n",
      " 6   restecg   303 non-null    int64  \n",
      " 7   thalachh  303 non-null    int64  \n",
      " 8   exng      303 non-null    int64  \n",
      " 9   oldpeak   303 non-null    float64\n",
      " 10  slp       303 non-null    int64  \n",
      " 11  caa       303 non-null    int64  \n",
      " 12  thall     303 non-null    int64  \n",
      " 13  output    303 non-null    int64  \n",
      "dtypes: float64(1), int64(13)\n",
      "memory usage: 33.3 KB\n"
     ]
    }
   ],
   "source": [
    "heartdata.info()"
   ]
  },
  {
   "cell_type": "code",
   "execution_count": 7,
   "id": "405b8ff7",
   "metadata": {
    "execution": {
     "iopub.execute_input": "2024-01-23T11:41:05.372734Z",
     "iopub.status.busy": "2024-01-23T11:41:05.372343Z",
     "iopub.status.idle": "2024-01-23T11:41:05.380543Z",
     "shell.execute_reply": "2024-01-23T11:41:05.379741Z"
    },
    "papermill": {
     "duration": 0.02746,
     "end_time": "2024-01-23T11:41:05.383045",
     "exception": false,
     "start_time": "2024-01-23T11:41:05.355585",
     "status": "completed"
    },
    "tags": []
   },
   "outputs": [
    {
     "data": {
      "text/plain": [
       "age         0\n",
       "sex         0\n",
       "cp          0\n",
       "trtbps      0\n",
       "chol        0\n",
       "fbs         0\n",
       "restecg     0\n",
       "thalachh    0\n",
       "exng        0\n",
       "oldpeak     0\n",
       "slp         0\n",
       "caa         0\n",
       "thall       0\n",
       "output      0\n",
       "dtype: int64"
      ]
     },
     "execution_count": 7,
     "metadata": {},
     "output_type": "execute_result"
    }
   ],
   "source": [
    "heartdata.isnull().sum()"
   ]
  },
  {
   "cell_type": "code",
   "execution_count": null,
   "id": "7bba54b9",
   "metadata": {
    "papermill": {
     "duration": 0.014292,
     "end_time": "2024-01-23T11:41:05.412567",
     "exception": false,
     "start_time": "2024-01-23T11:41:05.398275",
     "status": "completed"
    },
    "tags": []
   },
   "outputs": [],
   "source": []
  },
  {
   "cell_type": "code",
   "execution_count": 8,
   "id": "dd21b1f2",
   "metadata": {
    "execution": {
     "iopub.execute_input": "2024-01-23T11:41:05.443723Z",
     "iopub.status.busy": "2024-01-23T11:41:05.443291Z",
     "iopub.status.idle": "2024-01-23T11:41:07.849115Z",
     "shell.execute_reply": "2024-01-23T11:41:07.848296Z"
    },
    "papermill": {
     "duration": 2.424036,
     "end_time": "2024-01-23T11:41:07.851693",
     "exception": false,
     "start_time": "2024-01-23T11:41:05.427657",
     "status": "completed"
    },
    "tags": []
   },
   "outputs": [
    {
     "data": {
      "image/png": "[encoded data removed]",
      "text/plain": [
       "<Figure size 1000x800 with 16 Axes>"
      ]
     },
     "metadata": {},
     "output_type": "display_data"
    }
   ],
   "source": [
    "heartdata.hist(figsize=(10,8))\n",
    "plt.show()"
   ]
  },
  {
   "cell_type": "code",
   "execution_count": 9,
   "id": "b5445623",
   "metadata": {
    "execution": {
     "iopub.execute_input": "2024-01-23T11:41:07.884324Z",
     "iopub.status.busy": "2024-01-23T11:41:07.883572Z",
     "iopub.status.idle": "2024-01-23T11:41:07.890318Z",
     "shell.execute_reply": "2024-01-23T11:41:07.889189Z"
    },
    "papermill": {
     "duration": 0.025607,
     "end_time": "2024-01-23T11:41:07.892621",
     "exception": false,
     "start_time": "2024-01-23T11:41:07.867014",
     "status": "completed"
    },
    "tags": []
   },
   "outputs": [],
   "source": [
    "heartdata['key'] = range(len(heartdata))\n",
    "o2saturation['key'] = range(len(o2saturation))"
   ]
  },
  {
   "cell_type": "code",
   "execution_count": 10,
   "id": "b9c26337",
   "metadata": {
    "execution": {
     "iopub.execute_input": "2024-01-23T11:41:07.926458Z",
     "iopub.status.busy": "2024-01-23T11:41:07.925922Z",
     "iopub.status.idle": "2024-01-23T11:41:07.942652Z",
     "shell.execute_reply": "2024-01-23T11:41:07.941449Z"
    },
    "papermill": {
     "duration": 0.03688,
     "end_time": "2024-01-23T11:41:07.945439",
     "exception": false,
     "start_time": "2024-01-23T11:41:07.908559",
     "status": "completed"
    },
    "tags": []
   },
   "outputs": [],
   "source": [
    "heartdata = heartdata.merge(o2saturation,on=\"key\")"
   ]
  },
  {
   "cell_type": "code",
   "execution_count": 11,
   "id": "c0e97059",
   "metadata": {
    "execution": {
     "iopub.execute_input": "2024-01-23T11:41:07.978351Z",
     "iopub.status.busy": "2024-01-23T11:41:07.977965Z",
     "iopub.status.idle": "2024-01-23T11:41:07.984780Z",
     "shell.execute_reply": "2024-01-23T11:41:07.983719Z"
    },
    "papermill": {
     "duration": 0.025533,
     "end_time": "2024-01-23T11:41:07.987040",
     "exception": false,
     "start_time": "2024-01-23T11:41:07.961507",
     "status": "completed"
    },
    "tags": []
   },
   "outputs": [
    {
     "data": {
      "text/plain": [
       "(303, 16)"
      ]
     },
     "execution_count": 11,
     "metadata": {},
     "output_type": "execute_result"
    }
   ],
   "source": [
    "heartdata.shape"
   ]
  },
  {
   "cell_type": "code",
   "execution_count": 12,
   "id": "b32f873d",
   "metadata": {
    "execution": {
     "iopub.execute_input": "2024-01-23T11:41:08.019722Z",
     "iopub.status.busy": "2024-01-23T11:41:08.019308Z",
     "iopub.status.idle": "2024-01-23T11:41:08.037697Z",
     "shell.execute_reply": "2024-01-23T11:41:08.036639Z"
    },
    "papermill": {
     "duration": 0.037586,
     "end_time": "2024-01-23T11:41:08.040201",
     "exception": false,
     "start_time": "2024-01-23T11:41:08.002615",
     "status": "completed"
    },
    "tags": []
   },
   "outputs": [
    {
     "data": {
      "text/html": [
       "<div>\n",
       "<style scoped>\n",
       "    .dataframe tbody tr th:only-of-type {\n",
       "        vertical-align: middle;\n",
       "    }\n",
       "\n",
       "    .dataframe tbody tr th {\n",
       "        vertical-align: top;\n",
       "    }\n",
       "\n",
       "    .dataframe thead th {\n",
       "        text-align: right;\n",
       "    }\n",
       "</style>\n",
       "<table border=\"1\" class=\"dataframe\">\n",
       "  <thead>\n",
       "    <tr style=\"text-align: right;\">\n",
       "      <th></th>\n",
       "      <th>age</th>\n",
       "      <th>sex</th>\n",
       "      <th>cp</th>\n",
       "      <th>trtbps</th>\n",
       "      <th>chol</th>\n",
       "      <th>fbs</th>\n",
       "      <th>restecg</th>\n",
       "      <th>thalachh</th>\n",
       "      <th>exng</th>\n",
       "      <th>oldpeak</th>\n",
       "      <th>slp</th>\n",
       "      <th>caa</th>\n",
       "      <th>thall</th>\n",
       "      <th>output</th>\n",
       "      <th>key</th>\n",
       "      <th>98.6</th>\n",
       "    </tr>\n",
       "  </thead>\n",
       "  <tbody>\n",
       "    <tr>\n",
       "      <th>0</th>\n",
       "      <td>63</td>\n",
       "      <td>1</td>\n",
       "      <td>3</td>\n",
       "      <td>145</td>\n",
       "      <td>233</td>\n",
       "      <td>1</td>\n",
       "      <td>0</td>\n",
       "      <td>150</td>\n",
       "      <td>0</td>\n",
       "      <td>2.3</td>\n",
       "      <td>0</td>\n",
       "      <td>0</td>\n",
       "      <td>1</td>\n",
       "      <td>1</td>\n",
       "      <td>0</td>\n",
       "      <td>98.6</td>\n",
       "    </tr>\n",
       "    <tr>\n",
       "      <th>1</th>\n",
       "      <td>37</td>\n",
       "      <td>1</td>\n",
       "      <td>2</td>\n",
       "      <td>130</td>\n",
       "      <td>250</td>\n",
       "      <td>0</td>\n",
       "      <td>1</td>\n",
       "      <td>187</td>\n",
       "      <td>0</td>\n",
       "      <td>3.5</td>\n",
       "      <td>0</td>\n",
       "      <td>0</td>\n",
       "      <td>2</td>\n",
       "      <td>1</td>\n",
       "      <td>1</td>\n",
       "      <td>98.6</td>\n",
       "    </tr>\n",
       "    <tr>\n",
       "      <th>2</th>\n",
       "      <td>41</td>\n",
       "      <td>0</td>\n",
       "      <td>1</td>\n",
       "      <td>130</td>\n",
       "      <td>204</td>\n",
       "      <td>0</td>\n",
       "      <td>0</td>\n",
       "      <td>172</td>\n",
       "      <td>0</td>\n",
       "      <td>1.4</td>\n",
       "      <td>2</td>\n",
       "      <td>0</td>\n",
       "      <td>2</td>\n",
       "      <td>1</td>\n",
       "      <td>2</td>\n",
       "      <td>98.6</td>\n",
       "    </tr>\n",
       "    <tr>\n",
       "      <th>3</th>\n",
       "      <td>56</td>\n",
       "      <td>1</td>\n",
       "      <td>1</td>\n",
       "      <td>120</td>\n",
       "      <td>236</td>\n",
       "      <td>0</td>\n",
       "      <td>1</td>\n",
       "      <td>178</td>\n",
       "      <td>0</td>\n",
       "      <td>0.8</td>\n",
       "      <td>2</td>\n",
       "      <td>0</td>\n",
       "      <td>2</td>\n",
       "      <td>1</td>\n",
       "      <td>3</td>\n",
       "      <td>98.1</td>\n",
       "    </tr>\n",
       "    <tr>\n",
       "      <th>4</th>\n",
       "      <td>57</td>\n",
       "      <td>0</td>\n",
       "      <td>0</td>\n",
       "      <td>120</td>\n",
       "      <td>354</td>\n",
       "      <td>0</td>\n",
       "      <td>1</td>\n",
       "      <td>163</td>\n",
       "      <td>1</td>\n",
       "      <td>0.6</td>\n",
       "      <td>2</td>\n",
       "      <td>0</td>\n",
       "      <td>2</td>\n",
       "      <td>1</td>\n",
       "      <td>4</td>\n",
       "      <td>97.5</td>\n",
       "    </tr>\n",
       "  </tbody>\n",
       "</table>\n",
       "</div>"
      ],
      "text/plain": [
       "   age  sex  cp  trtbps  chol  fbs  restecg  thalachh  exng  oldpeak  slp  \\\n",
       "0   63    1   3     145   233    1        0       150     0      2.3    0   \n",
       "1   37    1   2     130   250    0        1       187     0      3.5    0   \n",
       "2   41    0   1     130   204    0        0       172     0      1.4    2   \n",
       "3   56    1   1     120   236    0        1       178     0      0.8    2   \n",
       "4   57    0   0     120   354    0        1       163     1      0.6    2   \n",
       "\n",
       "   caa  thall  output  key  98.6  \n",
       "0    0      1       1    0  98.6  \n",
       "1    0      2       1    1  98.6  \n",
       "2    0      2       1    2  98.6  \n",
       "3    0      2       1    3  98.1  \n",
       "4    0      2       1    4  97.5  "
      ]
     },
     "execution_count": 12,
     "metadata": {},
     "output_type": "execute_result"
    }
   ],
   "source": [
    "heartdata.head()"
   ]
  },
  {
   "cell_type": "code",
   "execution_count": 13,
   "id": "c5f1986e",
   "metadata": {
    "execution": {
     "iopub.execute_input": "2024-01-23T11:41:08.136769Z",
     "iopub.status.busy": "2024-01-23T11:41:08.136335Z",
     "iopub.status.idle": "2024-01-23T11:41:08.155024Z",
     "shell.execute_reply": "2024-01-23T11:41:08.154122Z"
    },
    "papermill": {
     "duration": 0.038425,
     "end_time": "2024-01-23T11:41:08.157425",
     "exception": false,
     "start_time": "2024-01-23T11:41:08.119000",
     "status": "completed"
    },
    "tags": []
   },
   "outputs": [
    {
     "data": {
      "text/html": [
       "<div>\n",
       "<style scoped>\n",
       "    .dataframe tbody tr th:only-of-type {\n",
       "        vertical-align: middle;\n",
       "    }\n",
       "\n",
       "    .dataframe tbody tr th {\n",
       "        vertical-align: top;\n",
       "    }\n",
       "\n",
       "    .dataframe thead th {\n",
       "        text-align: right;\n",
       "    }\n",
       "</style>\n",
       "<table border=\"1\" class=\"dataframe\">\n",
       "  <thead>\n",
       "    <tr style=\"text-align: right;\">\n",
       "      <th></th>\n",
       "      <th>unique count</th>\n",
       "    </tr>\n",
       "  </thead>\n",
       "  <tbody>\n",
       "    <tr>\n",
       "      <th>age</th>\n",
       "      <td>41</td>\n",
       "    </tr>\n",
       "    <tr>\n",
       "      <th>sex</th>\n",
       "      <td>2</td>\n",
       "    </tr>\n",
       "    <tr>\n",
       "      <th>cp</th>\n",
       "      <td>4</td>\n",
       "    </tr>\n",
       "    <tr>\n",
       "      <th>trtbps</th>\n",
       "      <td>49</td>\n",
       "    </tr>\n",
       "    <tr>\n",
       "      <th>chol</th>\n",
       "      <td>152</td>\n",
       "    </tr>\n",
       "    <tr>\n",
       "      <th>fbs</th>\n",
       "      <td>2</td>\n",
       "    </tr>\n",
       "    <tr>\n",
       "      <th>restecg</th>\n",
       "      <td>3</td>\n",
       "    </tr>\n",
       "    <tr>\n",
       "      <th>thalachh</th>\n",
       "      <td>91</td>\n",
       "    </tr>\n",
       "    <tr>\n",
       "      <th>exng</th>\n",
       "      <td>2</td>\n",
       "    </tr>\n",
       "    <tr>\n",
       "      <th>oldpeak</th>\n",
       "      <td>40</td>\n",
       "    </tr>\n",
       "    <tr>\n",
       "      <th>slp</th>\n",
       "      <td>3</td>\n",
       "    </tr>\n",
       "    <tr>\n",
       "      <th>caa</th>\n",
       "      <td>5</td>\n",
       "    </tr>\n",
       "    <tr>\n",
       "      <th>thall</th>\n",
       "      <td>4</td>\n",
       "    </tr>\n",
       "    <tr>\n",
       "      <th>output</th>\n",
       "      <td>2</td>\n",
       "    </tr>\n",
       "    <tr>\n",
       "      <th>key</th>\n",
       "      <td>303</td>\n",
       "    </tr>\n",
       "    <tr>\n",
       "      <th>98.6</th>\n",
       "      <td>7</td>\n",
       "    </tr>\n",
       "  </tbody>\n",
       "</table>\n",
       "</div>"
      ],
      "text/plain": [
       "          unique count\n",
       "age                 41\n",
       "sex                  2\n",
       "cp                   4\n",
       "trtbps              49\n",
       "chol               152\n",
       "fbs                  2\n",
       "restecg              3\n",
       "thalachh            91\n",
       "exng                 2\n",
       "oldpeak             40\n",
       "slp                  3\n",
       "caa                  5\n",
       "thall                4\n",
       "output               2\n",
       "key                303\n",
       "98.6                 7"
      ]
     },
     "execution_count": 13,
     "metadata": {},
     "output_type": "execute_result"
    }
   ],
   "source": [
    "dict = {}\n",
    "for i in list(heartdata.columns):\n",
    "    dict[i] = heartdata[i].value_counts().shape[0]\n",
    "\n",
    "pd.DataFrame(dict,index=[\"unique count\"]).transpose()"
   ]
  },
  {
   "cell_type": "code",
   "execution_count": 14,
   "id": "9fcad71d",
   "metadata": {
    "execution": {
     "iopub.execute_input": "2024-01-23T11:41:08.192352Z",
     "iopub.status.busy": "2024-01-23T11:41:08.191964Z",
     "iopub.status.idle": "2024-01-23T11:41:08.198208Z",
     "shell.execute_reply": "2024-01-23T11:41:08.197332Z"
    },
    "papermill": {
     "duration": 0.027508,
     "end_time": "2024-01-23T11:41:08.201483",
     "exception": false,
     "start_time": "2024-01-23T11:41:08.173975",
     "status": "completed"
    },
    "tags": []
   },
   "outputs": [
    {
     "name": "stdout",
     "output_type": "stream",
     "text": [
      "The categorial cols are :  ['sex', 'exng', 'caa', 'cp', 'fbs', 'restecg', 'slp', 'thall']\n",
      "The continuous cols are :  ['age', 'trtbps', 'chol', 'thalachh', 'oldpeak']\n",
      "The target variable is :   ['output']\n"
     ]
    }
   ],
   "source": [
    "cat_cols = ['sex','exng','caa','cp','fbs','restecg','slp','thall']\n",
    "con_cols = [\"age\",\"trtbps\",\"chol\",\"thalachh\",\"oldpeak\"]\n",
    "target_col = [\"output\"]\n",
    "print(\"The categorial cols are : \", cat_cols)\n",
    "print(\"The continuous cols are : \", con_cols)\n",
    "print(\"The target variable is :  \", target_col)"
   ]
  },
  {
   "cell_type": "code",
   "execution_count": 15,
   "id": "8defe868",
   "metadata": {
    "execution": {
     "iopub.execute_input": "2024-01-23T11:41:08.236184Z",
     "iopub.status.busy": "2024-01-23T11:41:08.235572Z",
     "iopub.status.idle": "2024-01-23T11:41:08.245501Z",
     "shell.execute_reply": "2024-01-23T11:41:08.244017Z"
    },
    "papermill": {
     "duration": 0.030325,
     "end_time": "2024-01-23T11:41:08.247999",
     "exception": false,
     "start_time": "2024-01-23T11:41:08.217674",
     "status": "completed"
    },
    "tags": []
   },
   "outputs": [
    {
     "name": "stdout",
     "output_type": "stream",
     "text": [
      "Average age by Heart Attack output\n",
      "0    56.601449\n",
      "1    52.496970\n",
      "Name: age, dtype: float64\n"
     ]
    }
   ],
   "source": [
    "averageagebyheartattack = heartdata.groupby('output')['age'].mean()\n",
    "print(\"Average age by Heart Attack\",averageagebyheartattack)\n",
    "     "
   ]
  },
  {
   "cell_type": "code",
   "execution_count": 16,
   "id": "664f78c6",
   "metadata": {
    "execution": {
     "iopub.execute_input": "2024-01-23T11:41:08.282478Z",
     "iopub.status.busy": "2024-01-23T11:41:08.282078Z",
     "iopub.status.idle": "2024-01-23T11:41:08.303848Z",
     "shell.execute_reply": "2024-01-23T11:41:08.302698Z"
    },
    "papermill": {
     "duration": 0.042131,
     "end_time": "2024-01-23T11:41:08.306574",
     "exception": false,
     "start_time": "2024-01-23T11:41:08.264443",
     "status": "completed"
    },
    "tags": []
   },
   "outputs": [
    {
     "name": "stdout",
     "output_type": "stream",
     "text": [
      "\n",
      "Cross tabulation between gender and heart attack \n",
      " output          0          1\n",
      "sex                         \n",
      "0       25.000000  75.000000\n",
      "1       55.072464  44.927536\n"
     ]
    }
   ],
   "source": [
    "# cross tabuation between gender and heart attack\n",
    "gender_heartattack_cross = pd.crosstab(heartdata['sex'],heartdata['output'],normalize =\"index\")*100\n",
    "print(\"\\nCross tabulation between gender and heart attack \\n\",gender_heartattack_cross)"
   ]
  },
  {
   "cell_type": "code",
   "execution_count": 17,
   "id": "a31f892d",
   "metadata": {
    "execution": {
     "iopub.execute_input": "2024-01-23T11:41:08.341582Z",
     "iopub.status.busy": "2024-01-23T11:41:08.340931Z",
     "iopub.status.idle": "2024-01-23T11:41:08.354367Z",
     "shell.execute_reply": "2024-01-23T11:41:08.353483Z"
    },
    "papermill": {
     "duration": 0.033481,
     "end_time": "2024-01-23T11:41:08.356525",
     "exception": false,
     "start_time": "2024-01-23T11:41:08.323044",
     "status": "completed"
    },
    "tags": []
   },
   "outputs": [
    {
     "data": {
      "text/html": [
       "<div>\n",
       "<style scoped>\n",
       "    .dataframe tbody tr th:only-of-type {\n",
       "        vertical-align: middle;\n",
       "    }\n",
       "\n",
       "    .dataframe tbody tr th {\n",
       "        vertical-align: top;\n",
       "    }\n",
       "\n",
       "    .dataframe thead th {\n",
       "        text-align: right;\n",
       "    }\n",
       "</style>\n",
       "<table border=\"1\" class=\"dataframe\">\n",
       "  <thead>\n",
       "    <tr style=\"text-align: right;\">\n",
       "      <th></th>\n",
       "      <th>age</th>\n",
       "      <th>trtbps</th>\n",
       "      <th>chol</th>\n",
       "      <th>thalachh</th>\n",
       "      <th>oldpeak</th>\n",
       "    </tr>\n",
       "  </thead>\n",
       "  <tbody>\n",
       "    <tr>\n",
       "      <th>age</th>\n",
       "      <td>1.000000</td>\n",
       "      <td>0.279351</td>\n",
       "      <td>0.213678</td>\n",
       "      <td>-0.398522</td>\n",
       "      <td>0.210013</td>\n",
       "    </tr>\n",
       "    <tr>\n",
       "      <th>trtbps</th>\n",
       "      <td>0.279351</td>\n",
       "      <td>1.000000</td>\n",
       "      <td>0.123174</td>\n",
       "      <td>-0.046698</td>\n",
       "      <td>0.193216</td>\n",
       "    </tr>\n",
       "    <tr>\n",
       "      <th>chol</th>\n",
       "      <td>0.213678</td>\n",
       "      <td>0.123174</td>\n",
       "      <td>1.000000</td>\n",
       "      <td>-0.009940</td>\n",
       "      <td>0.053952</td>\n",
       "    </tr>\n",
       "    <tr>\n",
       "      <th>thalachh</th>\n",
       "      <td>-0.398522</td>\n",
       "      <td>-0.046698</td>\n",
       "      <td>-0.009940</td>\n",
       "      <td>1.000000</td>\n",
       "      <td>-0.344187</td>\n",
       "    </tr>\n",
       "    <tr>\n",
       "      <th>oldpeak</th>\n",
       "      <td>0.210013</td>\n",
       "      <td>0.193216</td>\n",
       "      <td>0.053952</td>\n",
       "      <td>-0.344187</td>\n",
       "      <td>1.000000</td>\n",
       "    </tr>\n",
       "  </tbody>\n",
       "</table>\n",
       "</div>"
      ],
      "text/plain": [
       "               age    trtbps      chol  thalachh   oldpeak\n",
       "age       1.000000  0.279351  0.213678 -0.398522  0.210013\n",
       "trtbps    0.279351  1.000000  0.123174 -0.046698  0.193216\n",
       "chol      0.213678  0.123174  1.000000 -0.009940  0.053952\n",
       "thalachh -0.398522 -0.046698 -0.009940  1.000000 -0.344187\n",
       "oldpeak   0.210013  0.193216  0.053952 -0.344187  1.000000"
      ]
     },
     "execution_count": 17,
     "metadata": {},
     "output_type": "execute_result"
    }
   ],
   "source": [
    "df_corr = heartdata[con_cols].corr().transpose()\n",
    "df_corr"
   ]
  },
  {
   "cell_type": "code",
   "execution_count": 18,
   "id": "8506fc55",
   "metadata": {
    "execution": {
     "iopub.execute_input": "2024-01-23T11:41:08.392596Z",
     "iopub.status.busy": "2024-01-23T11:41:08.391977Z",
     "iopub.status.idle": "2024-01-23T11:41:08.785796Z",
     "shell.execute_reply": "2024-01-23T11:41:08.784549Z"
    },
    "papermill": {
     "duration": 0.414799,
     "end_time": "2024-01-23T11:41:08.788504",
     "exception": false,
     "start_time": "2024-01-23T11:41:08.373705",
     "status": "completed"
    },
    "tags": []
   },
   "outputs": [
    {
     "data": {
      "image/png": "[encoded data removed]",
      "text/plain": [
       "<Figure size 1000x1000 with 2 Axes>"
      ]
     },
     "metadata": {},
     "output_type": "display_data"
    }
   ],
   "source": [
    "fig = plt.figure(figsize=(10,10))\n",
    "gs = fig.add_gridspec(1,1)\n",
    "gs.update(wspace=0.3, hspace=0.15)\n",
    "ax0 = fig.add_subplot(gs[0,0])\n",
    "\n",
    "color_palette = [\"#5833ff\",\"#da8829\"]\n",
    "mask = np.triu(np.ones_like(df_corr))\n",
    "ax0.text(1.5,-0.1,\"Correlation Matrix\",fontsize=22, fontweight='bold', fontfamily='serif', color=\"#000000\")\n",
    "df_corr = heartdata[con_cols].corr().transpose()\n",
    "sns.heatmap(df_corr,mask=mask,fmt=\".1f\",annot=True,cmap='YlGnBu')\n",
    "plt.show()"
   ]
  },
  {
   "cell_type": "markdown",
   "id": "ee0eee35",
   "metadata": {
    "papermill": {
     "duration": 0.016866,
     "end_time": "2024-01-23T11:41:08.822691",
     "exception": false,
     "start_time": "2024-01-23T11:41:08.805825",
     "status": "completed"
    },
    "tags": []
   },
   "source": [
    "# Preparing data for training"
   ]
  },
  {
   "cell_type": "code",
   "execution_count": 19,
   "id": "0025a834",
   "metadata": {
    "execution": {
     "iopub.execute_input": "2024-01-23T11:41:08.859674Z",
     "iopub.status.busy": "2024-01-23T11:41:08.858931Z",
     "iopub.status.idle": "2024-01-23T11:41:08.865114Z",
     "shell.execute_reply": "2024-01-23T11:41:08.864300Z"
    },
    "papermill": {
     "duration": 0.027135,
     "end_time": "2024-01-23T11:41:08.867156",
     "exception": false,
     "start_time": "2024-01-23T11:41:08.840021",
     "status": "completed"
    },
    "tags": []
   },
   "outputs": [],
   "source": [
    "X= heartdata.drop('output',axis =1)\n",
    "y = heartdata['output']"
   ]
  },
  {
   "cell_type": "code",
   "execution_count": 20,
   "id": "e6d37990",
   "metadata": {
    "execution": {
     "iopub.execute_input": "2024-01-23T11:41:08.909641Z",
     "iopub.status.busy": "2024-01-23T11:41:08.908940Z",
     "iopub.status.idle": "2024-01-23T11:41:08.917185Z",
     "shell.execute_reply": "2024-01-23T11:41:08.916399Z"
    },
    "papermill": {
     "duration": 0.035318,
     "end_time": "2024-01-23T11:41:08.919782",
     "exception": false,
     "start_time": "2024-01-23T11:41:08.884464",
     "status": "completed"
    },
    "tags": []
   },
   "outputs": [],
   "source": [
    "X_train,X_test,y_train,y_test = train_test_split(X,y,test_size=0.1,random_state =42,stratify = y)"
   ]
  },
  {
   "cell_type": "code",
   "execution_count": 21,
   "id": "8b3485fe",
   "metadata": {
    "execution": {
     "iopub.execute_input": "2024-01-23T11:41:08.956776Z",
     "iopub.status.busy": "2024-01-23T11:41:08.956050Z",
     "iopub.status.idle": "2024-01-23T11:41:08.962536Z",
     "shell.execute_reply": "2024-01-23T11:41:08.961790Z"
    },
    "papermill": {
     "duration": 0.027409,
     "end_time": "2024-01-23T11:41:08.964843",
     "exception": false,
     "start_time": "2024-01-23T11:41:08.937434",
     "status": "completed"
    },
    "tags": []
   },
   "outputs": [
    {
     "data": {
      "text/plain": [
       "((272, 15), (31, 15), (272,), (31,))"
      ]
     },
     "execution_count": 21,
     "metadata": {},
     "output_type": "execute_result"
    }
   ],
   "source": [
    "X_train.shape,X_test.shape,y_train.shape,y_test.shape"
   ]
  },
  {
   "cell_type": "code",
   "execution_count": 22,
   "id": "a2b2a0e4",
   "metadata": {
    "execution": {
     "iopub.execute_input": "2024-01-23T11:41:09.002232Z",
     "iopub.status.busy": "2024-01-23T11:41:09.001487Z",
     "iopub.status.idle": "2024-01-23T11:41:09.008733Z",
     "shell.execute_reply": "2024-01-23T11:41:09.007799Z"
    },
    "papermill": {
     "duration": 0.028648,
     "end_time": "2024-01-23T11:41:09.011249",
     "exception": false,
     "start_time": "2024-01-23T11:41:08.982601",
     "status": "completed"
    },
    "tags": []
   },
   "outputs": [
    {
     "data": {
      "text/plain": [
       "80     1\n",
       "295    0\n",
       "255    0\n",
       "6      1\n",
       "125    1\n",
       "Name: output, dtype: int64"
      ]
     },
     "execution_count": 22,
     "metadata": {},
     "output_type": "execute_result"
    }
   ],
   "source": [
    "y_train.head()"
   ]
  },
  {
   "cell_type": "markdown",
   "id": "84845f4e",
   "metadata": {
    "papermill": {
     "duration": 0.01784,
     "end_time": "2024-01-23T11:41:09.047167",
     "exception": false,
     "start_time": "2024-01-23T11:41:09.029327",
     "status": "completed"
    },
    "tags": []
   },
   "source": [
    "### Scaling the data"
   ]
  },
  {
   "cell_type": "code",
   "execution_count": 23,
   "id": "e444a9d4",
   "metadata": {
    "execution": {
     "iopub.execute_input": "2024-01-23T11:41:09.084602Z",
     "iopub.status.busy": "2024-01-23T11:41:09.083860Z",
     "iopub.status.idle": "2024-01-23T11:41:09.095770Z",
     "shell.execute_reply": "2024-01-23T11:41:09.094906Z"
    },
    "papermill": {
     "duration": 0.033374,
     "end_time": "2024-01-23T11:41:09.098243",
     "exception": false,
     "start_time": "2024-01-23T11:41:09.064869",
     "status": "completed"
    },
    "tags": []
   },
   "outputs": [],
   "source": [
    "scaler = StandardScaler()\n",
    "X_train_scaled = scaler.fit_transform(X_train)\n",
    "X_test_scaled = scaler.transform(X_test)\n",
    "\n",
    "# Convert the scaled arrays back to pandas DataFrames with the original column names\n",
    "X_train_scaled = pd.DataFrame(X_train_scaled, columns=X.columns)\n",
    "X_test_scaled = pd.DataFrame(X_test_scaled, columns=X.columns)\n"
   ]
  },
  {
   "cell_type": "markdown",
   "id": "ad1dc0df",
   "metadata": {
    "papermill": {
     "duration": 0.017265,
     "end_time": "2024-01-23T11:41:09.135614",
     "exception": false,
     "start_time": "2024-01-23T11:41:09.118349",
     "status": "completed"
    },
    "tags": []
   },
   "source": [
    "### Parameter Tuning"
   ]
  },
  {
   "cell_type": "code",
   "execution_count": 24,
   "id": "f0545428",
   "metadata": {
    "execution": {
     "iopub.execute_input": "2024-01-23T11:41:09.173083Z",
     "iopub.status.busy": "2024-01-23T11:41:09.172652Z",
     "iopub.status.idle": "2024-01-23T11:41:37.136568Z",
     "shell.execute_reply": "2024-01-23T11:41:37.134692Z"
    },
    "papermill": {
     "duration": 27.985669,
     "end_time": "2024-01-23T11:41:37.138924",
     "exception": false,
     "start_time": "2024-01-23T11:41:09.153255",
     "status": "completed"
    },
    "tags": []
   },
   "outputs": [
    {
     "name": "stdout",
     "output_type": "stream",
     "text": [
      "\n",
      "\n",
      "\n",
      "\n",
      "{'dropout': 0.2, 'learning_rate': 0.001, 'optimizer': 'Adam'}\n",
      "Epoch 1/25\n",
      "5/5 - 2s - loss: 0.8360 - auc: 0.4097 - val_loss: 0.7421 - val_auc: 0.5026 - 2s/epoch - 345ms/step\n",
      "Epoch 2/25\n",
      "5/5 - 0s - loss: 0.7916 - auc: 0.4752 - val_loss: 0.7080 - val_auc: 0.6051 - 42ms/epoch - 8ms/step\n",
      "Epoch 3/25\n",
      "5/5 - 0s - loss: 0.7681 - auc: 0.4990 - val_loss: 0.6771 - val_auc: 0.7154 - 57ms/epoch - 11ms/step\n",
      "Epoch 4/25\n",
      "5/5 - 0s - loss: 0.7152 - auc: 0.6155 - val_loss: 0.6499 - val_auc: 0.7795 - 44ms/epoch - 9ms/step\n",
      "Epoch 5/25\n",
      "5/5 - 0s - loss: 0.6918 - auc: 0.6428 - val_loss: 0.6258 - val_auc: 0.8615 - 42ms/epoch - 8ms/step\n",
      "Epoch 6/25\n",
      "5/5 - 0s - loss: 0.6616 - auc: 0.7027 - val_loss: 0.6028 - val_auc: 0.9051 - 59ms/epoch - 12ms/step\n",
      "Epoch 7/25\n",
      "5/5 - 0s - loss: 0.6433 - auc: 0.7339 - val_loss: 0.5812 - val_auc: 0.9333 - 44ms/epoch - 9ms/step\n",
      "Epoch 8/25\n",
      "5/5 - 0s - loss: 0.6042 - auc: 0.8111 - val_loss: 0.5612 - val_auc: 0.9385 - 42ms/epoch - 8ms/step\n",
      "Epoch 9/25\n",
      "5/5 - 0s - loss: 0.6026 - auc: 0.7949 - val_loss: 0.5425 - val_auc: 0.9462 - 42ms/epoch - 8ms/step\n",
      "Epoch 10/25\n",
      "5/5 - 0s - loss: 0.5655 - auc: 0.8520 - val_loss: 0.5233 - val_auc: 0.9769 - 44ms/epoch - 9ms/step\n",
      "Epoch 11/25\n",
      "5/5 - 0s - loss: 0.5280 - auc: 0.9023 - val_loss: 0.5044 - val_auc: 0.9846 - 44ms/epoch - 9ms/step\n",
      "Epoch 12/25\n",
      "5/5 - 0s - loss: 0.5345 - auc: 0.8826 - val_loss: 0.4856 - val_auc: 0.9846 - 43ms/epoch - 9ms/step\n",
      "Epoch 13/25\n",
      "5/5 - 0s - loss: 0.4990 - auc: 0.9171 - val_loss: 0.4665 - val_auc: 0.9846 - 43ms/epoch - 9ms/step\n",
      "9/9 [==============================] - 0s 2ms/step - loss: 0.4798 - auc: 0.9313\n",
      "1/1 [==============================] - 0s 29ms/step - loss: 0.4944 - auc: 0.9475\n",
      "Train AUC: 0.9313154220581055 Test AUC: 0.9474790096282959\n",
      "\n",
      "\n",
      "\n",
      "\n",
      "{'dropout': 0.2, 'learning_rate': 0.001, 'optimizer': 'RMSprop'}\n",
      "Epoch 1/25\n",
      "5/5 - 1s - loss: 0.8145 - auc: 0.4705 - val_loss: 0.5941 - val_auc: 0.8103 - 1s/epoch - 204ms/step\n",
      "Epoch 2/25\n",
      "5/5 - 0s - loss: 0.7004 - auc: 0.6241 - val_loss: 0.5391 - val_auc: 0.8615 - 56ms/epoch - 11ms/step\n",
      "Epoch 3/25\n",
      "5/5 - 0s - loss: 0.6470 - auc: 0.7022 - val_loss: 0.4983 - val_auc: 0.8846 - 60ms/epoch - 12ms/step\n",
      "Epoch 4/25\n",
      "5/5 - 0s - loss: 0.6071 - auc: 0.7618 - val_loss: 0.4649 - val_auc: 0.9077 - 57ms/epoch - 11ms/step\n",
      "Epoch 5/25\n",
      "5/5 - 0s - loss: 0.5632 - auc: 0.8115 - val_loss: 0.4333 - val_auc: 0.9256 - 42ms/epoch - 8ms/step\n",
      "Epoch 6/25\n",
      "5/5 - 0s - loss: 0.5173 - auc: 0.8574 - val_loss: 0.4054 - val_auc: 0.9436 - 42ms/epoch - 8ms/step\n",
      "Epoch 7/25\n",
      "5/5 - 0s - loss: 0.4960 - auc: 0.8830 - val_loss: 0.3798 - val_auc: 0.9564 - 58ms/epoch - 12ms/step\n",
      "Epoch 8/25\n",
      "5/5 - 0s - loss: 0.4688 - auc: 0.8953 - val_loss: 0.3568 - val_auc: 0.9641 - 44ms/epoch - 9ms/step\n",
      "Epoch 9/25\n",
      "5/5 - 0s - loss: 0.4158 - auc: 0.9371 - val_loss: 0.3353 - val_auc: 0.9641 - 44ms/epoch - 9ms/step\n",
      "Epoch 10/25\n",
      "5/5 - 0s - loss: 0.4124 - auc: 0.9294 - val_loss: 0.3138 - val_auc: 0.9641 - 44ms/epoch - 9ms/step\n",
      "9/9 [==============================] - 0s 2ms/step - loss: 0.3680 - auc: 0.9576\n",
      "1/1 [==============================] - 0s 28ms/step - loss: 0.3968 - auc: 0.9580\n",
      "Train AUC: 0.9575523138046265 Test AUC: 0.9579831957817078\n",
      "\n",
      "\n",
      "\n",
      "\n",
      "{'dropout': 0.2, 'learning_rate': 0.001, 'optimizer': 'sgd'}\n",
      "Epoch 1/25\n",
      "5/5 - 1s - loss: 0.8991 - auc: 0.4026 - val_loss: 0.8254 - val_auc: 0.5154 - 956ms/epoch - 191ms/step\n",
      "Epoch 2/25\n",
      "5/5 - 0s - loss: 0.8754 - auc: 0.4384 - val_loss: 0.8230 - val_auc: 0.5154 - 43ms/epoch - 9ms/step\n",
      "Epoch 3/25\n",
      "5/5 - 0s - loss: 0.8690 - auc: 0.4285 - val_loss: 0.8207 - val_auc: 0.5231 - 44ms/epoch - 9ms/step\n",
      "Epoch 4/25\n",
      "5/5 - 0s - loss: 0.8776 - auc: 0.3808 - val_loss: 0.8184 - val_auc: 0.5256 - 49ms/epoch - 10ms/step\n",
      "Epoch 5/25\n",
      "5/5 - 0s - loss: 0.8660 - auc: 0.4273 - val_loss: 0.8162 - val_auc: 0.5282 - 59ms/epoch - 12ms/step\n",
      "Epoch 6/25\n",
      "5/5 - 0s - loss: 0.8668 - auc: 0.4325 - val_loss: 0.8140 - val_auc: 0.5333 - 41ms/epoch - 8ms/step\n",
      "Epoch 7/25\n",
      "5/5 - 0s - loss: 0.8619 - auc: 0.4311 - val_loss: 0.8117 - val_auc: 0.5333 - 43ms/epoch - 9ms/step\n",
      "Epoch 8/25\n",
      "5/5 - 0s - loss: 0.8721 - auc: 0.4149 - val_loss: 0.8094 - val_auc: 0.5333 - 42ms/epoch - 8ms/step\n",
      "9/9 [==============================] - 0s 2ms/step - loss: 0.8490 - auc: 0.3959\n",
      "1/1 [==============================] - 0s 30ms/step - loss: 0.8801 - auc: 0.3424\n",
      "Train AUC: 0.3959241509437561 Test AUC: 0.3424369692802429\n",
      "\n",
      "\n",
      "\n",
      "\n",
      "{'dropout': 0.2, 'learning_rate': 0.01, 'optimizer': 'Adam'}\n",
      "Epoch 1/25\n",
      "5/5 - 1s - loss: 0.6090 - auc: 0.7572 - val_loss: 0.4338 - val_auc: 0.9718 - 1s/epoch - 242ms/step\n",
      "Epoch 2/25\n",
      "5/5 - 0s - loss: 0.3744 - auc: 0.9643 - val_loss: 0.3189 - val_auc: 0.9795 - 43ms/epoch - 9ms/step\n",
      "Epoch 3/25\n",
      "5/5 - 0s - loss: 0.2322 - auc: 0.9735 - val_loss: 0.2489 - val_auc: 0.9744 - 43ms/epoch - 9ms/step\n",
      "Epoch 4/25\n",
      "5/5 - 0s - loss: 0.1869 - auc: 0.9783 - val_loss: 0.2413 - val_auc: 0.9744 - 43ms/epoch - 9ms/step\n",
      "9/9 [==============================] - 0s 2ms/step - loss: 0.1405 - auc: 0.9877\n",
      "1/1 [==============================] - 0s 29ms/step - loss: 0.2731 - auc: 0.9622\n",
      "Train AUC: 0.9876853227615356 Test AUC: 0.9621849060058594\n",
      "\n",
      "\n",
      "\n",
      "\n",
      "{'dropout': 0.2, 'learning_rate': 0.01, 'optimizer': 'RMSprop'}\n",
      "Epoch 1/25\n",
      "5/5 - 1s - loss: 0.5072 - auc: 0.8669 - val_loss: 0.2610 - val_auc: 0.9641 - 1s/epoch - 207ms/step\n",
      "Epoch 2/25\n",
      "5/5 - 0s - loss: 0.2138 - auc: 0.9787 - val_loss: 0.1988 - val_auc: 0.9692 - 60ms/epoch - 12ms/step\n",
      "Epoch 3/25\n",
      "5/5 - 0s - loss: 0.1322 - auc: 0.9919 - val_loss: 0.1614 - val_auc: 0.9795 - 58ms/epoch - 12ms/step\n",
      "Epoch 4/25\n",
      "5/5 - 0s - loss: 0.0903 - auc: 0.9959 - val_loss: 0.1374 - val_auc: 0.9795 - 44ms/epoch - 9ms/step\n",
      "Epoch 5/25\n",
      "5/5 - 0s - loss: 0.0664 - auc: 0.9982 - val_loss: 0.1335 - val_auc: 0.9846 - 59ms/epoch - 12ms/step\n",
      "Epoch 6/25\n",
      "5/5 - 0s - loss: 0.0531 - auc: 0.9987 - val_loss: 0.1067 - val_auc: 0.9949 - 46ms/epoch - 9ms/step\n",
      "Epoch 7/25\n",
      "5/5 - 0s - loss: 0.0371 - auc: 0.9999 - val_loss: 0.1018 - val_auc: 0.9949 - 45ms/epoch - 9ms/step\n",
      "Epoch 8/25\n",
      "5/5 - 0s - loss: 0.0275 - auc: 0.9996 - val_loss: 0.0912 - val_auc: 0.9949 - 44ms/epoch - 9ms/step\n",
      "9/9 [==============================] - 0s 2ms/step - loss: 0.0203 - auc: 0.9998\n",
      "1/1 [==============================] - 0s 30ms/step - loss: 0.0249 - auc: 1.0000\n",
      "Train AUC: 0.9997820258140564 Test AUC: 1.0\n",
      "\n",
      "\n",
      "\n",
      "\n",
      "{'dropout': 0.2, 'learning_rate': 0.01, 'optimizer': 'sgd'}\n",
      "Epoch 1/25\n",
      "5/5 - 1s - loss: 0.6559 - auc: 0.7072 - val_loss: 0.6187 - val_auc: 0.8026 - 987ms/epoch - 197ms/step\n",
      "Epoch 2/25\n",
      "5/5 - 0s - loss: 0.6328 - auc: 0.7692 - val_loss: 0.6116 - val_auc: 0.8282 - 43ms/epoch - 9ms/step\n",
      "Epoch 3/25\n",
      "5/5 - 0s - loss: 0.6376 - auc: 0.7327 - val_loss: 0.6047 - val_auc: 0.8333 - 44ms/epoch - 9ms/step\n",
      "Epoch 4/25\n",
      "5/5 - 0s - loss: 0.6362 - auc: 0.7491 - val_loss: 0.5978 - val_auc: 0.8410 - 45ms/epoch - 9ms/step\n",
      "Epoch 5/25\n",
      "5/5 - 0s - loss: 0.6338 - auc: 0.7538 - val_loss: 0.5909 - val_auc: 0.8513 - 57ms/epoch - 11ms/step\n",
      "Epoch 6/25\n",
      "5/5 - 0s - loss: 0.6141 - auc: 0.8054 - val_loss: 0.5841 - val_auc: 0.8590 - 44ms/epoch - 9ms/step\n",
      "Epoch 7/25\n",
      "5/5 - 0s - loss: 0.6011 - auc: 0.8211 - val_loss: 0.5775 - val_auc: 0.8718 - 43ms/epoch - 9ms/step\n",
      "Epoch 8/25\n",
      "5/5 - 0s - loss: 0.5972 - auc: 0.8165 - val_loss: 0.5711 - val_auc: 0.8795 - 56ms/epoch - 11ms/step\n",
      "Epoch 9/25\n",
      "5/5 - 0s - loss: 0.6033 - auc: 0.8046 - val_loss: 0.5647 - val_auc: 0.8846 - 44ms/epoch - 9ms/step\n",
      "Epoch 10/25\n",
      "5/5 - 0s - loss: 0.5805 - auc: 0.8496 - val_loss: 0.5586 - val_auc: 0.8872 - 58ms/epoch - 12ms/step\n",
      "Epoch 11/25\n",
      "5/5 - 0s - loss: 0.5690 - auc: 0.8666 - val_loss: 0.5522 - val_auc: 0.8897 - 43ms/epoch - 9ms/step\n",
      "Epoch 12/25\n",
      "5/5 - 0s - loss: 0.5685 - auc: 0.8669 - val_loss: 0.5460 - val_auc: 0.9000 - 44ms/epoch - 9ms/step\n",
      "Epoch 13/25\n",
      "5/5 - 0s - loss: 0.5605 - auc: 0.8644 - val_loss: 0.5399 - val_auc: 0.9077 - 60ms/epoch - 12ms/step\n",
      "Epoch 14/25\n",
      "5/5 - 0s - loss: 0.5536 - auc: 0.8695 - val_loss: 0.5335 - val_auc: 0.9077 - 45ms/epoch - 9ms/step\n",
      "Epoch 15/25\n",
      "5/5 - 0s - loss: 0.5377 - auc: 0.9050 - val_loss: 0.5270 - val_auc: 0.9179 - 44ms/epoch - 9ms/step\n",
      "Epoch 16/25\n",
      "5/5 - 0s - loss: 0.5444 - auc: 0.8710 - val_loss: 0.5209 - val_auc: 0.9179 - 43ms/epoch - 9ms/step\n",
      "Epoch 17/25\n",
      "5/5 - 0s - loss: 0.5364 - auc: 0.8985 - val_loss: 0.5144 - val_auc: 0.9205 - 44ms/epoch - 9ms/step\n",
      "Epoch 18/25\n",
      "5/5 - 0s - loss: 0.5278 - auc: 0.8977 - val_loss: 0.5079 - val_auc: 0.9231 - 43ms/epoch - 9ms/step\n",
      "Epoch 19/25\n",
      "5/5 - 0s - loss: 0.5159 - auc: 0.9169 - val_loss: 0.5015 - val_auc: 0.9231 - 46ms/epoch - 9ms/step\n",
      "Epoch 20/25\n",
      "5/5 - 0s - loss: 0.5182 - auc: 0.9073 - val_loss: 0.4952 - val_auc: 0.9231 - 44ms/epoch - 9ms/step\n",
      "Epoch 21/25\n",
      "5/5 - 0s - loss: 0.5059 - auc: 0.9098 - val_loss: 0.4891 - val_auc: 0.9256 - 43ms/epoch - 9ms/step\n",
      "Epoch 22/25\n",
      "5/5 - 0s - loss: 0.4929 - auc: 0.9293 - val_loss: 0.4833 - val_auc: 0.9282 - 59ms/epoch - 12ms/step\n",
      "Epoch 23/25\n",
      "5/5 - 0s - loss: 0.4882 - auc: 0.9286 - val_loss: 0.4768 - val_auc: 0.9333 - 43ms/epoch - 9ms/step\n",
      "Epoch 24/25\n",
      "5/5 - 0s - loss: 0.4840 - auc: 0.9323 - val_loss: 0.4705 - val_auc: 0.9385 - 44ms/epoch - 9ms/step\n",
      "Epoch 25/25\n",
      "5/5 - 0s - loss: 0.4919 - auc: 0.9126 - val_loss: 0.4644 - val_auc: 0.9436 - 59ms/epoch - 12ms/step\n",
      "9/9 [==============================] - 0s 2ms/step - loss: 0.4612 - auc: 0.9544\n",
      "1/1 [==============================] - 0s 29ms/step - loss: 0.4882 - auc: 0.9034\n",
      "Train AUC: 0.9543646574020386 Test AUC: 0.9033613801002502\n",
      "\n",
      "\n",
      "\n",
      "\n",
      "{'dropout': 0.1, 'learning_rate': 0.001, 'optimizer': 'Adam'}\n",
      "Epoch 1/25\n",
      "5/5 - 1s - loss: 0.6681 - auc: 0.6410 - val_loss: 0.6180 - val_auc: 0.7846 - 1s/epoch - 245ms/step\n",
      "Epoch 2/25\n",
      "5/5 - 0s - loss: 0.6295 - auc: 0.7607 - val_loss: 0.5896 - val_auc: 0.8359 - 46ms/epoch - 9ms/step\n",
      "Epoch 3/25\n",
      "5/5 - 0s - loss: 0.6068 - auc: 0.8071 - val_loss: 0.5620 - val_auc: 0.8667 - 43ms/epoch - 9ms/step\n",
      "Epoch 4/25\n",
      "5/5 - 0s - loss: 0.5654 - auc: 0.8732 - val_loss: 0.5348 - val_auc: 0.8949 - 44ms/epoch - 9ms/step\n",
      "Epoch 5/25\n",
      "5/5 - 0s - loss: 0.5303 - auc: 0.9014 - val_loss: 0.5071 - val_auc: 0.9128 - 43ms/epoch - 9ms/step\n",
      "Epoch 6/25\n",
      "5/5 - 0s - loss: 0.5055 - auc: 0.9172 - val_loss: 0.4798 - val_auc: 0.9179 - 44ms/epoch - 9ms/step\n",
      "Epoch 7/25\n",
      "5/5 - 0s - loss: 0.4723 - auc: 0.9315 - val_loss: 0.4539 - val_auc: 0.9282 - 44ms/epoch - 9ms/step\n",
      "Epoch 8/25\n",
      "5/5 - 0s - loss: 0.4488 - auc: 0.9350 - val_loss: 0.4291 - val_auc: 0.9282 - 59ms/epoch - 12ms/step\n",
      "Epoch 9/25\n",
      "5/5 - 0s - loss: 0.4244 - auc: 0.9390 - val_loss: 0.4049 - val_auc: 0.9333 - 45ms/epoch - 9ms/step\n",
      "Epoch 10/25\n",
      "5/5 - 0s - loss: 0.3948 - auc: 0.9497 - val_loss: 0.3820 - val_auc: 0.9333 - 44ms/epoch - 9ms/step\n",
      "Epoch 11/25\n",
      "5/5 - 0s - loss: 0.3881 - auc: 0.9374 - val_loss: 0.3601 - val_auc: 0.9436 - 44ms/epoch - 9ms/step\n",
      "Epoch 12/25\n",
      "5/5 - 0s - loss: 0.3487 - auc: 0.9605 - val_loss: 0.3407 - val_auc: 0.9487 - 58ms/epoch - 12ms/step\n",
      "Epoch 13/25\n",
      "5/5 - 0s - loss: 0.3274 - auc: 0.9643 - val_loss: 0.3239 - val_auc: 0.9487 - 46ms/epoch - 9ms/step\n",
      "Epoch 14/25\n",
      "5/5 - 0s - loss: 0.3069 - auc: 0.9709 - val_loss: 0.3086 - val_auc: 0.9487 - 58ms/epoch - 12ms/step\n",
      "9/9 [==============================] - 0s 2ms/step - loss: 0.2926 - auc: 0.9692\n",
      "1/1 [==============================] - 0s 28ms/step - loss: 0.4051 - auc: 0.8992\n",
      "Train AUC: 0.9692131876945496 Test AUC: 0.8991596698760986\n",
      "\n",
      "\n",
      "\n",
      "\n",
      "{'dropout': 0.1, 'learning_rate': 0.001, 'optimizer': 'RMSprop'}\n",
      "Epoch 1/25\n",
      "5/5 - 1s - loss: 0.7514 - auc: 0.4069 - val_loss: 0.7043 - val_auc: 0.6154 - 1s/epoch - 212ms/step\n",
      "Epoch 2/25\n",
      "5/5 - 0s - loss: 0.6748 - auc: 0.6258 - val_loss: 0.6505 - val_auc: 0.7205 - 57ms/epoch - 11ms/step\n",
      "Epoch 3/25\n",
      "5/5 - 0s - loss: 0.6283 - auc: 0.7523 - val_loss: 0.6048 - val_auc: 0.7923 - 45ms/epoch - 9ms/step\n",
      "Epoch 4/25\n",
      "5/5 - 0s - loss: 0.5867 - auc: 0.8346 - val_loss: 0.5672 - val_auc: 0.8462 - 41ms/epoch - 8ms/step\n",
      "Epoch 5/25\n",
      "5/5 - 0s - loss: 0.5588 - auc: 0.8727 - val_loss: 0.5319 - val_auc: 0.8872 - 42ms/epoch - 8ms/step\n",
      "Epoch 6/25\n",
      "5/5 - 0s - loss: 0.5237 - auc: 0.9090 - val_loss: 0.4983 - val_auc: 0.9026 - 58ms/epoch - 12ms/step\n",
      "Epoch 7/25\n",
      "5/5 - 0s - loss: 0.4834 - auc: 0.9339 - val_loss: 0.4691 - val_auc: 0.9231 - 44ms/epoch - 9ms/step\n",
      "Epoch 8/25\n",
      "5/5 - 0s - loss: 0.4676 - auc: 0.9381 - val_loss: 0.4387 - val_auc: 0.9385 - 45ms/epoch - 9ms/step\n",
      "Epoch 9/25\n",
      "5/5 - 0s - loss: 0.4441 - auc: 0.9442 - val_loss: 0.4105 - val_auc: 0.9462 - 43ms/epoch - 9ms/step\n",
      "Epoch 10/25\n",
      "5/5 - 0s - loss: 0.4200 - auc: 0.9524 - val_loss: 0.3846 - val_auc: 0.9564 - 43ms/epoch - 9ms/step\n",
      "Epoch 11/25\n",
      "5/5 - 0s - loss: 0.4040 - auc: 0.9519 - val_loss: 0.3620 - val_auc: 0.9590 - 44ms/epoch - 9ms/step\n",
      "Epoch 12/25\n",
      "5/5 - 0s - loss: 0.3732 - auc: 0.9588 - val_loss: 0.3415 - val_auc: 0.9590 - 42ms/epoch - 8ms/step\n",
      "Epoch 13/25\n",
      "5/5 - 0s - loss: 0.3530 - auc: 0.9644 - val_loss: 0.3229 - val_auc: 0.9590 - 43ms/epoch - 9ms/step\n",
      "9/9 [==============================] - 0s 2ms/step - loss: 0.3274 - auc: 0.9699\n",
      "1/1 [==============================] - 0s 31ms/step - loss: 0.4770 - auc: 0.8866\n",
      "Train AUC: 0.9699488282203674 Test AUC: 0.8865545988082886\n",
      "\n",
      "\n",
      "\n",
      "\n",
      "{'dropout': 0.1, 'learning_rate': 0.001, 'optimizer': 'sgd'}\n",
      "Epoch 1/25\n",
      "5/5 - 1s - loss: 0.7917 - auc: 0.4124 - val_loss: 0.7918 - val_auc: 0.4179 - 959ms/epoch - 192ms/step\n",
      "Epoch 2/25\n",
      "5/5 - 0s - loss: 0.8052 - auc: 0.3772 - val_loss: 0.7888 - val_auc: 0.4231 - 43ms/epoch - 9ms/step\n",
      "Epoch 3/25\n",
      "5/5 - 0s - loss: 0.7922 - auc: 0.4105 - val_loss: 0.7858 - val_auc: 0.4256 - 42ms/epoch - 8ms/step\n",
      "Epoch 4/25\n",
      "5/5 - 0s - loss: 0.7889 - auc: 0.4139 - val_loss: 0.7830 - val_auc: 0.4308 - 43ms/epoch - 9ms/step\n",
      "Epoch 5/25\n",
      "5/5 - 0s - loss: 0.7808 - auc: 0.4155 - val_loss: 0.7802 - val_auc: 0.4359 - 44ms/epoch - 9ms/step\n",
      "Epoch 6/25\n",
      "5/5 - 0s - loss: 0.7689 - auc: 0.4490 - val_loss: 0.7774 - val_auc: 0.4410 - 44ms/epoch - 9ms/step\n",
      "Epoch 7/25\n",
      "5/5 - 0s - loss: 0.7835 - auc: 0.4255 - val_loss: 0.7747 - val_auc: 0.4513 - 45ms/epoch - 9ms/step\n",
      "Epoch 8/25\n",
      "5/5 - 0s - loss: 0.8034 - auc: 0.3736 - val_loss: 0.7719 - val_auc: 0.4744 - 43ms/epoch - 9ms/step\n",
      "Epoch 9/25\n",
      "5/5 - 0s - loss: 0.7719 - auc: 0.4596 - val_loss: 0.7692 - val_auc: 0.4846 - 45ms/epoch - 9ms/step\n",
      "Epoch 10/25\n",
      "5/5 - 0s - loss: 0.7691 - auc: 0.4469 - val_loss: 0.7666 - val_auc: 0.4974 - 43ms/epoch - 9ms/step\n",
      "Epoch 11/25\n",
      "5/5 - 0s - loss: 0.7572 - auc: 0.4783 - val_loss: 0.7639 - val_auc: 0.5103 - 45ms/epoch - 9ms/step\n",
      "Epoch 12/25\n",
      "5/5 - 0s - loss: 0.7907 - auc: 0.4125 - val_loss: 0.7612 - val_auc: 0.5154 - 43ms/epoch - 9ms/step\n",
      "Epoch 13/25\n",
      "5/5 - 0s - loss: 0.7671 - auc: 0.4628 - val_loss: 0.7587 - val_auc: 0.5205 - 42ms/epoch - 8ms/step\n",
      "Epoch 14/25\n",
      "5/5 - 0s - loss: 0.7603 - auc: 0.4617 - val_loss: 0.7561 - val_auc: 0.5205 - 57ms/epoch - 11ms/step\n",
      "Epoch 15/25\n",
      "5/5 - 0s - loss: 0.7627 - auc: 0.4642 - val_loss: 0.7536 - val_auc: 0.5282 - 58ms/epoch - 12ms/step\n",
      "Epoch 16/25\n",
      "5/5 - 0s - loss: 0.7648 - auc: 0.4349 - val_loss: 0.7511 - val_auc: 0.5308 - 59ms/epoch - 12ms/step\n",
      "Epoch 17/25\n",
      "5/5 - 0s - loss: 0.7542 - auc: 0.4755 - val_loss: 0.7487 - val_auc: 0.5333 - 57ms/epoch - 11ms/step\n",
      "Epoch 18/25\n",
      "5/5 - 0s - loss: 0.7561 - auc: 0.4799 - val_loss: 0.7463 - val_auc: 0.5385 - 45ms/epoch - 9ms/step\n",
      "Epoch 19/25\n",
      "5/5 - 0s - loss: 0.7367 - auc: 0.5096 - val_loss: 0.7439 - val_auc: 0.5385 - 43ms/epoch - 9ms/step\n",
      "Epoch 20/25\n",
      "5/5 - 0s - loss: 0.7275 - auc: 0.5141 - val_loss: 0.7416 - val_auc: 0.5436 - 45ms/epoch - 9ms/step\n",
      "Epoch 21/25\n",
      "5/5 - 0s - loss: 0.7511 - auc: 0.4771 - val_loss: 0.7392 - val_auc: 0.5462 - 44ms/epoch - 9ms/step\n",
      "Epoch 22/25\n",
      "5/5 - 0s - loss: 0.7301 - auc: 0.5250 - val_loss: 0.7369 - val_auc: 0.5462 - 56ms/epoch - 11ms/step\n",
      "Epoch 23/25\n",
      "5/5 - 0s - loss: 0.7428 - auc: 0.5054 - val_loss: 0.7346 - val_auc: 0.5487 - 44ms/epoch - 9ms/step\n",
      "Epoch 24/25\n",
      "5/5 - 0s - loss: 0.7471 - auc: 0.4902 - val_loss: 0.7323 - val_auc: 0.5538 - 45ms/epoch - 9ms/step\n",
      "Epoch 25/25\n",
      "5/5 - 0s - loss: 0.7237 - auc: 0.5492 - val_loss: 0.7300 - val_auc: 0.5538 - 46ms/epoch - 9ms/step\n",
      "9/9 [==============================] - 0s 3ms/step - loss: 0.7272 - auc: 0.5218\n",
      "1/1 [==============================] - 0s 29ms/step - loss: 0.8040 - auc: 0.3214\n",
      "Train AUC: 0.5217687487602234 Test AUC: 0.3214285373687744\n",
      "\n",
      "\n",
      "\n",
      "\n",
      "{'dropout': 0.1, 'learning_rate': 0.01, 'optimizer': 'Adam'}\n",
      "Epoch 1/25\n",
      "5/5 - 1s - loss: 0.6241 - auc: 0.7315 - val_loss: 0.4582 - val_auc: 0.9436 - 1s/epoch - 246ms/step\n",
      "Epoch 2/25\n",
      "5/5 - 0s - loss: 0.3835 - auc: 0.9481 - val_loss: 0.2888 - val_auc: 0.9590 - 43ms/epoch - 9ms/step\n",
      "Epoch 3/25\n",
      "5/5 - 0s - loss: 0.2379 - auc: 0.9709 - val_loss: 0.2398 - val_auc: 0.9692 - 43ms/epoch - 9ms/step\n",
      "Epoch 4/25\n",
      "5/5 - 0s - loss: 0.1707 - auc: 0.9821 - val_loss: 0.2213 - val_auc: 0.9744 - 45ms/epoch - 9ms/step\n",
      "Epoch 5/25\n",
      "5/5 - 0s - loss: 0.1247 - auc: 0.9891 - val_loss: 0.2070 - val_auc: 0.9744 - 42ms/epoch - 8ms/step\n",
      "Epoch 6/25\n",
      "5/5 - 0s - loss: 0.0965 - auc: 0.9946 - val_loss: 0.1964 - val_auc: 0.9795 - 44ms/epoch - 9ms/step\n",
      "Epoch 7/25\n",
      "5/5 - 0s - loss: 0.0557 - auc: 0.9985 - val_loss: 0.1846 - val_auc: 0.9821 - 44ms/epoch - 9ms/step\n",
      "Epoch 8/25\n",
      "5/5 - 0s - loss: 0.0538 - auc: 0.9986 - val_loss: 0.1717 - val_auc: 0.9872 - 45ms/epoch - 9ms/step\n",
      "Epoch 9/25\n",
      "5/5 - 0s - loss: 0.0452 - auc: 0.9991 - val_loss: 0.1516 - val_auc: 0.9949 - 45ms/epoch - 9ms/step\n",
      "Epoch 10/25\n",
      "5/5 - 0s - loss: 0.0431 - auc: 0.9993 - val_loss: 0.1290 - val_auc: 0.9949 - 44ms/epoch - 9ms/step\n",
      "Epoch 11/25\n",
      "5/5 - 0s - loss: 0.0183 - auc: 1.0000 - val_loss: 0.1187 - val_auc: 0.9949 - 44ms/epoch - 9ms/step\n",
      "9/9 [==============================] - 0s 2ms/step - loss: 0.0230 - auc: 0.9997\n",
      "1/1 [==============================] - 0s 29ms/step - loss: 0.0443 - auc: 1.0000\n",
      "Train AUC: 0.9996731281280518 Test AUC: 1.0000001192092896\n",
      "\n",
      "\n",
      "\n",
      "\n",
      "{'dropout': 0.1, 'learning_rate': 0.01, 'optimizer': 'RMSprop'}\n",
      "Epoch 1/25\n",
      "5/5 - 1s - loss: 0.4809 - auc: 0.8803 - val_loss: 0.2316 - val_auc: 0.9692 - 1s/epoch - 205ms/step\n",
      "Epoch 2/25\n",
      "5/5 - 0s - loss: 0.1778 - auc: 0.9858 - val_loss: 0.1987 - val_auc: 0.9744 - 43ms/epoch - 9ms/step\n",
      "Epoch 3/25\n",
      "5/5 - 0s - loss: 0.1056 - auc: 0.9958 - val_loss: 0.1761 - val_auc: 0.9846 - 56ms/epoch - 11ms/step\n",
      "Epoch 4/25\n",
      "5/5 - 0s - loss: 0.0808 - auc: 0.9975 - val_loss: 0.1666 - val_auc: 0.9897 - 44ms/epoch - 9ms/step\n",
      "Epoch 5/25\n",
      "5/5 - 0s - loss: 0.0519 - auc: 0.9991 - val_loss: 0.1608 - val_auc: 0.9897 - 42ms/epoch - 8ms/step\n",
      "Epoch 6/25\n",
      "5/5 - 0s - loss: 0.0364 - auc: 0.9995 - val_loss: 0.1557 - val_auc: 0.9949 - 44ms/epoch - 9ms/step\n",
      "Epoch 7/25\n",
      "5/5 - 0s - loss: 0.0347 - auc: 0.9997 - val_loss: 0.1387 - val_auc: 0.9949 - 44ms/epoch - 9ms/step\n",
      "Epoch 8/25\n",
      "5/5 - 0s - loss: 0.0239 - auc: 0.9998 - val_loss: 0.1405 - val_auc: 0.9949 - 45ms/epoch - 9ms/step\n",
      "9/9 [==============================] - 0s 3ms/step - loss: 0.0254 - auc: 0.9997\n",
      "1/1 [==============================] - 0s 41ms/step - loss: 0.0448 - auc: 1.0000\n",
      "Train AUC: 0.9996731281280518 Test AUC: 0.9999999403953552\n",
      "\n",
      "\n",
      "\n",
      "\n",
      "{'dropout': 0.1, 'learning_rate': 0.01, 'optimizer': 'sgd'}\n",
      "Epoch 1/25\n",
      "5/5 - 1s - loss: 0.7725 - auc: 0.3470 - val_loss: 0.7005 - val_auc: 0.5487 - 1s/epoch - 213ms/step\n",
      "Epoch 2/25\n",
      "5/5 - 0s - loss: 0.7489 - auc: 0.3914 - val_loss: 0.6800 - val_auc: 0.5923 - 60ms/epoch - 12ms/step\n",
      "Epoch 3/25\n",
      "5/5 - 0s - loss: 0.7349 - auc: 0.4106 - val_loss: 0.6609 - val_auc: 0.6641 - 43ms/epoch - 9ms/step\n",
      "Epoch 4/25\n",
      "5/5 - 0s - loss: 0.7192 - auc: 0.4497 - val_loss: 0.6426 - val_auc: 0.7179 - 43ms/epoch - 9ms/step\n",
      "Epoch 5/25\n",
      "5/5 - 0s - loss: 0.7020 - auc: 0.5206 - val_loss: 0.6252 - val_auc: 0.7590 - 44ms/epoch - 9ms/step\n",
      "Epoch 6/25\n",
      "5/5 - 0s - loss: 0.6823 - auc: 0.5903 - val_loss: 0.6089 - val_auc: 0.8077 - 44ms/epoch - 9ms/step\n",
      "Epoch 7/25\n",
      "5/5 - 0s - loss: 0.6648 - auc: 0.6289 - val_loss: 0.5942 - val_auc: 0.8436 - 43ms/epoch - 9ms/step\n",
      "Epoch 8/25\n",
      "5/5 - 0s - loss: 0.6498 - auc: 0.6935 - val_loss: 0.5799 - val_auc: 0.8744 - 44ms/epoch - 9ms/step\n",
      "Epoch 9/25\n",
      "5/5 - 0s - loss: 0.6548 - auc: 0.6670 - val_loss: 0.5663 - val_auc: 0.9026 - 43ms/epoch - 9ms/step\n",
      "Epoch 10/25\n",
      "5/5 - 0s - loss: 0.6248 - auc: 0.7505 - val_loss: 0.5531 - val_auc: 0.9231 - 44ms/epoch - 9ms/step\n",
      "Epoch 11/25\n",
      "5/5 - 0s - loss: 0.6160 - auc: 0.7805 - val_loss: 0.5406 - val_auc: 0.9282 - 57ms/epoch - 11ms/step\n",
      "Epoch 12/25\n",
      "5/5 - 0s - loss: 0.6138 - auc: 0.7764 - val_loss: 0.5284 - val_auc: 0.9385 - 45ms/epoch - 9ms/step\n",
      "Epoch 13/25\n",
      "5/5 - 0s - loss: 0.5838 - auc: 0.8565 - val_loss: 0.5166 - val_auc: 0.9538 - 43ms/epoch - 9ms/step\n",
      "Epoch 14/25\n",
      "5/5 - 0s - loss: 0.5849 - auc: 0.8506 - val_loss: 0.5050 - val_auc: 0.9692 - 43ms/epoch - 9ms/step\n",
      "Epoch 15/25\n",
      "5/5 - 0s - loss: 0.5615 - auc: 0.8959 - val_loss: 0.4938 - val_auc: 0.9846 - 42ms/epoch - 8ms/step\n",
      "Epoch 16/25\n",
      "5/5 - 0s - loss: 0.5587 - auc: 0.8906 - val_loss: 0.4829 - val_auc: 0.9846 - 45ms/epoch - 9ms/step\n",
      "Epoch 17/25\n",
      "5/5 - 0s - loss: 0.5562 - auc: 0.8877 - val_loss: 0.4726 - val_auc: 0.9846 - 44ms/epoch - 9ms/step\n",
      "9/9 [==============================] - 0s 2ms/step - loss: 0.5280 - auc: 0.9365\n",
      "1/1 [==============================] - 0s 30ms/step - loss: 0.5677 - auc: 0.8971\n",
      "Train AUC: 0.9364919662475586 Test AUC: 0.8970588445663452\n"
     ]
    }
   ],
   "source": [
    "# Different parameters on which we can tune the model\n",
    "param_grid = {\n",
    "    'learning_rate': [0.001, 0.01],\n",
    "    'optimizer':['Adam', 'RMSprop' , 'sgd'],\n",
    "    'dropout': [0.2, 0.1]\n",
    "}\n",
    "    \n",
    "param_combinations = list(ParameterGrid(param_grid))\n",
    "\n",
    "# Print all combinations\n",
    "for params in param_combinations:\n",
    "    print(\"\\n\\n\\n\")\n",
    "    print(params)\n",
    "    backend.clear_session()\n",
    "    model = Sequential()\n",
    "    model.add(Dense(units = 32, input_dim = 15, activation = 'relu'))\n",
    "    model.add(Dropout(params['dropout']))  \n",
    "    model.add(Dense(units = 16, activation = 'relu'))\n",
    "    model.add(Dense(units = 1, activation='sigmoid'))\n",
    "    if params['optimizer'] == 'Adam':\n",
    "        optimizer = Adam(learning_rate=params['learning_rate'])\n",
    "    elif params['optimizer'] == 'RMSprop':\n",
    "            optimizer = RMSprop(learning_rate=params['learning_rate'])\n",
    "    elif params['optimizer'] == 'sgd':\n",
    "                optimizer = SGD(learning_rate=params['learning_rate'])\n",
    "    model.compile(optimizer = optimizer, loss='binary_crossentropy', metrics=[AUC()])\n",
    "    callback = EarlyStopping(monitor='val_auc', patience=2)\n",
    "    model.fit(X_train_scaled, y_train, epochs=25, batch_size=50, validation_split=0.1, callbacks=[callback], verbose=2)\n",
    "    \n",
    "    train_loss, train_auc = model.evaluate(X_train_scaled, y_train)\n",
    "    test_loss, test_auc = model.evaluate(X_test_scaled, y_test)\n",
    "    print(f'Train AUC: {train_auc} Test AUC: {test_auc}')"
   ]
  },
  {
   "cell_type": "markdown",
   "id": "cbdaefac",
   "metadata": {
    "papermill": {
     "duration": 0.051597,
     "end_time": "2024-01-23T11:41:37.242469",
     "exception": false,
     "start_time": "2024-01-23T11:41:37.190872",
     "status": "completed"
    },
    "tags": []
   },
   "source": [
    "# Training the model"
   ]
  },
  {
   "cell_type": "code",
   "execution_count": 25,
   "id": "d240b28d",
   "metadata": {
    "execution": {
     "iopub.execute_input": "2024-01-23T11:41:37.347593Z",
     "iopub.status.busy": "2024-01-23T11:41:37.347165Z",
     "iopub.status.idle": "2024-01-23T11:41:40.181465Z",
     "shell.execute_reply": "2024-01-23T11:41:40.180373Z"
    },
    "papermill": {
     "duration": 2.889884,
     "end_time": "2024-01-23T11:41:40.183885",
     "exception": false,
     "start_time": "2024-01-23T11:41:37.294001",
     "status": "completed"
    },
    "tags": []
   },
   "outputs": [
    {
     "name": "stdout",
     "output_type": "stream",
     "text": [
      "Epoch 1/100\n",
      "10/10 - 1s - loss: 0.6370 - auc: 0.7854 - val_loss: 0.6324 - val_auc: 0.8641 - 1s/epoch - 104ms/step\n",
      "Epoch 2/100\n",
      "10/10 - 0s - loss: 0.6284 - auc: 0.8185 - val_loss: 0.6217 - val_auc: 0.8795 - 53ms/epoch - 5ms/step\n",
      "Epoch 3/100\n",
      "10/10 - 1s - loss: 0.6196 - auc: 0.8370 - val_loss: 0.6112 - val_auc: 0.8769 - 522ms/epoch - 52ms/step\n",
      "Epoch 4/100\n",
      "10/10 - 0s - loss: 0.6095 - auc: 0.8301 - val_loss: 0.5988 - val_auc: 0.9077 - 56ms/epoch - 6ms/step\n",
      "Epoch 5/100\n",
      "10/10 - 0s - loss: 0.5935 - auc: 0.8838 - val_loss: 0.5858 - val_auc: 0.9103 - 56ms/epoch - 6ms/step\n",
      "Epoch 6/100\n",
      "10/10 - 0s - loss: 0.5896 - auc: 0.8688 - val_loss: 0.5715 - val_auc: 0.9179 - 57ms/epoch - 6ms/step\n",
      "Epoch 7/100\n",
      "10/10 - 0s - loss: 0.5800 - auc: 0.8781 - val_loss: 0.5577 - val_auc: 0.9256 - 57ms/epoch - 6ms/step\n",
      "Epoch 8/100\n",
      "10/10 - 0s - loss: 0.5751 - auc: 0.8704 - val_loss: 0.5436 - val_auc: 0.9333 - 57ms/epoch - 6ms/step\n",
      "Epoch 9/100\n",
      "10/10 - 0s - loss: 0.5595 - auc: 0.8962 - val_loss: 0.5287 - val_auc: 0.9487 - 57ms/epoch - 6ms/step\n",
      "Epoch 10/100\n",
      "10/10 - 0s - loss: 0.5468 - auc: 0.9074 - val_loss: 0.5133 - val_auc: 0.9590 - 57ms/epoch - 6ms/step\n",
      "Epoch 11/100\n",
      "10/10 - 0s - loss: 0.5318 - auc: 0.9113 - val_loss: 0.4977 - val_auc: 0.9615 - 68ms/epoch - 7ms/step\n",
      "Epoch 12/100\n",
      "10/10 - 0s - loss: 0.5266 - auc: 0.9037 - val_loss: 0.4829 - val_auc: 0.9641 - 56ms/epoch - 6ms/step\n",
      "Epoch 13/100\n",
      "10/10 - 0s - loss: 0.5152 - auc: 0.9041 - val_loss: 0.4679 - val_auc: 0.9667 - 57ms/epoch - 6ms/step\n",
      "Epoch 14/100\n",
      "10/10 - 0s - loss: 0.5073 - auc: 0.9101 - val_loss: 0.4536 - val_auc: 0.9718 - 56ms/epoch - 6ms/step\n",
      "Epoch 15/100\n",
      "10/10 - 0s - loss: 0.4836 - auc: 0.9312 - val_loss: 0.4382 - val_auc: 0.9718 - 55ms/epoch - 6ms/step\n",
      "Epoch 16/100\n",
      "10/10 - 0s - loss: 0.4766 - auc: 0.9260 - val_loss: 0.4226 - val_auc: 0.9692 - 55ms/epoch - 6ms/step\n",
      "Epoch 17/100\n",
      "10/10 - 0s - loss: 0.4544 - auc: 0.9461 - val_loss: 0.4077 - val_auc: 0.9692 - 57ms/epoch - 6ms/step\n",
      "Epoch 18/100\n",
      "10/10 - 0s - loss: 0.4528 - auc: 0.9306 - val_loss: 0.3933 - val_auc: 0.9692 - 70ms/epoch - 7ms/step\n",
      "Epoch 19/100\n",
      "10/10 - 0s - loss: 0.4414 - auc: 0.9350 - val_loss: 0.3802 - val_auc: 0.9692 - 55ms/epoch - 6ms/step\n"
     ]
    }
   ],
   "source": [
    "# Final model training after hyper parameter tuning\n",
    "backend.clear_session()\n",
    "model = Sequential()\n",
    "model.add(Dense(units = 20, input_dim = 15, activation = 'relu'))\n",
    "model.add(Dropout(0.1))  # Add dropout for regularization\n",
    "model.add(Dense(units = 10, activation = 'relu'))\n",
    "model.add(Dense(units = 5, activation = 'relu'))\n",
    "model.add(Dense(units = 1, activation='sigmoid'))\n",
    "model.compile(optimizer = SGD(learning_rate=0.01), loss='binary_crossentropy', metrics=[AUC()])\n",
    "callback = EarlyStopping(monitor='val_auc', patience=5)\n",
    "history = model.fit(X_train_scaled, y_train, epochs=100, batch_size=25, validation_split=0.1, callbacks=[callback], verbose=2)"
   ]
  },
  {
   "cell_type": "markdown",
   "id": "4a39fe44",
   "metadata": {
    "papermill": {
     "duration": 0.056302,
     "end_time": "2024-01-23T11:41:40.295511",
     "exception": false,
     "start_time": "2024-01-23T11:41:40.239209",
     "status": "completed"
    },
    "tags": []
   },
   "source": [
    "### Plotting the training and validation loss"
   ]
  },
  {
   "cell_type": "code",
   "execution_count": 26,
   "id": "3a975d27",
   "metadata": {
    "execution": {
     "iopub.execute_input": "2024-01-23T11:41:40.408990Z",
     "iopub.status.busy": "2024-01-23T11:41:40.408534Z",
     "iopub.status.idle": "2024-01-23T11:41:41.578363Z",
     "shell.execute_reply": "2024-01-23T11:41:41.577033Z"
    },
    "papermill": {
     "duration": 1.230714,
     "end_time": "2024-01-23T11:41:41.581513",
     "exception": false,
     "start_time": "2024-01-23T11:41:40.350799",
     "status": "completed"
    },
    "tags": []
   },
   "outputs": [
    {
     "data": {
      "image/png": "[encoded data removed]",
      "text/plain": [
       "<Figure size 1000x500 with 2 Axes>"
      ]
     },
     "metadata": {},
     "output_type": "display_data"
    }
   ],
   "source": [
    "\n",
    "train_loss = history.history['loss']\n",
    "val_loss = history.history['val_loss']\n",
    "train_auc = history.history['auc']\n",
    "val_auc = history.history['val_auc']\n",
    "\n",
    "# Plot training and validation loss\n",
    "plt.figure(figsize=(10, 5))\n",
    "plt.subplot(1, 2, 1)\n",
    "plt.plot(train_loss, label='Training Loss')\n",
    "plt.plot(val_loss, label='Validation Loss')\n",
    "plt.title('Training and Validation Loss')\n",
    "plt.xlabel('Epoch')\n",
    "plt.ylabel('Loss')\n",
    "plt.legend()\n",
    "\n",
    "# Plot training and validation accuracy\n",
    "plt.subplot(1, 2, 2)\n",
    "plt.plot(train_auc, label='Training AUC')\n",
    "plt.plot(val_auc, label='Validation AUC')\n",
    "plt.title('Training and Validation AUC')\n",
    "plt.xlabel('Epoch')\n",
    "plt.ylabel('AUC')\n",
    "plt.legend()\n",
    "\n",
    "# Show the plots\n",
    "plt.tight_layout()\n",
    "plt.show()"
   ]
  },
  {
   "cell_type": "markdown",
   "id": "1e2a88da",
   "metadata": {
    "papermill": {
     "duration": 0.056783,
     "end_time": "2024-01-23T11:41:41.698005",
     "exception": false,
     "start_time": "2024-01-23T11:41:41.641222",
     "status": "completed"
    },
    "tags": []
   },
   "source": [
    "# Accuracy of the model"
   ]
  },
  {
   "cell_type": "code",
   "execution_count": 27,
   "id": "e4dd4cbb",
   "metadata": {
    "execution": {
     "iopub.execute_input": "2024-01-23T11:41:41.813448Z",
     "iopub.status.busy": "2024-01-23T11:41:41.813061Z",
     "iopub.status.idle": "2024-01-23T11:41:41.926047Z",
     "shell.execute_reply": "2024-01-23T11:41:41.924856Z"
    },
    "papermill": {
     "duration": 0.173335,
     "end_time": "2024-01-23T11:41:41.928483",
     "exception": false,
     "start_time": "2024-01-23T11:41:41.755148",
     "status": "completed"
    },
    "tags": []
   },
   "outputs": [
    {
     "name": "stdout",
     "output_type": "stream",
     "text": [
      "1/1 [==============================] - 0s 32ms/step - loss: 0.5079 - auc: 0.9160\n",
      "Test AUC: 0.9159663915634155\n"
     ]
    }
   ],
   "source": [
    "# Evaluating the model on test dataset\n",
    "test_loss, test_auc = model.evaluate(X_test_scaled, y_test)\n",
    "print(f'Test AUC: {test_auc}') "
   ]
  },
  {
   "cell_type": "code",
   "execution_count": 28,
   "id": "f3e37681",
   "metadata": {
    "execution": {
     "iopub.execute_input": "2024-01-23T11:41:42.044060Z",
     "iopub.status.busy": "2024-01-23T11:41:42.043614Z",
     "iopub.status.idle": "2024-01-23T11:41:42.239021Z",
     "shell.execute_reply": "2024-01-23T11:41:42.237849Z"
    },
    "papermill": {
     "duration": 0.256103,
     "end_time": "2024-01-23T11:41:42.241299",
     "exception": false,
     "start_time": "2024-01-23T11:41:41.985196",
     "status": "completed"
    },
    "tags": []
   },
   "outputs": [
    {
     "name": "stdout",
     "output_type": "stream",
     "text": [
      "1/1 [==============================] - 0s 122ms/step\n"
     ]
    }
   ],
   "source": [
    "preds = model.predict(X_test_scaled)"
   ]
  },
  {
   "cell_type": "code",
   "execution_count": 29,
   "id": "5c021579",
   "metadata": {
    "execution": {
     "iopub.execute_input": "2024-01-23T11:41:42.360432Z",
     "iopub.status.busy": "2024-01-23T11:41:42.359730Z",
     "iopub.status.idle": "2024-01-23T11:41:42.368696Z",
     "shell.execute_reply": "2024-01-23T11:41:42.367821Z"
    },
    "papermill": {
     "duration": 0.07104,
     "end_time": "2024-01-23T11:41:42.371119",
     "exception": false,
     "start_time": "2024-01-23T11:41:42.300079",
     "status": "completed"
    },
    "tags": []
   },
   "outputs": [
    {
     "data": {
      "text/plain": [
       "239    0\n",
       "268    0\n",
       "95     1\n",
       "188    0\n",
       "302    0\n",
       "Name: output, dtype: object"
      ]
     },
     "execution_count": 29,
     "metadata": {},
     "output_type": "execute_result"
    }
   ],
   "source": [
    "y_test['Heart attack status'] = preds\n",
    "y_test.head()"
   ]
  },
  {
   "cell_type": "code",
   "execution_count": 30,
   "id": "ebd295ee",
   "metadata": {
    "execution": {
     "iopub.execute_input": "2024-01-23T11:41:42.488498Z",
     "iopub.status.busy": "2024-01-23T11:41:42.487731Z",
     "iopub.status.idle": "2024-01-23T11:41:42.493274Z",
     "shell.execute_reply": "2024-01-23T11:41:42.492179Z"
    },
    "papermill": {
     "duration": 0.06665,
     "end_time": "2024-01-23T11:41:42.495719",
     "exception": false,
     "start_time": "2024-01-23T11:41:42.429069",
     "status": "completed"
    },
    "tags": []
   },
   "outputs": [],
   "source": [
    "y_test.columns = ['index', 'output']"
   ]
  },
  {
   "cell_type": "code",
   "execution_count": 31,
   "id": "000d8d19",
   "metadata": {
    "execution": {
     "iopub.execute_input": "2024-01-23T11:41:42.612485Z",
     "iopub.status.busy": "2024-01-23T11:41:42.612063Z",
     "iopub.status.idle": "2024-01-23T11:41:42.620213Z",
     "shell.execute_reply": "2024-01-23T11:41:42.618955Z"
    },
    "papermill": {
     "duration": 0.069739,
     "end_time": "2024-01-23T11:41:42.622833",
     "exception": false,
     "start_time": "2024-01-23T11:41:42.553094",
     "status": "completed"
    },
    "tags": []
   },
   "outputs": [
    {
     "data": {
      "text/plain": [
       "239    0\n",
       "268    0\n",
       "95     1\n",
       "188    0\n",
       "302    0\n",
       "Name: output, dtype: object"
      ]
     },
     "execution_count": 31,
     "metadata": {},
     "output_type": "execute_result"
    }
   ],
   "source": [
    "y_test.head()"
   ]
  },
  {
   "cell_type": "code",
   "execution_count": null,
   "id": "d1cdc889",
   "metadata": {
    "papermill": {
     "duration": 0.056805,
     "end_time": "2024-01-23T11:41:42.736841",
     "exception": false,
     "start_time": "2024-01-23T11:41:42.680036",
     "status": "completed"
    },
    "tags": []
   },
   "outputs": [],
   "source": []
  }
 ],
 "metadata": {
  "kaggle": {
   "accelerator": "none",
   "dataSources": [
    {
     "datasetId": 1226038,
     "sourceId": 2047221,
     "sourceType": "datasetVersion"
    }
   ],
   "dockerImageVersionId": 30635,
   "isGpuEnabled": false,
   "isInternetEnabled": true,
   "language": "python",
   "sourceType": "notebook"
  },
  "kernelspec": {
   "display_name": "Python 3",
   "language": "python",
   "name": "python3"
  },
  "language_info": {
   "codemirror_mode": {
    "name": "ipython",
    "version": 3
   },
   "file_extension": ".py",
   "mimetype": "text/x-python",
   "name": "python",
   "nbconvert_exporter": "python",
   "pygments_lexer": "ipython3",
   "version": "3.10.12"
  },
  "papermill": {
   "default_parameters": {},
   "duration": 58.471676,
   "end_time": "2024-01-23T11:41:44.419083",
   "environment_variables": {},
   "exception": null,
   "input_path": "__notebook__.ipynb",
   "output_path": "__notebook__.ipynb",
   "parameters": {},
   "start_time": "2024-01-23T11:40:45.947407",
   "version": "2.4.0"
  }
 },
 "nbformat": 4,
 "nbformat_minor": 5
}
