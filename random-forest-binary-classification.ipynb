{
 "cells": [
  {
   "cell_type": "markdown",
   "id": "8944b0e9",
   "metadata": {
    "execution": {
     "iopub.execute_input": "2024-01-11T11:44:27.381100Z",
     "iopub.status.busy": "2024-01-11T11:44:27.380326Z",
     "iopub.status.idle": "2024-01-11T11:44:27.388421Z",
     "shell.execute_reply": "2024-01-11T11:44:27.387160Z",
     "shell.execute_reply.started": "2024-01-11T11:44:27.381055Z"
    },
    "papermill": {
     "duration": 0.012285,
     "end_time": "2024-01-11T12:14:37.538297",
     "exception": false,
     "start_time": "2024-01-11T12:14:37.526012",
     "status": "completed"
    },
    "tags": []
   },
   "source": [
    "# Importing the required libraries"
   ]
  },
  {
   "cell_type": "code",
   "execution_count": 1,
   "id": "a65bc115",
   "metadata": {
    "execution": {
     "iopub.execute_input": "2024-01-11T12:14:37.564651Z",
     "iopub.status.busy": "2024-01-11T12:14:37.563979Z",
     "iopub.status.idle": "2024-01-11T12:14:40.044309Z",
     "shell.execute_reply": "2024-01-11T12:14:40.042898Z"
    },
    "papermill": {
     "duration": 2.497183,
     "end_time": "2024-01-11T12:14:40.047462",
     "exception": false,
     "start_time": "2024-01-11T12:14:37.550279",
     "status": "completed"
    },
    "tags": []
   },
   "outputs": [],
   "source": [
    "import pandas as pd\n",
    "import numpy as np\n",
    "import matplotlib.pyplot as plt\n",
    "from sklearn.preprocessing import LabelEncoder\n",
    "from sklearn.model_selection import train_test_split\n",
    "from sklearn.metrics import mean_squared_error\n",
    "from sklearn.linear_model import LogisticRegression\n",
    "from sklearn.ensemble import RandomForestClassifier\n",
    "from sklearn.metrics import accuracy_score, confusion_matrix, classification_report"
   ]
  },
  {
   "cell_type": "code",
   "execution_count": 2,
   "id": "fff959ee",
   "metadata": {
    "execution": {
     "iopub.execute_input": "2024-01-11T12:14:40.074385Z",
     "iopub.status.busy": "2024-01-11T12:14:40.073799Z",
     "iopub.status.idle": "2024-01-11T12:14:40.862097Z",
     "shell.execute_reply": "2024-01-11T12:14:40.861045Z"
    },
    "papermill": {
     "duration": 0.805624,
     "end_time": "2024-01-11T12:14:40.865334",
     "exception": false,
     "start_time": "2024-01-11T12:14:40.059710",
     "status": "completed"
    },
    "tags": []
   },
   "outputs": [],
   "source": [
    "trainbanking = pd.read_csv(r'/kaggle/input/playground-series-s4e1/train.csv')\n",
    "testbanking = pd.read_csv(r'/kaggle/input/playground-series-s4e1/test.csv')"
   ]
  },
  {
   "cell_type": "markdown",
   "id": "e2fc0efc",
   "metadata": {
    "papermill": {
     "duration": 0.011676,
     "end_time": "2024-01-11T12:14:40.889425",
     "exception": false,
     "start_time": "2024-01-11T12:14:40.877749",
     "status": "completed"
    },
    "tags": []
   },
   "source": [
    "# Exploratory Data Analysis"
   ]
  },
  {
   "cell_type": "code",
   "execution_count": 3,
   "id": "988e9b77",
   "metadata": {
    "execution": {
     "iopub.execute_input": "2024-01-11T12:14:40.914952Z",
     "iopub.status.busy": "2024-01-11T12:14:40.914461Z",
     "iopub.status.idle": "2024-01-11T12:14:40.962098Z",
     "shell.execute_reply": "2024-01-11T12:14:40.960988Z"
    },
    "papermill": {
     "duration": 0.064251,
     "end_time": "2024-01-11T12:14:40.965515",
     "exception": false,
     "start_time": "2024-01-11T12:14:40.901264",
     "status": "completed"
    },
    "tags": []
   },
   "outputs": [
    {
     "data": {
      "text/html": [
       "<div>\n",
       "<style scoped>\n",
       "    .dataframe tbody tr th:only-of-type {\n",
       "        vertical-align: middle;\n",
       "    }\n",
       "\n",
       "    .dataframe tbody tr th {\n",
       "        vertical-align: top;\n",
       "    }\n",
       "\n",
       "    .dataframe thead th {\n",
       "        text-align: right;\n",
       "    }\n",
       "</style>\n",
       "<table border=\"1\" class=\"dataframe\">\n",
       "  <thead>\n",
       "    <tr style=\"text-align: right;\">\n",
       "      <th></th>\n",
       "      <th>id</th>\n",
       "      <th>CustomerId</th>\n",
       "      <th>Surname</th>\n",
       "      <th>CreditScore</th>\n",
       "      <th>Geography</th>\n",
       "      <th>Gender</th>\n",
       "      <th>Age</th>\n",
       "      <th>Tenure</th>\n",
       "      <th>Balance</th>\n",
       "      <th>NumOfProducts</th>\n",
       "      <th>HasCrCard</th>\n",
       "      <th>IsActiveMember</th>\n",
       "      <th>EstimatedSalary</th>\n",
       "    </tr>\n",
       "  </thead>\n",
       "  <tbody>\n",
       "    <tr>\n",
       "      <th>0</th>\n",
       "      <td>165034</td>\n",
       "      <td>15773898</td>\n",
       "      <td>Lucchese</td>\n",
       "      <td>586</td>\n",
       "      <td>France</td>\n",
       "      <td>Female</td>\n",
       "      <td>23.0</td>\n",
       "      <td>2</td>\n",
       "      <td>0.00</td>\n",
       "      <td>2</td>\n",
       "      <td>0.0</td>\n",
       "      <td>1.0</td>\n",
       "      <td>160976.75</td>\n",
       "    </tr>\n",
       "    <tr>\n",
       "      <th>1</th>\n",
       "      <td>165035</td>\n",
       "      <td>15782418</td>\n",
       "      <td>Nott</td>\n",
       "      <td>683</td>\n",
       "      <td>France</td>\n",
       "      <td>Female</td>\n",
       "      <td>46.0</td>\n",
       "      <td>2</td>\n",
       "      <td>0.00</td>\n",
       "      <td>1</td>\n",
       "      <td>1.0</td>\n",
       "      <td>0.0</td>\n",
       "      <td>72549.27</td>\n",
       "    </tr>\n",
       "    <tr>\n",
       "      <th>2</th>\n",
       "      <td>165036</td>\n",
       "      <td>15807120</td>\n",
       "      <td>K?</td>\n",
       "      <td>656</td>\n",
       "      <td>France</td>\n",
       "      <td>Female</td>\n",
       "      <td>34.0</td>\n",
       "      <td>7</td>\n",
       "      <td>0.00</td>\n",
       "      <td>2</td>\n",
       "      <td>1.0</td>\n",
       "      <td>0.0</td>\n",
       "      <td>138882.09</td>\n",
       "    </tr>\n",
       "    <tr>\n",
       "      <th>3</th>\n",
       "      <td>165037</td>\n",
       "      <td>15808905</td>\n",
       "      <td>O'Donnell</td>\n",
       "      <td>681</td>\n",
       "      <td>France</td>\n",
       "      <td>Male</td>\n",
       "      <td>36.0</td>\n",
       "      <td>8</td>\n",
       "      <td>0.00</td>\n",
       "      <td>1</td>\n",
       "      <td>1.0</td>\n",
       "      <td>0.0</td>\n",
       "      <td>113931.57</td>\n",
       "    </tr>\n",
       "    <tr>\n",
       "      <th>4</th>\n",
       "      <td>165038</td>\n",
       "      <td>15607314</td>\n",
       "      <td>Higgins</td>\n",
       "      <td>752</td>\n",
       "      <td>Germany</td>\n",
       "      <td>Male</td>\n",
       "      <td>38.0</td>\n",
       "      <td>10</td>\n",
       "      <td>121263.62</td>\n",
       "      <td>1</td>\n",
       "      <td>1.0</td>\n",
       "      <td>0.0</td>\n",
       "      <td>139431.00</td>\n",
       "    </tr>\n",
       "    <tr>\n",
       "      <th>5</th>\n",
       "      <td>165039</td>\n",
       "      <td>15672704</td>\n",
       "      <td>Pearson</td>\n",
       "      <td>593</td>\n",
       "      <td>France</td>\n",
       "      <td>Female</td>\n",
       "      <td>22.0</td>\n",
       "      <td>9</td>\n",
       "      <td>0.00</td>\n",
       "      <td>2</td>\n",
       "      <td>0.0</td>\n",
       "      <td>0.0</td>\n",
       "      <td>51907.72</td>\n",
       "    </tr>\n",
       "    <tr>\n",
       "      <th>6</th>\n",
       "      <td>165040</td>\n",
       "      <td>15647838</td>\n",
       "      <td>Onyemere</td>\n",
       "      <td>682</td>\n",
       "      <td>Spain</td>\n",
       "      <td>Male</td>\n",
       "      <td>45.0</td>\n",
       "      <td>4</td>\n",
       "      <td>0.00</td>\n",
       "      <td>2</td>\n",
       "      <td>1.0</td>\n",
       "      <td>1.0</td>\n",
       "      <td>157878.67</td>\n",
       "    </tr>\n",
       "    <tr>\n",
       "      <th>7</th>\n",
       "      <td>165041</td>\n",
       "      <td>15775307</td>\n",
       "      <td>Hargreaves</td>\n",
       "      <td>539</td>\n",
       "      <td>Spain</td>\n",
       "      <td>Female</td>\n",
       "      <td>47.0</td>\n",
       "      <td>8</td>\n",
       "      <td>0.00</td>\n",
       "      <td>2</td>\n",
       "      <td>1.0</td>\n",
       "      <td>1.0</td>\n",
       "      <td>126784.29</td>\n",
       "    </tr>\n",
       "    <tr>\n",
       "      <th>8</th>\n",
       "      <td>165042</td>\n",
       "      <td>15653937</td>\n",
       "      <td>Hsueh</td>\n",
       "      <td>845</td>\n",
       "      <td>France</td>\n",
       "      <td>Female</td>\n",
       "      <td>47.0</td>\n",
       "      <td>3</td>\n",
       "      <td>111096.91</td>\n",
       "      <td>1</td>\n",
       "      <td>1.0</td>\n",
       "      <td>0.0</td>\n",
       "      <td>94978.10</td>\n",
       "    </tr>\n",
       "    <tr>\n",
       "      <th>9</th>\n",
       "      <td>165043</td>\n",
       "      <td>15752344</td>\n",
       "      <td>Teng</td>\n",
       "      <td>645</td>\n",
       "      <td>Spain</td>\n",
       "      <td>Male</td>\n",
       "      <td>30.0</td>\n",
       "      <td>5</td>\n",
       "      <td>0.00</td>\n",
       "      <td>2</td>\n",
       "      <td>0.0</td>\n",
       "      <td>1.0</td>\n",
       "      <td>149195.44</td>\n",
       "    </tr>\n",
       "    <tr>\n",
       "      <th>10</th>\n",
       "      <td>165044</td>\n",
       "      <td>15723053</td>\n",
       "      <td>Ch'eng</td>\n",
       "      <td>818</td>\n",
       "      <td>Germany</td>\n",
       "      <td>Male</td>\n",
       "      <td>33.0</td>\n",
       "      <td>8</td>\n",
       "      <td>130878.75</td>\n",
       "      <td>1</td>\n",
       "      <td>1.0</td>\n",
       "      <td>1.0</td>\n",
       "      <td>56897.10</td>\n",
       "    </tr>\n",
       "    <tr>\n",
       "      <th>11</th>\n",
       "      <td>165045</td>\n",
       "      <td>15757895</td>\n",
       "      <td>T'ang</td>\n",
       "      <td>651</td>\n",
       "      <td>France</td>\n",
       "      <td>Male</td>\n",
       "      <td>38.0</td>\n",
       "      <td>4</td>\n",
       "      <td>0.00</td>\n",
       "      <td>2</td>\n",
       "      <td>1.0</td>\n",
       "      <td>0.0</td>\n",
       "      <td>181419.29</td>\n",
       "    </tr>\n",
       "    <tr>\n",
       "      <th>12</th>\n",
       "      <td>165046</td>\n",
       "      <td>15664802</td>\n",
       "      <td>Hsieh</td>\n",
       "      <td>632</td>\n",
       "      <td>France</td>\n",
       "      <td>Female</td>\n",
       "      <td>23.0</td>\n",
       "      <td>8</td>\n",
       "      <td>0.00</td>\n",
       "      <td>2</td>\n",
       "      <td>1.0</td>\n",
       "      <td>1.0</td>\n",
       "      <td>163650.87</td>\n",
       "    </tr>\n",
       "    <tr>\n",
       "      <th>13</th>\n",
       "      <td>165047</td>\n",
       "      <td>15737354</td>\n",
       "      <td>Chinwendu</td>\n",
       "      <td>685</td>\n",
       "      <td>Germany</td>\n",
       "      <td>Male</td>\n",
       "      <td>38.0</td>\n",
       "      <td>2</td>\n",
       "      <td>135070.21</td>\n",
       "      <td>1</td>\n",
       "      <td>0.0</td>\n",
       "      <td>1.0</td>\n",
       "      <td>88820.24</td>\n",
       "    </tr>\n",
       "    <tr>\n",
       "      <th>14</th>\n",
       "      <td>165048</td>\n",
       "      <td>15591995</td>\n",
       "      <td>Ting</td>\n",
       "      <td>607</td>\n",
       "      <td>Germany</td>\n",
       "      <td>Male</td>\n",
       "      <td>42.0</td>\n",
       "      <td>5</td>\n",
       "      <td>122917.71</td>\n",
       "      <td>1</td>\n",
       "      <td>0.0</td>\n",
       "      <td>0.0</td>\n",
       "      <td>105898.79</td>\n",
       "    </tr>\n",
       "    <tr>\n",
       "      <th>15</th>\n",
       "      <td>165049</td>\n",
       "      <td>15658057</td>\n",
       "      <td>Maclean</td>\n",
       "      <td>664</td>\n",
       "      <td>France</td>\n",
       "      <td>Female</td>\n",
       "      <td>43.0</td>\n",
       "      <td>10</td>\n",
       "      <td>0.00</td>\n",
       "      <td>2</td>\n",
       "      <td>1.0</td>\n",
       "      <td>1.0</td>\n",
       "      <td>131177.22</td>\n",
       "    </tr>\n",
       "    <tr>\n",
       "      <th>16</th>\n",
       "      <td>165050</td>\n",
       "      <td>15608845</td>\n",
       "      <td>Sousa</td>\n",
       "      <td>613</td>\n",
       "      <td>Spain</td>\n",
       "      <td>Female</td>\n",
       "      <td>24.0</td>\n",
       "      <td>3</td>\n",
       "      <td>181627.14</td>\n",
       "      <td>1</td>\n",
       "      <td>1.0</td>\n",
       "      <td>1.0</td>\n",
       "      <td>131501.72</td>\n",
       "    </tr>\n",
       "    <tr>\n",
       "      <th>17</th>\n",
       "      <td>165051</td>\n",
       "      <td>15750141</td>\n",
       "      <td>Tuan</td>\n",
       "      <td>538</td>\n",
       "      <td>France</td>\n",
       "      <td>Female</td>\n",
       "      <td>31.0</td>\n",
       "      <td>5</td>\n",
       "      <td>0.00</td>\n",
       "      <td>1</td>\n",
       "      <td>1.0</td>\n",
       "      <td>0.0</td>\n",
       "      <td>160529.71</td>\n",
       "    </tr>\n",
       "    <tr>\n",
       "      <th>18</th>\n",
       "      <td>165052</td>\n",
       "      <td>15672357</td>\n",
       "      <td>Sochima</td>\n",
       "      <td>656</td>\n",
       "      <td>Spain</td>\n",
       "      <td>Male</td>\n",
       "      <td>29.0</td>\n",
       "      <td>2</td>\n",
       "      <td>0.00</td>\n",
       "      <td>2</td>\n",
       "      <td>0.0</td>\n",
       "      <td>0.0</td>\n",
       "      <td>67840.81</td>\n",
       "    </tr>\n",
       "    <tr>\n",
       "      <th>19</th>\n",
       "      <td>165053</td>\n",
       "      <td>15680141</td>\n",
       "      <td>Yuan</td>\n",
       "      <td>680</td>\n",
       "      <td>France</td>\n",
       "      <td>Male</td>\n",
       "      <td>33.0</td>\n",
       "      <td>3</td>\n",
       "      <td>86920.86</td>\n",
       "      <td>1</td>\n",
       "      <td>1.0</td>\n",
       "      <td>0.0</td>\n",
       "      <td>159830.58</td>\n",
       "    </tr>\n",
       "  </tbody>\n",
       "</table>\n",
       "</div>"
      ],
      "text/plain": [
       "        id  CustomerId     Surname  CreditScore Geography  Gender   Age  \\\n",
       "0   165034    15773898    Lucchese          586    France  Female  23.0   \n",
       "1   165035    15782418        Nott          683    France  Female  46.0   \n",
       "2   165036    15807120          K?          656    France  Female  34.0   \n",
       "3   165037    15808905   O'Donnell          681    France    Male  36.0   \n",
       "4   165038    15607314     Higgins          752   Germany    Male  38.0   \n",
       "5   165039    15672704     Pearson          593    France  Female  22.0   \n",
       "6   165040    15647838    Onyemere          682     Spain    Male  45.0   \n",
       "7   165041    15775307  Hargreaves          539     Spain  Female  47.0   \n",
       "8   165042    15653937       Hsueh          845    France  Female  47.0   \n",
       "9   165043    15752344        Teng          645     Spain    Male  30.0   \n",
       "10  165044    15723053      Ch'eng          818   Germany    Male  33.0   \n",
       "11  165045    15757895       T'ang          651    France    Male  38.0   \n",
       "12  165046    15664802       Hsieh          632    France  Female  23.0   \n",
       "13  165047    15737354   Chinwendu          685   Germany    Male  38.0   \n",
       "14  165048    15591995        Ting          607   Germany    Male  42.0   \n",
       "15  165049    15658057     Maclean          664    France  Female  43.0   \n",
       "16  165050    15608845       Sousa          613     Spain  Female  24.0   \n",
       "17  165051    15750141        Tuan          538    France  Female  31.0   \n",
       "18  165052    15672357     Sochima          656     Spain    Male  29.0   \n",
       "19  165053    15680141        Yuan          680    France    Male  33.0   \n",
       "\n",
       "    Tenure    Balance  NumOfProducts  HasCrCard  IsActiveMember  \\\n",
       "0        2       0.00              2        0.0             1.0   \n",
       "1        2       0.00              1        1.0             0.0   \n",
       "2        7       0.00              2        1.0             0.0   \n",
       "3        8       0.00              1        1.0             0.0   \n",
       "4       10  121263.62              1        1.0             0.0   \n",
       "5        9       0.00              2        0.0             0.0   \n",
       "6        4       0.00              2        1.0             1.0   \n",
       "7        8       0.00              2        1.0             1.0   \n",
       "8        3  111096.91              1        1.0             0.0   \n",
       "9        5       0.00              2        0.0             1.0   \n",
       "10       8  130878.75              1        1.0             1.0   \n",
       "11       4       0.00              2        1.0             0.0   \n",
       "12       8       0.00              2        1.0             1.0   \n",
       "13       2  135070.21              1        0.0             1.0   \n",
       "14       5  122917.71              1        0.0             0.0   \n",
       "15      10       0.00              2        1.0             1.0   \n",
       "16       3  181627.14              1        1.0             1.0   \n",
       "17       5       0.00              1        1.0             0.0   \n",
       "18       2       0.00              2        0.0             0.0   \n",
       "19       3   86920.86              1        1.0             0.0   \n",
       "\n",
       "    EstimatedSalary  \n",
       "0         160976.75  \n",
       "1          72549.27  \n",
       "2         138882.09  \n",
       "3         113931.57  \n",
       "4         139431.00  \n",
       "5          51907.72  \n",
       "6         157878.67  \n",
       "7         126784.29  \n",
       "8          94978.10  \n",
       "9         149195.44  \n",
       "10         56897.10  \n",
       "11        181419.29  \n",
       "12        163650.87  \n",
       "13         88820.24  \n",
       "14        105898.79  \n",
       "15        131177.22  \n",
       "16        131501.72  \n",
       "17        160529.71  \n",
       "18         67840.81  \n",
       "19        159830.58  "
      ]
     },
     "execution_count": 3,
     "metadata": {},
     "output_type": "execute_result"
    }
   ],
   "source": [
    "testbanking.head(20)"
   ]
  },
  {
   "cell_type": "code",
   "execution_count": 4,
   "id": "cb632d42",
   "metadata": {
    "execution": {
     "iopub.execute_input": "2024-01-11T12:14:40.993213Z",
     "iopub.status.busy": "2024-01-11T12:14:40.992807Z",
     "iopub.status.idle": "2024-01-11T12:14:41.025718Z",
     "shell.execute_reply": "2024-01-11T12:14:41.024657Z"
    },
    "papermill": {
     "duration": 0.050962,
     "end_time": "2024-01-11T12:14:41.029144",
     "exception": false,
     "start_time": "2024-01-11T12:14:40.978182",
     "status": "completed"
    },
    "tags": []
   },
   "outputs": [
    {
     "data": {
      "text/html": [
       "<div>\n",
       "<style scoped>\n",
       "    .dataframe tbody tr th:only-of-type {\n",
       "        vertical-align: middle;\n",
       "    }\n",
       "\n",
       "    .dataframe tbody tr th {\n",
       "        vertical-align: top;\n",
       "    }\n",
       "\n",
       "    .dataframe thead th {\n",
       "        text-align: right;\n",
       "    }\n",
       "</style>\n",
       "<table border=\"1\" class=\"dataframe\">\n",
       "  <thead>\n",
       "    <tr style=\"text-align: right;\">\n",
       "      <th></th>\n",
       "      <th>id</th>\n",
       "      <th>CustomerId</th>\n",
       "      <th>Surname</th>\n",
       "      <th>CreditScore</th>\n",
       "      <th>Geography</th>\n",
       "      <th>Gender</th>\n",
       "      <th>Age</th>\n",
       "      <th>Tenure</th>\n",
       "      <th>Balance</th>\n",
       "      <th>NumOfProducts</th>\n",
       "      <th>HasCrCard</th>\n",
       "      <th>IsActiveMember</th>\n",
       "      <th>EstimatedSalary</th>\n",
       "      <th>Exited</th>\n",
       "    </tr>\n",
       "  </thead>\n",
       "  <tbody>\n",
       "    <tr>\n",
       "      <th>0</th>\n",
       "      <td>0</td>\n",
       "      <td>15674932</td>\n",
       "      <td>Okwudilichukwu</td>\n",
       "      <td>668</td>\n",
       "      <td>France</td>\n",
       "      <td>Male</td>\n",
       "      <td>33.0</td>\n",
       "      <td>3</td>\n",
       "      <td>0.00</td>\n",
       "      <td>2</td>\n",
       "      <td>1.0</td>\n",
       "      <td>0.0</td>\n",
       "      <td>181449.97</td>\n",
       "      <td>0</td>\n",
       "    </tr>\n",
       "    <tr>\n",
       "      <th>1</th>\n",
       "      <td>1</td>\n",
       "      <td>15749177</td>\n",
       "      <td>Okwudiliolisa</td>\n",
       "      <td>627</td>\n",
       "      <td>France</td>\n",
       "      <td>Male</td>\n",
       "      <td>33.0</td>\n",
       "      <td>1</td>\n",
       "      <td>0.00</td>\n",
       "      <td>2</td>\n",
       "      <td>1.0</td>\n",
       "      <td>1.0</td>\n",
       "      <td>49503.50</td>\n",
       "      <td>0</td>\n",
       "    </tr>\n",
       "    <tr>\n",
       "      <th>2</th>\n",
       "      <td>2</td>\n",
       "      <td>15694510</td>\n",
       "      <td>Hsueh</td>\n",
       "      <td>678</td>\n",
       "      <td>France</td>\n",
       "      <td>Male</td>\n",
       "      <td>40.0</td>\n",
       "      <td>10</td>\n",
       "      <td>0.00</td>\n",
       "      <td>2</td>\n",
       "      <td>1.0</td>\n",
       "      <td>0.0</td>\n",
       "      <td>184866.69</td>\n",
       "      <td>0</td>\n",
       "    </tr>\n",
       "    <tr>\n",
       "      <th>3</th>\n",
       "      <td>3</td>\n",
       "      <td>15741417</td>\n",
       "      <td>Kao</td>\n",
       "      <td>581</td>\n",
       "      <td>France</td>\n",
       "      <td>Male</td>\n",
       "      <td>34.0</td>\n",
       "      <td>2</td>\n",
       "      <td>148882.54</td>\n",
       "      <td>1</td>\n",
       "      <td>1.0</td>\n",
       "      <td>1.0</td>\n",
       "      <td>84560.88</td>\n",
       "      <td>0</td>\n",
       "    </tr>\n",
       "    <tr>\n",
       "      <th>4</th>\n",
       "      <td>4</td>\n",
       "      <td>15766172</td>\n",
       "      <td>Chiemenam</td>\n",
       "      <td>716</td>\n",
       "      <td>Spain</td>\n",
       "      <td>Male</td>\n",
       "      <td>33.0</td>\n",
       "      <td>5</td>\n",
       "      <td>0.00</td>\n",
       "      <td>2</td>\n",
       "      <td>1.0</td>\n",
       "      <td>1.0</td>\n",
       "      <td>15068.83</td>\n",
       "      <td>0</td>\n",
       "    </tr>\n",
       "    <tr>\n",
       "      <th>5</th>\n",
       "      <td>5</td>\n",
       "      <td>15771669</td>\n",
       "      <td>Genovese</td>\n",
       "      <td>588</td>\n",
       "      <td>Germany</td>\n",
       "      <td>Male</td>\n",
       "      <td>36.0</td>\n",
       "      <td>4</td>\n",
       "      <td>131778.58</td>\n",
       "      <td>1</td>\n",
       "      <td>1.0</td>\n",
       "      <td>0.0</td>\n",
       "      <td>136024.31</td>\n",
       "      <td>1</td>\n",
       "    </tr>\n",
       "    <tr>\n",
       "      <th>6</th>\n",
       "      <td>6</td>\n",
       "      <td>15692819</td>\n",
       "      <td>Ch'ang</td>\n",
       "      <td>593</td>\n",
       "      <td>France</td>\n",
       "      <td>Female</td>\n",
       "      <td>30.0</td>\n",
       "      <td>8</td>\n",
       "      <td>144772.69</td>\n",
       "      <td>1</td>\n",
       "      <td>1.0</td>\n",
       "      <td>0.0</td>\n",
       "      <td>29792.11</td>\n",
       "      <td>0</td>\n",
       "    </tr>\n",
       "    <tr>\n",
       "      <th>7</th>\n",
       "      <td>7</td>\n",
       "      <td>15669611</td>\n",
       "      <td>Chukwuebuka</td>\n",
       "      <td>678</td>\n",
       "      <td>Spain</td>\n",
       "      <td>Male</td>\n",
       "      <td>37.0</td>\n",
       "      <td>1</td>\n",
       "      <td>138476.41</td>\n",
       "      <td>1</td>\n",
       "      <td>1.0</td>\n",
       "      <td>0.0</td>\n",
       "      <td>106851.60</td>\n",
       "      <td>0</td>\n",
       "    </tr>\n",
       "    <tr>\n",
       "      <th>8</th>\n",
       "      <td>8</td>\n",
       "      <td>15691707</td>\n",
       "      <td>Manna</td>\n",
       "      <td>676</td>\n",
       "      <td>France</td>\n",
       "      <td>Male</td>\n",
       "      <td>43.0</td>\n",
       "      <td>4</td>\n",
       "      <td>0.00</td>\n",
       "      <td>2</td>\n",
       "      <td>1.0</td>\n",
       "      <td>0.0</td>\n",
       "      <td>142917.13</td>\n",
       "      <td>0</td>\n",
       "    </tr>\n",
       "    <tr>\n",
       "      <th>9</th>\n",
       "      <td>9</td>\n",
       "      <td>15591721</td>\n",
       "      <td>Cattaneo</td>\n",
       "      <td>583</td>\n",
       "      <td>Germany</td>\n",
       "      <td>Male</td>\n",
       "      <td>40.0</td>\n",
       "      <td>4</td>\n",
       "      <td>81274.33</td>\n",
       "      <td>1</td>\n",
       "      <td>1.0</td>\n",
       "      <td>1.0</td>\n",
       "      <td>170843.07</td>\n",
       "      <td>0</td>\n",
       "    </tr>\n",
       "    <tr>\n",
       "      <th>10</th>\n",
       "      <td>10</td>\n",
       "      <td>15635097</td>\n",
       "      <td>Fokine</td>\n",
       "      <td>599</td>\n",
       "      <td>Germany</td>\n",
       "      <td>Female</td>\n",
       "      <td>27.0</td>\n",
       "      <td>6</td>\n",
       "      <td>161801.47</td>\n",
       "      <td>2</td>\n",
       "      <td>1.0</td>\n",
       "      <td>0.0</td>\n",
       "      <td>109184.24</td>\n",
       "      <td>0</td>\n",
       "    </tr>\n",
       "    <tr>\n",
       "      <th>11</th>\n",
       "      <td>11</td>\n",
       "      <td>15674671</td>\n",
       "      <td>Chiu</td>\n",
       "      <td>687</td>\n",
       "      <td>Germany</td>\n",
       "      <td>Male</td>\n",
       "      <td>40.0</td>\n",
       "      <td>3</td>\n",
       "      <td>90432.92</td>\n",
       "      <td>1</td>\n",
       "      <td>1.0</td>\n",
       "      <td>0.0</td>\n",
       "      <td>1676.92</td>\n",
       "      <td>0</td>\n",
       "    </tr>\n",
       "    <tr>\n",
       "      <th>12</th>\n",
       "      <td>12</td>\n",
       "      <td>15717962</td>\n",
       "      <td>Rossi</td>\n",
       "      <td>759</td>\n",
       "      <td>Spain</td>\n",
       "      <td>Male</td>\n",
       "      <td>71.0</td>\n",
       "      <td>9</td>\n",
       "      <td>0.00</td>\n",
       "      <td>1</td>\n",
       "      <td>1.0</td>\n",
       "      <td>1.0</td>\n",
       "      <td>93081.87</td>\n",
       "      <td>0</td>\n",
       "    </tr>\n",
       "    <tr>\n",
       "      <th>13</th>\n",
       "      <td>13</td>\n",
       "      <td>15793029</td>\n",
       "      <td>Ts'ai</td>\n",
       "      <td>681</td>\n",
       "      <td>France</td>\n",
       "      <td>Male</td>\n",
       "      <td>47.0</td>\n",
       "      <td>5</td>\n",
       "      <td>0.00</td>\n",
       "      <td>1</td>\n",
       "      <td>1.0</td>\n",
       "      <td>1.0</td>\n",
       "      <td>72945.68</td>\n",
       "      <td>0</td>\n",
       "    </tr>\n",
       "    <tr>\n",
       "      <th>14</th>\n",
       "      <td>14</td>\n",
       "      <td>15643294</td>\n",
       "      <td>Chukwuemeka</td>\n",
       "      <td>703</td>\n",
       "      <td>France</td>\n",
       "      <td>Female</td>\n",
       "      <td>33.0</td>\n",
       "      <td>7</td>\n",
       "      <td>190566.65</td>\n",
       "      <td>1</td>\n",
       "      <td>1.0</td>\n",
       "      <td>1.0</td>\n",
       "      <td>79997.14</td>\n",
       "      <td>0</td>\n",
       "    </tr>\n",
       "    <tr>\n",
       "      <th>15</th>\n",
       "      <td>15</td>\n",
       "      <td>15690958</td>\n",
       "      <td>Tung</td>\n",
       "      <td>549</td>\n",
       "      <td>France</td>\n",
       "      <td>Female</td>\n",
       "      <td>25.0</td>\n",
       "      <td>5</td>\n",
       "      <td>0.00</td>\n",
       "      <td>2</td>\n",
       "      <td>1.0</td>\n",
       "      <td>0.0</td>\n",
       "      <td>162260.93</td>\n",
       "      <td>0</td>\n",
       "    </tr>\n",
       "    <tr>\n",
       "      <th>16</th>\n",
       "      <td>16</td>\n",
       "      <td>15566543</td>\n",
       "      <td>Macdonald</td>\n",
       "      <td>602</td>\n",
       "      <td>France</td>\n",
       "      <td>Male</td>\n",
       "      <td>36.0</td>\n",
       "      <td>7</td>\n",
       "      <td>0.00</td>\n",
       "      <td>2</td>\n",
       "      <td>0.0</td>\n",
       "      <td>1.0</td>\n",
       "      <td>135082.47</td>\n",
       "      <td>0</td>\n",
       "    </tr>\n",
       "    <tr>\n",
       "      <th>17</th>\n",
       "      <td>17</td>\n",
       "      <td>15679804</td>\n",
       "      <td>Esquivel</td>\n",
       "      <td>636</td>\n",
       "      <td>France</td>\n",
       "      <td>Male</td>\n",
       "      <td>36.0</td>\n",
       "      <td>4</td>\n",
       "      <td>117559.05</td>\n",
       "      <td>2</td>\n",
       "      <td>1.0</td>\n",
       "      <td>0.0</td>\n",
       "      <td>111573.30</td>\n",
       "      <td>0</td>\n",
       "    </tr>\n",
       "    <tr>\n",
       "      <th>18</th>\n",
       "      <td>18</td>\n",
       "      <td>15671358</td>\n",
       "      <td>Hargreaves</td>\n",
       "      <td>645</td>\n",
       "      <td>Germany</td>\n",
       "      <td>Female</td>\n",
       "      <td>55.0</td>\n",
       "      <td>8</td>\n",
       "      <td>120105.43</td>\n",
       "      <td>1</td>\n",
       "      <td>1.0</td>\n",
       "      <td>0.0</td>\n",
       "      <td>125083.29</td>\n",
       "      <td>1</td>\n",
       "    </tr>\n",
       "    <tr>\n",
       "      <th>19</th>\n",
       "      <td>19</td>\n",
       "      <td>15650670</td>\n",
       "      <td>Ts'ui</td>\n",
       "      <td>559</td>\n",
       "      <td>France</td>\n",
       "      <td>Male</td>\n",
       "      <td>61.0</td>\n",
       "      <td>1</td>\n",
       "      <td>153711.26</td>\n",
       "      <td>1</td>\n",
       "      <td>0.0</td>\n",
       "      <td>1.0</td>\n",
       "      <td>180890.40</td>\n",
       "      <td>1</td>\n",
       "    </tr>\n",
       "  </tbody>\n",
       "</table>\n",
       "</div>"
      ],
      "text/plain": [
       "    id  CustomerId         Surname  CreditScore Geography  Gender   Age  \\\n",
       "0    0    15674932  Okwudilichukwu          668    France    Male  33.0   \n",
       "1    1    15749177   Okwudiliolisa          627    France    Male  33.0   \n",
       "2    2    15694510           Hsueh          678    France    Male  40.0   \n",
       "3    3    15741417             Kao          581    France    Male  34.0   \n",
       "4    4    15766172       Chiemenam          716     Spain    Male  33.0   \n",
       "5    5    15771669        Genovese          588   Germany    Male  36.0   \n",
       "6    6    15692819          Ch'ang          593    France  Female  30.0   \n",
       "7    7    15669611     Chukwuebuka          678     Spain    Male  37.0   \n",
       "8    8    15691707           Manna          676    France    Male  43.0   \n",
       "9    9    15591721        Cattaneo          583   Germany    Male  40.0   \n",
       "10  10    15635097          Fokine          599   Germany  Female  27.0   \n",
       "11  11    15674671            Chiu          687   Germany    Male  40.0   \n",
       "12  12    15717962           Rossi          759     Spain    Male  71.0   \n",
       "13  13    15793029           Ts'ai          681    France    Male  47.0   \n",
       "14  14    15643294     Chukwuemeka          703    France  Female  33.0   \n",
       "15  15    15690958            Tung          549    France  Female  25.0   \n",
       "16  16    15566543       Macdonald          602    France    Male  36.0   \n",
       "17  17    15679804        Esquivel          636    France    Male  36.0   \n",
       "18  18    15671358      Hargreaves          645   Germany  Female  55.0   \n",
       "19  19    15650670           Ts'ui          559    France    Male  61.0   \n",
       "\n",
       "    Tenure    Balance  NumOfProducts  HasCrCard  IsActiveMember  \\\n",
       "0        3       0.00              2        1.0             0.0   \n",
       "1        1       0.00              2        1.0             1.0   \n",
       "2       10       0.00              2        1.0             0.0   \n",
       "3        2  148882.54              1        1.0             1.0   \n",
       "4        5       0.00              2        1.0             1.0   \n",
       "5        4  131778.58              1        1.0             0.0   \n",
       "6        8  144772.69              1        1.0             0.0   \n",
       "7        1  138476.41              1        1.0             0.0   \n",
       "8        4       0.00              2        1.0             0.0   \n",
       "9        4   81274.33              1        1.0             1.0   \n",
       "10       6  161801.47              2        1.0             0.0   \n",
       "11       3   90432.92              1        1.0             0.0   \n",
       "12       9       0.00              1        1.0             1.0   \n",
       "13       5       0.00              1        1.0             1.0   \n",
       "14       7  190566.65              1        1.0             1.0   \n",
       "15       5       0.00              2        1.0             0.0   \n",
       "16       7       0.00              2        0.0             1.0   \n",
       "17       4  117559.05              2        1.0             0.0   \n",
       "18       8  120105.43              1        1.0             0.0   \n",
       "19       1  153711.26              1        0.0             1.0   \n",
       "\n",
       "    EstimatedSalary  Exited  \n",
       "0         181449.97       0  \n",
       "1          49503.50       0  \n",
       "2         184866.69       0  \n",
       "3          84560.88       0  \n",
       "4          15068.83       0  \n",
       "5         136024.31       1  \n",
       "6          29792.11       0  \n",
       "7         106851.60       0  \n",
       "8         142917.13       0  \n",
       "9         170843.07       0  \n",
       "10        109184.24       0  \n",
       "11          1676.92       0  \n",
       "12         93081.87       0  \n",
       "13         72945.68       0  \n",
       "14         79997.14       0  \n",
       "15        162260.93       0  \n",
       "16        135082.47       0  \n",
       "17        111573.30       0  \n",
       "18        125083.29       1  \n",
       "19        180890.40       1  "
      ]
     },
     "execution_count": 4,
     "metadata": {},
     "output_type": "execute_result"
    }
   ],
   "source": [
    "trainbanking.head(20)"
   ]
  },
  {
   "cell_type": "code",
   "execution_count": 5,
   "id": "b9f3e0d8",
   "metadata": {
    "execution": {
     "iopub.execute_input": "2024-01-11T12:14:41.057174Z",
     "iopub.status.busy": "2024-01-11T12:14:41.056721Z",
     "iopub.status.idle": "2024-01-11T12:14:41.142749Z",
     "shell.execute_reply": "2024-01-11T12:14:41.141400Z"
    },
    "papermill": {
     "duration": 0.103005,
     "end_time": "2024-01-11T12:14:41.145339",
     "exception": false,
     "start_time": "2024-01-11T12:14:41.042334",
     "status": "completed"
    },
    "tags": []
   },
   "outputs": [
    {
     "name": "stdout",
     "output_type": "stream",
     "text": [
      "<class 'pandas.core.frame.DataFrame'>\n",
      "RangeIndex: 165034 entries, 0 to 165033\n",
      "Data columns (total 14 columns):\n",
      " #   Column           Non-Null Count   Dtype  \n",
      "---  ------           --------------   -----  \n",
      " 0   id               165034 non-null  int64  \n",
      " 1   CustomerId       165034 non-null  int64  \n",
      " 2   Surname          165034 non-null  object \n",
      " 3   CreditScore      165034 non-null  int64  \n",
      " 4   Geography        165034 non-null  object \n",
      " 5   Gender           165034 non-null  object \n",
      " 6   Age              165034 non-null  float64\n",
      " 7   Tenure           165034 non-null  int64  \n",
      " 8   Balance          165034 non-null  float64\n",
      " 9   NumOfProducts    165034 non-null  int64  \n",
      " 10  HasCrCard        165034 non-null  float64\n",
      " 11  IsActiveMember   165034 non-null  float64\n",
      " 12  EstimatedSalary  165034 non-null  float64\n",
      " 13  Exited           165034 non-null  int64  \n",
      "dtypes: float64(5), int64(6), object(3)\n",
      "memory usage: 17.6+ MB\n"
     ]
    }
   ],
   "source": [
    "trainbanking.info()"
   ]
  },
  {
   "cell_type": "code",
   "execution_count": 6,
   "id": "0a389ea8",
   "metadata": {
    "execution": {
     "iopub.execute_input": "2024-01-11T12:14:41.175634Z",
     "iopub.status.busy": "2024-01-11T12:14:41.175167Z",
     "iopub.status.idle": "2024-01-11T12:14:41.222769Z",
     "shell.execute_reply": "2024-01-11T12:14:41.221836Z"
    },
    "papermill": {
     "duration": 0.066027,
     "end_time": "2024-01-11T12:14:41.225881",
     "exception": false,
     "start_time": "2024-01-11T12:14:41.159854",
     "status": "completed"
    },
    "tags": []
   },
   "outputs": [
    {
     "name": "stdout",
     "output_type": "stream",
     "text": [
      "<class 'pandas.core.frame.DataFrame'>\n",
      "RangeIndex: 110023 entries, 0 to 110022\n",
      "Data columns (total 13 columns):\n",
      " #   Column           Non-Null Count   Dtype  \n",
      "---  ------           --------------   -----  \n",
      " 0   id               110023 non-null  int64  \n",
      " 1   CustomerId       110023 non-null  int64  \n",
      " 2   Surname          110023 non-null  object \n",
      " 3   CreditScore      110023 non-null  int64  \n",
      " 4   Geography        110023 non-null  object \n",
      " 5   Gender           110023 non-null  object \n",
      " 6   Age              110023 non-null  float64\n",
      " 7   Tenure           110023 non-null  int64  \n",
      " 8   Balance          110023 non-null  float64\n",
      " 9   NumOfProducts    110023 non-null  int64  \n",
      " 10  HasCrCard        110023 non-null  float64\n",
      " 11  IsActiveMember   110023 non-null  float64\n",
      " 12  EstimatedSalary  110023 non-null  float64\n",
      "dtypes: float64(5), int64(5), object(3)\n",
      "memory usage: 10.9+ MB\n"
     ]
    }
   ],
   "source": [
    "testbanking.info()"
   ]
  },
  {
   "cell_type": "code",
   "execution_count": 7,
   "id": "4fd00369",
   "metadata": {
    "execution": {
     "iopub.execute_input": "2024-01-11T12:14:41.256233Z",
     "iopub.status.busy": "2024-01-11T12:14:41.255781Z",
     "iopub.status.idle": "2024-01-11T12:14:41.373693Z",
     "shell.execute_reply": "2024-01-11T12:14:41.372479Z"
    },
    "papermill": {
     "duration": 0.135936,
     "end_time": "2024-01-11T12:14:41.376199",
     "exception": false,
     "start_time": "2024-01-11T12:14:41.240263",
     "status": "completed"
    },
    "tags": []
   },
   "outputs": [
    {
     "data": {
      "text/html": [
       "<div>\n",
       "<style scoped>\n",
       "    .dataframe tbody tr th:only-of-type {\n",
       "        vertical-align: middle;\n",
       "    }\n",
       "\n",
       "    .dataframe tbody tr th {\n",
       "        vertical-align: top;\n",
       "    }\n",
       "\n",
       "    .dataframe thead th {\n",
       "        text-align: right;\n",
       "    }\n",
       "</style>\n",
       "<table border=\"1\" class=\"dataframe\">\n",
       "  <thead>\n",
       "    <tr style=\"text-align: right;\">\n",
       "      <th></th>\n",
       "      <th>id</th>\n",
       "      <th>CustomerId</th>\n",
       "      <th>CreditScore</th>\n",
       "      <th>Age</th>\n",
       "      <th>Tenure</th>\n",
       "      <th>Balance</th>\n",
       "      <th>NumOfProducts</th>\n",
       "      <th>HasCrCard</th>\n",
       "      <th>IsActiveMember</th>\n",
       "      <th>EstimatedSalary</th>\n",
       "      <th>Exited</th>\n",
       "    </tr>\n",
       "  </thead>\n",
       "  <tbody>\n",
       "    <tr>\n",
       "      <th>count</th>\n",
       "      <td>165034.0000</td>\n",
       "      <td>1.650340e+05</td>\n",
       "      <td>165034.000000</td>\n",
       "      <td>165034.000000</td>\n",
       "      <td>165034.000000</td>\n",
       "      <td>165034.000000</td>\n",
       "      <td>165034.000000</td>\n",
       "      <td>165034.000000</td>\n",
       "      <td>165034.000000</td>\n",
       "      <td>165034.000000</td>\n",
       "      <td>165034.000000</td>\n",
       "    </tr>\n",
       "    <tr>\n",
       "      <th>mean</th>\n",
       "      <td>82516.5000</td>\n",
       "      <td>1.569201e+07</td>\n",
       "      <td>656.454373</td>\n",
       "      <td>38.125888</td>\n",
       "      <td>5.020353</td>\n",
       "      <td>55478.086689</td>\n",
       "      <td>1.554455</td>\n",
       "      <td>0.753954</td>\n",
       "      <td>0.497770</td>\n",
       "      <td>112574.822734</td>\n",
       "      <td>0.211599</td>\n",
       "    </tr>\n",
       "    <tr>\n",
       "      <th>std</th>\n",
       "      <td>47641.3565</td>\n",
       "      <td>7.139782e+04</td>\n",
       "      <td>80.103340</td>\n",
       "      <td>8.867205</td>\n",
       "      <td>2.806159</td>\n",
       "      <td>62817.663278</td>\n",
       "      <td>0.547154</td>\n",
       "      <td>0.430707</td>\n",
       "      <td>0.499997</td>\n",
       "      <td>50292.865585</td>\n",
       "      <td>0.408443</td>\n",
       "    </tr>\n",
       "    <tr>\n",
       "      <th>min</th>\n",
       "      <td>0.0000</td>\n",
       "      <td>1.556570e+07</td>\n",
       "      <td>350.000000</td>\n",
       "      <td>18.000000</td>\n",
       "      <td>0.000000</td>\n",
       "      <td>0.000000</td>\n",
       "      <td>1.000000</td>\n",
       "      <td>0.000000</td>\n",
       "      <td>0.000000</td>\n",
       "      <td>11.580000</td>\n",
       "      <td>0.000000</td>\n",
       "    </tr>\n",
       "    <tr>\n",
       "      <th>25%</th>\n",
       "      <td>41258.2500</td>\n",
       "      <td>1.563314e+07</td>\n",
       "      <td>597.000000</td>\n",
       "      <td>32.000000</td>\n",
       "      <td>3.000000</td>\n",
       "      <td>0.000000</td>\n",
       "      <td>1.000000</td>\n",
       "      <td>1.000000</td>\n",
       "      <td>0.000000</td>\n",
       "      <td>74637.570000</td>\n",
       "      <td>0.000000</td>\n",
       "    </tr>\n",
       "    <tr>\n",
       "      <th>50%</th>\n",
       "      <td>82516.5000</td>\n",
       "      <td>1.569017e+07</td>\n",
       "      <td>659.000000</td>\n",
       "      <td>37.000000</td>\n",
       "      <td>5.000000</td>\n",
       "      <td>0.000000</td>\n",
       "      <td>2.000000</td>\n",
       "      <td>1.000000</td>\n",
       "      <td>0.000000</td>\n",
       "      <td>117948.000000</td>\n",
       "      <td>0.000000</td>\n",
       "    </tr>\n",
       "    <tr>\n",
       "      <th>75%</th>\n",
       "      <td>123774.7500</td>\n",
       "      <td>1.575682e+07</td>\n",
       "      <td>710.000000</td>\n",
       "      <td>42.000000</td>\n",
       "      <td>7.000000</td>\n",
       "      <td>119939.517500</td>\n",
       "      <td>2.000000</td>\n",
       "      <td>1.000000</td>\n",
       "      <td>1.000000</td>\n",
       "      <td>155152.467500</td>\n",
       "      <td>0.000000</td>\n",
       "    </tr>\n",
       "    <tr>\n",
       "      <th>max</th>\n",
       "      <td>165033.0000</td>\n",
       "      <td>1.581569e+07</td>\n",
       "      <td>850.000000</td>\n",
       "      <td>92.000000</td>\n",
       "      <td>10.000000</td>\n",
       "      <td>250898.090000</td>\n",
       "      <td>4.000000</td>\n",
       "      <td>1.000000</td>\n",
       "      <td>1.000000</td>\n",
       "      <td>199992.480000</td>\n",
       "      <td>1.000000</td>\n",
       "    </tr>\n",
       "  </tbody>\n",
       "</table>\n",
       "</div>"
      ],
      "text/plain": [
       "                id    CustomerId    CreditScore            Age         Tenure  \\\n",
       "count  165034.0000  1.650340e+05  165034.000000  165034.000000  165034.000000   \n",
       "mean    82516.5000  1.569201e+07     656.454373      38.125888       5.020353   \n",
       "std     47641.3565  7.139782e+04      80.103340       8.867205       2.806159   \n",
       "min         0.0000  1.556570e+07     350.000000      18.000000       0.000000   \n",
       "25%     41258.2500  1.563314e+07     597.000000      32.000000       3.000000   \n",
       "50%     82516.5000  1.569017e+07     659.000000      37.000000       5.000000   \n",
       "75%    123774.7500  1.575682e+07     710.000000      42.000000       7.000000   \n",
       "max    165033.0000  1.581569e+07     850.000000      92.000000      10.000000   \n",
       "\n",
       "             Balance  NumOfProducts      HasCrCard  IsActiveMember  \\\n",
       "count  165034.000000  165034.000000  165034.000000   165034.000000   \n",
       "mean    55478.086689       1.554455       0.753954        0.497770   \n",
       "std     62817.663278       0.547154       0.430707        0.499997   \n",
       "min         0.000000       1.000000       0.000000        0.000000   \n",
       "25%         0.000000       1.000000       1.000000        0.000000   \n",
       "50%         0.000000       2.000000       1.000000        0.000000   \n",
       "75%    119939.517500       2.000000       1.000000        1.000000   \n",
       "max    250898.090000       4.000000       1.000000        1.000000   \n",
       "\n",
       "       EstimatedSalary         Exited  \n",
       "count    165034.000000  165034.000000  \n",
       "mean     112574.822734       0.211599  \n",
       "std       50292.865585       0.408443  \n",
       "min          11.580000       0.000000  \n",
       "25%       74637.570000       0.000000  \n",
       "50%      117948.000000       0.000000  \n",
       "75%      155152.467500       0.000000  \n",
       "max      199992.480000       1.000000  "
      ]
     },
     "execution_count": 7,
     "metadata": {},
     "output_type": "execute_result"
    }
   ],
   "source": [
    "trainbanking.describe()"
   ]
  },
  {
   "cell_type": "code",
   "execution_count": 8,
   "id": "effe9300",
   "metadata": {
    "execution": {
     "iopub.execute_input": "2024-01-11T12:14:41.406483Z",
     "iopub.status.busy": "2024-01-11T12:14:41.406070Z",
     "iopub.status.idle": "2024-01-11T12:14:41.470625Z",
     "shell.execute_reply": "2024-01-11T12:14:41.469344Z"
    },
    "papermill": {
     "duration": 0.082738,
     "end_time": "2024-01-11T12:14:41.473551",
     "exception": false,
     "start_time": "2024-01-11T12:14:41.390813",
     "status": "completed"
    },
    "tags": []
   },
   "outputs": [
    {
     "data": {
      "text/plain": [
       "id                 0\n",
       "CustomerId         0\n",
       "Surname            0\n",
       "CreditScore        0\n",
       "Geography          0\n",
       "Gender             0\n",
       "Age                0\n",
       "Tenure             0\n",
       "Balance            0\n",
       "NumOfProducts      0\n",
       "HasCrCard          0\n",
       "IsActiveMember     0\n",
       "EstimatedSalary    0\n",
       "Exited             0\n",
       "dtype: int64"
      ]
     },
     "execution_count": 8,
     "metadata": {},
     "output_type": "execute_result"
    }
   ],
   "source": [
    "trainbanking.isnull().sum()"
   ]
  },
  {
   "cell_type": "code",
   "execution_count": 9,
   "id": "76447240",
   "metadata": {
    "execution": {
     "iopub.execute_input": "2024-01-11T12:14:41.503612Z",
     "iopub.status.busy": "2024-01-11T12:14:41.503200Z",
     "iopub.status.idle": "2024-01-11T12:14:41.511424Z",
     "shell.execute_reply": "2024-01-11T12:14:41.510252Z"
    },
    "papermill": {
     "duration": 0.026116,
     "end_time": "2024-01-11T12:14:41.513821",
     "exception": false,
     "start_time": "2024-01-11T12:14:41.487705",
     "status": "completed"
    },
    "tags": []
   },
   "outputs": [
    {
     "data": {
      "text/plain": [
       "Index(['id', 'CustomerId', 'Surname', 'CreditScore', 'Geography', 'Gender',\n",
       "       'Age', 'Tenure', 'Balance', 'NumOfProducts', 'HasCrCard',\n",
       "       'IsActiveMember', 'EstimatedSalary', 'Exited'],\n",
       "      dtype='object')"
      ]
     },
     "execution_count": 9,
     "metadata": {},
     "output_type": "execute_result"
    }
   ],
   "source": [
    "trainbanking.columns"
   ]
  },
  {
   "cell_type": "code",
   "execution_count": 10,
   "id": "e9f1652b",
   "metadata": {
    "execution": {
     "iopub.execute_input": "2024-01-11T12:14:41.545154Z",
     "iopub.status.busy": "2024-01-11T12:14:41.544747Z",
     "iopub.status.idle": "2024-01-11T12:14:43.783231Z",
     "shell.execute_reply": "2024-01-11T12:14:43.782043Z"
    },
    "papermill": {
     "duration": 2.258013,
     "end_time": "2024-01-11T12:14:43.786211",
     "exception": false,
     "start_time": "2024-01-11T12:14:41.528198",
     "status": "completed"
    },
    "tags": []
   },
   "outputs": [
    {
     "data": {
      "image/png": "[encoded data removed]",
      "text/plain": [
       "<Figure size 1000x800 with 12 Axes>"
      ]
     },
     "metadata": {},
     "output_type": "display_data"
    }
   ],
   "source": [
    "trainbanking.hist(figsize=(10,8))\n",
    "plt.show()"
   ]
  },
  {
   "cell_type": "code",
   "execution_count": 11,
   "id": "d567e05e",
   "metadata": {
    "execution": {
     "iopub.execute_input": "2024-01-11T12:14:43.819772Z",
     "iopub.status.busy": "2024-01-11T12:14:43.819025Z",
     "iopub.status.idle": "2024-01-11T12:14:44.104358Z",
     "shell.execute_reply": "2024-01-11T12:14:44.103328Z"
    },
    "papermill": {
     "duration": 0.304966,
     "end_time": "2024-01-11T12:14:44.106933",
     "exception": false,
     "start_time": "2024-01-11T12:14:43.801967",
     "status": "completed"
    },
    "tags": []
   },
   "outputs": [
    {
     "data": {
      "image/png": "[encoded data removed]",
      "text/plain": [
       "<Figure size 640x480 with 1 Axes>"
      ]
     },
     "metadata": {},
     "output_type": "display_data"
    }
   ],
   "source": [
    "trainbanking['Geography'].value_counts().plot(kind ='bar')\n",
    "plt.title('Distribution of Geography')\n",
    "plt.show()"
   ]
  },
  {
   "cell_type": "code",
   "execution_count": 12,
   "id": "5405c2e2",
   "metadata": {
    "execution": {
     "iopub.execute_input": "2024-01-11T12:14:44.141797Z",
     "iopub.status.busy": "2024-01-11T12:14:44.141017Z",
     "iopub.status.idle": "2024-01-11T12:14:44.423305Z",
     "shell.execute_reply": "2024-01-11T12:14:44.422023Z"
    },
    "papermill": {
     "duration": 0.303634,
     "end_time": "2024-01-11T12:14:44.426623",
     "exception": false,
     "start_time": "2024-01-11T12:14:44.122989",
     "status": "completed"
    },
    "tags": []
   },
   "outputs": [
    {
     "data": {
      "image/png": "[encoded data removed]",
      "text/plain": [
       "<Figure size 640x480 with 1 Axes>"
      ]
     },
     "metadata": {},
     "output_type": "display_data"
    }
   ],
   "source": [
    "trainbanking['Gender'].value_counts().plot(kind='bar')\n",
    "plt.title('Distribution of Gender')\n",
    "plt.show()"
   ]
  },
  {
   "cell_type": "code",
   "execution_count": 13,
   "id": "90d62348",
   "metadata": {
    "execution": {
     "iopub.execute_input": "2024-01-11T12:14:44.462187Z",
     "iopub.status.busy": "2024-01-11T12:14:44.461752Z",
     "iopub.status.idle": "2024-01-11T12:14:44.525738Z",
     "shell.execute_reply": "2024-01-11T12:14:44.524346Z"
    },
    "papermill": {
     "duration": 0.084241,
     "end_time": "2024-01-11T12:14:44.528333",
     "exception": false,
     "start_time": "2024-01-11T12:14:44.444092",
     "status": "completed"
    },
    "tags": []
   },
   "outputs": [
    {
     "name": "stdout",
     "output_type": "stream",
     "text": [
      "Geography counts Geography\n",
      "France     94215\n",
      "Spain      36213\n",
      "Germany    34606\n",
      "Name: count, dtype: int64\n",
      "Gender counts Gender\n",
      "Male      93150\n",
      "Female    71884\n",
      "Name: count, dtype: int64\n"
     ]
    }
   ],
   "source": [
    "trainbankinggcounts = trainbanking['Geography'].value_counts()\n",
    "print('Geography counts',trainbankinggcounts)\n",
    "trainbankinggencounts = trainbanking['Gender'].value_counts()\n",
    "print('Gender counts',trainbankinggencounts)"
   ]
  },
  {
   "cell_type": "code",
   "execution_count": 14,
   "id": "a2deec54",
   "metadata": {
    "execution": {
     "iopub.execute_input": "2024-01-11T12:14:44.564939Z",
     "iopub.status.busy": "2024-01-11T12:14:44.563495Z",
     "iopub.status.idle": "2024-01-11T12:14:44.580605Z",
     "shell.execute_reply": "2024-01-11T12:14:44.579191Z"
    },
    "papermill": {
     "duration": 0.038583,
     "end_time": "2024-01-11T12:14:44.583771",
     "exception": false,
     "start_time": "2024-01-11T12:14:44.545188",
     "status": "completed"
    },
    "tags": []
   },
   "outputs": [
    {
     "name": "stdout",
     "output_type": "stream",
     "text": [
      "\n",
      "Average age by exited\n",
      " Exited\n",
      "0    36.560480\n",
      "1    43.958478\n",
      "Name: Age, dtype: float64\n"
     ]
    }
   ],
   "source": [
    "averageagebyexited = trainbanking.groupby('Exited')['Age'].mean()\n",
    "print(\"\\nAverage age by exited\\n\",averageagebyexited)"
   ]
  },
  {
   "cell_type": "markdown",
   "id": "2af5edd0",
   "metadata": {
    "papermill": {
     "duration": 0.015986,
     "end_time": "2024-01-11T12:14:44.616066",
     "exception": false,
     "start_time": "2024-01-11T12:14:44.600080",
     "status": "completed"
    },
    "tags": []
   },
   "source": [
    "### Cross Tabulation between is active member and exited"
   ]
  },
  {
   "cell_type": "code",
   "execution_count": 15,
   "id": "3fc0c38c",
   "metadata": {
    "execution": {
     "iopub.execute_input": "2024-01-11T12:14:44.651345Z",
     "iopub.status.busy": "2024-01-11T12:14:44.650103Z",
     "iopub.status.idle": "2024-01-11T12:14:44.695262Z",
     "shell.execute_reply": "2024-01-11T12:14:44.694147Z"
    },
    "papermill": {
     "duration": 0.06535,
     "end_time": "2024-01-11T12:14:44.697755",
     "exception": false,
     "start_time": "2024-01-11T12:14:44.632405",
     "status": "completed"
    },
    "tags": []
   },
   "outputs": [
    {
     "name": "stdout",
     "output_type": "stream",
     "text": [
      "\n",
      " Cross tabulation between active member and exited \n",
      " Exited                  0          1\n",
      "IsActiveMember                      \n",
      "0.0             70.291368  29.708632\n",
      "1.0             87.465459  12.534541\n"
     ]
    }
   ],
   "source": [
    "activemember_exit_cross = pd.crosstab(trainbanking['IsActiveMember'],trainbanking['Exited'],normalize='index')*100\n",
    "print(\"\\n Cross tabulation between active member and exited \\n\",activemember_exit_cross)"
   ]
  },
  {
   "cell_type": "markdown",
   "id": "788a8d70",
   "metadata": {
    "papermill": {
     "duration": 0.0168,
     "end_time": "2024-01-11T12:14:44.731341",
     "exception": false,
     "start_time": "2024-01-11T12:14:44.714541",
     "status": "completed"
    },
    "tags": []
   },
   "source": [
    "### Cross Tabulation between has card and exited "
   ]
  },
  {
   "cell_type": "code",
   "execution_count": 16,
   "id": "410c2d5c",
   "metadata": {
    "execution": {
     "iopub.execute_input": "2024-01-11T12:14:44.766546Z",
     "iopub.status.busy": "2024-01-11T12:14:44.766133Z",
     "iopub.status.idle": "2024-01-11T12:14:44.799947Z",
     "shell.execute_reply": "2024-01-11T12:14:44.798281Z"
    },
    "papermill": {
     "duration": 0.054309,
     "end_time": "2024-01-11T12:14:44.802543",
     "exception": false,
     "start_time": "2024-01-11T12:14:44.748234",
     "status": "completed"
    },
    "tags": []
   },
   "outputs": [
    {
     "name": "stdout",
     "output_type": "stream",
     "text": [
      "\n",
      " Cross tabulation between has credit card and exited \n",
      " Exited             0          1\n",
      "HasCrCard                      \n",
      "0.0        77.257056  22.742944\n",
      "1.0        79.356736  20.643264\n"
     ]
    }
   ],
   "source": [
    "hascard_exit_cross = pd.crosstab(trainbanking['HasCrCard'],trainbanking['Exited'],normalize='index')*100\n",
    "print(\"\\n Cross tabulation between has credit card and exited \\n\",hascard_exit_cross)\n"
   ]
  },
  {
   "cell_type": "code",
   "execution_count": 17,
   "id": "2fd48f01",
   "metadata": {
    "execution": {
     "iopub.execute_input": "2024-01-11T12:14:44.837784Z",
     "iopub.status.busy": "2024-01-11T12:14:44.836997Z",
     "iopub.status.idle": "2024-01-11T12:14:44.966322Z",
     "shell.execute_reply": "2024-01-11T12:14:44.965479Z"
    },
    "papermill": {
     "duration": 0.14954,
     "end_time": "2024-01-11T12:14:44.968629",
     "exception": false,
     "start_time": "2024-01-11T12:14:44.819089",
     "status": "completed"
    },
    "tags": []
   },
   "outputs": [
    {
     "data": {
      "text/html": [
       "<div>\n",
       "<style scoped>\n",
       "    .dataframe tbody tr th:only-of-type {\n",
       "        vertical-align: middle;\n",
       "    }\n",
       "\n",
       "    .dataframe tbody tr th {\n",
       "        vertical-align: top;\n",
       "    }\n",
       "\n",
       "    .dataframe thead th {\n",
       "        text-align: right;\n",
       "    }\n",
       "</style>\n",
       "<table border=\"1\" class=\"dataframe\">\n",
       "  <thead>\n",
       "    <tr style=\"text-align: right;\">\n",
       "      <th></th>\n",
       "      <th>id</th>\n",
       "      <th>CustomerId</th>\n",
       "      <th>CreditScore</th>\n",
       "      <th>Geography</th>\n",
       "      <th>Gender</th>\n",
       "      <th>Age</th>\n",
       "      <th>Tenure</th>\n",
       "      <th>Balance</th>\n",
       "      <th>NumOfProducts</th>\n",
       "      <th>HasCrCard</th>\n",
       "      <th>IsActiveMember</th>\n",
       "      <th>EstimatedSalary</th>\n",
       "      <th>Exited</th>\n",
       "    </tr>\n",
       "  </thead>\n",
       "  <tbody>\n",
       "    <tr>\n",
       "      <th>0</th>\n",
       "      <td>0</td>\n",
       "      <td>15674932</td>\n",
       "      <td>668</td>\n",
       "      <td>0</td>\n",
       "      <td>1</td>\n",
       "      <td>33.0</td>\n",
       "      <td>3</td>\n",
       "      <td>0.00</td>\n",
       "      <td>2</td>\n",
       "      <td>1.0</td>\n",
       "      <td>0.0</td>\n",
       "      <td>181449.97</td>\n",
       "      <td>0</td>\n",
       "    </tr>\n",
       "    <tr>\n",
       "      <th>1</th>\n",
       "      <td>1</td>\n",
       "      <td>15749177</td>\n",
       "      <td>627</td>\n",
       "      <td>0</td>\n",
       "      <td>1</td>\n",
       "      <td>33.0</td>\n",
       "      <td>1</td>\n",
       "      <td>0.00</td>\n",
       "      <td>2</td>\n",
       "      <td>1.0</td>\n",
       "      <td>1.0</td>\n",
       "      <td>49503.50</td>\n",
       "      <td>0</td>\n",
       "    </tr>\n",
       "    <tr>\n",
       "      <th>2</th>\n",
       "      <td>2</td>\n",
       "      <td>15694510</td>\n",
       "      <td>678</td>\n",
       "      <td>0</td>\n",
       "      <td>1</td>\n",
       "      <td>40.0</td>\n",
       "      <td>10</td>\n",
       "      <td>0.00</td>\n",
       "      <td>2</td>\n",
       "      <td>1.0</td>\n",
       "      <td>0.0</td>\n",
       "      <td>184866.69</td>\n",
       "      <td>0</td>\n",
       "    </tr>\n",
       "    <tr>\n",
       "      <th>3</th>\n",
       "      <td>3</td>\n",
       "      <td>15741417</td>\n",
       "      <td>581</td>\n",
       "      <td>0</td>\n",
       "      <td>1</td>\n",
       "      <td>34.0</td>\n",
       "      <td>2</td>\n",
       "      <td>148882.54</td>\n",
       "      <td>1</td>\n",
       "      <td>1.0</td>\n",
       "      <td>1.0</td>\n",
       "      <td>84560.88</td>\n",
       "      <td>0</td>\n",
       "    </tr>\n",
       "    <tr>\n",
       "      <th>4</th>\n",
       "      <td>4</td>\n",
       "      <td>15766172</td>\n",
       "      <td>716</td>\n",
       "      <td>2</td>\n",
       "      <td>1</td>\n",
       "      <td>33.0</td>\n",
       "      <td>5</td>\n",
       "      <td>0.00</td>\n",
       "      <td>2</td>\n",
       "      <td>1.0</td>\n",
       "      <td>1.0</td>\n",
       "      <td>15068.83</td>\n",
       "      <td>0</td>\n",
       "    </tr>\n",
       "  </tbody>\n",
       "</table>\n",
       "</div>"
      ],
      "text/plain": [
       "   id  CustomerId  CreditScore  Geography  Gender   Age  Tenure    Balance  \\\n",
       "0   0    15674932          668          0       1  33.0       3       0.00   \n",
       "1   1    15749177          627          0       1  33.0       1       0.00   \n",
       "2   2    15694510          678          0       1  40.0      10       0.00   \n",
       "3   3    15741417          581          0       1  34.0       2  148882.54   \n",
       "4   4    15766172          716          2       1  33.0       5       0.00   \n",
       "\n",
       "   NumOfProducts  HasCrCard  IsActiveMember  EstimatedSalary  Exited  \n",
       "0              2        1.0             0.0        181449.97       0  \n",
       "1              2        1.0             1.0         49503.50       0  \n",
       "2              2        1.0             0.0        184866.69       0  \n",
       "3              1        1.0             1.0         84560.88       0  \n",
       "4              2        1.0             1.0         15068.83       0  "
      ]
     },
     "execution_count": 17,
     "metadata": {},
     "output_type": "execute_result"
    }
   ],
   "source": [
    "# Createing a label encoder\n",
    "label_encoder = LabelEncoder()\n",
    "trainbanking['Geography'] =  label_encoder.fit_transform(trainbanking['Geography'])\n",
    "trainbanking['Gender'] = label_encoder.fit_transform(trainbanking['Gender'])\n",
    "trainbanking = trainbanking.drop('Surname',axis=1)\n",
    "trainbanking.head()"
   ]
  },
  {
   "cell_type": "markdown",
   "id": "f5cb556a",
   "metadata": {
    "papermill": {
     "duration": 0.016435,
     "end_time": "2024-01-11T12:14:45.002679",
     "exception": false,
     "start_time": "2024-01-11T12:14:44.986244",
     "status": "completed"
    },
    "tags": []
   },
   "source": [
    "# Label Encoding "
   ]
  },
  {
   "cell_type": "code",
   "execution_count": 18,
   "id": "96c00a9d",
   "metadata": {
    "execution": {
     "iopub.execute_input": "2024-01-11T12:14:45.105548Z",
     "iopub.status.busy": "2024-01-11T12:14:45.104785Z",
     "iopub.status.idle": "2024-01-11T12:14:45.195833Z",
     "shell.execute_reply": "2024-01-11T12:14:45.194649Z"
    },
    "papermill": {
     "duration": 0.112449,
     "end_time": "2024-01-11T12:14:45.198693",
     "exception": false,
     "start_time": "2024-01-11T12:14:45.086244",
     "status": "completed"
    },
    "tags": []
   },
   "outputs": [
    {
     "data": {
      "text/html": [
       "<div>\n",
       "<style scoped>\n",
       "    .dataframe tbody tr th:only-of-type {\n",
       "        vertical-align: middle;\n",
       "    }\n",
       "\n",
       "    .dataframe tbody tr th {\n",
       "        vertical-align: top;\n",
       "    }\n",
       "\n",
       "    .dataframe thead th {\n",
       "        text-align: right;\n",
       "    }\n",
       "</style>\n",
       "<table border=\"1\" class=\"dataframe\">\n",
       "  <thead>\n",
       "    <tr style=\"text-align: right;\">\n",
       "      <th></th>\n",
       "      <th>id</th>\n",
       "      <th>CustomerId</th>\n",
       "      <th>CreditScore</th>\n",
       "      <th>Geography</th>\n",
       "      <th>Gender</th>\n",
       "      <th>Age</th>\n",
       "      <th>Tenure</th>\n",
       "      <th>Balance</th>\n",
       "      <th>NumOfProducts</th>\n",
       "      <th>HasCrCard</th>\n",
       "      <th>IsActiveMember</th>\n",
       "      <th>EstimatedSalary</th>\n",
       "    </tr>\n",
       "  </thead>\n",
       "  <tbody>\n",
       "    <tr>\n",
       "      <th>0</th>\n",
       "      <td>165034</td>\n",
       "      <td>15773898</td>\n",
       "      <td>586</td>\n",
       "      <td>0</td>\n",
       "      <td>0</td>\n",
       "      <td>23.0</td>\n",
       "      <td>2</td>\n",
       "      <td>0.00</td>\n",
       "      <td>2</td>\n",
       "      <td>0.0</td>\n",
       "      <td>1.0</td>\n",
       "      <td>160976.75</td>\n",
       "    </tr>\n",
       "    <tr>\n",
       "      <th>1</th>\n",
       "      <td>165035</td>\n",
       "      <td>15782418</td>\n",
       "      <td>683</td>\n",
       "      <td>0</td>\n",
       "      <td>0</td>\n",
       "      <td>46.0</td>\n",
       "      <td>2</td>\n",
       "      <td>0.00</td>\n",
       "      <td>1</td>\n",
       "      <td>1.0</td>\n",
       "      <td>0.0</td>\n",
       "      <td>72549.27</td>\n",
       "    </tr>\n",
       "    <tr>\n",
       "      <th>2</th>\n",
       "      <td>165036</td>\n",
       "      <td>15807120</td>\n",
       "      <td>656</td>\n",
       "      <td>0</td>\n",
       "      <td>0</td>\n",
       "      <td>34.0</td>\n",
       "      <td>7</td>\n",
       "      <td>0.00</td>\n",
       "      <td>2</td>\n",
       "      <td>1.0</td>\n",
       "      <td>0.0</td>\n",
       "      <td>138882.09</td>\n",
       "    </tr>\n",
       "    <tr>\n",
       "      <th>3</th>\n",
       "      <td>165037</td>\n",
       "      <td>15808905</td>\n",
       "      <td>681</td>\n",
       "      <td>0</td>\n",
       "      <td>1</td>\n",
       "      <td>36.0</td>\n",
       "      <td>8</td>\n",
       "      <td>0.00</td>\n",
       "      <td>1</td>\n",
       "      <td>1.0</td>\n",
       "      <td>0.0</td>\n",
       "      <td>113931.57</td>\n",
       "    </tr>\n",
       "    <tr>\n",
       "      <th>4</th>\n",
       "      <td>165038</td>\n",
       "      <td>15607314</td>\n",
       "      <td>752</td>\n",
       "      <td>1</td>\n",
       "      <td>1</td>\n",
       "      <td>38.0</td>\n",
       "      <td>10</td>\n",
       "      <td>121263.62</td>\n",
       "      <td>1</td>\n",
       "      <td>1.0</td>\n",
       "      <td>0.0</td>\n",
       "      <td>139431.00</td>\n",
       "    </tr>\n",
       "  </tbody>\n",
       "</table>\n",
       "</div>"
      ],
      "text/plain": [
       "       id  CustomerId  CreditScore  Geography  Gender   Age  Tenure  \\\n",
       "0  165034    15773898          586          0       0  23.0       2   \n",
       "1  165035    15782418          683          0       0  46.0       2   \n",
       "2  165036    15807120          656          0       0  34.0       7   \n",
       "3  165037    15808905          681          0       1  36.0       8   \n",
       "4  165038    15607314          752          1       1  38.0      10   \n",
       "\n",
       "     Balance  NumOfProducts  HasCrCard  IsActiveMember  EstimatedSalary  \n",
       "0       0.00              2        0.0             1.0        160976.75  \n",
       "1       0.00              1        1.0             0.0         72549.27  \n",
       "2       0.00              2        1.0             0.0        138882.09  \n",
       "3       0.00              1        1.0             0.0        113931.57  \n",
       "4  121263.62              1        1.0             0.0        139431.00  "
      ]
     },
     "execution_count": 18,
     "metadata": {},
     "output_type": "execute_result"
    }
   ],
   "source": [
    "# Createing a label encoder\n",
    "label_encoder = LabelEncoder()\n",
    "testbanking['Geography'] =  label_encoder.fit_transform(testbanking['Geography'])\n",
    "testbanking['Gender'] = label_encoder.fit_transform(testbanking['Gender'])\n",
    "testbanking = testbanking.drop('Surname',axis=1)\n",
    "testbanking.head()"
   ]
  },
  {
   "cell_type": "markdown",
   "id": "1cdacae3",
   "metadata": {
    "papermill": {
     "duration": 0.019148,
     "end_time": "2024-01-11T12:14:45.235368",
     "exception": false,
     "start_time": "2024-01-11T12:14:45.216220",
     "status": "completed"
    },
    "tags": []
   },
   "source": [
    "# Getting the data ready for Random Forest Classifier "
   ]
  },
  {
   "cell_type": "code",
   "execution_count": 19,
   "id": "fc1a310b",
   "metadata": {
    "execution": {
     "iopub.execute_input": "2024-01-11T12:14:45.274518Z",
     "iopub.status.busy": "2024-01-11T12:14:45.273776Z",
     "iopub.status.idle": "2024-01-11T12:14:45.290223Z",
     "shell.execute_reply": "2024-01-11T12:14:45.289177Z"
    },
    "papermill": {
     "duration": 0.038856,
     "end_time": "2024-01-11T12:14:45.292816",
     "exception": false,
     "start_time": "2024-01-11T12:14:45.253960",
     "status": "completed"
    },
    "tags": []
   },
   "outputs": [],
   "source": [
    "X = trainbanking.drop(\"Exited\", axis=1)  # Features\n",
    "y = trainbanking[\"Exited\"]"
   ]
  },
  {
   "cell_type": "code",
   "execution_count": 20,
   "id": "b413e7c5",
   "metadata": {
    "execution": {
     "iopub.execute_input": "2024-01-11T12:14:45.330307Z",
     "iopub.status.busy": "2024-01-11T12:14:45.329480Z",
     "iopub.status.idle": "2024-01-11T12:14:45.381518Z",
     "shell.execute_reply": "2024-01-11T12:14:45.379988Z"
    },
    "papermill": {
     "duration": 0.074124,
     "end_time": "2024-01-11T12:14:45.384495",
     "exception": false,
     "start_time": "2024-01-11T12:14:45.310371",
     "status": "completed"
    },
    "tags": []
   },
   "outputs": [],
   "source": [
    "X_train, X_test, y_train, y_test = train_test_split(X, y, test_size=0.2, random_state=42)"
   ]
  },
  {
   "cell_type": "markdown",
   "id": "8456e695",
   "metadata": {
    "papermill": {
     "duration": 0.018476,
     "end_time": "2024-01-11T12:14:45.420670",
     "exception": false,
     "start_time": "2024-01-11T12:14:45.402194",
     "status": "completed"
    },
    "tags": []
   },
   "source": [
    "# Applying Random Forest"
   ]
  },
  {
   "cell_type": "code",
   "execution_count": 21,
   "id": "401a7593",
   "metadata": {
    "execution": {
     "iopub.execute_input": "2024-01-11T12:14:45.460428Z",
     "iopub.status.busy": "2024-01-11T12:14:45.459424Z",
     "iopub.status.idle": "2024-01-11T12:14:45.465178Z",
     "shell.execute_reply": "2024-01-11T12:14:45.463952Z"
    },
    "papermill": {
     "duration": 0.029174,
     "end_time": "2024-01-11T12:14:45.468679",
     "exception": false,
     "start_time": "2024-01-11T12:14:45.439505",
     "status": "completed"
    },
    "tags": []
   },
   "outputs": [],
   "source": [
    "rf = RandomForestClassifier(n_estimators=100, random_state=42)"
   ]
  },
  {
   "cell_type": "code",
   "execution_count": 22,
   "id": "9127b17d",
   "metadata": {
    "execution": {
     "iopub.execute_input": "2024-01-11T12:14:45.507817Z",
     "iopub.status.busy": "2024-01-11T12:14:45.507356Z",
     "iopub.status.idle": "2024-01-11T12:15:25.545553Z",
     "shell.execute_reply": "2024-01-11T12:15:25.544027Z"
    },
    "papermill": {
     "duration": 40.078236,
     "end_time": "2024-01-11T12:15:25.565444",
     "exception": false,
     "start_time": "2024-01-11T12:14:45.487208",
     "status": "completed"
    },
    "tags": []
   },
   "outputs": [
    {
     "data": {
      "text/html": [
       "<style>#sk-container-id-1 {color: black;background-color: white;}#sk-container-id-1 pre{padding: 0;}#sk-container-id-1 div.sk-toggleable {background-color: white;}#sk-container-id-1 label.sk-toggleable__label {cursor: pointer;display: block;width: 100%;margin-bottom: 0;padding: 0.3em;box-sizing: border-box;text-align: center;}#sk-container-id-1 label.sk-toggleable__label-arrow:before {content: \"▸\";float: left;margin-right: 0.25em;color: #696969;}#sk-container-id-1 label.sk-toggleable__label-arrow:hover:before {color: black;}#sk-container-id-1 div.sk-estimator:hover label.sk-toggleable__label-arrow:before {color: black;}#sk-container-id-1 div.sk-toggleable__content {max-height: 0;max-width: 0;overflow: hidden;text-align: left;background-color: #f0f8ff;}#sk-container-id-1 div.sk-toggleable__content pre {margin: 0.2em;color: black;border-radius: 0.25em;background-color: #f0f8ff;}#sk-container-id-1 input.sk-toggleable__control:checked~div.sk-toggleable__content {max-height: 200px;max-width: 100%;overflow: auto;}#sk-container-id-1 input.sk-toggleable__control:checked~label.sk-toggleable__label-arrow:before {content: \"▾\";}#sk-container-id-1 div.sk-estimator input.sk-toggleable__control:checked~label.sk-toggleable__label {background-color: #d4ebff;}#sk-container-id-1 div.sk-label input.sk-toggleable__control:checked~label.sk-toggleable__label {background-color: #d4ebff;}#sk-container-id-1 input.sk-hidden--visually {border: 0;clip: rect(1px 1px 1px 1px);clip: rect(1px, 1px, 1px, 1px);height: 1px;margin: -1px;overflow: hidden;padding: 0;position: absolute;width: 1px;}#sk-container-id-1 div.sk-estimator {font-family: monospace;background-color: #f0f8ff;border: 1px dotted black;border-radius: 0.25em;box-sizing: border-box;margin-bottom: 0.5em;}#sk-container-id-1 div.sk-estimator:hover {background-color: #d4ebff;}#sk-container-id-1 div.sk-parallel-item::after {content: \"\";width: 100%;border-bottom: 1px solid gray;flex-grow: 1;}#sk-container-id-1 div.sk-label:hover label.sk-toggleable__label {background-color: #d4ebff;}#sk-container-id-1 div.sk-serial::before {content: \"\";position: absolute;border-left: 1px solid gray;box-sizing: border-box;top: 0;bottom: 0;left: 50%;z-index: 0;}#sk-container-id-1 div.sk-serial {display: flex;flex-direction: column;align-items: center;background-color: white;padding-right: 0.2em;padding-left: 0.2em;position: relative;}#sk-container-id-1 div.sk-item {position: relative;z-index: 1;}#sk-container-id-1 div.sk-parallel {display: flex;align-items: stretch;justify-content: center;background-color: white;position: relative;}#sk-container-id-1 div.sk-item::before, #sk-container-id-1 div.sk-parallel-item::before {content: \"\";position: absolute;border-left: 1px solid gray;box-sizing: border-box;top: 0;bottom: 0;left: 50%;z-index: -1;}#sk-container-id-1 div.sk-parallel-item {display: flex;flex-direction: column;z-index: 1;position: relative;background-color: white;}#sk-container-id-1 div.sk-parallel-item:first-child::after {align-self: flex-end;width: 50%;}#sk-container-id-1 div.sk-parallel-item:last-child::after {align-self: flex-start;width: 50%;}#sk-container-id-1 div.sk-parallel-item:only-child::after {width: 0;}#sk-container-id-1 div.sk-dashed-wrapped {border: 1px dashed gray;margin: 0 0.4em 0.5em 0.4em;box-sizing: border-box;padding-bottom: 0.4em;background-color: white;}#sk-container-id-1 div.sk-label label {font-family: monospace;font-weight: bold;display: inline-block;line-height: 1.2em;}#sk-container-id-1 div.sk-label-container {text-align: center;}#sk-container-id-1 div.sk-container {/* jupyter's `normalize.less` sets `[hidden] { display: none; }` but bootstrap.min.css set `[hidden] { display: none !important; }` so we also need the `!important` here to be able to override the default hidden behavior on the sphinx rendered scikit-learn.org. See: https://github.com/scikit-learn/scikit-learn/issues/21755 */display: inline-block !important;position: relative;}#sk-container-id-1 div.sk-text-repr-fallback {display: none;}</style><div id=\"sk-container-id-1\" class=\"sk-top-container\"><div class=\"sk-text-repr-fallback\"><pre>RandomForestClassifier(random_state=42)</pre><b>In a Jupyter environment, please rerun this cell to show the HTML representation or trust the notebook. <br />On GitHub, the HTML representation is unable to render, please try loading this page with nbviewer.org.</b></div><div class=\"sk-container\" hidden><div class=\"sk-item\"><div class=\"sk-estimator sk-toggleable\"><input class=\"sk-toggleable__control sk-hidden--visually\" id=\"sk-estimator-id-1\" type=\"checkbox\" checked><label for=\"sk-estimator-id-1\" class=\"sk-toggleable__label sk-toggleable__label-arrow\">RandomForestClassifier</label><div class=\"sk-toggleable__content\"><pre>RandomForestClassifier(random_state=42)</pre></div></div></div></div></div>"
      ],
      "text/plain": [
       "RandomForestClassifier(random_state=42)"
      ]
     },
     "execution_count": 22,
     "metadata": {},
     "output_type": "execute_result"
    }
   ],
   "source": [
    "rf.fit(X_train, y_train)"
   ]
  },
  {
   "cell_type": "code",
   "execution_count": 23,
   "id": "61055113",
   "metadata": {
    "execution": {
     "iopub.execute_input": "2024-01-11T12:15:25.604454Z",
     "iopub.status.busy": "2024-01-11T12:15:25.603379Z",
     "iopub.status.idle": "2024-01-11T12:15:26.710980Z",
     "shell.execute_reply": "2024-01-11T12:15:26.709641Z"
    },
    "papermill": {
     "duration": 1.130188,
     "end_time": "2024-01-11T12:15:26.714022",
     "exception": false,
     "start_time": "2024-01-11T12:15:25.583834",
     "status": "completed"
    },
    "tags": []
   },
   "outputs": [],
   "source": [
    "y_pred = rf.predict(X_test)"
   ]
  },
  {
   "cell_type": "code",
   "execution_count": 24,
   "id": "71e14450",
   "metadata": {
    "execution": {
     "iopub.execute_input": "2024-01-11T12:15:26.752849Z",
     "iopub.status.busy": "2024-01-11T12:15:26.752394Z",
     "iopub.status.idle": "2024-01-11T12:15:26.769424Z",
     "shell.execute_reply": "2024-01-11T12:15:26.768028Z"
    },
    "papermill": {
     "duration": 0.040441,
     "end_time": "2024-01-11T12:15:26.772373",
     "exception": false,
     "start_time": "2024-01-11T12:15:26.731932",
     "status": "completed"
    },
    "tags": []
   },
   "outputs": [
    {
     "name": "stdout",
     "output_type": "stream",
     "text": [
      "Accuracy: 0.8605144363316872\n",
      "Confusion Matrix:\n",
      " [[24717  1335]\n",
      " [ 3269  3686]]\n"
     ]
    }
   ],
   "source": [
    "accuracy = accuracy_score(y_test, y_pred)\n",
    "print(\"Accuracy:\", accuracy)\n",
    "\n",
    "cm = confusion_matrix(y_test, y_pred)\n",
    "print(\"Confusion Matrix:\\n\", cm)"
   ]
  },
  {
   "cell_type": "code",
   "execution_count": 25,
   "id": "2aebb973",
   "metadata": {
    "execution": {
     "iopub.execute_input": "2024-01-11T12:15:26.812148Z",
     "iopub.status.busy": "2024-01-11T12:15:26.811714Z",
     "iopub.status.idle": "2024-01-11T12:15:29.703326Z",
     "shell.execute_reply": "2024-01-11T12:15:29.702006Z"
    },
    "papermill": {
     "duration": 2.914674,
     "end_time": "2024-01-11T12:15:29.706212",
     "exception": false,
     "start_time": "2024-01-11T12:15:26.791538",
     "status": "completed"
    },
    "tags": []
   },
   "outputs": [],
   "source": [
    "y_pred = rf.predict(testbanking)"
   ]
  },
  {
   "cell_type": "code",
   "execution_count": 26,
   "id": "7074ffeb",
   "metadata": {
    "execution": {
     "iopub.execute_input": "2024-01-11T12:15:29.745027Z",
     "iopub.status.busy": "2024-01-11T12:15:29.744317Z",
     "iopub.status.idle": "2024-01-11T12:15:29.750829Z",
     "shell.execute_reply": "2024-01-11T12:15:29.749609Z"
    },
    "papermill": {
     "duration": 0.028581,
     "end_time": "2024-01-11T12:15:29.753271",
     "exception": false,
     "start_time": "2024-01-11T12:15:29.724690",
     "status": "completed"
    },
    "tags": []
   },
   "outputs": [],
   "source": [
    "predictions = pd.DataFrame({\n",
    "    \"id\": testbanking[\"id\"],  # Assuming \"id\" is a column in your test data\n",
    "    \"Exited\": y_pred\n",
    "})"
   ]
  },
  {
   "cell_type": "code",
   "execution_count": 27,
   "id": "dcc61b39",
   "metadata": {
    "execution": {
     "iopub.execute_input": "2024-01-11T12:15:29.792126Z",
     "iopub.status.busy": "2024-01-11T12:15:29.790884Z",
     "iopub.status.idle": "2024-01-11T12:15:29.801693Z",
     "shell.execute_reply": "2024-01-11T12:15:29.800534Z"
    },
    "papermill": {
     "duration": 0.032885,
     "end_time": "2024-01-11T12:15:29.804190",
     "exception": false,
     "start_time": "2024-01-11T12:15:29.771305",
     "status": "completed"
    },
    "tags": []
   },
   "outputs": [
    {
     "data": {
      "text/html": [
       "<div>\n",
       "<style scoped>\n",
       "    .dataframe tbody tr th:only-of-type {\n",
       "        vertical-align: middle;\n",
       "    }\n",
       "\n",
       "    .dataframe tbody tr th {\n",
       "        vertical-align: top;\n",
       "    }\n",
       "\n",
       "    .dataframe thead th {\n",
       "        text-align: right;\n",
       "    }\n",
       "</style>\n",
       "<table border=\"1\" class=\"dataframe\">\n",
       "  <thead>\n",
       "    <tr style=\"text-align: right;\">\n",
       "      <th></th>\n",
       "      <th>id</th>\n",
       "      <th>Exited</th>\n",
       "    </tr>\n",
       "  </thead>\n",
       "  <tbody>\n",
       "    <tr>\n",
       "      <th>0</th>\n",
       "      <td>165034</td>\n",
       "      <td>0</td>\n",
       "    </tr>\n",
       "    <tr>\n",
       "      <th>1</th>\n",
       "      <td>165035</td>\n",
       "      <td>1</td>\n",
       "    </tr>\n",
       "    <tr>\n",
       "      <th>2</th>\n",
       "      <td>165036</td>\n",
       "      <td>0</td>\n",
       "    </tr>\n",
       "    <tr>\n",
       "      <th>3</th>\n",
       "      <td>165037</td>\n",
       "      <td>0</td>\n",
       "    </tr>\n",
       "    <tr>\n",
       "      <th>4</th>\n",
       "      <td>165038</td>\n",
       "      <td>0</td>\n",
       "    </tr>\n",
       "  </tbody>\n",
       "</table>\n",
       "</div>"
      ],
      "text/plain": [
       "       id  Exited\n",
       "0  165034       0\n",
       "1  165035       1\n",
       "2  165036       0\n",
       "3  165037       0\n",
       "4  165038       0"
      ]
     },
     "execution_count": 27,
     "metadata": {},
     "output_type": "execute_result"
    }
   ],
   "source": [
    "predictions.head()"
   ]
  },
  {
   "cell_type": "code",
   "execution_count": 28,
   "id": "1ffa57e2",
   "metadata": {
    "execution": {
     "iopub.execute_input": "2024-01-11T12:15:29.843519Z",
     "iopub.status.busy": "2024-01-11T12:15:29.842799Z",
     "iopub.status.idle": "2024-01-11T12:15:29.848700Z",
     "shell.execute_reply": "2024-01-11T12:15:29.847751Z"
    },
    "papermill": {
     "duration": 0.028119,
     "end_time": "2024-01-11T12:15:29.851213",
     "exception": false,
     "start_time": "2024-01-11T12:15:29.823094",
     "status": "completed"
    },
    "tags": []
   },
   "outputs": [],
   "source": [
    "\n",
    "# Round predictions to 2 decimal places and convert to integers for clarity:\n",
    "predictions[\"Exited\"] = predictions[\"Exited\"].round(2).astype(int)"
   ]
  },
  {
   "cell_type": "code",
   "execution_count": 29,
   "id": "7657bb68",
   "metadata": {
    "execution": {
     "iopub.execute_input": "2024-01-11T12:15:29.889777Z",
     "iopub.status.busy": "2024-01-11T12:15:29.889304Z",
     "iopub.status.idle": "2024-01-11T12:15:29.898930Z",
     "shell.execute_reply": "2024-01-11T12:15:29.898064Z"
    },
    "papermill": {
     "duration": 0.031618,
     "end_time": "2024-01-11T12:15:29.901115",
     "exception": false,
     "start_time": "2024-01-11T12:15:29.869497",
     "status": "completed"
    },
    "tags": []
   },
   "outputs": [
    {
     "data": {
      "text/html": [
       "<div>\n",
       "<style scoped>\n",
       "    .dataframe tbody tr th:only-of-type {\n",
       "        vertical-align: middle;\n",
       "    }\n",
       "\n",
       "    .dataframe tbody tr th {\n",
       "        vertical-align: top;\n",
       "    }\n",
       "\n",
       "    .dataframe thead th {\n",
       "        text-align: right;\n",
       "    }\n",
       "</style>\n",
       "<table border=\"1\" class=\"dataframe\">\n",
       "  <thead>\n",
       "    <tr style=\"text-align: right;\">\n",
       "      <th></th>\n",
       "      <th>id</th>\n",
       "      <th>Exited</th>\n",
       "    </tr>\n",
       "  </thead>\n",
       "  <tbody>\n",
       "    <tr>\n",
       "      <th>0</th>\n",
       "      <td>165034</td>\n",
       "      <td>0</td>\n",
       "    </tr>\n",
       "    <tr>\n",
       "      <th>1</th>\n",
       "      <td>165035</td>\n",
       "      <td>1</td>\n",
       "    </tr>\n",
       "    <tr>\n",
       "      <th>2</th>\n",
       "      <td>165036</td>\n",
       "      <td>0</td>\n",
       "    </tr>\n",
       "    <tr>\n",
       "      <th>3</th>\n",
       "      <td>165037</td>\n",
       "      <td>0</td>\n",
       "    </tr>\n",
       "    <tr>\n",
       "      <th>4</th>\n",
       "      <td>165038</td>\n",
       "      <td>0</td>\n",
       "    </tr>\n",
       "  </tbody>\n",
       "</table>\n",
       "</div>"
      ],
      "text/plain": [
       "       id  Exited\n",
       "0  165034       0\n",
       "1  165035       1\n",
       "2  165036       0\n",
       "3  165037       0\n",
       "4  165038       0"
      ]
     },
     "execution_count": 29,
     "metadata": {},
     "output_type": "execute_result"
    }
   ],
   "source": [
    "predictions.head()"
   ]
  },
  {
   "cell_type": "code",
   "execution_count": 30,
   "id": "95fe2970",
   "metadata": {
    "execution": {
     "iopub.execute_input": "2024-01-11T12:15:29.940897Z",
     "iopub.status.busy": "2024-01-11T12:15:29.940156Z",
     "iopub.status.idle": "2024-01-11T12:15:30.196555Z",
     "shell.execute_reply": "2024-01-11T12:15:30.195397Z"
    },
    "papermill": {
     "duration": 0.279376,
     "end_time": "2024-01-11T12:15:30.199509",
     "exception": false,
     "start_time": "2024-01-11T12:15:29.920133",
     "status": "completed"
    },
    "tags": []
   },
   "outputs": [],
   "source": [
    "predictions.to_csv(\"submission.csv\",index=False)"
   ]
  },
  {
   "cell_type": "code",
   "execution_count": null,
   "id": "0057439e",
   "metadata": {
    "papermill": {
     "duration": 0.019129,
     "end_time": "2024-01-11T12:15:30.237678",
     "exception": false,
     "start_time": "2024-01-11T12:15:30.218549",
     "status": "completed"
    },
    "tags": []
   },
   "outputs": [],
   "source": []
  },
  {
   "cell_type": "code",
   "execution_count": null,
   "id": "b5353618",
   "metadata": {
    "papermill": {
     "duration": 0.018915,
     "end_time": "2024-01-11T12:15:30.275414",
     "exception": false,
     "start_time": "2024-01-11T12:15:30.256499",
     "status": "completed"
    },
    "tags": []
   },
   "outputs": [],
   "source": []
  }
 ],
 "metadata": {
  "kaggle": {
   "accelerator": "none",
   "dataSources": [
    {
     "databundleVersionId": 7405009,
     "sourceId": 65711,
     "sourceType": "competition"
    }
   ],
   "dockerImageVersionId": 30635,
   "isGpuEnabled": false,
   "isInternetEnabled": true,
   "language": "python",
   "sourceType": "notebook"
  },
  "kernelspec": {
   "display_name": "Python 3",
   "language": "python",
   "name": "python3"
  },
  "language_info": {
   "codemirror_mode": {
    "name": "ipython",
    "version": 3
   },
   "file_extension": ".py",
   "mimetype": "text/x-python",
   "name": "python",
   "nbconvert_exporter": "python",
   "pygments_lexer": "ipython3",
   "version": "3.10.12"
  },
  "papermill": {
   "default_parameters": {},
   "duration": 57.263491,
   "end_time": "2024-01-11T12:15:31.017354",
   "environment_variables": {},
   "exception": null,
   "input_path": "__notebook__.ipynb",
   "output_path": "__notebook__.ipynb",
   "parameters": {},
   "start_time": "2024-01-11T12:14:33.753863",
   "version": "2.4.0"
  }
 },
 "nbformat": 4,
 "nbformat_minor": 5
}
