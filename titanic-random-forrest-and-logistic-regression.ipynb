{
 "cells": [
  {
   "cell_type": "markdown",
   "id": "440c4b06",
   "metadata": {
    "execution": {
     "iopub.execute_input": "2024-01-02T16:40:36.093834Z",
     "iopub.status.busy": "2024-01-02T16:40:36.093385Z",
     "iopub.status.idle": "2024-01-02T16:40:36.851029Z",
     "shell.execute_reply": "2024-01-02T16:40:36.849734Z",
     "shell.execute_reply.started": "2024-01-02T16:40:36.093802Z"
    },
    "papermill": {
     "duration": 0.014228,
     "end_time": "2024-01-03T11:26:38.557081",
     "exception": false,
     "start_time": "2024-01-03T11:26:38.542853",
     "status": "completed"
    },
    "tags": []
   },
   "source": [
    "# Importing the libraries we will be using"
   ]
  },
  {
   "cell_type": "code",
   "execution_count": 1,
   "id": "b508cf19",
   "metadata": {
    "execution": {
     "iopub.execute_input": "2024-01-03T11:26:38.586930Z",
     "iopub.status.busy": "2024-01-03T11:26:38.586424Z",
     "iopub.status.idle": "2024-01-03T11:26:40.347697Z",
     "shell.execute_reply": "2024-01-03T11:26:40.346815Z"
    },
    "papermill": {
     "duration": 1.778778,
     "end_time": "2024-01-03T11:26:40.349748",
     "exception": false,
     "start_time": "2024-01-03T11:26:38.570970",
     "status": "completed"
    },
    "tags": []
   },
   "outputs": [],
   "source": [
    "import pandas as pd\n",
    "import numpy as np \n",
    "import matplotlib.pyplot as plt\n",
    "from sklearn.preprocessing import LabelEncoder\n",
    "from sklearn.model_selection import train_test_split\n",
    "from sklearn.metrics import mean_squared_error\n",
    "from sklearn.linear_model import LogisticRegression\n",
    "from sklearn.metrics import accuracy_score, confusion_matrix, classification_report\n",
    "import seaborn as sns\n",
    "from sklearn.preprocessing import StandardScaler\n",
    "from sklearn.ensemble import RandomForestClassifier\n"
   ]
  },
  {
   "cell_type": "markdown",
   "id": "80573360",
   "metadata": {
    "papermill": {
     "duration": 0.01492,
     "end_time": "2024-01-03T11:26:40.378178",
     "exception": false,
     "start_time": "2024-01-03T11:26:40.363258",
     "status": "completed"
    },
    "tags": []
   },
   "source": [
    "### Reading the files"
   ]
  },
  {
   "cell_type": "code",
   "execution_count": 2,
   "id": "c11cd07a",
   "metadata": {
    "execution": {
     "iopub.execute_input": "2024-01-03T11:26:40.408166Z",
     "iopub.status.busy": "2024-01-03T11:26:40.407618Z",
     "iopub.status.idle": "2024-01-03T11:26:40.436215Z",
     "shell.execute_reply": "2024-01-03T11:26:40.434676Z"
    },
    "papermill": {
     "duration": 0.046145,
     "end_time": "2024-01-03T11:26:40.438557",
     "exception": false,
     "start_time": "2024-01-03T11:26:40.392412",
     "status": "completed"
    },
    "tags": []
   },
   "outputs": [],
   "source": [
    "titanictrain = pd.read_csv(r'/kaggle/input/titanic/train.csv')\n",
    "titanictest = pd.read_csv(r'/kaggle/input/titanic/test.csv')"
   ]
  },
  {
   "cell_type": "markdown",
   "id": "fc92e770",
   "metadata": {
    "papermill": {
     "duration": 0.013176,
     "end_time": "2024-01-03T11:26:40.465654",
     "exception": false,
     "start_time": "2024-01-03T11:26:40.452478",
     "status": "completed"
    },
    "tags": []
   },
   "source": [
    "# Exploratory Data Analysis begin"
   ]
  },
  {
   "cell_type": "code",
   "execution_count": 3,
   "id": "46c1293c",
   "metadata": {
    "execution": {
     "iopub.execute_input": "2024-01-03T11:26:40.494348Z",
     "iopub.status.busy": "2024-01-03T11:26:40.494000Z",
     "iopub.status.idle": "2024-01-03T11:26:40.516312Z",
     "shell.execute_reply": "2024-01-03T11:26:40.515444Z"
    },
    "papermill": {
     "duration": 0.03907,
     "end_time": "2024-01-03T11:26:40.518176",
     "exception": false,
     "start_time": "2024-01-03T11:26:40.479106",
     "status": "completed"
    },
    "tags": []
   },
   "outputs": [
    {
     "data": {
      "text/html": [
       "<div>\n",
       "<style scoped>\n",
       "    .dataframe tbody tr th:only-of-type {\n",
       "        vertical-align: middle;\n",
       "    }\n",
       "\n",
       "    .dataframe tbody tr th {\n",
       "        vertical-align: top;\n",
       "    }\n",
       "\n",
       "    .dataframe thead th {\n",
       "        text-align: right;\n",
       "    }\n",
       "</style>\n",
       "<table border=\"1\" class=\"dataframe\">\n",
       "  <thead>\n",
       "    <tr style=\"text-align: right;\">\n",
       "      <th></th>\n",
       "      <th>PassengerId</th>\n",
       "      <th>Pclass</th>\n",
       "      <th>Name</th>\n",
       "      <th>Sex</th>\n",
       "      <th>Age</th>\n",
       "      <th>SibSp</th>\n",
       "      <th>Parch</th>\n",
       "      <th>Ticket</th>\n",
       "      <th>Fare</th>\n",
       "      <th>Cabin</th>\n",
       "      <th>Embarked</th>\n",
       "    </tr>\n",
       "  </thead>\n",
       "  <tbody>\n",
       "    <tr>\n",
       "      <th>0</th>\n",
       "      <td>892</td>\n",
       "      <td>3</td>\n",
       "      <td>Kelly, Mr. James</td>\n",
       "      <td>male</td>\n",
       "      <td>34.5</td>\n",
       "      <td>0</td>\n",
       "      <td>0</td>\n",
       "      <td>330911</td>\n",
       "      <td>7.8292</td>\n",
       "      <td>NaN</td>\n",
       "      <td>Q</td>\n",
       "    </tr>\n",
       "    <tr>\n",
       "      <th>1</th>\n",
       "      <td>893</td>\n",
       "      <td>3</td>\n",
       "      <td>Wilkes, Mrs. James (Ellen Needs)</td>\n",
       "      <td>female</td>\n",
       "      <td>47.0</td>\n",
       "      <td>1</td>\n",
       "      <td>0</td>\n",
       "      <td>363272</td>\n",
       "      <td>7.0000</td>\n",
       "      <td>NaN</td>\n",
       "      <td>S</td>\n",
       "    </tr>\n",
       "    <tr>\n",
       "      <th>2</th>\n",
       "      <td>894</td>\n",
       "      <td>2</td>\n",
       "      <td>Myles, Mr. Thomas Francis</td>\n",
       "      <td>male</td>\n",
       "      <td>62.0</td>\n",
       "      <td>0</td>\n",
       "      <td>0</td>\n",
       "      <td>240276</td>\n",
       "      <td>9.6875</td>\n",
       "      <td>NaN</td>\n",
       "      <td>Q</td>\n",
       "    </tr>\n",
       "    <tr>\n",
       "      <th>3</th>\n",
       "      <td>895</td>\n",
       "      <td>3</td>\n",
       "      <td>Wirz, Mr. Albert</td>\n",
       "      <td>male</td>\n",
       "      <td>27.0</td>\n",
       "      <td>0</td>\n",
       "      <td>0</td>\n",
       "      <td>315154</td>\n",
       "      <td>8.6625</td>\n",
       "      <td>NaN</td>\n",
       "      <td>S</td>\n",
       "    </tr>\n",
       "    <tr>\n",
       "      <th>4</th>\n",
       "      <td>896</td>\n",
       "      <td>3</td>\n",
       "      <td>Hirvonen, Mrs. Alexander (Helga E Lindqvist)</td>\n",
       "      <td>female</td>\n",
       "      <td>22.0</td>\n",
       "      <td>1</td>\n",
       "      <td>1</td>\n",
       "      <td>3101298</td>\n",
       "      <td>12.2875</td>\n",
       "      <td>NaN</td>\n",
       "      <td>S</td>\n",
       "    </tr>\n",
       "  </tbody>\n",
       "</table>\n",
       "</div>"
      ],
      "text/plain": [
       "   PassengerId  Pclass                                          Name     Sex  \\\n",
       "0          892       3                              Kelly, Mr. James    male   \n",
       "1          893       3              Wilkes, Mrs. James (Ellen Needs)  female   \n",
       "2          894       2                     Myles, Mr. Thomas Francis    male   \n",
       "3          895       3                              Wirz, Mr. Albert    male   \n",
       "4          896       3  Hirvonen, Mrs. Alexander (Helga E Lindqvist)  female   \n",
       "\n",
       "    Age  SibSp  Parch   Ticket     Fare Cabin Embarked  \n",
       "0  34.5      0      0   330911   7.8292   NaN        Q  \n",
       "1  47.0      1      0   363272   7.0000   NaN        S  \n",
       "2  62.0      0      0   240276   9.6875   NaN        Q  \n",
       "3  27.0      0      0   315154   8.6625   NaN        S  \n",
       "4  22.0      1      1  3101298  12.2875   NaN        S  "
      ]
     },
     "execution_count": 3,
     "metadata": {},
     "output_type": "execute_result"
    }
   ],
   "source": [
    "titanictest.head()"
   ]
  },
  {
   "cell_type": "code",
   "execution_count": 4,
   "id": "df6d3ce2",
   "metadata": {
    "execution": {
     "iopub.execute_input": "2024-01-03T11:26:40.546796Z",
     "iopub.status.busy": "2024-01-03T11:26:40.546469Z",
     "iopub.status.idle": "2024-01-03T11:26:40.565769Z",
     "shell.execute_reply": "2024-01-03T11:26:40.564512Z"
    },
    "papermill": {
     "duration": 0.035768,
     "end_time": "2024-01-03T11:26:40.567584",
     "exception": false,
     "start_time": "2024-01-03T11:26:40.531816",
     "status": "completed"
    },
    "tags": []
   },
   "outputs": [
    {
     "data": {
      "text/html": [
       "<div>\n",
       "<style scoped>\n",
       "    .dataframe tbody tr th:only-of-type {\n",
       "        vertical-align: middle;\n",
       "    }\n",
       "\n",
       "    .dataframe tbody tr th {\n",
       "        vertical-align: top;\n",
       "    }\n",
       "\n",
       "    .dataframe thead th {\n",
       "        text-align: right;\n",
       "    }\n",
       "</style>\n",
       "<table border=\"1\" class=\"dataframe\">\n",
       "  <thead>\n",
       "    <tr style=\"text-align: right;\">\n",
       "      <th></th>\n",
       "      <th>PassengerId</th>\n",
       "      <th>Survived</th>\n",
       "      <th>Pclass</th>\n",
       "      <th>Name</th>\n",
       "      <th>Sex</th>\n",
       "      <th>Age</th>\n",
       "      <th>SibSp</th>\n",
       "      <th>Parch</th>\n",
       "      <th>Ticket</th>\n",
       "      <th>Fare</th>\n",
       "      <th>Cabin</th>\n",
       "      <th>Embarked</th>\n",
       "    </tr>\n",
       "  </thead>\n",
       "  <tbody>\n",
       "    <tr>\n",
       "      <th>0</th>\n",
       "      <td>1</td>\n",
       "      <td>0</td>\n",
       "      <td>3</td>\n",
       "      <td>Braund, Mr. Owen Harris</td>\n",
       "      <td>male</td>\n",
       "      <td>22.0</td>\n",
       "      <td>1</td>\n",
       "      <td>0</td>\n",
       "      <td>A/5 21171</td>\n",
       "      <td>7.2500</td>\n",
       "      <td>NaN</td>\n",
       "      <td>S</td>\n",
       "    </tr>\n",
       "    <tr>\n",
       "      <th>1</th>\n",
       "      <td>2</td>\n",
       "      <td>1</td>\n",
       "      <td>1</td>\n",
       "      <td>Cumings, Mrs. John Bradley (Florence Briggs Th...</td>\n",
       "      <td>female</td>\n",
       "      <td>38.0</td>\n",
       "      <td>1</td>\n",
       "      <td>0</td>\n",
       "      <td>PC 17599</td>\n",
       "      <td>71.2833</td>\n",
       "      <td>C85</td>\n",
       "      <td>C</td>\n",
       "    </tr>\n",
       "    <tr>\n",
       "      <th>2</th>\n",
       "      <td>3</td>\n",
       "      <td>1</td>\n",
       "      <td>3</td>\n",
       "      <td>Heikkinen, Miss. Laina</td>\n",
       "      <td>female</td>\n",
       "      <td>26.0</td>\n",
       "      <td>0</td>\n",
       "      <td>0</td>\n",
       "      <td>STON/O2. 3101282</td>\n",
       "      <td>7.9250</td>\n",
       "      <td>NaN</td>\n",
       "      <td>S</td>\n",
       "    </tr>\n",
       "    <tr>\n",
       "      <th>3</th>\n",
       "      <td>4</td>\n",
       "      <td>1</td>\n",
       "      <td>1</td>\n",
       "      <td>Futrelle, Mrs. Jacques Heath (Lily May Peel)</td>\n",
       "      <td>female</td>\n",
       "      <td>35.0</td>\n",
       "      <td>1</td>\n",
       "      <td>0</td>\n",
       "      <td>113803</td>\n",
       "      <td>53.1000</td>\n",
       "      <td>C123</td>\n",
       "      <td>S</td>\n",
       "    </tr>\n",
       "    <tr>\n",
       "      <th>4</th>\n",
       "      <td>5</td>\n",
       "      <td>0</td>\n",
       "      <td>3</td>\n",
       "      <td>Allen, Mr. William Henry</td>\n",
       "      <td>male</td>\n",
       "      <td>35.0</td>\n",
       "      <td>0</td>\n",
       "      <td>0</td>\n",
       "      <td>373450</td>\n",
       "      <td>8.0500</td>\n",
       "      <td>NaN</td>\n",
       "      <td>S</td>\n",
       "    </tr>\n",
       "    <tr>\n",
       "      <th>5</th>\n",
       "      <td>6</td>\n",
       "      <td>0</td>\n",
       "      <td>3</td>\n",
       "      <td>Moran, Mr. James</td>\n",
       "      <td>male</td>\n",
       "      <td>NaN</td>\n",
       "      <td>0</td>\n",
       "      <td>0</td>\n",
       "      <td>330877</td>\n",
       "      <td>8.4583</td>\n",
       "      <td>NaN</td>\n",
       "      <td>Q</td>\n",
       "    </tr>\n",
       "    <tr>\n",
       "      <th>6</th>\n",
       "      <td>7</td>\n",
       "      <td>0</td>\n",
       "      <td>1</td>\n",
       "      <td>McCarthy, Mr. Timothy J</td>\n",
       "      <td>male</td>\n",
       "      <td>54.0</td>\n",
       "      <td>0</td>\n",
       "      <td>0</td>\n",
       "      <td>17463</td>\n",
       "      <td>51.8625</td>\n",
       "      <td>E46</td>\n",
       "      <td>S</td>\n",
       "    </tr>\n",
       "    <tr>\n",
       "      <th>7</th>\n",
       "      <td>8</td>\n",
       "      <td>0</td>\n",
       "      <td>3</td>\n",
       "      <td>Palsson, Master. Gosta Leonard</td>\n",
       "      <td>male</td>\n",
       "      <td>2.0</td>\n",
       "      <td>3</td>\n",
       "      <td>1</td>\n",
       "      <td>349909</td>\n",
       "      <td>21.0750</td>\n",
       "      <td>NaN</td>\n",
       "      <td>S</td>\n",
       "    </tr>\n",
       "    <tr>\n",
       "      <th>8</th>\n",
       "      <td>9</td>\n",
       "      <td>1</td>\n",
       "      <td>3</td>\n",
       "      <td>Johnson, Mrs. Oscar W (Elisabeth Vilhelmina Berg)</td>\n",
       "      <td>female</td>\n",
       "      <td>27.0</td>\n",
       "      <td>0</td>\n",
       "      <td>2</td>\n",
       "      <td>347742</td>\n",
       "      <td>11.1333</td>\n",
       "      <td>NaN</td>\n",
       "      <td>S</td>\n",
       "    </tr>\n",
       "    <tr>\n",
       "      <th>9</th>\n",
       "      <td>10</td>\n",
       "      <td>1</td>\n",
       "      <td>2</td>\n",
       "      <td>Nasser, Mrs. Nicholas (Adele Achem)</td>\n",
       "      <td>female</td>\n",
       "      <td>14.0</td>\n",
       "      <td>1</td>\n",
       "      <td>0</td>\n",
       "      <td>237736</td>\n",
       "      <td>30.0708</td>\n",
       "      <td>NaN</td>\n",
       "      <td>C</td>\n",
       "    </tr>\n",
       "    <tr>\n",
       "      <th>10</th>\n",
       "      <td>11</td>\n",
       "      <td>1</td>\n",
       "      <td>3</td>\n",
       "      <td>Sandstrom, Miss. Marguerite Rut</td>\n",
       "      <td>female</td>\n",
       "      <td>4.0</td>\n",
       "      <td>1</td>\n",
       "      <td>1</td>\n",
       "      <td>PP 9549</td>\n",
       "      <td>16.7000</td>\n",
       "      <td>G6</td>\n",
       "      <td>S</td>\n",
       "    </tr>\n",
       "    <tr>\n",
       "      <th>11</th>\n",
       "      <td>12</td>\n",
       "      <td>1</td>\n",
       "      <td>1</td>\n",
       "      <td>Bonnell, Miss. Elizabeth</td>\n",
       "      <td>female</td>\n",
       "      <td>58.0</td>\n",
       "      <td>0</td>\n",
       "      <td>0</td>\n",
       "      <td>113783</td>\n",
       "      <td>26.5500</td>\n",
       "      <td>C103</td>\n",
       "      <td>S</td>\n",
       "    </tr>\n",
       "    <tr>\n",
       "      <th>12</th>\n",
       "      <td>13</td>\n",
       "      <td>0</td>\n",
       "      <td>3</td>\n",
       "      <td>Saundercock, Mr. William Henry</td>\n",
       "      <td>male</td>\n",
       "      <td>20.0</td>\n",
       "      <td>0</td>\n",
       "      <td>0</td>\n",
       "      <td>A/5. 2151</td>\n",
       "      <td>8.0500</td>\n",
       "      <td>NaN</td>\n",
       "      <td>S</td>\n",
       "    </tr>\n",
       "    <tr>\n",
       "      <th>13</th>\n",
       "      <td>14</td>\n",
       "      <td>0</td>\n",
       "      <td>3</td>\n",
       "      <td>Andersson, Mr. Anders Johan</td>\n",
       "      <td>male</td>\n",
       "      <td>39.0</td>\n",
       "      <td>1</td>\n",
       "      <td>5</td>\n",
       "      <td>347082</td>\n",
       "      <td>31.2750</td>\n",
       "      <td>NaN</td>\n",
       "      <td>S</td>\n",
       "    </tr>\n",
       "    <tr>\n",
       "      <th>14</th>\n",
       "      <td>15</td>\n",
       "      <td>0</td>\n",
       "      <td>3</td>\n",
       "      <td>Vestrom, Miss. Hulda Amanda Adolfina</td>\n",
       "      <td>female</td>\n",
       "      <td>14.0</td>\n",
       "      <td>0</td>\n",
       "      <td>0</td>\n",
       "      <td>350406</td>\n",
       "      <td>7.8542</td>\n",
       "      <td>NaN</td>\n",
       "      <td>S</td>\n",
       "    </tr>\n",
       "    <tr>\n",
       "      <th>15</th>\n",
       "      <td>16</td>\n",
       "      <td>1</td>\n",
       "      <td>2</td>\n",
       "      <td>Hewlett, Mrs. (Mary D Kingcome)</td>\n",
       "      <td>female</td>\n",
       "      <td>55.0</td>\n",
       "      <td>0</td>\n",
       "      <td>0</td>\n",
       "      <td>248706</td>\n",
       "      <td>16.0000</td>\n",
       "      <td>NaN</td>\n",
       "      <td>S</td>\n",
       "    </tr>\n",
       "    <tr>\n",
       "      <th>16</th>\n",
       "      <td>17</td>\n",
       "      <td>0</td>\n",
       "      <td>3</td>\n",
       "      <td>Rice, Master. Eugene</td>\n",
       "      <td>male</td>\n",
       "      <td>2.0</td>\n",
       "      <td>4</td>\n",
       "      <td>1</td>\n",
       "      <td>382652</td>\n",
       "      <td>29.1250</td>\n",
       "      <td>NaN</td>\n",
       "      <td>Q</td>\n",
       "    </tr>\n",
       "    <tr>\n",
       "      <th>17</th>\n",
       "      <td>18</td>\n",
       "      <td>1</td>\n",
       "      <td>2</td>\n",
       "      <td>Williams, Mr. Charles Eugene</td>\n",
       "      <td>male</td>\n",
       "      <td>NaN</td>\n",
       "      <td>0</td>\n",
       "      <td>0</td>\n",
       "      <td>244373</td>\n",
       "      <td>13.0000</td>\n",
       "      <td>NaN</td>\n",
       "      <td>S</td>\n",
       "    </tr>\n",
       "    <tr>\n",
       "      <th>18</th>\n",
       "      <td>19</td>\n",
       "      <td>0</td>\n",
       "      <td>3</td>\n",
       "      <td>Vander Planke, Mrs. Julius (Emelia Maria Vande...</td>\n",
       "      <td>female</td>\n",
       "      <td>31.0</td>\n",
       "      <td>1</td>\n",
       "      <td>0</td>\n",
       "      <td>345763</td>\n",
       "      <td>18.0000</td>\n",
       "      <td>NaN</td>\n",
       "      <td>S</td>\n",
       "    </tr>\n",
       "    <tr>\n",
       "      <th>19</th>\n",
       "      <td>20</td>\n",
       "      <td>1</td>\n",
       "      <td>3</td>\n",
       "      <td>Masselmani, Mrs. Fatima</td>\n",
       "      <td>female</td>\n",
       "      <td>NaN</td>\n",
       "      <td>0</td>\n",
       "      <td>0</td>\n",
       "      <td>2649</td>\n",
       "      <td>7.2250</td>\n",
       "      <td>NaN</td>\n",
       "      <td>C</td>\n",
       "    </tr>\n",
       "  </tbody>\n",
       "</table>\n",
       "</div>"
      ],
      "text/plain": [
       "    PassengerId  Survived  Pclass  \\\n",
       "0             1         0       3   \n",
       "1             2         1       1   \n",
       "2             3         1       3   \n",
       "3             4         1       1   \n",
       "4             5         0       3   \n",
       "5             6         0       3   \n",
       "6             7         0       1   \n",
       "7             8         0       3   \n",
       "8             9         1       3   \n",
       "9            10         1       2   \n",
       "10           11         1       3   \n",
       "11           12         1       1   \n",
       "12           13         0       3   \n",
       "13           14         0       3   \n",
       "14           15         0       3   \n",
       "15           16         1       2   \n",
       "16           17         0       3   \n",
       "17           18         1       2   \n",
       "18           19         0       3   \n",
       "19           20         1       3   \n",
       "\n",
       "                                                 Name     Sex   Age  SibSp  \\\n",
       "0                             Braund, Mr. Owen Harris    male  22.0      1   \n",
       "1   Cumings, Mrs. John Bradley (Florence Briggs Th...  female  38.0      1   \n",
       "2                              Heikkinen, Miss. Laina  female  26.0      0   \n",
       "3        Futrelle, Mrs. Jacques Heath (Lily May Peel)  female  35.0      1   \n",
       "4                            Allen, Mr. William Henry    male  35.0      0   \n",
       "5                                    Moran, Mr. James    male   NaN      0   \n",
       "6                             McCarthy, Mr. Timothy J    male  54.0      0   \n",
       "7                      Palsson, Master. Gosta Leonard    male   2.0      3   \n",
       "8   Johnson, Mrs. Oscar W (Elisabeth Vilhelmina Berg)  female  27.0      0   \n",
       "9                 Nasser, Mrs. Nicholas (Adele Achem)  female  14.0      1   \n",
       "10                    Sandstrom, Miss. Marguerite Rut  female   4.0      1   \n",
       "11                           Bonnell, Miss. Elizabeth  female  58.0      0   \n",
       "12                     Saundercock, Mr. William Henry    male  20.0      0   \n",
       "13                        Andersson, Mr. Anders Johan    male  39.0      1   \n",
       "14               Vestrom, Miss. Hulda Amanda Adolfina  female  14.0      0   \n",
       "15                   Hewlett, Mrs. (Mary D Kingcome)   female  55.0      0   \n",
       "16                               Rice, Master. Eugene    male   2.0      4   \n",
       "17                       Williams, Mr. Charles Eugene    male   NaN      0   \n",
       "18  Vander Planke, Mrs. Julius (Emelia Maria Vande...  female  31.0      1   \n",
       "19                            Masselmani, Mrs. Fatima  female   NaN      0   \n",
       "\n",
       "    Parch            Ticket     Fare Cabin Embarked  \n",
       "0       0         A/5 21171   7.2500   NaN        S  \n",
       "1       0          PC 17599  71.2833   C85        C  \n",
       "2       0  STON/O2. 3101282   7.9250   NaN        S  \n",
       "3       0            113803  53.1000  C123        S  \n",
       "4       0            373450   8.0500   NaN        S  \n",
       "5       0            330877   8.4583   NaN        Q  \n",
       "6       0             17463  51.8625   E46        S  \n",
       "7       1            349909  21.0750   NaN        S  \n",
       "8       2            347742  11.1333   NaN        S  \n",
       "9       0            237736  30.0708   NaN        C  \n",
       "10      1           PP 9549  16.7000    G6        S  \n",
       "11      0            113783  26.5500  C103        S  \n",
       "12      0         A/5. 2151   8.0500   NaN        S  \n",
       "13      5            347082  31.2750   NaN        S  \n",
       "14      0            350406   7.8542   NaN        S  \n",
       "15      0            248706  16.0000   NaN        S  \n",
       "16      1            382652  29.1250   NaN        Q  \n",
       "17      0            244373  13.0000   NaN        S  \n",
       "18      0            345763  18.0000   NaN        S  \n",
       "19      0              2649   7.2250   NaN        C  "
      ]
     },
     "execution_count": 4,
     "metadata": {},
     "output_type": "execute_result"
    }
   ],
   "source": [
    "titanictrain.head(20)"
   ]
  },
  {
   "cell_type": "code",
   "execution_count": 5,
   "id": "d5ecb4e8",
   "metadata": {
    "execution": {
     "iopub.execute_input": "2024-01-03T11:26:40.598090Z",
     "iopub.status.busy": "2024-01-03T11:26:40.597722Z",
     "iopub.status.idle": "2024-01-03T11:26:40.622629Z",
     "shell.execute_reply": "2024-01-03T11:26:40.621331Z"
    },
    "papermill": {
     "duration": 0.042454,
     "end_time": "2024-01-03T11:26:40.624520",
     "exception": false,
     "start_time": "2024-01-03T11:26:40.582066",
     "status": "completed"
    },
    "tags": []
   },
   "outputs": [
    {
     "data": {
      "text/html": [
       "<div>\n",
       "<style scoped>\n",
       "    .dataframe tbody tr th:only-of-type {\n",
       "        vertical-align: middle;\n",
       "    }\n",
       "\n",
       "    .dataframe tbody tr th {\n",
       "        vertical-align: top;\n",
       "    }\n",
       "\n",
       "    .dataframe thead th {\n",
       "        text-align: right;\n",
       "    }\n",
       "</style>\n",
       "<table border=\"1\" class=\"dataframe\">\n",
       "  <thead>\n",
       "    <tr style=\"text-align: right;\">\n",
       "      <th></th>\n",
       "      <th>PassengerId</th>\n",
       "      <th>Pclass</th>\n",
       "      <th>Age</th>\n",
       "      <th>SibSp</th>\n",
       "      <th>Parch</th>\n",
       "      <th>Fare</th>\n",
       "    </tr>\n",
       "  </thead>\n",
       "  <tbody>\n",
       "    <tr>\n",
       "      <th>count</th>\n",
       "      <td>418.000000</td>\n",
       "      <td>418.000000</td>\n",
       "      <td>332.000000</td>\n",
       "      <td>418.000000</td>\n",
       "      <td>418.000000</td>\n",
       "      <td>417.000000</td>\n",
       "    </tr>\n",
       "    <tr>\n",
       "      <th>mean</th>\n",
       "      <td>1100.500000</td>\n",
       "      <td>2.265550</td>\n",
       "      <td>30.272590</td>\n",
       "      <td>0.447368</td>\n",
       "      <td>0.392344</td>\n",
       "      <td>35.627188</td>\n",
       "    </tr>\n",
       "    <tr>\n",
       "      <th>std</th>\n",
       "      <td>120.810458</td>\n",
       "      <td>0.841838</td>\n",
       "      <td>14.181209</td>\n",
       "      <td>0.896760</td>\n",
       "      <td>0.981429</td>\n",
       "      <td>55.907576</td>\n",
       "    </tr>\n",
       "    <tr>\n",
       "      <th>min</th>\n",
       "      <td>892.000000</td>\n",
       "      <td>1.000000</td>\n",
       "      <td>0.170000</td>\n",
       "      <td>0.000000</td>\n",
       "      <td>0.000000</td>\n",
       "      <td>0.000000</td>\n",
       "    </tr>\n",
       "    <tr>\n",
       "      <th>25%</th>\n",
       "      <td>996.250000</td>\n",
       "      <td>1.000000</td>\n",
       "      <td>21.000000</td>\n",
       "      <td>0.000000</td>\n",
       "      <td>0.000000</td>\n",
       "      <td>7.895800</td>\n",
       "    </tr>\n",
       "    <tr>\n",
       "      <th>50%</th>\n",
       "      <td>1100.500000</td>\n",
       "      <td>3.000000</td>\n",
       "      <td>27.000000</td>\n",
       "      <td>0.000000</td>\n",
       "      <td>0.000000</td>\n",
       "      <td>14.454200</td>\n",
       "    </tr>\n",
       "    <tr>\n",
       "      <th>75%</th>\n",
       "      <td>1204.750000</td>\n",
       "      <td>3.000000</td>\n",
       "      <td>39.000000</td>\n",
       "      <td>1.000000</td>\n",
       "      <td>0.000000</td>\n",
       "      <td>31.500000</td>\n",
       "    </tr>\n",
       "    <tr>\n",
       "      <th>max</th>\n",
       "      <td>1309.000000</td>\n",
       "      <td>3.000000</td>\n",
       "      <td>76.000000</td>\n",
       "      <td>8.000000</td>\n",
       "      <td>9.000000</td>\n",
       "      <td>512.329200</td>\n",
       "    </tr>\n",
       "  </tbody>\n",
       "</table>\n",
       "</div>"
      ],
      "text/plain": [
       "       PassengerId      Pclass         Age       SibSp       Parch        Fare\n",
       "count   418.000000  418.000000  332.000000  418.000000  418.000000  417.000000\n",
       "mean   1100.500000    2.265550   30.272590    0.447368    0.392344   35.627188\n",
       "std     120.810458    0.841838   14.181209    0.896760    0.981429   55.907576\n",
       "min     892.000000    1.000000    0.170000    0.000000    0.000000    0.000000\n",
       "25%     996.250000    1.000000   21.000000    0.000000    0.000000    7.895800\n",
       "50%    1100.500000    3.000000   27.000000    0.000000    0.000000   14.454200\n",
       "75%    1204.750000    3.000000   39.000000    1.000000    0.000000   31.500000\n",
       "max    1309.000000    3.000000   76.000000    8.000000    9.000000  512.329200"
      ]
     },
     "execution_count": 5,
     "metadata": {},
     "output_type": "execute_result"
    }
   ],
   "source": [
    "titanictest.describe()"
   ]
  },
  {
   "cell_type": "code",
   "execution_count": 6,
   "id": "91ce3f1d",
   "metadata": {
    "execution": {
     "iopub.execute_input": "2024-01-03T11:26:40.713957Z",
     "iopub.status.busy": "2024-01-03T11:26:40.713611Z",
     "iopub.status.idle": "2024-01-03T11:26:40.738090Z",
     "shell.execute_reply": "2024-01-03T11:26:40.737357Z"
    },
    "papermill": {
     "duration": 0.042633,
     "end_time": "2024-01-03T11:26:40.739581",
     "exception": false,
     "start_time": "2024-01-03T11:26:40.696948",
     "status": "completed"
    },
    "tags": []
   },
   "outputs": [
    {
     "data": {
      "text/html": [
       "<div>\n",
       "<style scoped>\n",
       "    .dataframe tbody tr th:only-of-type {\n",
       "        vertical-align: middle;\n",
       "    }\n",
       "\n",
       "    .dataframe tbody tr th {\n",
       "        vertical-align: top;\n",
       "    }\n",
       "\n",
       "    .dataframe thead th {\n",
       "        text-align: right;\n",
       "    }\n",
       "</style>\n",
       "<table border=\"1\" class=\"dataframe\">\n",
       "  <thead>\n",
       "    <tr style=\"text-align: right;\">\n",
       "      <th></th>\n",
       "      <th>PassengerId</th>\n",
       "      <th>Survived</th>\n",
       "      <th>Pclass</th>\n",
       "      <th>Age</th>\n",
       "      <th>SibSp</th>\n",
       "      <th>Parch</th>\n",
       "      <th>Fare</th>\n",
       "    </tr>\n",
       "  </thead>\n",
       "  <tbody>\n",
       "    <tr>\n",
       "      <th>count</th>\n",
       "      <td>891.000000</td>\n",
       "      <td>891.000000</td>\n",
       "      <td>891.000000</td>\n",
       "      <td>714.000000</td>\n",
       "      <td>891.000000</td>\n",
       "      <td>891.000000</td>\n",
       "      <td>891.000000</td>\n",
       "    </tr>\n",
       "    <tr>\n",
       "      <th>mean</th>\n",
       "      <td>446.000000</td>\n",
       "      <td>0.383838</td>\n",
       "      <td>2.308642</td>\n",
       "      <td>29.699118</td>\n",
       "      <td>0.523008</td>\n",
       "      <td>0.381594</td>\n",
       "      <td>32.204208</td>\n",
       "    </tr>\n",
       "    <tr>\n",
       "      <th>std</th>\n",
       "      <td>257.353842</td>\n",
       "      <td>0.486592</td>\n",
       "      <td>0.836071</td>\n",
       "      <td>14.526497</td>\n",
       "      <td>1.102743</td>\n",
       "      <td>0.806057</td>\n",
       "      <td>49.693429</td>\n",
       "    </tr>\n",
       "    <tr>\n",
       "      <th>min</th>\n",
       "      <td>1.000000</td>\n",
       "      <td>0.000000</td>\n",
       "      <td>1.000000</td>\n",
       "      <td>0.420000</td>\n",
       "      <td>0.000000</td>\n",
       "      <td>0.000000</td>\n",
       "      <td>0.000000</td>\n",
       "    </tr>\n",
       "    <tr>\n",
       "      <th>25%</th>\n",
       "      <td>223.500000</td>\n",
       "      <td>0.000000</td>\n",
       "      <td>2.000000</td>\n",
       "      <td>20.125000</td>\n",
       "      <td>0.000000</td>\n",
       "      <td>0.000000</td>\n",
       "      <td>7.910400</td>\n",
       "    </tr>\n",
       "    <tr>\n",
       "      <th>50%</th>\n",
       "      <td>446.000000</td>\n",
       "      <td>0.000000</td>\n",
       "      <td>3.000000</td>\n",
       "      <td>28.000000</td>\n",
       "      <td>0.000000</td>\n",
       "      <td>0.000000</td>\n",
       "      <td>14.454200</td>\n",
       "    </tr>\n",
       "    <tr>\n",
       "      <th>75%</th>\n",
       "      <td>668.500000</td>\n",
       "      <td>1.000000</td>\n",
       "      <td>3.000000</td>\n",
       "      <td>38.000000</td>\n",
       "      <td>1.000000</td>\n",
       "      <td>0.000000</td>\n",
       "      <td>31.000000</td>\n",
       "    </tr>\n",
       "    <tr>\n",
       "      <th>max</th>\n",
       "      <td>891.000000</td>\n",
       "      <td>1.000000</td>\n",
       "      <td>3.000000</td>\n",
       "      <td>80.000000</td>\n",
       "      <td>8.000000</td>\n",
       "      <td>6.000000</td>\n",
       "      <td>512.329200</td>\n",
       "    </tr>\n",
       "  </tbody>\n",
       "</table>\n",
       "</div>"
      ],
      "text/plain": [
       "       PassengerId    Survived      Pclass         Age       SibSp  \\\n",
       "count   891.000000  891.000000  891.000000  714.000000  891.000000   \n",
       "mean    446.000000    0.383838    2.308642   29.699118    0.523008   \n",
       "std     257.353842    0.486592    0.836071   14.526497    1.102743   \n",
       "min       1.000000    0.000000    1.000000    0.420000    0.000000   \n",
       "25%     223.500000    0.000000    2.000000   20.125000    0.000000   \n",
       "50%     446.000000    0.000000    3.000000   28.000000    0.000000   \n",
       "75%     668.500000    1.000000    3.000000   38.000000    1.000000   \n",
       "max     891.000000    1.000000    3.000000   80.000000    8.000000   \n",
       "\n",
       "            Parch        Fare  \n",
       "count  891.000000  891.000000  \n",
       "mean     0.381594   32.204208  \n",
       "std      0.806057   49.693429  \n",
       "min      0.000000    0.000000  \n",
       "25%      0.000000    7.910400  \n",
       "50%      0.000000   14.454200  \n",
       "75%      0.000000   31.000000  \n",
       "max      6.000000  512.329200  "
      ]
     },
     "execution_count": 6,
     "metadata": {},
     "output_type": "execute_result"
    }
   ],
   "source": [
    "titanictrain.describe()"
   ]
  },
  {
   "cell_type": "code",
   "execution_count": 7,
   "id": "d3e6ae12",
   "metadata": {
    "execution": {
     "iopub.execute_input": "2024-01-03T11:26:40.769863Z",
     "iopub.status.busy": "2024-01-03T11:26:40.769523Z",
     "iopub.status.idle": "2024-01-03T11:26:40.791007Z",
     "shell.execute_reply": "2024-01-03T11:26:40.789054Z"
    },
    "papermill": {
     "duration": 0.039258,
     "end_time": "2024-01-03T11:26:40.793425",
     "exception": false,
     "start_time": "2024-01-03T11:26:40.754167",
     "status": "completed"
    },
    "tags": []
   },
   "outputs": [
    {
     "name": "stdout",
     "output_type": "stream",
     "text": [
      "<class 'pandas.core.frame.DataFrame'>\n",
      "RangeIndex: 418 entries, 0 to 417\n",
      "Data columns (total 11 columns):\n",
      " #   Column       Non-Null Count  Dtype  \n",
      "---  ------       --------------  -----  \n",
      " 0   PassengerId  418 non-null    int64  \n",
      " 1   Pclass       418 non-null    int64  \n",
      " 2   Name         418 non-null    object \n",
      " 3   Sex          418 non-null    object \n",
      " 4   Age          332 non-null    float64\n",
      " 5   SibSp        418 non-null    int64  \n",
      " 6   Parch        418 non-null    int64  \n",
      " 7   Ticket       418 non-null    object \n",
      " 8   Fare         417 non-null    float64\n",
      " 9   Cabin        91 non-null     object \n",
      " 10  Embarked     418 non-null    object \n",
      "dtypes: float64(2), int64(4), object(5)\n",
      "memory usage: 36.0+ KB\n"
     ]
    }
   ],
   "source": [
    "titanictest.info()"
   ]
  },
  {
   "cell_type": "code",
   "execution_count": 8,
   "id": "2b278e67",
   "metadata": {
    "execution": {
     "iopub.execute_input": "2024-01-03T11:26:40.827168Z",
     "iopub.status.busy": "2024-01-03T11:26:40.826812Z",
     "iopub.status.idle": "2024-01-03T11:26:40.837691Z",
     "shell.execute_reply": "2024-01-03T11:26:40.836780Z"
    },
    "papermill": {
     "duration": 0.030632,
     "end_time": "2024-01-03T11:26:40.840283",
     "exception": false,
     "start_time": "2024-01-03T11:26:40.809651",
     "status": "completed"
    },
    "tags": []
   },
   "outputs": [
    {
     "name": "stdout",
     "output_type": "stream",
     "text": [
      "<class 'pandas.core.frame.DataFrame'>\n",
      "RangeIndex: 891 entries, 0 to 890\n",
      "Data columns (total 12 columns):\n",
      " #   Column       Non-Null Count  Dtype  \n",
      "---  ------       --------------  -----  \n",
      " 0   PassengerId  891 non-null    int64  \n",
      " 1   Survived     891 non-null    int64  \n",
      " 2   Pclass       891 non-null    int64  \n",
      " 3   Name         891 non-null    object \n",
      " 4   Sex          891 non-null    object \n",
      " 5   Age          714 non-null    float64\n",
      " 6   SibSp        891 non-null    int64  \n",
      " 7   Parch        891 non-null    int64  \n",
      " 8   Ticket       891 non-null    object \n",
      " 9   Fare         891 non-null    float64\n",
      " 10  Cabin        204 non-null    object \n",
      " 11  Embarked     889 non-null    object \n",
      "dtypes: float64(2), int64(5), object(5)\n",
      "memory usage: 83.7+ KB\n"
     ]
    }
   ],
   "source": [
    "titanictrain.info()"
   ]
  },
  {
   "cell_type": "code",
   "execution_count": 9,
   "id": "89073e21",
   "metadata": {
    "execution": {
     "iopub.execute_input": "2024-01-03T11:26:40.871542Z",
     "iopub.status.busy": "2024-01-03T11:26:40.871189Z",
     "iopub.status.idle": "2024-01-03T11:26:40.877427Z",
     "shell.execute_reply": "2024-01-03T11:26:40.876506Z"
    },
    "papermill": {
     "duration": 0.0237,
     "end_time": "2024-01-03T11:26:40.879204",
     "exception": false,
     "start_time": "2024-01-03T11:26:40.855504",
     "status": "completed"
    },
    "tags": []
   },
   "outputs": [
    {
     "data": {
      "text/plain": [
       "Index(['PassengerId', 'Survived', 'Pclass', 'Name', 'Sex', 'Age', 'SibSp',\n",
       "       'Parch', 'Ticket', 'Fare', 'Cabin', 'Embarked'],\n",
       "      dtype='object')"
      ]
     },
     "execution_count": 9,
     "metadata": {},
     "output_type": "execute_result"
    }
   ],
   "source": [
    "titanictrain.columns"
   ]
  },
  {
   "cell_type": "code",
   "execution_count": 10,
   "id": "265573ca",
   "metadata": {
    "execution": {
     "iopub.execute_input": "2024-01-03T11:26:40.910489Z",
     "iopub.status.busy": "2024-01-03T11:26:40.910133Z",
     "iopub.status.idle": "2024-01-03T11:26:41.936594Z",
     "shell.execute_reply": "2024-01-03T11:26:41.935561Z"
    },
    "papermill": {
     "duration": 1.044445,
     "end_time": "2024-01-03T11:26:41.938498",
     "exception": false,
     "start_time": "2024-01-03T11:26:40.894053",
     "status": "completed"
    },
    "tags": []
   },
   "outputs": [
    {
     "data": {
      "image/png": "[encoded data removed]",
      "text/plain": [
       "<Figure size 1000x800 with 9 Axes>"
      ]
     },
     "metadata": {},
     "output_type": "display_data"
    }
   ],
   "source": [
    "titanictrain.hist(figsize=(10,8))\n",
    "plt.show() "
   ]
  },
  {
   "cell_type": "code",
   "execution_count": 11,
   "id": "e2ab90f4",
   "metadata": {
    "execution": {
     "iopub.execute_input": "2024-01-03T11:26:41.970713Z",
     "iopub.status.busy": "2024-01-03T11:26:41.970350Z",
     "iopub.status.idle": "2024-01-03T11:26:41.980647Z",
     "shell.execute_reply": "2024-01-03T11:26:41.979468Z"
    },
    "papermill": {
     "duration": 0.02842,
     "end_time": "2024-01-03T11:26:41.982418",
     "exception": false,
     "start_time": "2024-01-03T11:26:41.953998",
     "status": "completed"
    },
    "tags": []
   },
   "outputs": [
    {
     "data": {
      "text/plain": [
       "Cabin\n",
       "B96 B98        4\n",
       "G6             4\n",
       "C23 C25 C27    4\n",
       "C22 C26        3\n",
       "F33            3\n",
       "              ..\n",
       "E34            1\n",
       "C7             1\n",
       "C54            1\n",
       "E36            1\n",
       "C148           1\n",
       "Name: count, Length: 147, dtype: int64"
      ]
     },
     "execution_count": 11,
     "metadata": {},
     "output_type": "execute_result"
    }
   ],
   "source": [
    "titanictrain['Cabin'].value_counts()"
   ]
  },
  {
   "cell_type": "code",
   "execution_count": 12,
   "id": "78dbd787",
   "metadata": {
    "execution": {
     "iopub.execute_input": "2024-01-03T11:26:42.015961Z",
     "iopub.status.busy": "2024-01-03T11:26:42.015597Z",
     "iopub.status.idle": "2024-01-03T11:26:42.023300Z",
     "shell.execute_reply": "2024-01-03T11:26:42.022413Z"
    },
    "papermill": {
     "duration": 0.026676,
     "end_time": "2024-01-03T11:26:42.025038",
     "exception": false,
     "start_time": "2024-01-03T11:26:41.998362",
     "status": "completed"
    },
    "tags": []
   },
   "outputs": [
    {
     "data": {
      "text/plain": [
       "PassengerId      0\n",
       "Survived         0\n",
       "Pclass           0\n",
       "Name             0\n",
       "Sex              0\n",
       "Age            177\n",
       "SibSp            0\n",
       "Parch            0\n",
       "Ticket           0\n",
       "Fare             0\n",
       "Cabin          687\n",
       "Embarked         2\n",
       "dtype: int64"
      ]
     },
     "execution_count": 12,
     "metadata": {},
     "output_type": "execute_result"
    }
   ],
   "source": [
    "titanictrain.isna().sum()"
   ]
  },
  {
   "cell_type": "code",
   "execution_count": 13,
   "id": "c18004a3",
   "metadata": {
    "execution": {
     "iopub.execute_input": "2024-01-03T11:26:42.057814Z",
     "iopub.status.busy": "2024-01-03T11:26:42.057446Z",
     "iopub.status.idle": "2024-01-03T11:26:42.065110Z",
     "shell.execute_reply": "2024-01-03T11:26:42.064240Z"
    },
    "papermill": {
     "duration": 0.026888,
     "end_time": "2024-01-03T11:26:42.067425",
     "exception": false,
     "start_time": "2024-01-03T11:26:42.040537",
     "status": "completed"
    },
    "tags": []
   },
   "outputs": [
    {
     "data": {
      "text/plain": [
       "PassengerId      0\n",
       "Pclass           0\n",
       "Name             0\n",
       "Sex              0\n",
       "Age             86\n",
       "SibSp            0\n",
       "Parch            0\n",
       "Ticket           0\n",
       "Fare             1\n",
       "Cabin          327\n",
       "Embarked         0\n",
       "dtype: int64"
      ]
     },
     "execution_count": 13,
     "metadata": {},
     "output_type": "execute_result"
    }
   ],
   "source": [
    "titanictest.isna().sum()"
   ]
  },
  {
   "cell_type": "code",
   "execution_count": 14,
   "id": "40f5a431",
   "metadata": {
    "execution": {
     "iopub.execute_input": "2024-01-03T11:26:42.102891Z",
     "iopub.status.busy": "2024-01-03T11:26:42.102493Z",
     "iopub.status.idle": "2024-01-03T11:26:42.264609Z",
     "shell.execute_reply": "2024-01-03T11:26:42.263521Z"
    },
    "papermill": {
     "duration": 0.182783,
     "end_time": "2024-01-03T11:26:42.266492",
     "exception": false,
     "start_time": "2024-01-03T11:26:42.083709",
     "status": "completed"
    },
    "tags": []
   },
   "outputs": [
    {
     "data": {
      "image/png": "[encoded data removed]",
      "text/plain": [
       "<Figure size 640x480 with 1 Axes>"
      ]
     },
     "metadata": {},
     "output_type": "display_data"
    }
   ],
   "source": [
    "sns.countplot(x='Pclass', data=titanictrain)\n",
    "plt.title('Passenger Count by Pclass')\n",
    "plt.show()"
   ]
  },
  {
   "cell_type": "code",
   "execution_count": 15,
   "id": "42065b80",
   "metadata": {
    "execution": {
     "iopub.execute_input": "2024-01-03T11:26:42.301515Z",
     "iopub.status.busy": "2024-01-03T11:26:42.301144Z",
     "iopub.status.idle": "2024-01-03T11:26:42.457686Z",
     "shell.execute_reply": "2024-01-03T11:26:42.456644Z"
    },
    "papermill": {
     "duration": 0.176778,
     "end_time": "2024-01-03T11:26:42.459735",
     "exception": false,
     "start_time": "2024-01-03T11:26:42.282957",
     "status": "completed"
    },
    "tags": []
   },
   "outputs": [
    {
     "data": {
      "image/png": "[encoded data removed]",
      "text/plain": [
       "<Figure size 640x480 with 1 Axes>"
      ]
     },
     "metadata": {},
     "output_type": "display_data"
    }
   ],
   "source": [
    "sns.countplot(x='Sex', data=titanictrain)\n",
    "plt.title('Passenger Count by Sex')\n",
    "plt.show()"
   ]
  },
  {
   "cell_type": "code",
   "execution_count": 16,
   "id": "24c58b47",
   "metadata": {
    "execution": {
     "iopub.execute_input": "2024-01-03T11:26:42.493879Z",
     "iopub.status.busy": "2024-01-03T11:26:42.493561Z",
     "iopub.status.idle": "2024-01-03T11:26:42.636177Z",
     "shell.execute_reply": "2024-01-03T11:26:42.635277Z"
    },
    "papermill": {
     "duration": 0.16221,
     "end_time": "2024-01-03T11:26:42.638336",
     "exception": false,
     "start_time": "2024-01-03T11:26:42.476126",
     "status": "completed"
    },
    "tags": []
   },
   "outputs": [
    {
     "data": {
      "image/png": "[encoded data removed]",
      "text/plain": [
       "<Figure size 640x480 with 1 Axes>"
      ]
     },
     "metadata": {},
     "output_type": "display_data"
    }
   ],
   "source": [
    "sns.countplot(x='Embarked', data=titanictrain)\n",
    "plt.title('Passenger Count by Embarked')\n",
    "plt.show()"
   ]
  },
  {
   "cell_type": "code",
   "execution_count": 17,
   "id": "be968559",
   "metadata": {
    "execution": {
     "iopub.execute_input": "2024-01-03T11:26:42.672877Z",
     "iopub.status.busy": "2024-01-03T11:26:42.672499Z",
     "iopub.status.idle": "2024-01-03T11:26:42.798083Z",
     "shell.execute_reply": "2024-01-03T11:26:42.796973Z"
    },
    "papermill": {
     "duration": 0.1457,
     "end_time": "2024-01-03T11:26:42.800674",
     "exception": false,
     "start_time": "2024-01-03T11:26:42.654974",
     "status": "completed"
    },
    "tags": []
   },
   "outputs": [
    {
     "data": {
      "image/png": "[encoded data removed]",
      "text/plain": [
       "<Figure size 640x480 with 1 Axes>"
      ]
     },
     "metadata": {},
     "output_type": "display_data"
    }
   ],
   "source": [
    "# Countplot for 'Survived'\n",
    "sns.countplot(x='Survived', data=titanictrain)\n",
    "plt.title('Survival Count')\n",
    "plt.show()"
   ]
  },
  {
   "cell_type": "code",
   "execution_count": 18,
   "id": "7b0b0c10",
   "metadata": {
    "execution": {
     "iopub.execute_input": "2024-01-03T11:26:42.835743Z",
     "iopub.status.busy": "2024-01-03T11:26:42.835395Z",
     "iopub.status.idle": "2024-01-03T11:26:43.117737Z",
     "shell.execute_reply": "2024-01-03T11:26:43.116860Z"
    },
    "papermill": {
     "duration": 0.302075,
     "end_time": "2024-01-03T11:26:43.119720",
     "exception": false,
     "start_time": "2024-01-03T11:26:42.817645",
     "status": "completed"
    },
    "tags": []
   },
   "outputs": [
    {
     "data": {
      "image/png": "[encoded data removed]",
      "text/plain": [
       "<Figure size 640x480 with 1 Axes>"
      ]
     },
     "metadata": {},
     "output_type": "display_data"
    }
   ],
   "source": [
    "# Histogram for 'Age'\n",
    "sns.histplot(titanictrain['Age'].dropna(), bins=30, kde=True)\n",
    "plt.title('Age Distribution')\n",
    "plt.xlabel('Age')\n",
    "plt.show()"
   ]
  },
  {
   "cell_type": "code",
   "execution_count": 19,
   "id": "a3dd08db",
   "metadata": {
    "execution": {
     "iopub.execute_input": "2024-01-03T11:26:43.155992Z",
     "iopub.status.busy": "2024-01-03T11:26:43.155494Z",
     "iopub.status.idle": "2024-01-03T11:26:43.186731Z",
     "shell.execute_reply": "2024-01-03T11:26:43.185403Z"
    },
    "papermill": {
     "duration": 0.05188,
     "end_time": "2024-01-03T11:26:43.188697",
     "exception": false,
     "start_time": "2024-01-03T11:26:43.136817",
     "status": "completed"
    },
    "tags": []
   },
   "outputs": [
    {
     "name": "stdout",
     "output_type": "stream",
     "text": [
      "Survived    0    1  Total\n",
      "Pclass                   \n",
      "1          80  136    216\n",
      "2          97   87    184\n",
      "3         372  119    491\n",
      "Total     549  342    891\n"
     ]
    }
   ],
   "source": [
    "# Cross-tabulation between 'Pclass' and 'Survived'\n",
    "pclass_survived_cross = pd.crosstab(titanictrain['Pclass'], titanictrain['Survived'], margins=True, margins_name=\"Total\")\n",
    "\n",
    "# Display the cross-tabulation\n",
    "print(pclass_survived_cross)"
   ]
  },
  {
   "cell_type": "code",
   "execution_count": 20,
   "id": "185dfa70",
   "metadata": {
    "execution": {
     "iopub.execute_input": "2024-01-03T11:26:43.224052Z",
     "iopub.status.busy": "2024-01-03T11:26:43.223686Z",
     "iopub.status.idle": "2024-01-03T11:26:43.514421Z",
     "shell.execute_reply": "2024-01-03T11:26:43.513610Z"
    },
    "papermill": {
     "duration": 0.310818,
     "end_time": "2024-01-03T11:26:43.516772",
     "exception": false,
     "start_time": "2024-01-03T11:26:43.205954",
     "status": "completed"
    },
    "tags": []
   },
   "outputs": [
    {
     "data": {
      "image/png": "[encoded data removed]",
      "text/plain": [
       "<Figure size 640x480 with 1 Axes>"
      ]
     },
     "metadata": {},
     "output_type": "display_data"
    }
   ],
   "source": [
    "# Stacked bar plot for 'Pclass' and 'Survived'\n",
    "pclass_survived_cross.drop('Total').plot(kind='bar', stacked=True)\n",
    "plt.title('Survival Count by Pclass')\n",
    "plt.xlabel('Pclass')\n",
    "plt.ylabel('Count')\n",
    "plt.show()"
   ]
  },
  {
   "cell_type": "code",
   "execution_count": 21,
   "id": "2731c0b8",
   "metadata": {
    "execution": {
     "iopub.execute_input": "2024-01-03T11:26:43.552906Z",
     "iopub.status.busy": "2024-01-03T11:26:43.552481Z",
     "iopub.status.idle": "2024-01-03T11:26:43.584737Z",
     "shell.execute_reply": "2024-01-03T11:26:43.583526Z"
    },
    "papermill": {
     "duration": 0.052819,
     "end_time": "2024-01-03T11:26:43.587172",
     "exception": false,
     "start_time": "2024-01-03T11:26:43.534353",
     "status": "completed"
    },
    "tags": []
   },
   "outputs": [
    {
     "name": "stdout",
     "output_type": "stream",
     "text": [
      "Cabin_Status  Available  Not Available  Total\n",
      "Survived                                     \n",
      "0                    68            481    549\n",
      "1                   136            206    342\n",
      "Total               204            687    891\n"
     ]
    }
   ],
   "source": [
    "# Create a new column indicating whether Cabin information is available or not\n",
    "titanictrain['Cabin_Status'] = titanictrain['Cabin'].apply(lambda x: 'Available' if pd.notna(x) else 'Not Available')\n",
    "\n",
    "# Cross-tabulation between 'Survived' and 'Cabin_Status'\n",
    "survived_cabin_cross = pd.crosstab(titanictrain['Survived'], titanictrain['Cabin_Status'], margins=True, margins_name=\"Total\")\n",
    "\n",
    "# Display the cross-tabulation\n",
    "print(survived_cabin_cross)"
   ]
  },
  {
   "cell_type": "code",
   "execution_count": 22,
   "id": "b777d271",
   "metadata": {
    "execution": {
     "iopub.execute_input": "2024-01-03T11:26:43.624877Z",
     "iopub.status.busy": "2024-01-03T11:26:43.624543Z",
     "iopub.status.idle": "2024-01-03T11:26:43.630867Z",
     "shell.execute_reply": "2024-01-03T11:26:43.629542Z"
    },
    "papermill": {
     "duration": 0.027322,
     "end_time": "2024-01-03T11:26:43.632887",
     "exception": false,
     "start_time": "2024-01-03T11:26:43.605565",
     "status": "completed"
    },
    "tags": []
   },
   "outputs": [],
   "source": [
    "titanictest['Cabin_Status'] = titanictest['Cabin'].apply(lambda x: 'Available' if pd.notna(x) else 'Not Available')"
   ]
  },
  {
   "cell_type": "code",
   "execution_count": 23,
   "id": "40c5a327",
   "metadata": {
    "execution": {
     "iopub.execute_input": "2024-01-03T11:26:43.668878Z",
     "iopub.status.busy": "2024-01-03T11:26:43.668547Z",
     "iopub.status.idle": "2024-01-03T11:26:43.854047Z",
     "shell.execute_reply": "2024-01-03T11:26:43.853131Z"
    },
    "papermill": {
     "duration": 0.206149,
     "end_time": "2024-01-03T11:26:43.856599",
     "exception": false,
     "start_time": "2024-01-03T11:26:43.650450",
     "status": "completed"
    },
    "tags": []
   },
   "outputs": [
    {
     "data": {
      "image/png": "[encoded data removed]",
      "text/plain": [
       "<Figure size 640x480 with 1 Axes>"
      ]
     },
     "metadata": {},
     "output_type": "display_data"
    }
   ],
   "source": [
    "# Stacked bar plot\n",
    "survived_cabin_cross.drop('Total').plot(kind='bar', stacked=True, color=['red', 'green'])\n",
    "plt.title('Survival Count based on Cabin Availability')\n",
    "plt.xlabel('Survived')\n",
    "plt.ylabel('Count')\n",
    "plt.legend(title='Cabin Status', loc='upper right', labels=['Not Available', 'Available'])\n",
    "plt.show()"
   ]
  },
  {
   "cell_type": "code",
   "execution_count": 24,
   "id": "21623e4d",
   "metadata": {
    "execution": {
     "iopub.execute_input": "2024-01-03T11:26:43.895912Z",
     "iopub.status.busy": "2024-01-03T11:26:43.895562Z",
     "iopub.status.idle": "2024-01-03T11:26:43.933502Z",
     "shell.execute_reply": "2024-01-03T11:26:43.932226Z"
    },
    "papermill": {
     "duration": 0.060571,
     "end_time": "2024-01-03T11:26:43.935684",
     "exception": false,
     "start_time": "2024-01-03T11:26:43.875113",
     "status": "completed"
    },
    "tags": []
   },
   "outputs": [
    {
     "name": "stdout",
     "output_type": "stream",
     "text": [
      "Survived         0    1  Total\n",
      "Fare_Category                 \n",
      "0-50           497  233    730\n",
      "51-100          38   70    108\n",
      "101-150          5   19     24\n",
      "151-200          3    6      9\n",
      "201-250          4    7     11\n",
      "251-300          2    4      6\n",
      "500+             0    3      3\n",
      "Total          549  342    891\n"
     ]
    }
   ],
   "source": [
    "fare_bins = [0, 50, 100, 150, 200, 250, 300, 400, 500, float('inf')]\n",
    "fare_labels = ['0-50', '51-100', '101-150', '151-200', '201-250', '251-300', '301-400', '401-500', '500+']\n",
    "\n",
    "titanictrain['Fare_Category'] = pd.cut(titanictrain['Fare'], bins=fare_bins, labels=fare_labels, right=False)\n",
    "\n",
    "# Cross-tabulation between 'Fare_Category' and 'Survived'\n",
    "fare_survived_cross = pd.crosstab(titanictrain['Fare_Category'], titanictrain['Survived'], margins=True, margins_name=\"Total\")\n",
    "\n",
    "# Display the cross-tabulation\n",
    "print(fare_survived_cross)"
   ]
  },
  {
   "cell_type": "code",
   "execution_count": 25,
   "id": "424dbf32",
   "metadata": {
    "execution": {
     "iopub.execute_input": "2024-01-03T11:26:43.972721Z",
     "iopub.status.busy": "2024-01-03T11:26:43.972328Z",
     "iopub.status.idle": "2024-01-03T11:26:43.979683Z",
     "shell.execute_reply": "2024-01-03T11:26:43.978789Z"
    },
    "papermill": {
     "duration": 0.028524,
     "end_time": "2024-01-03T11:26:43.982189",
     "exception": false,
     "start_time": "2024-01-03T11:26:43.953665",
     "status": "completed"
    },
    "tags": []
   },
   "outputs": [],
   "source": [
    "fare_bins = [0, 50, 100, 150, 200, 250, 300, 400, 500, float('inf')]\n",
    "fare_labels = ['0-50', '51-100', '101-150', '151-200', '201-250', '251-300', '301-400', '401-500', '500+']\n",
    "\n",
    "titanictest['Fare_Category'] = pd.cut(titanictest['Fare'], bins=fare_bins, labels=fare_labels, right=False)"
   ]
  },
  {
   "cell_type": "code",
   "execution_count": 26,
   "id": "a044bdd6",
   "metadata": {
    "execution": {
     "iopub.execute_input": "2024-01-03T11:26:44.021218Z",
     "iopub.status.busy": "2024-01-03T11:26:44.020893Z",
     "iopub.status.idle": "2024-01-03T11:26:44.050008Z",
     "shell.execute_reply": "2024-01-03T11:26:44.048458Z"
    },
    "papermill": {
     "duration": 0.051005,
     "end_time": "2024-01-03T11:26:44.052350",
     "exception": false,
     "start_time": "2024-01-03T11:26:44.001345",
     "status": "completed"
    },
    "tags": []
   },
   "outputs": [
    {
     "name": "stdout",
     "output_type": "stream",
     "text": [
      "Survived    0    1  Total\n",
      "Sex                      \n",
      "female     81  233    314\n",
      "male      468  109    577\n",
      "Total     549  342    891\n"
     ]
    }
   ],
   "source": [
    "# Cross-tabulation between 'Sex' and 'Survived'\n",
    "sex_survived_cross = pd.crosstab(titanictrain['Sex'], titanictrain['Survived'], margins=True, margins_name=\"Total\")\n",
    "\n",
    "# Display the cross-tabulation\n",
    "print(sex_survived_cross)"
   ]
  },
  {
   "cell_type": "code",
   "execution_count": 27,
   "id": "41bed3a8",
   "metadata": {
    "execution": {
     "iopub.execute_input": "2024-01-03T11:26:44.091146Z",
     "iopub.status.busy": "2024-01-03T11:26:44.090245Z",
     "iopub.status.idle": "2024-01-03T11:26:44.106405Z",
     "shell.execute_reply": "2024-01-03T11:26:44.104959Z"
    },
    "papermill": {
     "duration": 0.038155,
     "end_time": "2024-01-03T11:26:44.108851",
     "exception": false,
     "start_time": "2024-01-03T11:26:44.070696",
     "status": "completed"
    },
    "tags": []
   },
   "outputs": [
    {
     "data": {
      "text/html": [
       "<div>\n",
       "<style scoped>\n",
       "    .dataframe tbody tr th:only-of-type {\n",
       "        vertical-align: middle;\n",
       "    }\n",
       "\n",
       "    .dataframe tbody tr th {\n",
       "        vertical-align: top;\n",
       "    }\n",
       "\n",
       "    .dataframe thead th {\n",
       "        text-align: right;\n",
       "    }\n",
       "</style>\n",
       "<table border=\"1\" class=\"dataframe\">\n",
       "  <thead>\n",
       "    <tr style=\"text-align: right;\">\n",
       "      <th></th>\n",
       "      <th>PassengerId</th>\n",
       "      <th>Survived</th>\n",
       "      <th>Pclass</th>\n",
       "      <th>Name</th>\n",
       "      <th>Sex</th>\n",
       "      <th>Age</th>\n",
       "      <th>SibSp</th>\n",
       "      <th>Parch</th>\n",
       "      <th>Ticket</th>\n",
       "      <th>Fare</th>\n",
       "      <th>Cabin</th>\n",
       "      <th>Embarked</th>\n",
       "      <th>Cabin_Status</th>\n",
       "      <th>Fare_Category</th>\n",
       "    </tr>\n",
       "  </thead>\n",
       "  <tbody>\n",
       "    <tr>\n",
       "      <th>0</th>\n",
       "      <td>1</td>\n",
       "      <td>0</td>\n",
       "      <td>3</td>\n",
       "      <td>Braund, Mr. Owen Harris</td>\n",
       "      <td>male</td>\n",
       "      <td>22.0</td>\n",
       "      <td>1</td>\n",
       "      <td>0</td>\n",
       "      <td>A/5 21171</td>\n",
       "      <td>7.2500</td>\n",
       "      <td>NaN</td>\n",
       "      <td>S</td>\n",
       "      <td>Not Available</td>\n",
       "      <td>0-50</td>\n",
       "    </tr>\n",
       "    <tr>\n",
       "      <th>1</th>\n",
       "      <td>2</td>\n",
       "      <td>1</td>\n",
       "      <td>1</td>\n",
       "      <td>Cumings, Mrs. John Bradley (Florence Briggs Th...</td>\n",
       "      <td>female</td>\n",
       "      <td>38.0</td>\n",
       "      <td>1</td>\n",
       "      <td>0</td>\n",
       "      <td>PC 17599</td>\n",
       "      <td>71.2833</td>\n",
       "      <td>C85</td>\n",
       "      <td>C</td>\n",
       "      <td>Available</td>\n",
       "      <td>51-100</td>\n",
       "    </tr>\n",
       "    <tr>\n",
       "      <th>2</th>\n",
       "      <td>3</td>\n",
       "      <td>1</td>\n",
       "      <td>3</td>\n",
       "      <td>Heikkinen, Miss. Laina</td>\n",
       "      <td>female</td>\n",
       "      <td>26.0</td>\n",
       "      <td>0</td>\n",
       "      <td>0</td>\n",
       "      <td>STON/O2. 3101282</td>\n",
       "      <td>7.9250</td>\n",
       "      <td>NaN</td>\n",
       "      <td>S</td>\n",
       "      <td>Not Available</td>\n",
       "      <td>0-50</td>\n",
       "    </tr>\n",
       "    <tr>\n",
       "      <th>3</th>\n",
       "      <td>4</td>\n",
       "      <td>1</td>\n",
       "      <td>1</td>\n",
       "      <td>Futrelle, Mrs. Jacques Heath (Lily May Peel)</td>\n",
       "      <td>female</td>\n",
       "      <td>35.0</td>\n",
       "      <td>1</td>\n",
       "      <td>0</td>\n",
       "      <td>113803</td>\n",
       "      <td>53.1000</td>\n",
       "      <td>C123</td>\n",
       "      <td>S</td>\n",
       "      <td>Available</td>\n",
       "      <td>51-100</td>\n",
       "    </tr>\n",
       "    <tr>\n",
       "      <th>4</th>\n",
       "      <td>5</td>\n",
       "      <td>0</td>\n",
       "      <td>3</td>\n",
       "      <td>Allen, Mr. William Henry</td>\n",
       "      <td>male</td>\n",
       "      <td>35.0</td>\n",
       "      <td>0</td>\n",
       "      <td>0</td>\n",
       "      <td>373450</td>\n",
       "      <td>8.0500</td>\n",
       "      <td>NaN</td>\n",
       "      <td>S</td>\n",
       "      <td>Not Available</td>\n",
       "      <td>0-50</td>\n",
       "    </tr>\n",
       "  </tbody>\n",
       "</table>\n",
       "</div>"
      ],
      "text/plain": [
       "   PassengerId  Survived  Pclass  \\\n",
       "0            1         0       3   \n",
       "1            2         1       1   \n",
       "2            3         1       3   \n",
       "3            4         1       1   \n",
       "4            5         0       3   \n",
       "\n",
       "                                                Name     Sex   Age  SibSp  \\\n",
       "0                            Braund, Mr. Owen Harris    male  22.0      1   \n",
       "1  Cumings, Mrs. John Bradley (Florence Briggs Th...  female  38.0      1   \n",
       "2                             Heikkinen, Miss. Laina  female  26.0      0   \n",
       "3       Futrelle, Mrs. Jacques Heath (Lily May Peel)  female  35.0      1   \n",
       "4                           Allen, Mr. William Henry    male  35.0      0   \n",
       "\n",
       "   Parch            Ticket     Fare Cabin Embarked   Cabin_Status  \\\n",
       "0      0         A/5 21171   7.2500   NaN        S  Not Available   \n",
       "1      0          PC 17599  71.2833   C85        C      Available   \n",
       "2      0  STON/O2. 3101282   7.9250   NaN        S  Not Available   \n",
       "3      0            113803  53.1000  C123        S      Available   \n",
       "4      0            373450   8.0500   NaN        S  Not Available   \n",
       "\n",
       "  Fare_Category  \n",
       "0          0-50  \n",
       "1        51-100  \n",
       "2          0-50  \n",
       "3        51-100  \n",
       "4          0-50  "
      ]
     },
     "execution_count": 27,
     "metadata": {},
     "output_type": "execute_result"
    }
   ],
   "source": [
    "titanictrain.head()"
   ]
  },
  {
   "cell_type": "code",
   "execution_count": 28,
   "id": "1fdb0527",
   "metadata": {
    "execution": {
     "iopub.execute_input": "2024-01-03T11:26:44.149320Z",
     "iopub.status.busy": "2024-01-03T11:26:44.148753Z",
     "iopub.status.idle": "2024-01-03T11:26:44.163709Z",
     "shell.execute_reply": "2024-01-03T11:26:44.163016Z"
    },
    "papermill": {
     "duration": 0.038036,
     "end_time": "2024-01-03T11:26:44.165535",
     "exception": false,
     "start_time": "2024-01-03T11:26:44.127499",
     "status": "completed"
    },
    "tags": []
   },
   "outputs": [
    {
     "data": {
      "text/html": [
       "<div>\n",
       "<style scoped>\n",
       "    .dataframe tbody tr th:only-of-type {\n",
       "        vertical-align: middle;\n",
       "    }\n",
       "\n",
       "    .dataframe tbody tr th {\n",
       "        vertical-align: top;\n",
       "    }\n",
       "\n",
       "    .dataframe thead th {\n",
       "        text-align: right;\n",
       "    }\n",
       "</style>\n",
       "<table border=\"1\" class=\"dataframe\">\n",
       "  <thead>\n",
       "    <tr style=\"text-align: right;\">\n",
       "      <th></th>\n",
       "      <th>PassengerId</th>\n",
       "      <th>Pclass</th>\n",
       "      <th>Name</th>\n",
       "      <th>Sex</th>\n",
       "      <th>Age</th>\n",
       "      <th>SibSp</th>\n",
       "      <th>Parch</th>\n",
       "      <th>Ticket</th>\n",
       "      <th>Fare</th>\n",
       "      <th>Cabin</th>\n",
       "      <th>Embarked</th>\n",
       "      <th>Cabin_Status</th>\n",
       "      <th>Fare_Category</th>\n",
       "    </tr>\n",
       "  </thead>\n",
       "  <tbody>\n",
       "    <tr>\n",
       "      <th>0</th>\n",
       "      <td>892</td>\n",
       "      <td>3</td>\n",
       "      <td>Kelly, Mr. James</td>\n",
       "      <td>male</td>\n",
       "      <td>34.5</td>\n",
       "      <td>0</td>\n",
       "      <td>0</td>\n",
       "      <td>330911</td>\n",
       "      <td>7.8292</td>\n",
       "      <td>NaN</td>\n",
       "      <td>Q</td>\n",
       "      <td>Not Available</td>\n",
       "      <td>0-50</td>\n",
       "    </tr>\n",
       "    <tr>\n",
       "      <th>1</th>\n",
       "      <td>893</td>\n",
       "      <td>3</td>\n",
       "      <td>Wilkes, Mrs. James (Ellen Needs)</td>\n",
       "      <td>female</td>\n",
       "      <td>47.0</td>\n",
       "      <td>1</td>\n",
       "      <td>0</td>\n",
       "      <td>363272</td>\n",
       "      <td>7.0000</td>\n",
       "      <td>NaN</td>\n",
       "      <td>S</td>\n",
       "      <td>Not Available</td>\n",
       "      <td>0-50</td>\n",
       "    </tr>\n",
       "    <tr>\n",
       "      <th>2</th>\n",
       "      <td>894</td>\n",
       "      <td>2</td>\n",
       "      <td>Myles, Mr. Thomas Francis</td>\n",
       "      <td>male</td>\n",
       "      <td>62.0</td>\n",
       "      <td>0</td>\n",
       "      <td>0</td>\n",
       "      <td>240276</td>\n",
       "      <td>9.6875</td>\n",
       "      <td>NaN</td>\n",
       "      <td>Q</td>\n",
       "      <td>Not Available</td>\n",
       "      <td>0-50</td>\n",
       "    </tr>\n",
       "    <tr>\n",
       "      <th>3</th>\n",
       "      <td>895</td>\n",
       "      <td>3</td>\n",
       "      <td>Wirz, Mr. Albert</td>\n",
       "      <td>male</td>\n",
       "      <td>27.0</td>\n",
       "      <td>0</td>\n",
       "      <td>0</td>\n",
       "      <td>315154</td>\n",
       "      <td>8.6625</td>\n",
       "      <td>NaN</td>\n",
       "      <td>S</td>\n",
       "      <td>Not Available</td>\n",
       "      <td>0-50</td>\n",
       "    </tr>\n",
       "    <tr>\n",
       "      <th>4</th>\n",
       "      <td>896</td>\n",
       "      <td>3</td>\n",
       "      <td>Hirvonen, Mrs. Alexander (Helga E Lindqvist)</td>\n",
       "      <td>female</td>\n",
       "      <td>22.0</td>\n",
       "      <td>1</td>\n",
       "      <td>1</td>\n",
       "      <td>3101298</td>\n",
       "      <td>12.2875</td>\n",
       "      <td>NaN</td>\n",
       "      <td>S</td>\n",
       "      <td>Not Available</td>\n",
       "      <td>0-50</td>\n",
       "    </tr>\n",
       "  </tbody>\n",
       "</table>\n",
       "</div>"
      ],
      "text/plain": [
       "   PassengerId  Pclass                                          Name     Sex  \\\n",
       "0          892       3                              Kelly, Mr. James    male   \n",
       "1          893       3              Wilkes, Mrs. James (Ellen Needs)  female   \n",
       "2          894       2                     Myles, Mr. Thomas Francis    male   \n",
       "3          895       3                              Wirz, Mr. Albert    male   \n",
       "4          896       3  Hirvonen, Mrs. Alexander (Helga E Lindqvist)  female   \n",
       "\n",
       "    Age  SibSp  Parch   Ticket     Fare Cabin Embarked   Cabin_Status  \\\n",
       "0  34.5      0      0   330911   7.8292   NaN        Q  Not Available   \n",
       "1  47.0      1      0   363272   7.0000   NaN        S  Not Available   \n",
       "2  62.0      0      0   240276   9.6875   NaN        Q  Not Available   \n",
       "3  27.0      0      0   315154   8.6625   NaN        S  Not Available   \n",
       "4  22.0      1      1  3101298  12.2875   NaN        S  Not Available   \n",
       "\n",
       "  Fare_Category  \n",
       "0          0-50  \n",
       "1          0-50  \n",
       "2          0-50  \n",
       "3          0-50  \n",
       "4          0-50  "
      ]
     },
     "execution_count": 28,
     "metadata": {},
     "output_type": "execute_result"
    }
   ],
   "source": [
    "titanictest.head()"
   ]
  },
  {
   "cell_type": "markdown",
   "id": "c5689d1d",
   "metadata": {
    "papermill": {
     "duration": 0.017813,
     "end_time": "2024-01-03T11:26:44.201961",
     "exception": false,
     "start_time": "2024-01-03T11:26:44.184148",
     "status": "completed"
    },
    "tags": []
   },
   "source": [
    "# Getting the data ready for macchine learning algorithms"
   ]
  },
  {
   "cell_type": "code",
   "execution_count": 29,
   "id": "5c34d9cf",
   "metadata": {
    "execution": {
     "iopub.execute_input": "2024-01-03T11:26:44.241044Z",
     "iopub.status.busy": "2024-01-03T11:26:44.240451Z",
     "iopub.status.idle": "2024-01-03T11:26:44.246169Z",
     "shell.execute_reply": "2024-01-03T11:26:44.244756Z"
    },
    "papermill": {
     "duration": 0.028245,
     "end_time": "2024-01-03T11:26:44.248781",
     "exception": false,
     "start_time": "2024-01-03T11:26:44.220536",
     "status": "completed"
    },
    "tags": []
   },
   "outputs": [],
   "source": [
    "titanictrain = titanictrain.drop(['Name', 'Ticket', 'Cabin'], axis=1)"
   ]
  },
  {
   "cell_type": "code",
   "execution_count": 30,
   "id": "73af26da",
   "metadata": {
    "execution": {
     "iopub.execute_input": "2024-01-03T11:26:44.288244Z",
     "iopub.status.busy": "2024-01-03T11:26:44.287921Z",
     "iopub.status.idle": "2024-01-03T11:26:44.293890Z",
     "shell.execute_reply": "2024-01-03T11:26:44.292587Z"
    },
    "papermill": {
     "duration": 0.028102,
     "end_time": "2024-01-03T11:26:44.295957",
     "exception": false,
     "start_time": "2024-01-03T11:26:44.267855",
     "status": "completed"
    },
    "tags": []
   },
   "outputs": [],
   "source": [
    "titanictest = titanictest.drop(['Name', 'Ticket', 'Cabin'], axis=1)"
   ]
  },
  {
   "cell_type": "code",
   "execution_count": 31,
   "id": "5d770257",
   "metadata": {
    "execution": {
     "iopub.execute_input": "2024-01-03T11:26:44.333457Z",
     "iopub.status.busy": "2024-01-03T11:26:44.333096Z",
     "iopub.status.idle": "2024-01-03T11:26:44.341216Z",
     "shell.execute_reply": "2024-01-03T11:26:44.339818Z"
    },
    "papermill": {
     "duration": 0.029454,
     "end_time": "2024-01-03T11:26:44.343448",
     "exception": false,
     "start_time": "2024-01-03T11:26:44.313994",
     "status": "completed"
    },
    "tags": []
   },
   "outputs": [
    {
     "data": {
      "text/plain": [
       "PassengerId        0\n",
       "Survived           0\n",
       "Pclass             0\n",
       "Sex                0\n",
       "Age              177\n",
       "SibSp              0\n",
       "Parch              0\n",
       "Fare               0\n",
       "Embarked           2\n",
       "Cabin_Status       0\n",
       "Fare_Category      0\n",
       "dtype: int64"
      ]
     },
     "execution_count": 31,
     "metadata": {},
     "output_type": "execute_result"
    }
   ],
   "source": [
    "titanictrain.isna().sum()"
   ]
  },
  {
   "cell_type": "code",
   "execution_count": 32,
   "id": "8844e7c2",
   "metadata": {
    "execution": {
     "iopub.execute_input": "2024-01-03T11:26:44.383287Z",
     "iopub.status.busy": "2024-01-03T11:26:44.382933Z",
     "iopub.status.idle": "2024-01-03T11:26:44.391240Z",
     "shell.execute_reply": "2024-01-03T11:26:44.390264Z"
    },
    "papermill": {
     "duration": 0.030635,
     "end_time": "2024-01-03T11:26:44.393591",
     "exception": false,
     "start_time": "2024-01-03T11:26:44.362956",
     "status": "completed"
    },
    "tags": []
   },
   "outputs": [
    {
     "data": {
      "text/plain": [
       "PassengerId       0\n",
       "Pclass            0\n",
       "Sex               0\n",
       "Age              86\n",
       "SibSp             0\n",
       "Parch             0\n",
       "Fare              1\n",
       "Embarked          0\n",
       "Cabin_Status      0\n",
       "Fare_Category     1\n",
       "dtype: int64"
      ]
     },
     "execution_count": 32,
     "metadata": {},
     "output_type": "execute_result"
    }
   ],
   "source": [
    "titanictest.isna().sum()"
   ]
  },
  {
   "cell_type": "markdown",
   "id": "c2c6520f",
   "metadata": {
    "papermill": {
     "duration": 0.018846,
     "end_time": "2024-01-03T11:26:44.431436",
     "exception": false,
     "start_time": "2024-01-03T11:26:44.412590",
     "status": "completed"
    },
    "tags": []
   },
   "source": [
    "### Filling missing values"
   ]
  },
  {
   "cell_type": "code",
   "execution_count": 33,
   "id": "2571ee71",
   "metadata": {
    "execution": {
     "iopub.execute_input": "2024-01-03T11:26:44.471624Z",
     "iopub.status.busy": "2024-01-03T11:26:44.471241Z",
     "iopub.status.idle": "2024-01-03T11:26:44.477252Z",
     "shell.execute_reply": "2024-01-03T11:26:44.476635Z"
    },
    "papermill": {
     "duration": 0.027886,
     "end_time": "2024-01-03T11:26:44.478754",
     "exception": false,
     "start_time": "2024-01-03T11:26:44.450868",
     "status": "completed"
    },
    "tags": []
   },
   "outputs": [],
   "source": [
    "median_age = titanictrain['Age'].median()\n",
    "titanictrain['Age'].fillna(median_age, inplace=True)\n"
   ]
  },
  {
   "cell_type": "code",
   "execution_count": 34,
   "id": "59f19002",
   "metadata": {
    "execution": {
     "iopub.execute_input": "2024-01-03T11:26:44.516905Z",
     "iopub.status.busy": "2024-01-03T11:26:44.515878Z",
     "iopub.status.idle": "2024-01-03T11:26:44.521654Z",
     "shell.execute_reply": "2024-01-03T11:26:44.520767Z"
    },
    "papermill": {
     "duration": 0.026984,
     "end_time": "2024-01-03T11:26:44.523926",
     "exception": false,
     "start_time": "2024-01-03T11:26:44.496942",
     "status": "completed"
    },
    "tags": []
   },
   "outputs": [],
   "source": [
    "median_age = titanictest['Age'].median()\n",
    "titanictest['Age'].fillna(median_age, inplace=True)"
   ]
  },
  {
   "cell_type": "code",
   "execution_count": 35,
   "id": "97753963",
   "metadata": {
    "execution": {
     "iopub.execute_input": "2024-01-03T11:26:44.563268Z",
     "iopub.status.busy": "2024-01-03T11:26:44.562349Z",
     "iopub.status.idle": "2024-01-03T11:26:44.569631Z",
     "shell.execute_reply": "2024-01-03T11:26:44.568479Z"
    },
    "papermill": {
     "duration": 0.028808,
     "end_time": "2024-01-03T11:26:44.571764",
     "exception": false,
     "start_time": "2024-01-03T11:26:44.542956",
     "status": "completed"
    },
    "tags": []
   },
   "outputs": [],
   "source": [
    "# Impute missing values for 'Fare' with the median or another suitable value\n",
    "titanictest['Fare'].fillna(titanictest['Fare'].median(), inplace=True)\n",
    "\n",
    "# Find the most frequent category in 'Fare_Category'\n",
    "most_frequent_category = titanictest['Fare_Category'].mode()[0]\n",
    "\n",
    "# Impute missing values with the most frequent category\n",
    "titanictest['Fare_Category'].fillna(most_frequent_category, inplace=True)"
   ]
  },
  {
   "cell_type": "code",
   "execution_count": 36,
   "id": "eddf4234",
   "metadata": {
    "execution": {
     "iopub.execute_input": "2024-01-03T11:26:44.609900Z",
     "iopub.status.busy": "2024-01-03T11:26:44.608894Z",
     "iopub.status.idle": "2024-01-03T11:26:44.618292Z",
     "shell.execute_reply": "2024-01-03T11:26:44.617125Z"
    },
    "papermill": {
     "duration": 0.029831,
     "end_time": "2024-01-03T11:26:44.620096",
     "exception": false,
     "start_time": "2024-01-03T11:26:44.590265",
     "status": "completed"
    },
    "tags": []
   },
   "outputs": [
    {
     "data": {
      "text/plain": [
       "0      S\n",
       "1      C\n",
       "2      S\n",
       "3      S\n",
       "4      S\n",
       "      ..\n",
       "886    S\n",
       "887    S\n",
       "888    S\n",
       "889    C\n",
       "890    Q\n",
       "Name: Embarked, Length: 891, dtype: object"
      ]
     },
     "execution_count": 36,
     "metadata": {},
     "output_type": "execute_result"
    }
   ],
   "source": [
    "titanictrain['Embarked']"
   ]
  },
  {
   "cell_type": "code",
   "execution_count": 37,
   "id": "8df7167f",
   "metadata": {
    "execution": {
     "iopub.execute_input": "2024-01-03T11:26:44.658221Z",
     "iopub.status.busy": "2024-01-03T11:26:44.657875Z",
     "iopub.status.idle": "2024-01-03T11:26:44.664812Z",
     "shell.execute_reply": "2024-01-03T11:26:44.663776Z"
    },
    "papermill": {
     "duration": 0.027767,
     "end_time": "2024-01-03T11:26:44.666530",
     "exception": false,
     "start_time": "2024-01-03T11:26:44.638763",
     "status": "completed"
    },
    "tags": []
   },
   "outputs": [
    {
     "data": {
      "text/plain": [
       "0"
      ]
     },
     "execution_count": 37,
     "metadata": {},
     "output_type": "execute_result"
    }
   ],
   "source": [
    "titanictest['Embarked'].isna().sum()"
   ]
  },
  {
   "cell_type": "code",
   "execution_count": 38,
   "id": "d20614c4",
   "metadata": {
    "execution": {
     "iopub.execute_input": "2024-01-03T11:26:44.705075Z",
     "iopub.status.busy": "2024-01-03T11:26:44.704317Z",
     "iopub.status.idle": "2024-01-03T11:26:44.710408Z",
     "shell.execute_reply": "2024-01-03T11:26:44.709484Z"
    },
    "papermill": {
     "duration": 0.028286,
     "end_time": "2024-01-03T11:26:44.713163",
     "exception": false,
     "start_time": "2024-01-03T11:26:44.684877",
     "status": "completed"
    },
    "tags": []
   },
   "outputs": [],
   "source": [
    "mode_embarked = titanictrain['Embarked'].mode()[0]\n",
    "\n",
    "# Impute missing values in 'Embarked' with the mode\n",
    "titanictrain['Embarked'].fillna(mode_embarked, inplace=True)"
   ]
  },
  {
   "cell_type": "code",
   "execution_count": 39,
   "id": "4cdafc7b",
   "metadata": {
    "execution": {
     "iopub.execute_input": "2024-01-03T11:26:44.753162Z",
     "iopub.status.busy": "2024-01-03T11:26:44.752856Z",
     "iopub.status.idle": "2024-01-03T11:26:44.762043Z",
     "shell.execute_reply": "2024-01-03T11:26:44.760786Z"
    },
    "papermill": {
     "duration": 0.031633,
     "end_time": "2024-01-03T11:26:44.764512",
     "exception": false,
     "start_time": "2024-01-03T11:26:44.732879",
     "status": "completed"
    },
    "tags": []
   },
   "outputs": [
    {
     "data": {
      "text/plain": [
       "PassengerId      0\n",
       "Survived         0\n",
       "Pclass           0\n",
       "Sex              0\n",
       "Age              0\n",
       "SibSp            0\n",
       "Parch            0\n",
       "Fare             0\n",
       "Embarked         0\n",
       "Cabin_Status     0\n",
       "Fare_Category    0\n",
       "dtype: int64"
      ]
     },
     "execution_count": 39,
     "metadata": {},
     "output_type": "execute_result"
    }
   ],
   "source": [
    "titanictrain.isna().sum()"
   ]
  },
  {
   "cell_type": "code",
   "execution_count": 40,
   "id": "5698605d",
   "metadata": {
    "execution": {
     "iopub.execute_input": "2024-01-03T11:26:44.803329Z",
     "iopub.status.busy": "2024-01-03T11:26:44.802978Z",
     "iopub.status.idle": "2024-01-03T11:26:44.810836Z",
     "shell.execute_reply": "2024-01-03T11:26:44.809912Z"
    },
    "papermill": {
     "duration": 0.028969,
     "end_time": "2024-01-03T11:26:44.812607",
     "exception": false,
     "start_time": "2024-01-03T11:26:44.783638",
     "status": "completed"
    },
    "tags": []
   },
   "outputs": [
    {
     "data": {
      "text/plain": [
       "PassengerId      0\n",
       "Pclass           0\n",
       "Sex              0\n",
       "Age              0\n",
       "SibSp            0\n",
       "Parch            0\n",
       "Fare             0\n",
       "Embarked         0\n",
       "Cabin_Status     0\n",
       "Fare_Category    0\n",
       "dtype: int64"
      ]
     },
     "execution_count": 40,
     "metadata": {},
     "output_type": "execute_result"
    }
   ],
   "source": [
    "titanictest.isna().sum()"
   ]
  },
  {
   "cell_type": "code",
   "execution_count": 41,
   "id": "c33cc110",
   "metadata": {
    "execution": {
     "iopub.execute_input": "2024-01-03T11:26:44.851242Z",
     "iopub.status.busy": "2024-01-03T11:26:44.850706Z",
     "iopub.status.idle": "2024-01-03T11:26:44.860413Z",
     "shell.execute_reply": "2024-01-03T11:26:44.859197Z"
    },
    "papermill": {
     "duration": 0.031733,
     "end_time": "2024-01-03T11:26:44.862792",
     "exception": false,
     "start_time": "2024-01-03T11:26:44.831059",
     "status": "completed"
    },
    "tags": []
   },
   "outputs": [
    {
     "name": "stdout",
     "output_type": "stream",
     "text": [
      "<class 'pandas.core.frame.DataFrame'>\n",
      "RangeIndex: 891 entries, 0 to 890\n",
      "Data columns (total 11 columns):\n",
      " #   Column         Non-Null Count  Dtype   \n",
      "---  ------         --------------  -----   \n",
      " 0   PassengerId    891 non-null    int64   \n",
      " 1   Survived       891 non-null    int64   \n",
      " 2   Pclass         891 non-null    int64   \n",
      " 3   Sex            891 non-null    object  \n",
      " 4   Age            891 non-null    float64 \n",
      " 5   SibSp          891 non-null    int64   \n",
      " 6   Parch          891 non-null    int64   \n",
      " 7   Fare           891 non-null    float64 \n",
      " 8   Embarked       891 non-null    object  \n",
      " 9   Cabin_Status   891 non-null    object  \n",
      " 10  Fare_Category  891 non-null    category\n",
      "dtypes: category(1), float64(2), int64(5), object(3)\n",
      "memory usage: 71.0+ KB\n"
     ]
    }
   ],
   "source": [
    "titanictrain.info()"
   ]
  },
  {
   "cell_type": "code",
   "execution_count": 42,
   "id": "64129c20",
   "metadata": {
    "execution": {
     "iopub.execute_input": "2024-01-03T11:26:44.904443Z",
     "iopub.status.busy": "2024-01-03T11:26:44.903869Z",
     "iopub.status.idle": "2024-01-03T11:26:44.913745Z",
     "shell.execute_reply": "2024-01-03T11:26:44.912541Z"
    },
    "papermill": {
     "duration": 0.03364,
     "end_time": "2024-01-03T11:26:44.916233",
     "exception": false,
     "start_time": "2024-01-03T11:26:44.882593",
     "status": "completed"
    },
    "tags": []
   },
   "outputs": [
    {
     "name": "stdout",
     "output_type": "stream",
     "text": [
      "<class 'pandas.core.frame.DataFrame'>\n",
      "RangeIndex: 418 entries, 0 to 417\n",
      "Data columns (total 10 columns):\n",
      " #   Column         Non-Null Count  Dtype   \n",
      "---  ------         --------------  -----   \n",
      " 0   PassengerId    418 non-null    int64   \n",
      " 1   Pclass         418 non-null    int64   \n",
      " 2   Sex            418 non-null    object  \n",
      " 3   Age            418 non-null    float64 \n",
      " 4   SibSp          418 non-null    int64   \n",
      " 5   Parch          418 non-null    int64   \n",
      " 6   Fare           418 non-null    float64 \n",
      " 7   Embarked       418 non-null    object  \n",
      " 8   Cabin_Status   418 non-null    object  \n",
      " 9   Fare_Category  418 non-null    category\n",
      "dtypes: category(1), float64(2), int64(4), object(3)\n",
      "memory usage: 30.3+ KB\n"
     ]
    }
   ],
   "source": [
    "titanictest.info()"
   ]
  },
  {
   "cell_type": "markdown",
   "id": "3620e3da",
   "metadata": {
    "papermill": {
     "duration": 0.019427,
     "end_time": "2024-01-03T11:26:44.955660",
     "exception": false,
     "start_time": "2024-01-03T11:26:44.936233",
     "status": "completed"
    },
    "tags": []
   },
   "source": [
    "### Label encoding the categorical values"
   ]
  },
  {
   "cell_type": "code",
   "execution_count": 43,
   "id": "2b31d859",
   "metadata": {
    "execution": {
     "iopub.execute_input": "2024-01-03T11:26:44.996325Z",
     "iopub.status.busy": "2024-01-03T11:26:44.995986Z",
     "iopub.status.idle": "2024-01-03T11:26:45.002333Z",
     "shell.execute_reply": "2024-01-03T11:26:45.001262Z"
    },
    "papermill": {
     "duration": 0.029345,
     "end_time": "2024-01-03T11:26:45.004341",
     "exception": false,
     "start_time": "2024-01-03T11:26:44.974996",
     "status": "completed"
    },
    "tags": []
   },
   "outputs": [],
   "source": [
    "# Instantiate LabelEncoder\n",
    "label_encoder = LabelEncoder()\n",
    "\n",
    "# Apply label encoding to 'Sex' and 'Embarked'\n",
    "titanictrain['Sex'] = label_encoder.fit_transform(titanictrain['Sex'])\n",
    "titanictrain['Embarked'] = label_encoder.fit_transform(titanictrain['Embarked'])"
   ]
  },
  {
   "cell_type": "code",
   "execution_count": 44,
   "id": "3e2d6aaa",
   "metadata": {
    "execution": {
     "iopub.execute_input": "2024-01-03T11:26:45.046131Z",
     "iopub.status.busy": "2024-01-03T11:26:45.044832Z",
     "iopub.status.idle": "2024-01-03T11:26:45.051160Z",
     "shell.execute_reply": "2024-01-03T11:26:45.050451Z"
    },
    "papermill": {
     "duration": 0.02945,
     "end_time": "2024-01-03T11:26:45.053546",
     "exception": false,
     "start_time": "2024-01-03T11:26:45.024096",
     "status": "completed"
    },
    "tags": []
   },
   "outputs": [],
   "source": [
    "# Apply label encoding to 'Sex' and 'Embarked'\n",
    "titanictest['Sex'] = label_encoder.fit_transform(titanictest['Sex'])\n",
    "titanictest['Embarked'] = label_encoder.fit_transform(titanictest['Embarked'])"
   ]
  },
  {
   "cell_type": "code",
   "execution_count": 45,
   "id": "3ba85d8b",
   "metadata": {
    "execution": {
     "iopub.execute_input": "2024-01-03T11:26:45.095968Z",
     "iopub.status.busy": "2024-01-03T11:26:45.095621Z",
     "iopub.status.idle": "2024-01-03T11:26:45.110358Z",
     "shell.execute_reply": "2024-01-03T11:26:45.109542Z"
    },
    "papermill": {
     "duration": 0.040294,
     "end_time": "2024-01-03T11:26:45.113024",
     "exception": false,
     "start_time": "2024-01-03T11:26:45.072730",
     "status": "completed"
    },
    "tags": []
   },
   "outputs": [
    {
     "data": {
      "text/html": [
       "<div>\n",
       "<style scoped>\n",
       "    .dataframe tbody tr th:only-of-type {\n",
       "        vertical-align: middle;\n",
       "    }\n",
       "\n",
       "    .dataframe tbody tr th {\n",
       "        vertical-align: top;\n",
       "    }\n",
       "\n",
       "    .dataframe thead th {\n",
       "        text-align: right;\n",
       "    }\n",
       "</style>\n",
       "<table border=\"1\" class=\"dataframe\">\n",
       "  <thead>\n",
       "    <tr style=\"text-align: right;\">\n",
       "      <th></th>\n",
       "      <th>PassengerId</th>\n",
       "      <th>Survived</th>\n",
       "      <th>Pclass</th>\n",
       "      <th>Sex</th>\n",
       "      <th>Age</th>\n",
       "      <th>SibSp</th>\n",
       "      <th>Parch</th>\n",
       "      <th>Fare</th>\n",
       "      <th>Embarked</th>\n",
       "      <th>Cabin_Status</th>\n",
       "      <th>Fare_Category</th>\n",
       "    </tr>\n",
       "  </thead>\n",
       "  <tbody>\n",
       "    <tr>\n",
       "      <th>0</th>\n",
       "      <td>1</td>\n",
       "      <td>0</td>\n",
       "      <td>3</td>\n",
       "      <td>1</td>\n",
       "      <td>22.0</td>\n",
       "      <td>1</td>\n",
       "      <td>0</td>\n",
       "      <td>7.2500</td>\n",
       "      <td>2</td>\n",
       "      <td>Not Available</td>\n",
       "      <td>0-50</td>\n",
       "    </tr>\n",
       "    <tr>\n",
       "      <th>1</th>\n",
       "      <td>2</td>\n",
       "      <td>1</td>\n",
       "      <td>1</td>\n",
       "      <td>0</td>\n",
       "      <td>38.0</td>\n",
       "      <td>1</td>\n",
       "      <td>0</td>\n",
       "      <td>71.2833</td>\n",
       "      <td>0</td>\n",
       "      <td>Available</td>\n",
       "      <td>51-100</td>\n",
       "    </tr>\n",
       "    <tr>\n",
       "      <th>2</th>\n",
       "      <td>3</td>\n",
       "      <td>1</td>\n",
       "      <td>3</td>\n",
       "      <td>0</td>\n",
       "      <td>26.0</td>\n",
       "      <td>0</td>\n",
       "      <td>0</td>\n",
       "      <td>7.9250</td>\n",
       "      <td>2</td>\n",
       "      <td>Not Available</td>\n",
       "      <td>0-50</td>\n",
       "    </tr>\n",
       "    <tr>\n",
       "      <th>3</th>\n",
       "      <td>4</td>\n",
       "      <td>1</td>\n",
       "      <td>1</td>\n",
       "      <td>0</td>\n",
       "      <td>35.0</td>\n",
       "      <td>1</td>\n",
       "      <td>0</td>\n",
       "      <td>53.1000</td>\n",
       "      <td>2</td>\n",
       "      <td>Available</td>\n",
       "      <td>51-100</td>\n",
       "    </tr>\n",
       "    <tr>\n",
       "      <th>4</th>\n",
       "      <td>5</td>\n",
       "      <td>0</td>\n",
       "      <td>3</td>\n",
       "      <td>1</td>\n",
       "      <td>35.0</td>\n",
       "      <td>0</td>\n",
       "      <td>0</td>\n",
       "      <td>8.0500</td>\n",
       "      <td>2</td>\n",
       "      <td>Not Available</td>\n",
       "      <td>0-50</td>\n",
       "    </tr>\n",
       "  </tbody>\n",
       "</table>\n",
       "</div>"
      ],
      "text/plain": [
       "   PassengerId  Survived  Pclass  Sex   Age  SibSp  Parch     Fare  Embarked  \\\n",
       "0            1         0       3    1  22.0      1      0   7.2500         2   \n",
       "1            2         1       1    0  38.0      1      0  71.2833         0   \n",
       "2            3         1       3    0  26.0      0      0   7.9250         2   \n",
       "3            4         1       1    0  35.0      1      0  53.1000         2   \n",
       "4            5         0       3    1  35.0      0      0   8.0500         2   \n",
       "\n",
       "    Cabin_Status Fare_Category  \n",
       "0  Not Available          0-50  \n",
       "1      Available        51-100  \n",
       "2  Not Available          0-50  \n",
       "3      Available        51-100  \n",
       "4  Not Available          0-50  "
      ]
     },
     "execution_count": 45,
     "metadata": {},
     "output_type": "execute_result"
    }
   ],
   "source": [
    "titanictrain.head()"
   ]
  },
  {
   "cell_type": "code",
   "execution_count": 46,
   "id": "ca85fb8c",
   "metadata": {
    "execution": {
     "iopub.execute_input": "2024-01-03T11:26:45.157662Z",
     "iopub.status.busy": "2024-01-03T11:26:45.157261Z",
     "iopub.status.idle": "2024-01-03T11:26:45.174685Z",
     "shell.execute_reply": "2024-01-03T11:26:45.173598Z"
    },
    "papermill": {
     "duration": 0.040699,
     "end_time": "2024-01-03T11:26:45.177205",
     "exception": false,
     "start_time": "2024-01-03T11:26:45.136506",
     "status": "completed"
    },
    "tags": []
   },
   "outputs": [
    {
     "data": {
      "text/html": [
       "<div>\n",
       "<style scoped>\n",
       "    .dataframe tbody tr th:only-of-type {\n",
       "        vertical-align: middle;\n",
       "    }\n",
       "\n",
       "    .dataframe tbody tr th {\n",
       "        vertical-align: top;\n",
       "    }\n",
       "\n",
       "    .dataframe thead th {\n",
       "        text-align: right;\n",
       "    }\n",
       "</style>\n",
       "<table border=\"1\" class=\"dataframe\">\n",
       "  <thead>\n",
       "    <tr style=\"text-align: right;\">\n",
       "      <th></th>\n",
       "      <th>PassengerId</th>\n",
       "      <th>Pclass</th>\n",
       "      <th>Sex</th>\n",
       "      <th>Age</th>\n",
       "      <th>SibSp</th>\n",
       "      <th>Parch</th>\n",
       "      <th>Fare</th>\n",
       "      <th>Embarked</th>\n",
       "      <th>Cabin_Status</th>\n",
       "      <th>Fare_Category</th>\n",
       "    </tr>\n",
       "  </thead>\n",
       "  <tbody>\n",
       "    <tr>\n",
       "      <th>0</th>\n",
       "      <td>892</td>\n",
       "      <td>3</td>\n",
       "      <td>1</td>\n",
       "      <td>34.5</td>\n",
       "      <td>0</td>\n",
       "      <td>0</td>\n",
       "      <td>7.8292</td>\n",
       "      <td>1</td>\n",
       "      <td>Not Available</td>\n",
       "      <td>0-50</td>\n",
       "    </tr>\n",
       "    <tr>\n",
       "      <th>1</th>\n",
       "      <td>893</td>\n",
       "      <td>3</td>\n",
       "      <td>0</td>\n",
       "      <td>47.0</td>\n",
       "      <td>1</td>\n",
       "      <td>0</td>\n",
       "      <td>7.0000</td>\n",
       "      <td>2</td>\n",
       "      <td>Not Available</td>\n",
       "      <td>0-50</td>\n",
       "    </tr>\n",
       "    <tr>\n",
       "      <th>2</th>\n",
       "      <td>894</td>\n",
       "      <td>2</td>\n",
       "      <td>1</td>\n",
       "      <td>62.0</td>\n",
       "      <td>0</td>\n",
       "      <td>0</td>\n",
       "      <td>9.6875</td>\n",
       "      <td>1</td>\n",
       "      <td>Not Available</td>\n",
       "      <td>0-50</td>\n",
       "    </tr>\n",
       "    <tr>\n",
       "      <th>3</th>\n",
       "      <td>895</td>\n",
       "      <td>3</td>\n",
       "      <td>1</td>\n",
       "      <td>27.0</td>\n",
       "      <td>0</td>\n",
       "      <td>0</td>\n",
       "      <td>8.6625</td>\n",
       "      <td>2</td>\n",
       "      <td>Not Available</td>\n",
       "      <td>0-50</td>\n",
       "    </tr>\n",
       "    <tr>\n",
       "      <th>4</th>\n",
       "      <td>896</td>\n",
       "      <td>3</td>\n",
       "      <td>0</td>\n",
       "      <td>22.0</td>\n",
       "      <td>1</td>\n",
       "      <td>1</td>\n",
       "      <td>12.2875</td>\n",
       "      <td>2</td>\n",
       "      <td>Not Available</td>\n",
       "      <td>0-50</td>\n",
       "    </tr>\n",
       "  </tbody>\n",
       "</table>\n",
       "</div>"
      ],
      "text/plain": [
       "   PassengerId  Pclass  Sex   Age  SibSp  Parch     Fare  Embarked  \\\n",
       "0          892       3    1  34.5      0      0   7.8292         1   \n",
       "1          893       3    0  47.0      1      0   7.0000         2   \n",
       "2          894       2    1  62.0      0      0   9.6875         1   \n",
       "3          895       3    1  27.0      0      0   8.6625         2   \n",
       "4          896       3    0  22.0      1      1  12.2875         2   \n",
       "\n",
       "    Cabin_Status Fare_Category  \n",
       "0  Not Available          0-50  \n",
       "1  Not Available          0-50  \n",
       "2  Not Available          0-50  \n",
       "3  Not Available          0-50  \n",
       "4  Not Available          0-50  "
      ]
     },
     "execution_count": 46,
     "metadata": {},
     "output_type": "execute_result"
    }
   ],
   "source": [
    "titanictest.head()"
   ]
  },
  {
   "cell_type": "code",
   "execution_count": 47,
   "id": "dc529b92",
   "metadata": {
    "execution": {
     "iopub.execute_input": "2024-01-03T11:26:45.228184Z",
     "iopub.status.busy": "2024-01-03T11:26:45.227863Z",
     "iopub.status.idle": "2024-01-03T11:26:45.233091Z",
     "shell.execute_reply": "2024-01-03T11:26:45.231825Z"
    },
    "papermill": {
     "duration": 0.032242,
     "end_time": "2024-01-03T11:26:45.235011",
     "exception": false,
     "start_time": "2024-01-03T11:26:45.202769",
     "status": "completed"
    },
    "tags": []
   },
   "outputs": [],
   "source": [
    "titanictrain['Fare_Category'] = label_encoder.fit_transform(titanictrain['Fare_Category'])"
   ]
  },
  {
   "cell_type": "code",
   "execution_count": 48,
   "id": "f85b7b26",
   "metadata": {
    "execution": {
     "iopub.execute_input": "2024-01-03T11:26:45.282748Z",
     "iopub.status.busy": "2024-01-03T11:26:45.282312Z",
     "iopub.status.idle": "2024-01-03T11:26:45.288307Z",
     "shell.execute_reply": "2024-01-03T11:26:45.286892Z"
    },
    "papermill": {
     "duration": 0.032685,
     "end_time": "2024-01-03T11:26:45.290049",
     "exception": false,
     "start_time": "2024-01-03T11:26:45.257364",
     "status": "completed"
    },
    "tags": []
   },
   "outputs": [],
   "source": [
    "titanictest['Fare_Category'] = label_encoder.fit_transform(titanictest['Fare_Category'])"
   ]
  },
  {
   "cell_type": "code",
   "execution_count": 49,
   "id": "75bb5fa0",
   "metadata": {
    "execution": {
     "iopub.execute_input": "2024-01-03T11:26:45.335246Z",
     "iopub.status.busy": "2024-01-03T11:26:45.334886Z",
     "iopub.status.idle": "2024-01-03T11:26:45.340041Z",
     "shell.execute_reply": "2024-01-03T11:26:45.338789Z"
    },
    "papermill": {
     "duration": 0.030116,
     "end_time": "2024-01-03T11:26:45.341973",
     "exception": false,
     "start_time": "2024-01-03T11:26:45.311857",
     "status": "completed"
    },
    "tags": []
   },
   "outputs": [],
   "source": [
    "titanictrain['Cabin_Status'] = label_encoder.fit_transform(titanictrain['Cabin_Status'])"
   ]
  },
  {
   "cell_type": "code",
   "execution_count": 50,
   "id": "4274ca57",
   "metadata": {
    "execution": {
     "iopub.execute_input": "2024-01-03T11:26:45.382518Z",
     "iopub.status.busy": "2024-01-03T11:26:45.382082Z",
     "iopub.status.idle": "2024-01-03T11:26:45.387002Z",
     "shell.execute_reply": "2024-01-03T11:26:45.385792Z"
    },
    "papermill": {
     "duration": 0.027836,
     "end_time": "2024-01-03T11:26:45.389297",
     "exception": false,
     "start_time": "2024-01-03T11:26:45.361461",
     "status": "completed"
    },
    "tags": []
   },
   "outputs": [],
   "source": [
    "titanictest['Cabin_Status'] = label_encoder.fit_transform(titanictest['Cabin_Status'])"
   ]
  },
  {
   "cell_type": "code",
   "execution_count": 51,
   "id": "a7d97e8e",
   "metadata": {
    "execution": {
     "iopub.execute_input": "2024-01-03T11:26:45.433562Z",
     "iopub.status.busy": "2024-01-03T11:26:45.433171Z",
     "iopub.status.idle": "2024-01-03T11:26:45.446077Z",
     "shell.execute_reply": "2024-01-03T11:26:45.445426Z"
    },
    "papermill": {
     "duration": 0.035207,
     "end_time": "2024-01-03T11:26:45.447745",
     "exception": false,
     "start_time": "2024-01-03T11:26:45.412538",
     "status": "completed"
    },
    "tags": []
   },
   "outputs": [
    {
     "data": {
      "text/html": [
       "<div>\n",
       "<style scoped>\n",
       "    .dataframe tbody tr th:only-of-type {\n",
       "        vertical-align: middle;\n",
       "    }\n",
       "\n",
       "    .dataframe tbody tr th {\n",
       "        vertical-align: top;\n",
       "    }\n",
       "\n",
       "    .dataframe thead th {\n",
       "        text-align: right;\n",
       "    }\n",
       "</style>\n",
       "<table border=\"1\" class=\"dataframe\">\n",
       "  <thead>\n",
       "    <tr style=\"text-align: right;\">\n",
       "      <th></th>\n",
       "      <th>PassengerId</th>\n",
       "      <th>Survived</th>\n",
       "      <th>Pclass</th>\n",
       "      <th>Sex</th>\n",
       "      <th>Age</th>\n",
       "      <th>SibSp</th>\n",
       "      <th>Parch</th>\n",
       "      <th>Fare</th>\n",
       "      <th>Embarked</th>\n",
       "      <th>Cabin_Status</th>\n",
       "      <th>Fare_Category</th>\n",
       "    </tr>\n",
       "  </thead>\n",
       "  <tbody>\n",
       "    <tr>\n",
       "      <th>0</th>\n",
       "      <td>1</td>\n",
       "      <td>0</td>\n",
       "      <td>3</td>\n",
       "      <td>1</td>\n",
       "      <td>22.0</td>\n",
       "      <td>1</td>\n",
       "      <td>0</td>\n",
       "      <td>7.2500</td>\n",
       "      <td>2</td>\n",
       "      <td>1</td>\n",
       "      <td>0</td>\n",
       "    </tr>\n",
       "    <tr>\n",
       "      <th>1</th>\n",
       "      <td>2</td>\n",
       "      <td>1</td>\n",
       "      <td>1</td>\n",
       "      <td>0</td>\n",
       "      <td>38.0</td>\n",
       "      <td>1</td>\n",
       "      <td>0</td>\n",
       "      <td>71.2833</td>\n",
       "      <td>0</td>\n",
       "      <td>0</td>\n",
       "      <td>6</td>\n",
       "    </tr>\n",
       "    <tr>\n",
       "      <th>2</th>\n",
       "      <td>3</td>\n",
       "      <td>1</td>\n",
       "      <td>3</td>\n",
       "      <td>0</td>\n",
       "      <td>26.0</td>\n",
       "      <td>0</td>\n",
       "      <td>0</td>\n",
       "      <td>7.9250</td>\n",
       "      <td>2</td>\n",
       "      <td>1</td>\n",
       "      <td>0</td>\n",
       "    </tr>\n",
       "    <tr>\n",
       "      <th>3</th>\n",
       "      <td>4</td>\n",
       "      <td>1</td>\n",
       "      <td>1</td>\n",
       "      <td>0</td>\n",
       "      <td>35.0</td>\n",
       "      <td>1</td>\n",
       "      <td>0</td>\n",
       "      <td>53.1000</td>\n",
       "      <td>2</td>\n",
       "      <td>0</td>\n",
       "      <td>6</td>\n",
       "    </tr>\n",
       "    <tr>\n",
       "      <th>4</th>\n",
       "      <td>5</td>\n",
       "      <td>0</td>\n",
       "      <td>3</td>\n",
       "      <td>1</td>\n",
       "      <td>35.0</td>\n",
       "      <td>0</td>\n",
       "      <td>0</td>\n",
       "      <td>8.0500</td>\n",
       "      <td>2</td>\n",
       "      <td>1</td>\n",
       "      <td>0</td>\n",
       "    </tr>\n",
       "  </tbody>\n",
       "</table>\n",
       "</div>"
      ],
      "text/plain": [
       "   PassengerId  Survived  Pclass  Sex   Age  SibSp  Parch     Fare  Embarked  \\\n",
       "0            1         0       3    1  22.0      1      0   7.2500         2   \n",
       "1            2         1       1    0  38.0      1      0  71.2833         0   \n",
       "2            3         1       3    0  26.0      0      0   7.9250         2   \n",
       "3            4         1       1    0  35.0      1      0  53.1000         2   \n",
       "4            5         0       3    1  35.0      0      0   8.0500         2   \n",
       "\n",
       "   Cabin_Status  Fare_Category  \n",
       "0             1              0  \n",
       "1             0              6  \n",
       "2             1              0  \n",
       "3             0              6  \n",
       "4             1              0  "
      ]
     },
     "execution_count": 51,
     "metadata": {},
     "output_type": "execute_result"
    }
   ],
   "source": [
    "titanictrain.head()"
   ]
  },
  {
   "cell_type": "code",
   "execution_count": 52,
   "id": "8f7e3d87",
   "metadata": {
    "execution": {
     "iopub.execute_input": "2024-01-03T11:26:45.497706Z",
     "iopub.status.busy": "2024-01-03T11:26:45.497274Z",
     "iopub.status.idle": "2024-01-03T11:26:45.511829Z",
     "shell.execute_reply": "2024-01-03T11:26:45.510855Z"
    },
    "papermill": {
     "duration": 0.041825,
     "end_time": "2024-01-03T11:26:45.513692",
     "exception": false,
     "start_time": "2024-01-03T11:26:45.471867",
     "status": "completed"
    },
    "tags": []
   },
   "outputs": [
    {
     "data": {
      "text/html": [
       "<div>\n",
       "<style scoped>\n",
       "    .dataframe tbody tr th:only-of-type {\n",
       "        vertical-align: middle;\n",
       "    }\n",
       "\n",
       "    .dataframe tbody tr th {\n",
       "        vertical-align: top;\n",
       "    }\n",
       "\n",
       "    .dataframe thead th {\n",
       "        text-align: right;\n",
       "    }\n",
       "</style>\n",
       "<table border=\"1\" class=\"dataframe\">\n",
       "  <thead>\n",
       "    <tr style=\"text-align: right;\">\n",
       "      <th></th>\n",
       "      <th>PassengerId</th>\n",
       "      <th>Pclass</th>\n",
       "      <th>Sex</th>\n",
       "      <th>Age</th>\n",
       "      <th>SibSp</th>\n",
       "      <th>Parch</th>\n",
       "      <th>Fare</th>\n",
       "      <th>Embarked</th>\n",
       "      <th>Cabin_Status</th>\n",
       "      <th>Fare_Category</th>\n",
       "    </tr>\n",
       "  </thead>\n",
       "  <tbody>\n",
       "    <tr>\n",
       "      <th>0</th>\n",
       "      <td>892</td>\n",
       "      <td>3</td>\n",
       "      <td>1</td>\n",
       "      <td>34.5</td>\n",
       "      <td>0</td>\n",
       "      <td>0</td>\n",
       "      <td>7.8292</td>\n",
       "      <td>1</td>\n",
       "      <td>1</td>\n",
       "      <td>0</td>\n",
       "    </tr>\n",
       "    <tr>\n",
       "      <th>1</th>\n",
       "      <td>893</td>\n",
       "      <td>3</td>\n",
       "      <td>0</td>\n",
       "      <td>47.0</td>\n",
       "      <td>1</td>\n",
       "      <td>0</td>\n",
       "      <td>7.0000</td>\n",
       "      <td>2</td>\n",
       "      <td>1</td>\n",
       "      <td>0</td>\n",
       "    </tr>\n",
       "    <tr>\n",
       "      <th>2</th>\n",
       "      <td>894</td>\n",
       "      <td>2</td>\n",
       "      <td>1</td>\n",
       "      <td>62.0</td>\n",
       "      <td>0</td>\n",
       "      <td>0</td>\n",
       "      <td>9.6875</td>\n",
       "      <td>1</td>\n",
       "      <td>1</td>\n",
       "      <td>0</td>\n",
       "    </tr>\n",
       "    <tr>\n",
       "      <th>3</th>\n",
       "      <td>895</td>\n",
       "      <td>3</td>\n",
       "      <td>1</td>\n",
       "      <td>27.0</td>\n",
       "      <td>0</td>\n",
       "      <td>0</td>\n",
       "      <td>8.6625</td>\n",
       "      <td>2</td>\n",
       "      <td>1</td>\n",
       "      <td>0</td>\n",
       "    </tr>\n",
       "    <tr>\n",
       "      <th>4</th>\n",
       "      <td>896</td>\n",
       "      <td>3</td>\n",
       "      <td>0</td>\n",
       "      <td>22.0</td>\n",
       "      <td>1</td>\n",
       "      <td>1</td>\n",
       "      <td>12.2875</td>\n",
       "      <td>2</td>\n",
       "      <td>1</td>\n",
       "      <td>0</td>\n",
       "    </tr>\n",
       "  </tbody>\n",
       "</table>\n",
       "</div>"
      ],
      "text/plain": [
       "   PassengerId  Pclass  Sex   Age  SibSp  Parch     Fare  Embarked  \\\n",
       "0          892       3    1  34.5      0      0   7.8292         1   \n",
       "1          893       3    0  47.0      1      0   7.0000         2   \n",
       "2          894       2    1  62.0      0      0   9.6875         1   \n",
       "3          895       3    1  27.0      0      0   8.6625         2   \n",
       "4          896       3    0  22.0      1      1  12.2875         2   \n",
       "\n",
       "   Cabin_Status  Fare_Category  \n",
       "0             1              0  \n",
       "1             1              0  \n",
       "2             1              0  \n",
       "3             1              0  \n",
       "4             1              0  "
      ]
     },
     "execution_count": 52,
     "metadata": {},
     "output_type": "execute_result"
    }
   ],
   "source": [
    "titanictest.head()"
   ]
  },
  {
   "cell_type": "markdown",
   "id": "7b11f50e",
   "metadata": {
    "papermill": {
     "duration": 0.018846,
     "end_time": "2024-01-03T11:26:45.551825",
     "exception": false,
     "start_time": "2024-01-03T11:26:45.532979",
     "status": "completed"
    },
    "tags": []
   },
   "source": [
    "# Logistic Regression "
   ]
  },
  {
   "cell_type": "code",
   "execution_count": 53,
   "id": "7341f72a",
   "metadata": {
    "execution": {
     "iopub.execute_input": "2024-01-03T11:26:45.591677Z",
     "iopub.status.busy": "2024-01-03T11:26:45.591283Z",
     "iopub.status.idle": "2024-01-03T11:26:45.597185Z",
     "shell.execute_reply": "2024-01-03T11:26:45.596237Z"
    },
    "papermill": {
     "duration": 0.027858,
     "end_time": "2024-01-03T11:26:45.598896",
     "exception": false,
     "start_time": "2024-01-03T11:26:45.571038",
     "status": "completed"
    },
    "tags": []
   },
   "outputs": [],
   "source": [
    "\n",
    "# Define features (X) and target variable (y)\n",
    "X = titanictrain.drop(['Survived'], axis=1)  # Exclude non-feature columns\n",
    "y = titanictrain['Survived']"
   ]
  },
  {
   "cell_type": "code",
   "execution_count": 54,
   "id": "50e965f9",
   "metadata": {
    "execution": {
     "iopub.execute_input": "2024-01-03T11:26:45.638885Z",
     "iopub.status.busy": "2024-01-03T11:26:45.638471Z",
     "iopub.status.idle": "2024-01-03T11:26:45.645247Z",
     "shell.execute_reply": "2024-01-03T11:26:45.644573Z"
    },
    "papermill": {
     "duration": 0.029542,
     "end_time": "2024-01-03T11:26:45.647482",
     "exception": false,
     "start_time": "2024-01-03T11:26:45.617940",
     "status": "completed"
    },
    "tags": []
   },
   "outputs": [],
   "source": [
    "# Split the data into training and testing sets (80% training, 20% testing)\n",
    "X_train, X_test, y_train, y_test = train_test_split(X, y, test_size=0.2, random_state=42)"
   ]
  },
  {
   "cell_type": "code",
   "execution_count": 55,
   "id": "f62f47cd",
   "metadata": {
    "execution": {
     "iopub.execute_input": "2024-01-03T11:26:45.690708Z",
     "iopub.status.busy": "2024-01-03T11:26:45.690391Z",
     "iopub.status.idle": "2024-01-03T11:26:45.699936Z",
     "shell.execute_reply": "2024-01-03T11:26:45.699193Z"
    },
    "papermill": {
     "duration": 0.033133,
     "end_time": "2024-01-03T11:26:45.701848",
     "exception": false,
     "start_time": "2024-01-03T11:26:45.668715",
     "status": "completed"
    },
    "tags": []
   },
   "outputs": [],
   "source": [
    "scaler = StandardScaler()\n",
    "X_train_scaled = scaler.fit_transform(X_train)\n",
    "X_test_scaled = scaler.transform(X_test)"
   ]
  },
  {
   "cell_type": "code",
   "execution_count": 56,
   "id": "0bf6f67a",
   "metadata": {
    "execution": {
     "iopub.execute_input": "2024-01-03T11:26:45.744080Z",
     "iopub.status.busy": "2024-01-03T11:26:45.742868Z",
     "iopub.status.idle": "2024-01-03T11:26:45.747748Z",
     "shell.execute_reply": "2024-01-03T11:26:45.747107Z"
    },
    "papermill": {
     "duration": 0.027873,
     "end_time": "2024-01-03T11:26:45.749667",
     "exception": false,
     "start_time": "2024-01-03T11:26:45.721794",
     "status": "completed"
    },
    "tags": []
   },
   "outputs": [],
   "source": [
    "model = LogisticRegression(max_iter=1000)\n"
   ]
  },
  {
   "cell_type": "code",
   "execution_count": 57,
   "id": "865ba454",
   "metadata": {
    "execution": {
     "iopub.execute_input": "2024-01-03T11:26:45.792279Z",
     "iopub.status.busy": "2024-01-03T11:26:45.791475Z",
     "iopub.status.idle": "2024-01-03T11:26:45.807998Z",
     "shell.execute_reply": "2024-01-03T11:26:45.806905Z"
    },
    "papermill": {
     "duration": 0.039616,
     "end_time": "2024-01-03T11:26:45.809804",
     "exception": false,
     "start_time": "2024-01-03T11:26:45.770188",
     "status": "completed"
    },
    "tags": []
   },
   "outputs": [
    {
     "data": {
      "text/html": [
       "<style>#sk-container-id-1 {color: black;background-color: white;}#sk-container-id-1 pre{padding: 0;}#sk-container-id-1 div.sk-toggleable {background-color: white;}#sk-container-id-1 label.sk-toggleable__label {cursor: pointer;display: block;width: 100%;margin-bottom: 0;padding: 0.3em;box-sizing: border-box;text-align: center;}#sk-container-id-1 label.sk-toggleable__label-arrow:before {content: \"▸\";float: left;margin-right: 0.25em;color: #696969;}#sk-container-id-1 label.sk-toggleable__label-arrow:hover:before {color: black;}#sk-container-id-1 div.sk-estimator:hover label.sk-toggleable__label-arrow:before {color: black;}#sk-container-id-1 div.sk-toggleable__content {max-height: 0;max-width: 0;overflow: hidden;text-align: left;background-color: #f0f8ff;}#sk-container-id-1 div.sk-toggleable__content pre {margin: 0.2em;color: black;border-radius: 0.25em;background-color: #f0f8ff;}#sk-container-id-1 input.sk-toggleable__control:checked~div.sk-toggleable__content {max-height: 200px;max-width: 100%;overflow: auto;}#sk-container-id-1 input.sk-toggleable__control:checked~label.sk-toggleable__label-arrow:before {content: \"▾\";}#sk-container-id-1 div.sk-estimator input.sk-toggleable__control:checked~label.sk-toggleable__label {background-color: #d4ebff;}#sk-container-id-1 div.sk-label input.sk-toggleable__control:checked~label.sk-toggleable__label {background-color: #d4ebff;}#sk-container-id-1 input.sk-hidden--visually {border: 0;clip: rect(1px 1px 1px 1px);clip: rect(1px, 1px, 1px, 1px);height: 1px;margin: -1px;overflow: hidden;padding: 0;position: absolute;width: 1px;}#sk-container-id-1 div.sk-estimator {font-family: monospace;background-color: #f0f8ff;border: 1px dotted black;border-radius: 0.25em;box-sizing: border-box;margin-bottom: 0.5em;}#sk-container-id-1 div.sk-estimator:hover {background-color: #d4ebff;}#sk-container-id-1 div.sk-parallel-item::after {content: \"\";width: 100%;border-bottom: 1px solid gray;flex-grow: 1;}#sk-container-id-1 div.sk-label:hover label.sk-toggleable__label {background-color: #d4ebff;}#sk-container-id-1 div.sk-serial::before {content: \"\";position: absolute;border-left: 1px solid gray;box-sizing: border-box;top: 0;bottom: 0;left: 50%;z-index: 0;}#sk-container-id-1 div.sk-serial {display: flex;flex-direction: column;align-items: center;background-color: white;padding-right: 0.2em;padding-left: 0.2em;position: relative;}#sk-container-id-1 div.sk-item {position: relative;z-index: 1;}#sk-container-id-1 div.sk-parallel {display: flex;align-items: stretch;justify-content: center;background-color: white;position: relative;}#sk-container-id-1 div.sk-item::before, #sk-container-id-1 div.sk-parallel-item::before {content: \"\";position: absolute;border-left: 1px solid gray;box-sizing: border-box;top: 0;bottom: 0;left: 50%;z-index: -1;}#sk-container-id-1 div.sk-parallel-item {display: flex;flex-direction: column;z-index: 1;position: relative;background-color: white;}#sk-container-id-1 div.sk-parallel-item:first-child::after {align-self: flex-end;width: 50%;}#sk-container-id-1 div.sk-parallel-item:last-child::after {align-self: flex-start;width: 50%;}#sk-container-id-1 div.sk-parallel-item:only-child::after {width: 0;}#sk-container-id-1 div.sk-dashed-wrapped {border: 1px dashed gray;margin: 0 0.4em 0.5em 0.4em;box-sizing: border-box;padding-bottom: 0.4em;background-color: white;}#sk-container-id-1 div.sk-label label {font-family: monospace;font-weight: bold;display: inline-block;line-height: 1.2em;}#sk-container-id-1 div.sk-label-container {text-align: center;}#sk-container-id-1 div.sk-container {/* jupyter's `normalize.less` sets `[hidden] { display: none; }` but bootstrap.min.css set `[hidden] { display: none !important; }` so we also need the `!important` here to be able to override the default hidden behavior on the sphinx rendered scikit-learn.org. See: https://github.com/scikit-learn/scikit-learn/issues/21755 */display: inline-block !important;position: relative;}#sk-container-id-1 div.sk-text-repr-fallback {display: none;}</style><div id=\"sk-container-id-1\" class=\"sk-top-container\"><div class=\"sk-text-repr-fallback\"><pre>LogisticRegression(max_iter=1000)</pre><b>In a Jupyter environment, please rerun this cell to show the HTML representation or trust the notebook. <br />On GitHub, the HTML representation is unable to render, please try loading this page with nbviewer.org.</b></div><div class=\"sk-container\" hidden><div class=\"sk-item\"><div class=\"sk-estimator sk-toggleable\"><input class=\"sk-toggleable__control sk-hidden--visually\" id=\"sk-estimator-id-1\" type=\"checkbox\" checked><label for=\"sk-estimator-id-1\" class=\"sk-toggleable__label sk-toggleable__label-arrow\">LogisticRegression</label><div class=\"sk-toggleable__content\"><pre>LogisticRegression(max_iter=1000)</pre></div></div></div></div></div>"
      ],
      "text/plain": [
       "LogisticRegression(max_iter=1000)"
      ]
     },
     "execution_count": 57,
     "metadata": {},
     "output_type": "execute_result"
    }
   ],
   "source": [
    "# Train the model on the training set\n",
    "model.fit(X_train_scaled, y_train)"
   ]
  },
  {
   "cell_type": "code",
   "execution_count": 58,
   "id": "d40a7ccd",
   "metadata": {
    "execution": {
     "iopub.execute_input": "2024-01-03T11:26:45.852940Z",
     "iopub.status.busy": "2024-01-03T11:26:45.851955Z",
     "iopub.status.idle": "2024-01-03T11:26:45.861341Z",
     "shell.execute_reply": "2024-01-03T11:26:45.860508Z"
    },
    "papermill": {
     "duration": 0.032832,
     "end_time": "2024-01-03T11:26:45.863294",
     "exception": false,
     "start_time": "2024-01-03T11:26:45.830462",
     "status": "completed"
    },
    "tags": []
   },
   "outputs": [
    {
     "name": "stderr",
     "output_type": "stream",
     "text": [
      "/opt/conda/lib/python3.10/site-packages/sklearn/base.py:432: UserWarning: X has feature names, but LogisticRegression was fitted without feature names\n",
      "  warnings.warn(\n"
     ]
    }
   ],
   "source": [
    "# Make predictions on the testing set\n",
    "y_pred = model.predict(X_test)"
   ]
  },
  {
   "cell_type": "code",
   "execution_count": 59,
   "id": "aae96d5d",
   "metadata": {
    "execution": {
     "iopub.execute_input": "2024-01-03T11:26:45.905404Z",
     "iopub.status.busy": "2024-01-03T11:26:45.904127Z",
     "iopub.status.idle": "2024-01-03T11:26:45.911434Z",
     "shell.execute_reply": "2024-01-03T11:26:45.910287Z"
    },
    "papermill": {
     "duration": 0.02984,
     "end_time": "2024-01-03T11:26:45.913144",
     "exception": false,
     "start_time": "2024-01-03T11:26:45.883304",
     "status": "completed"
    },
    "tags": []
   },
   "outputs": [
    {
     "name": "stdout",
     "output_type": "stream",
     "text": [
      "Accuracy: 0.45\n"
     ]
    }
   ],
   "source": [
    "# Evaluate the accuracy of the model\n",
    "accuracy = accuracy_score(y_test, y_pred)\n",
    "print(f\"Accuracy: {accuracy:.2f}\")"
   ]
  },
  {
   "cell_type": "code",
   "execution_count": 60,
   "id": "24060191",
   "metadata": {
    "execution": {
     "iopub.execute_input": "2024-01-03T11:26:45.957164Z",
     "iopub.status.busy": "2024-01-03T11:26:45.955814Z",
     "iopub.status.idle": "2024-01-03T11:26:45.962785Z",
     "shell.execute_reply": "2024-01-03T11:26:45.962102Z"
    },
    "papermill": {
     "duration": 0.030781,
     "end_time": "2024-01-03T11:26:45.964835",
     "exception": false,
     "start_time": "2024-01-03T11:26:45.934054",
     "status": "completed"
    },
    "tags": []
   },
   "outputs": [],
   "source": [
    "# Scale the test data if you scaled the training data\n",
    "X_test_scaled = scaler.transform(titanictest)\n"
   ]
  },
  {
   "cell_type": "code",
   "execution_count": 61,
   "id": "7fe16972",
   "metadata": {
    "execution": {
     "iopub.execute_input": "2024-01-03T11:26:46.008840Z",
     "iopub.status.busy": "2024-01-03T11:26:46.007423Z",
     "iopub.status.idle": "2024-01-03T11:26:46.012118Z",
     "shell.execute_reply": "2024-01-03T11:26:46.011515Z"
    },
    "papermill": {
     "duration": 0.028187,
     "end_time": "2024-01-03T11:26:46.013771",
     "exception": false,
     "start_time": "2024-01-03T11:26:45.985584",
     "status": "completed"
    },
    "tags": []
   },
   "outputs": [],
   "source": [
    "# Make predictions on the test data using your trained model\n",
    "y_test_pred = model.predict(X_test_scaled)"
   ]
  },
  {
   "cell_type": "code",
   "execution_count": 62,
   "id": "18fb875f",
   "metadata": {
    "execution": {
     "iopub.execute_input": "2024-01-03T11:26:46.056566Z",
     "iopub.status.busy": "2024-01-03T11:26:46.055887Z",
     "iopub.status.idle": "2024-01-03T11:26:46.062635Z",
     "shell.execute_reply": "2024-01-03T11:26:46.061263Z"
    },
    "papermill": {
     "duration": 0.029912,
     "end_time": "2024-01-03T11:26:46.064344",
     "exception": false,
     "start_time": "2024-01-03T11:26:46.034432",
     "status": "completed"
    },
    "tags": []
   },
   "outputs": [
    {
     "name": "stdout",
     "output_type": "stream",
     "text": [
      "[0 0 0 0 1 0 1 0 1 0 0 0 1 0 1 1 0 0 1 1 0 0 1 1 1 0 1 0 0 0 0 0 1 1 1 0 1\n",
      " 1 0 0 0 1 0 1 1 0 0 0 1 1 1 0 1 1 0 0 0 0 0 1 0 0 0 1 1 1 1 0 1 1 1 0 1 1\n",
      " 1 1 0 1 0 1 0 0 0 0 0 0 1 1 1 0 1 0 1 0 1 0 1 0 1 0 1 0 0 0 1 0 0 0 0 0 0\n",
      " 1 1 1 1 0 0 1 1 1 1 0 1 0 0 1 0 1 0 0 0 0 1 0 0 0 0 0 1 0 0 1 0 0 0 0 1 0\n",
      " 0 0 1 0 0 1 0 0 1 1 0 1 1 0 1 0 0 1 1 0 1 1 0 0 0 0 0 1 1 0 1 1 0 1 1 0 1\n",
      " 0 1 0 0 0 0 0 0 0 0 0 1 1 0 1 1 0 1 1 0 0 1 0 1 0 0 0 0 1 0 0 1 0 1 0 1 0\n",
      " 1 0 1 1 0 1 0 0 0 1 0 0 1 0 0 0 1 1 1 1 0 0 0 0 1 0 1 1 1 0 1 0 0 0 0 0 1\n",
      " 0 0 0 1 1 0 0 0 0 1 0 1 0 1 1 0 1 0 0 0 0 1 0 1 1 1 0 0 1 0 0 0 1 0 0 0 0\n",
      " 1 0 0 0 0 0 0 0 1 1 0 0 0 1 0 0 0 1 1 1 0 0 0 0 0 0 0 0 1 0 1 0 0 0 1 1 0\n",
      " 1 0 1 0 0 0 0 0 0 0 1 0 1 0 1 0 1 1 0 0 0 1 0 1 0 0 1 0 1 1 0 1 1 0 1 1 0\n",
      " 0 1 0 0 1 1 1 0 0 0 0 0 1 1 0 1 0 0 0 0 1 1 0 0 0 1 0 1 0 0 1 0 1 0 0 1 0\n",
      " 0 1 1 1 1 1 0 1 0 0 0]\n"
     ]
    }
   ],
   "source": [
    "print(y_test_pred)"
   ]
  },
  {
   "cell_type": "code",
   "execution_count": 63,
   "id": "a83bb817",
   "metadata": {
    "execution": {
     "iopub.execute_input": "2024-01-03T11:26:46.106511Z",
     "iopub.status.busy": "2024-01-03T11:26:46.106109Z",
     "iopub.status.idle": "2024-01-03T11:26:46.113842Z",
     "shell.execute_reply": "2024-01-03T11:26:46.112906Z"
    },
    "papermill": {
     "duration": 0.031042,
     "end_time": "2024-01-03T11:26:46.115729",
     "exception": false,
     "start_time": "2024-01-03T11:26:46.084687",
     "status": "completed"
    },
    "tags": []
   },
   "outputs": [
    {
     "name": "stdout",
     "output_type": "stream",
     "text": [
      "     PassengerId  Survived\n",
      "0            892         0\n",
      "1            893         0\n",
      "2            894         0\n",
      "3            895         0\n",
      "4            896         1\n",
      "..           ...       ...\n",
      "413         1305         0\n",
      "414         1306         1\n",
      "415         1307         0\n",
      "416         1308         0\n",
      "417         1309         0\n",
      "\n",
      "[418 rows x 2 columns]\n"
     ]
    }
   ],
   "source": [
    "result_df = pd.DataFrame({'PassengerId': titanictest['PassengerId'], 'Survived': y_test_pred})\n",
    "print(result_df)"
   ]
  },
  {
   "cell_type": "code",
   "execution_count": 64,
   "id": "11ced2ac",
   "metadata": {
    "execution": {
     "iopub.execute_input": "2024-01-03T11:26:46.160995Z",
     "iopub.status.busy": "2024-01-03T11:26:46.159761Z",
     "iopub.status.idle": "2024-01-03T11:26:46.164956Z",
     "shell.execute_reply": "2024-01-03T11:26:46.163668Z"
    },
    "papermill": {
     "duration": 0.0285,
     "end_time": "2024-01-03T11:26:46.166687",
     "exception": false,
     "start_time": "2024-01-03T11:26:46.138187",
     "status": "completed"
    },
    "tags": []
   },
   "outputs": [],
   "source": [
    "# Save the predictions to a CSV file\n",
    "#result_df.to_csv('submission.csv', index=False)"
   ]
  },
  {
   "cell_type": "markdown",
   "id": "52a245e4",
   "metadata": {
    "papermill": {
     "duration": 0.019713,
     "end_time": "2024-01-03T11:26:46.206828",
     "exception": false,
     "start_time": "2024-01-03T11:26:46.187115",
     "status": "completed"
    },
    "tags": []
   },
   "source": [
    "# Random Forest Model"
   ]
  },
  {
   "cell_type": "code",
   "execution_count": 65,
   "id": "7816281e",
   "metadata": {
    "execution": {
     "iopub.execute_input": "2024-01-03T11:26:46.249285Z",
     "iopub.status.busy": "2024-01-03T11:26:46.248741Z",
     "iopub.status.idle": "2024-01-03T11:26:46.253255Z",
     "shell.execute_reply": "2024-01-03T11:26:46.252420Z"
    },
    "papermill": {
     "duration": 0.027766,
     "end_time": "2024-01-03T11:26:46.254891",
     "exception": false,
     "start_time": "2024-01-03T11:26:46.227125",
     "status": "completed"
    },
    "tags": []
   },
   "outputs": [],
   "source": [
    "# Instantiate Random Forest model\n",
    "rf_model = RandomForestClassifier(random_state=2023, max_depth=7, n_estimators=300)"
   ]
  },
  {
   "cell_type": "code",
   "execution_count": 66,
   "id": "bea651a7",
   "metadata": {
    "execution": {
     "iopub.execute_input": "2024-01-03T11:26:46.297209Z",
     "iopub.status.busy": "2024-01-03T11:26:46.296804Z",
     "iopub.status.idle": "2024-01-03T11:26:46.779865Z",
     "shell.execute_reply": "2024-01-03T11:26:46.778318Z"
    },
    "papermill": {
     "duration": 0.507357,
     "end_time": "2024-01-03T11:26:46.782483",
     "exception": false,
     "start_time": "2024-01-03T11:26:46.275126",
     "status": "completed"
    },
    "tags": []
   },
   "outputs": [
    {
     "data": {
      "text/html": [
       "<style>#sk-container-id-2 {color: black;background-color: white;}#sk-container-id-2 pre{padding: 0;}#sk-container-id-2 div.sk-toggleable {background-color: white;}#sk-container-id-2 label.sk-toggleable__label {cursor: pointer;display: block;width: 100%;margin-bottom: 0;padding: 0.3em;box-sizing: border-box;text-align: center;}#sk-container-id-2 label.sk-toggleable__label-arrow:before {content: \"▸\";float: left;margin-right: 0.25em;color: #696969;}#sk-container-id-2 label.sk-toggleable__label-arrow:hover:before {color: black;}#sk-container-id-2 div.sk-estimator:hover label.sk-toggleable__label-arrow:before {color: black;}#sk-container-id-2 div.sk-toggleable__content {max-height: 0;max-width: 0;overflow: hidden;text-align: left;background-color: #f0f8ff;}#sk-container-id-2 div.sk-toggleable__content pre {margin: 0.2em;color: black;border-radius: 0.25em;background-color: #f0f8ff;}#sk-container-id-2 input.sk-toggleable__control:checked~div.sk-toggleable__content {max-height: 200px;max-width: 100%;overflow: auto;}#sk-container-id-2 input.sk-toggleable__control:checked~label.sk-toggleable__label-arrow:before {content: \"▾\";}#sk-container-id-2 div.sk-estimator input.sk-toggleable__control:checked~label.sk-toggleable__label {background-color: #d4ebff;}#sk-container-id-2 div.sk-label input.sk-toggleable__control:checked~label.sk-toggleable__label {background-color: #d4ebff;}#sk-container-id-2 input.sk-hidden--visually {border: 0;clip: rect(1px 1px 1px 1px);clip: rect(1px, 1px, 1px, 1px);height: 1px;margin: -1px;overflow: hidden;padding: 0;position: absolute;width: 1px;}#sk-container-id-2 div.sk-estimator {font-family: monospace;background-color: #f0f8ff;border: 1px dotted black;border-radius: 0.25em;box-sizing: border-box;margin-bottom: 0.5em;}#sk-container-id-2 div.sk-estimator:hover {background-color: #d4ebff;}#sk-container-id-2 div.sk-parallel-item::after {content: \"\";width: 100%;border-bottom: 1px solid gray;flex-grow: 1;}#sk-container-id-2 div.sk-label:hover label.sk-toggleable__label {background-color: #d4ebff;}#sk-container-id-2 div.sk-serial::before {content: \"\";position: absolute;border-left: 1px solid gray;box-sizing: border-box;top: 0;bottom: 0;left: 50%;z-index: 0;}#sk-container-id-2 div.sk-serial {display: flex;flex-direction: column;align-items: center;background-color: white;padding-right: 0.2em;padding-left: 0.2em;position: relative;}#sk-container-id-2 div.sk-item {position: relative;z-index: 1;}#sk-container-id-2 div.sk-parallel {display: flex;align-items: stretch;justify-content: center;background-color: white;position: relative;}#sk-container-id-2 div.sk-item::before, #sk-container-id-2 div.sk-parallel-item::before {content: \"\";position: absolute;border-left: 1px solid gray;box-sizing: border-box;top: 0;bottom: 0;left: 50%;z-index: -1;}#sk-container-id-2 div.sk-parallel-item {display: flex;flex-direction: column;z-index: 1;position: relative;background-color: white;}#sk-container-id-2 div.sk-parallel-item:first-child::after {align-self: flex-end;width: 50%;}#sk-container-id-2 div.sk-parallel-item:last-child::after {align-self: flex-start;width: 50%;}#sk-container-id-2 div.sk-parallel-item:only-child::after {width: 0;}#sk-container-id-2 div.sk-dashed-wrapped {border: 1px dashed gray;margin: 0 0.4em 0.5em 0.4em;box-sizing: border-box;padding-bottom: 0.4em;background-color: white;}#sk-container-id-2 div.sk-label label {font-family: monospace;font-weight: bold;display: inline-block;line-height: 1.2em;}#sk-container-id-2 div.sk-label-container {text-align: center;}#sk-container-id-2 div.sk-container {/* jupyter's `normalize.less` sets `[hidden] { display: none; }` but bootstrap.min.css set `[hidden] { display: none !important; }` so we also need the `!important` here to be able to override the default hidden behavior on the sphinx rendered scikit-learn.org. See: https://github.com/scikit-learn/scikit-learn/issues/21755 */display: inline-block !important;position: relative;}#sk-container-id-2 div.sk-text-repr-fallback {display: none;}</style><div id=\"sk-container-id-2\" class=\"sk-top-container\"><div class=\"sk-text-repr-fallback\"><pre>RandomForestClassifier(max_depth=7, n_estimators=300, random_state=2023)</pre><b>In a Jupyter environment, please rerun this cell to show the HTML representation or trust the notebook. <br />On GitHub, the HTML representation is unable to render, please try loading this page with nbviewer.org.</b></div><div class=\"sk-container\" hidden><div class=\"sk-item\"><div class=\"sk-estimator sk-toggleable\"><input class=\"sk-toggleable__control sk-hidden--visually\" id=\"sk-estimator-id-2\" type=\"checkbox\" checked><label for=\"sk-estimator-id-2\" class=\"sk-toggleable__label sk-toggleable__label-arrow\">RandomForestClassifier</label><div class=\"sk-toggleable__content\"><pre>RandomForestClassifier(max_depth=7, n_estimators=300, random_state=2023)</pre></div></div></div></div></div>"
      ],
      "text/plain": [
       "RandomForestClassifier(max_depth=7, n_estimators=300, random_state=2023)"
      ]
     },
     "execution_count": 66,
     "metadata": {},
     "output_type": "execute_result"
    }
   ],
   "source": [
    "# Train the model on the training set\n",
    "rf_model.fit(X_train_scaled, y_train)"
   ]
  },
  {
   "cell_type": "code",
   "execution_count": 67,
   "id": "2e4edc52",
   "metadata": {
    "execution": {
     "iopub.execute_input": "2024-01-03T11:26:46.825329Z",
     "iopub.status.busy": "2024-01-03T11:26:46.825018Z",
     "iopub.status.idle": "2024-01-03T11:26:46.854529Z",
     "shell.execute_reply": "2024-01-03T11:26:46.853621Z"
    },
    "papermill": {
     "duration": 0.05328,
     "end_time": "2024-01-03T11:26:46.856865",
     "exception": false,
     "start_time": "2024-01-03T11:26:46.803585",
     "status": "completed"
    },
    "tags": []
   },
   "outputs": [],
   "source": [
    "# Make predictions on the test data\n",
    "y_test_pred_rf = rf_model.predict(X_test_scaled)"
   ]
  },
  {
   "cell_type": "code",
   "execution_count": 68,
   "id": "9e4d4cb4",
   "metadata": {
    "execution": {
     "iopub.execute_input": "2024-01-03T11:26:46.898458Z",
     "iopub.status.busy": "2024-01-03T11:26:46.898042Z",
     "iopub.status.idle": "2024-01-03T11:26:46.904236Z",
     "shell.execute_reply": "2024-01-03T11:26:46.903060Z"
    },
    "papermill": {
     "duration": 0.029099,
     "end_time": "2024-01-03T11:26:46.906147",
     "exception": false,
     "start_time": "2024-01-03T11:26:46.877048",
     "status": "completed"
    },
    "tags": []
   },
   "outputs": [],
   "source": [
    "# Create a DataFrame with 'PassengerId' and 'Survived_Predicted' columns\n",
    "result_df_rf = pd.DataFrame({'PassengerId': titanictest['PassengerId'], 'Survived': y_test_pred_rf})"
   ]
  },
  {
   "cell_type": "code",
   "execution_count": 69,
   "id": "ce3cdeb6",
   "metadata": {
    "execution": {
     "iopub.execute_input": "2024-01-03T11:26:46.947820Z",
     "iopub.status.busy": "2024-01-03T11:26:46.947477Z",
     "iopub.status.idle": "2024-01-03T11:26:46.956149Z",
     "shell.execute_reply": "2024-01-03T11:26:46.954973Z"
    },
    "papermill": {
     "duration": 0.032395,
     "end_time": "2024-01-03T11:26:46.958761",
     "exception": false,
     "start_time": "2024-01-03T11:26:46.926366",
     "status": "completed"
    },
    "tags": []
   },
   "outputs": [],
   "source": [
    "# Save the predictions to a CSV file\n",
    "result_df_rf.to_csv('submission.csv', index=False)"
   ]
  },
  {
   "cell_type": "code",
   "execution_count": null,
   "id": "2fa6fb86",
   "metadata": {
    "papermill": {
     "duration": 0.020882,
     "end_time": "2024-01-03T11:26:47.001559",
     "exception": false,
     "start_time": "2024-01-03T11:26:46.980677",
     "status": "completed"
    },
    "tags": []
   },
   "outputs": [],
   "source": []
  }
 ],
 "metadata": {
  "kaggle": {
   "accelerator": "none",
   "dataSources": [
    {
     "databundleVersionId": 26502,
     "sourceId": 3136,
     "sourceType": "competition"
    }
   ],
   "dockerImageVersionId": 30626,
   "isGpuEnabled": false,
   "isInternetEnabled": true,
   "language": "python",
   "sourceType": "notebook"
  },
  "kernelspec": {
   "display_name": "Python 3",
   "language": "python",
   "name": "python3"
  },
  "language_info": {
   "codemirror_mode": {
    "name": "ipython",
    "version": 3
   },
   "file_extension": ".py",
   "mimetype": "text/x-python",
   "name": "python",
   "nbconvert_exporter": "python",
   "pygments_lexer": "ipython3",
   "version": "3.10.12"
  },
  "papermill": {
   "default_parameters": {},
   "duration": 11.485439,
   "end_time": "2024-01-03T11:26:47.542546",
   "environment_variables": {},
   "exception": null,
   "input_path": "__notebook__.ipynb",
   "output_path": "__notebook__.ipynb",
   "parameters": {},
   "start_time": "2024-01-03T11:26:36.057107",
   "version": "2.4.0"
  }
 },
 "nbformat": 4,
 "nbformat_minor": 5
}
