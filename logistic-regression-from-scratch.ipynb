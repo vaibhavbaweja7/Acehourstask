{
 "cells": [
  {
   "cell_type": "markdown",
   "id": "14f27cbc",
   "metadata": {
    "papermill": {
     "duration": 0.007304,
     "end_time": "2024-01-02T13:18:02.140896",
     "exception": false,
     "start_time": "2024-01-02T13:18:02.133592",
     "status": "completed"
    },
    "tags": []
   },
   "source": [
    "# Logistic Regression from Scratch!\n"
   ]
  },
  {
   "cell_type": "code",
   "execution_count": 1,
   "id": "8e2a4f97",
   "metadata": {
    "execution": {
     "iopub.execute_input": "2024-01-02T13:18:02.156349Z",
     "iopub.status.busy": "2024-01-02T13:18:02.155652Z",
     "iopub.status.idle": "2024-01-02T13:18:03.425530Z",
     "shell.execute_reply": "2024-01-02T13:18:03.424375Z"
    },
    "papermill": {
     "duration": 1.280594,
     "end_time": "2024-01-02T13:18:03.428473",
     "exception": false,
     "start_time": "2024-01-02T13:18:02.147879",
     "status": "completed"
    },
    "tags": []
   },
   "outputs": [],
   "source": [
    "import numpy as np\n",
    "from sklearn.datasets import load_breast_cancer\n",
    "from sklearn.model_selection import train_test_split\n",
    "import matplotlib.pyplot as plt"
   ]
  },
  {
   "cell_type": "code",
   "execution_count": 2,
   "id": "d2595fb6",
   "metadata": {
    "execution": {
     "iopub.execute_input": "2024-01-02T13:18:03.443419Z",
     "iopub.status.busy": "2024-01-02T13:18:03.443015Z",
     "iopub.status.idle": "2024-01-02T13:18:03.463953Z",
     "shell.execute_reply": "2024-01-02T13:18:03.463094Z"
    },
    "papermill": {
     "duration": 0.031399,
     "end_time": "2024-01-02T13:18:03.466482",
     "exception": false,
     "start_time": "2024-01-02T13:18:03.435083",
     "status": "completed"
    },
    "tags": []
   },
   "outputs": [],
   "source": [
    "\n",
    "# Load breast cancer dataset\n",
    "data = load_breast_cancer()\n",
    "X = data.data\n",
    "y = data.target.reshape(-1, 1)"
   ]
  },
  {
   "cell_type": "code",
   "execution_count": 3,
   "id": "0e4ebd2a",
   "metadata": {
    "execution": {
     "iopub.execute_input": "2024-01-02T13:18:03.481912Z",
     "iopub.status.busy": "2024-01-02T13:18:03.480773Z",
     "iopub.status.idle": "2024-01-02T13:18:03.489544Z",
     "shell.execute_reply": "2024-01-02T13:18:03.487422Z"
    },
    "papermill": {
     "duration": 0.019256,
     "end_time": "2024-01-02T13:18:03.492331",
     "exception": false,
     "start_time": "2024-01-02T13:18:03.473075",
     "status": "completed"
    },
    "tags": []
   },
   "outputs": [],
   "source": [
    "# Normalize feature values to help gradient descent converge faster\n",
    "X = (X - np.mean(X, axis=0)) / np.std(X, axis=0)"
   ]
  },
  {
   "cell_type": "code",
   "execution_count": 4,
   "id": "bad3dd05",
   "metadata": {
    "execution": {
     "iopub.execute_input": "2024-01-02T13:18:03.507783Z",
     "iopub.status.busy": "2024-01-02T13:18:03.507213Z",
     "iopub.status.idle": "2024-01-02T13:18:03.512590Z",
     "shell.execute_reply": "2024-01-02T13:18:03.511504Z"
    },
    "papermill": {
     "duration": 0.015839,
     "end_time": "2024-01-02T13:18:03.514889",
     "exception": false,
     "start_time": "2024-01-02T13:18:03.499050",
     "status": "completed"
    },
    "tags": []
   },
   "outputs": [],
   "source": [
    "# Add bias term to the feature matrix\n",
    "X_b = np.c_[np.ones((X.shape[0], 1)), X]"
   ]
  },
  {
   "cell_type": "code",
   "execution_count": 5,
   "id": "e175a972",
   "metadata": {
    "execution": {
     "iopub.execute_input": "2024-01-02T13:18:03.529475Z",
     "iopub.status.busy": "2024-01-02T13:18:03.529025Z",
     "iopub.status.idle": "2024-01-02T13:18:03.536875Z",
     "shell.execute_reply": "2024-01-02T13:18:03.535739Z"
    },
    "papermill": {
     "duration": 0.018091,
     "end_time": "2024-01-02T13:18:03.539436",
     "exception": false,
     "start_time": "2024-01-02T13:18:03.521345",
     "status": "completed"
    },
    "tags": []
   },
   "outputs": [],
   "source": [
    "# Split the dataset into training and testing sets\n",
    "X_train, X_test, y_train, y_test = train_test_split(X_b, y, test_size=0.2, random_state=42)"
   ]
  },
  {
   "cell_type": "code",
   "execution_count": 6,
   "id": "89fcae90",
   "metadata": {
    "execution": {
     "iopub.execute_input": "2024-01-02T13:18:03.554310Z",
     "iopub.status.busy": "2024-01-02T13:18:03.553871Z",
     "iopub.status.idle": "2024-01-02T13:18:03.559463Z",
     "shell.execute_reply": "2024-01-02T13:18:03.558330Z"
    },
    "papermill": {
     "duration": 0.01594,
     "end_time": "2024-01-02T13:18:03.561873",
     "exception": false,
     "start_time": "2024-01-02T13:18:03.545933",
     "status": "completed"
    },
    "tags": []
   },
   "outputs": [],
   "source": [
    "# Sigmoid (Logistic) function\n",
    "def sigmoid(z):\n",
    "    return 1 / (1 + np.exp(-z))"
   ]
  },
  {
   "cell_type": "code",
   "execution_count": 7,
   "id": "bacc8ab4",
   "metadata": {
    "execution": {
     "iopub.execute_input": "2024-01-02T13:18:03.576407Z",
     "iopub.status.busy": "2024-01-02T13:18:03.575961Z",
     "iopub.status.idle": "2024-01-02T13:18:03.582246Z",
     "shell.execute_reply": "2024-01-02T13:18:03.581007Z"
    },
    "papermill": {
     "duration": 0.016547,
     "end_time": "2024-01-02T13:18:03.584804",
     "exception": false,
     "start_time": "2024-01-02T13:18:03.568257",
     "status": "completed"
    },
    "tags": []
   },
   "outputs": [],
   "source": [
    "\n",
    "# Cost function for logistic regression\n",
    "def compute_cost(y, y_pred):\n",
    "    m = len(y)\n",
    "    return -1/m * np.sum(y * np.log(y_pred) + (1 - y) * np.log(1 - y_pred))\n"
   ]
  },
  {
   "cell_type": "code",
   "execution_count": 8,
   "id": "8618319f",
   "metadata": {
    "execution": {
     "iopub.execute_input": "2024-01-02T13:18:03.600084Z",
     "iopub.status.busy": "2024-01-02T13:18:03.599372Z",
     "iopub.status.idle": "2024-01-02T13:18:03.605993Z",
     "shell.execute_reply": "2024-01-02T13:18:03.605214Z"
    },
    "papermill": {
     "duration": 0.01673,
     "end_time": "2024-01-02T13:18:03.608130",
     "exception": false,
     "start_time": "2024-01-02T13:18:03.591400",
     "status": "completed"
    },
    "tags": []
   },
   "outputs": [],
   "source": [
    "# Gradient descent to update parameters\n",
    "def gradient_descent(X, y, theta, learning_rate, n_iterations):\n",
    "    m = len(y)\n",
    "    \n",
    "    for iteration in range(n_iterations):\n",
    "        z = np.dot(X, theta)\n",
    "        y_pred = sigmoid(z)\n",
    "        gradient = np.dot(X.T, (y_pred - y)) / m\n",
    "        theta -= learning_rate * gradient\n",
    "    \n",
    "    return theta"
   ]
  },
  {
   "cell_type": "code",
   "execution_count": 9,
   "id": "7bc7979a",
   "metadata": {
    "execution": {
     "iopub.execute_input": "2024-01-02T13:18:03.623276Z",
     "iopub.status.busy": "2024-01-02T13:18:03.622632Z",
     "iopub.status.idle": "2024-01-02T13:18:03.627537Z",
     "shell.execute_reply": "2024-01-02T13:18:03.626711Z"
    },
    "papermill": {
     "duration": 0.015312,
     "end_time": "2024-01-02T13:18:03.629786",
     "exception": false,
     "start_time": "2024-01-02T13:18:03.614474",
     "status": "completed"
    },
    "tags": []
   },
   "outputs": [],
   "source": [
    "# Train logistic regression model\n",
    "learning_rate = 0.01\n",
    "n_iterations = 1000"
   ]
  },
  {
   "cell_type": "code",
   "execution_count": 10,
   "id": "842ac3f7",
   "metadata": {
    "execution": {
     "iopub.execute_input": "2024-01-02T13:18:03.644608Z",
     "iopub.status.busy": "2024-01-02T13:18:03.643925Z",
     "iopub.status.idle": "2024-01-02T13:18:03.648748Z",
     "shell.execute_reply": "2024-01-02T13:18:03.647976Z"
    },
    "papermill": {
     "duration": 0.014814,
     "end_time": "2024-01-02T13:18:03.650888",
     "exception": false,
     "start_time": "2024-01-02T13:18:03.636074",
     "status": "completed"
    },
    "tags": []
   },
   "outputs": [],
   "source": [
    "# Initialize parameters\n",
    "theta = np.random.randn(X_train.shape[1], 1)"
   ]
  },
  {
   "cell_type": "code",
   "execution_count": 11,
   "id": "84e7bdfd",
   "metadata": {
    "execution": {
     "iopub.execute_input": "2024-01-02T13:18:03.665723Z",
     "iopub.status.busy": "2024-01-02T13:18:03.665029Z",
     "iopub.status.idle": "2024-01-02T13:18:03.772822Z",
     "shell.execute_reply": "2024-01-02T13:18:03.771199Z"
    },
    "papermill": {
     "duration": 0.119889,
     "end_time": "2024-01-02T13:18:03.777114",
     "exception": false,
     "start_time": "2024-01-02T13:18:03.657225",
     "status": "completed"
    },
    "tags": []
   },
   "outputs": [],
   "source": [
    "# Perform gradient descent\n",
    "theta = gradient_descent(X_train, y_train, theta, learning_rate, n_iterations)"
   ]
  },
  {
   "cell_type": "code",
   "execution_count": 12,
   "id": "9e6c10f3",
   "metadata": {
    "execution": {
     "iopub.execute_input": "2024-01-02T13:18:03.806258Z",
     "iopub.status.busy": "2024-01-02T13:18:03.805583Z",
     "iopub.status.idle": "2024-01-02T13:18:03.817157Z",
     "shell.execute_reply": "2024-01-02T13:18:03.815639Z"
    },
    "papermill": {
     "duration": 0.03211,
     "end_time": "2024-01-02T13:18:03.822210",
     "exception": false,
     "start_time": "2024-01-02T13:18:03.790100",
     "status": "completed"
    },
    "tags": []
   },
   "outputs": [],
   "source": [
    "# Make predictions on the test set\n",
    "y_pred_proba = sigmoid(np.dot(X_test, theta))"
   ]
  },
  {
   "cell_type": "code",
   "execution_count": 13,
   "id": "8da7599a",
   "metadata": {
    "execution": {
     "iopub.execute_input": "2024-01-02T13:18:03.850661Z",
     "iopub.status.busy": "2024-01-02T13:18:03.849976Z",
     "iopub.status.idle": "2024-01-02T13:18:03.869947Z",
     "shell.execute_reply": "2024-01-02T13:18:03.867938Z"
    },
    "papermill": {
     "duration": 0.040273,
     "end_time": "2024-01-02T13:18:03.875424",
     "exception": false,
     "start_time": "2024-01-02T13:18:03.835151",
     "status": "completed"
    },
    "tags": []
   },
   "outputs": [
    {
     "name": "stdout",
     "output_type": "stream",
     "text": [
      "[[1]\n",
      " [0]\n",
      " [0]\n",
      " [1]\n",
      " [1]\n",
      " [0]\n",
      " [0]\n",
      " [0]\n",
      " [1]\n",
      " [1]\n",
      " [1]\n",
      " [0]\n",
      " [1]\n",
      " [0]\n",
      " [1]\n",
      " [0]\n",
      " [1]\n",
      " [1]\n",
      " [1]\n",
      " [0]\n",
      " [1]\n",
      " [1]\n",
      " [0]\n",
      " [1]\n",
      " [1]\n",
      " [1]\n",
      " [1]\n",
      " [1]\n",
      " [1]\n",
      " [0]\n",
      " [1]\n",
      " [1]\n",
      " [0]\n",
      " [1]\n",
      " [1]\n",
      " [1]\n",
      " [0]\n",
      " [1]\n",
      " [0]\n",
      " [1]\n",
      " [1]\n",
      " [0]\n",
      " [1]\n",
      " [1]\n",
      " [1]\n",
      " [1]\n",
      " [1]\n",
      " [1]\n",
      " [1]\n",
      " [1]\n",
      " [0]\n",
      " [0]\n",
      " [0]\n",
      " [1]\n",
      " [1]\n",
      " [1]\n",
      " [1]\n",
      " [0]\n",
      " [0]\n",
      " [1]\n",
      " [1]\n",
      " [0]\n",
      " [0]\n",
      " [1]\n",
      " [1]\n",
      " [1]\n",
      " [0]\n",
      " [0]\n",
      " [1]\n",
      " [1]\n",
      " [0]\n",
      " [0]\n",
      " [1]\n",
      " [0]\n",
      " [1]\n",
      " [1]\n",
      " [1]\n",
      " [0]\n",
      " [1]\n",
      " [1]\n",
      " [0]\n",
      " [1]\n",
      " [0]\n",
      " [0]\n",
      " [0]\n",
      " [0]\n",
      " [0]\n",
      " [0]\n",
      " [1]\n",
      " [1]\n",
      " [1]\n",
      " [1]\n",
      " [0]\n",
      " [1]\n",
      " [1]\n",
      " [1]\n",
      " [0]\n",
      " [0]\n",
      " [1]\n",
      " [0]\n",
      " [0]\n",
      " [1]\n",
      " [0]\n",
      " [0]\n",
      " [1]\n",
      " [1]\n",
      " [1]\n",
      " [0]\n",
      " [1]\n",
      " [1]\n",
      " [0]\n",
      " [1]\n",
      " [1]\n",
      " [0]]\n"
     ]
    }
   ],
   "source": [
    "# Convert predicted probabilities to binary predictions (0 or 1)\n",
    "y_pred = (y_pred_proba >= 0.5).astype(int)\n",
    "print(y_pred)"
   ]
  },
  {
   "cell_type": "code",
   "execution_count": 14,
   "id": "30f4acdd",
   "metadata": {
    "execution": {
     "iopub.execute_input": "2024-01-02T13:18:03.898284Z",
     "iopub.status.busy": "2024-01-02T13:18:03.897764Z",
     "iopub.status.idle": "2024-01-02T13:18:03.903477Z",
     "shell.execute_reply": "2024-01-02T13:18:03.902670Z"
    },
    "papermill": {
     "duration": 0.016983,
     "end_time": "2024-01-02T13:18:03.906011",
     "exception": false,
     "start_time": "2024-01-02T13:18:03.889028",
     "status": "completed"
    },
    "tags": []
   },
   "outputs": [
    {
     "name": "stdout",
     "output_type": "stream",
     "text": [
      "Accuracy: 96.49%\n"
     ]
    }
   ],
   "source": [
    "# Evaluate the model\n",
    "accuracy = np.mean(y_pred == y_test)\n",
    "print(f\"Accuracy: {accuracy * 100:.2f}%\")"
   ]
  },
  {
   "cell_type": "code",
   "execution_count": 15,
   "id": "fc4f4459",
   "metadata": {
    "execution": {
     "iopub.execute_input": "2024-01-02T13:18:03.921920Z",
     "iopub.status.busy": "2024-01-02T13:18:03.920972Z",
     "iopub.status.idle": "2024-01-02T13:18:04.265779Z",
     "shell.execute_reply": "2024-01-02T13:18:04.264913Z"
    },
    "papermill": {
     "duration": 0.355133,
     "end_time": "2024-01-02T13:18:04.267897",
     "exception": false,
     "start_time": "2024-01-02T13:18:03.912764",
     "status": "completed"
    },
    "tags": []
   },
   "outputs": [
    {
     "data": {
      "image/png": "[encoded data removed]",
      "text/plain": [
       "<Figure size 640x480 with 1 Axes>"
      ]
     },
     "metadata": {},
     "output_type": "display_data"
    }
   ],
   "source": [
    "# Plot the ROC curve (Receiver Operating Characteristic)\n",
    "from sklearn.metrics import roc_curve, auc\n",
    "\n",
    "fpr, tpr, thresholds = roc_curve(y_test, y_pred_proba)\n",
    "roc_auc = auc(fpr, tpr)\n",
    "\n",
    "plt.figure()\n",
    "plt.plot(fpr, tpr, color='darkorange', lw=2, label='ROC curve (area = {:.2f})'.format(roc_auc))\n",
    "plt.plot([0, 1], [0, 1], color='navy', lw=2, linestyle='--')\n",
    "plt.xlabel('False Positive Rate')\n",
    "plt.ylabel('True Positive Rate')\n",
    "plt.title('Receiver Operating Characteristic')\n",
    "plt.legend(loc=\"lower right\")\n",
    "plt.show()"
   ]
  },
  {
   "cell_type": "code",
   "execution_count": 16,
   "id": "dcef66c2",
   "metadata": {
    "execution": {
     "iopub.execute_input": "2024-01-02T13:18:04.284394Z",
     "iopub.status.busy": "2024-01-02T13:18:04.283707Z",
     "iopub.status.idle": "2024-01-02T13:18:04.595666Z",
     "shell.execute_reply": "2024-01-02T13:18:04.594483Z"
    },
    "papermill": {
     "duration": 0.323415,
     "end_time": "2024-01-02T13:18:04.598526",
     "exception": false,
     "start_time": "2024-01-02T13:18:04.275111",
     "status": "completed"
    },
    "tags": []
   },
   "outputs": [
    {
     "data": {
      "image/png": "[encoded data removed]",
      "text/plain": [
       "<Figure size 640x480 with 1 Axes>"
      ]
     },
     "metadata": {},
     "output_type": "display_data"
    }
   ],
   "source": [
    "# Plot the actual vs predicted curve\n",
    "plt.scatter(y_test, y_pred, color='blue')\n",
    "plt.plot([0, 1], [0, 1], linestyle='--', color='red', linewidth=2)\n",
    "plt.xlabel('Actual Labels')\n",
    "plt.ylabel('Predicted Labels')\n",
    "plt.title('Actual vs Predicted Curve')\n",
    "plt.show()"
   ]
  },
  {
   "cell_type": "code",
   "execution_count": null,
   "id": "08ed40ae",
   "metadata": {
    "papermill": {
     "duration": 0.007451,
     "end_time": "2024-01-02T13:18:04.613751",
     "exception": false,
     "start_time": "2024-01-02T13:18:04.606300",
     "status": "completed"
    },
    "tags": []
   },
   "outputs": [],
   "source": []
  }
 ],
 "metadata": {
  "kaggle": {
   "accelerator": "none",
   "dataSources": [],
   "dockerImageVersionId": 30626,
   "isGpuEnabled": false,
   "isInternetEnabled": true,
   "language": "python",
   "sourceType": "notebook"
  },
  "kernelspec": {
   "display_name": "Python 3",
   "language": "python",
   "name": "python3"
  },
  "language_info": {
   "codemirror_mode": {
    "name": "ipython",
    "version": 3
   },
   "file_extension": ".py",
   "mimetype": "text/x-python",
   "name": "python",
   "nbconvert_exporter": "python",
   "pygments_lexer": "ipython3",
   "version": "3.10.12"
  },
  "papermill": {
   "default_parameters": {},
   "duration": 6.37285,
   "end_time": "2024-01-02T13:18:05.144013",
   "environment_variables": {},
   "exception": null,
   "input_path": "__notebook__.ipynb",
   "output_path": "__notebook__.ipynb",
   "parameters": {},
   "start_time": "2024-01-02T13:17:58.771163",
   "version": "2.4.0"
  }
 },
 "nbformat": 4,
 "nbformat_minor": 5
}
