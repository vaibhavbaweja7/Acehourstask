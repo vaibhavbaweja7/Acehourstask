{
 "cells": [
  {
   "cell_type": "markdown",
   "id": "4ed07f97",
   "metadata": {
    "papermill": {
     "duration": 0.005238,
     "end_time": "2024-01-03T13:03:06.302624",
     "exception": false,
     "start_time": "2024-01-03T13:03:06.297386",
     "status": "completed"
    },
    "tags": []
   },
   "source": [
    "\n"
   ]
  },
  {
   "cell_type": "markdown",
   "id": "5db8eea7",
   "metadata": {
    "papermill": {
     "duration": 0.004247,
     "end_time": "2024-01-03T13:03:06.311906",
     "exception": false,
     "start_time": "2024-01-03T13:03:06.307659",
     "status": "completed"
    },
    "tags": []
   },
   "source": [
    "# Importing the required libraries"
   ]
  },
  {
   "cell_type": "code",
   "execution_count": 1,
   "id": "2c03c8ae",
   "metadata": {
    "execution": {
     "iopub.execute_input": "2024-01-03T13:03:06.324102Z",
     "iopub.status.busy": "2024-01-03T13:03:06.323315Z",
     "iopub.status.idle": "2024-01-03T13:03:07.935648Z",
     "shell.execute_reply": "2024-01-03T13:03:07.934184Z"
    },
    "papermill": {
     "duration": 1.622414,
     "end_time": "2024-01-03T13:03:07.938824",
     "exception": false,
     "start_time": "2024-01-03T13:03:06.316410",
     "status": "completed"
    },
    "tags": []
   },
   "outputs": [],
   "source": [
    "import numpy as np\n",
    "from sklearn.datasets import load_iris\n",
    "from sklearn.preprocessing import StandardScaler\n",
    "import matplotlib.pyplot as plt"
   ]
  },
  {
   "cell_type": "code",
   "execution_count": 2,
   "id": "96e0bafb",
   "metadata": {
    "execution": {
     "iopub.execute_input": "2024-01-03T13:03:07.950129Z",
     "iopub.status.busy": "2024-01-03T13:03:07.949716Z",
     "iopub.status.idle": "2024-01-03T13:03:07.963178Z",
     "shell.execute_reply": "2024-01-03T13:03:07.961396Z"
    },
    "papermill": {
     "duration": 0.022723,
     "end_time": "2024-01-03T13:03:07.966294",
     "exception": false,
     "start_time": "2024-01-03T13:03:07.943571",
     "status": "completed"
    },
    "tags": []
   },
   "outputs": [],
   "source": [
    "# Load the Iris dataset\n",
    "iris = load_iris()\n",
    "X = iris.data"
   ]
  },
  {
   "cell_type": "markdown",
   "id": "c464f8c3",
   "metadata": {
    "papermill": {
     "duration": 0.004259,
     "end_time": "2024-01-03T13:03:07.975087",
     "exception": false,
     "start_time": "2024-01-03T13:03:07.970828",
     "status": "completed"
    },
    "tags": []
   },
   "source": [
    "### Standardize the data"
   ]
  },
  {
   "cell_type": "code",
   "execution_count": 3,
   "id": "df746bee",
   "metadata": {
    "execution": {
     "iopub.execute_input": "2024-01-03T13:03:07.985914Z",
     "iopub.status.busy": "2024-01-03T13:03:07.985474Z",
     "iopub.status.idle": "2024-01-03T13:03:07.995995Z",
     "shell.execute_reply": "2024-01-03T13:03:07.994704Z"
    },
    "papermill": {
     "duration": 0.020028,
     "end_time": "2024-01-03T13:03:07.999617",
     "exception": false,
     "start_time": "2024-01-03T13:03:07.979589",
     "status": "completed"
    },
    "tags": []
   },
   "outputs": [],
   "source": [
    "\n",
    "scaler = StandardScaler()\n",
    "X_std = scaler.fit_transform(X)"
   ]
  },
  {
   "cell_type": "markdown",
   "id": "3cc8f2cc",
   "metadata": {
    "papermill": {
     "duration": 0.004295,
     "end_time": "2024-01-03T13:03:08.008620",
     "exception": false,
     "start_time": "2024-01-03T13:03:08.004325",
     "status": "completed"
    },
    "tags": []
   },
   "source": [
    "# Main K means function made from scratch"
   ]
  },
  {
   "cell_type": "code",
   "execution_count": 4,
   "id": "be513ac7",
   "metadata": {
    "execution": {
     "iopub.execute_input": "2024-01-03T13:03:08.019730Z",
     "iopub.status.busy": "2024-01-03T13:03:08.019276Z",
     "iopub.status.idle": "2024-01-03T13:03:08.029467Z",
     "shell.execute_reply": "2024-01-03T13:03:08.028103Z"
    },
    "papermill": {
     "duration": 0.018941,
     "end_time": "2024-01-03T13:03:08.032067",
     "exception": false,
     "start_time": "2024-01-03T13:03:08.013126",
     "status": "completed"
    },
    "tags": []
   },
   "outputs": [],
   "source": [
    "# KMeans from scratch\n",
    "def kmeans(X, k, max_iters=100, tol=1e-4):\n",
    "    n_samples, n_features = X.shape\n",
    "    # Initialize centroids randomly\n",
    "    centroids = X[np.random.choice(n_samples, k, replace=False)]\n",
    "    prev_centroids = centroids.copy()\n",
    "\n",
    "    for _ in range(max_iters):\n",
    "        \n",
    "        # Calculate pairwise distances between data points and centroids using broadcasting\n",
    "        distances = np.linalg.norm(X[:, np.newaxis, :] - centroids, axis=2)\n",
    "\n",
    "        # Assign each data point to the closest centroid\n",
    "        labels = np.argmin(distances, axis=1)\n",
    "       # Update centroids\n",
    "        centroids = np.array([X[labels == j].mean(axis=0) for j in range(k)])\n",
    "\n",
    "        # Check for convergence\n",
    "        if np.sum(np.abs(centroids - prev_centroids)) < tol:\n",
    "            break\n",
    "\n",
    "        prev_centroids = centroids.copy()\n",
    "\n",
    "    return labels, centroids"
   ]
  },
  {
   "cell_type": "code",
   "execution_count": 5,
   "id": "f95a76a6",
   "metadata": {
    "execution": {
     "iopub.execute_input": "2024-01-03T13:03:08.043752Z",
     "iopub.status.busy": "2024-01-03T13:03:08.042965Z",
     "iopub.status.idle": "2024-01-03T13:03:08.051116Z",
     "shell.execute_reply": "2024-01-03T13:03:08.049963Z"
    },
    "papermill": {
     "duration": 0.017073,
     "end_time": "2024-01-03T13:03:08.053891",
     "exception": false,
     "start_time": "2024-01-03T13:03:08.036818",
     "status": "completed"
    },
    "tags": []
   },
   "outputs": [],
   "source": [
    "# Apply KMeans from scratch\n",
    "k = 3\n",
    "labels_scratch, centroids_scratch = kmeans(X_std, k)"
   ]
  },
  {
   "cell_type": "markdown",
   "id": "3c7deaad",
   "metadata": {
    "papermill": {
     "duration": 0.005063,
     "end_time": "2024-01-03T13:03:08.063747",
     "exception": false,
     "start_time": "2024-01-03T13:03:08.058684",
     "status": "completed"
    },
    "tags": []
   },
   "source": [
    "# Visualizing our results!"
   ]
  },
  {
   "cell_type": "code",
   "execution_count": 6,
   "id": "ce593f57",
   "metadata": {
    "execution": {
     "iopub.execute_input": "2024-01-03T13:03:08.075090Z",
     "iopub.status.busy": "2024-01-03T13:03:08.074481Z",
     "iopub.status.idle": "2024-01-03T13:03:08.469676Z",
     "shell.execute_reply": "2024-01-03T13:03:08.468399Z"
    },
    "papermill": {
     "duration": 0.403693,
     "end_time": "2024-01-03T13:03:08.472152",
     "exception": false,
     "start_time": "2024-01-03T13:03:08.068459",
     "status": "completed"
    },
    "tags": []
   },
   "outputs": [
    {
     "data": {
      "image/png": "[encoded data removed]",
      "text/plain": [
       "<Figure size 640x480 with 1 Axes>"
      ]
     },
     "metadata": {},
     "output_type": "display_data"
    }
   ],
   "source": [
    "\n",
    "plt.scatter(X_std[:, 0], X_std[:, 1], c=labels_scratch, cmap='viridis', label='Cluster Assignments')\n",
    "plt.scatter(centroids_scratch[:, 0], centroids_scratch[:, 1], marker='x', s=200, linewidths=3, color='r', label='Centroids')\n",
    "plt.title('KMeans Clustering from scratch on Iris Dataset')\n",
    "plt.xlabel('Sepal Length (Standardized)')\n",
    "plt.ylabel('Sepal Width (Standardized)')\n",
    "plt.legend()\n",
    "plt.show()"
   ]
  },
  {
   "cell_type": "code",
   "execution_count": null,
   "id": "564dfa5c",
   "metadata": {
    "papermill": {
     "duration": 0.00511,
     "end_time": "2024-01-03T13:03:08.482916",
     "exception": false,
     "start_time": "2024-01-03T13:03:08.477806",
     "status": "completed"
    },
    "tags": []
   },
   "outputs": [],
   "source": []
  }
 ],
 "metadata": {
  "kaggle": {
   "accelerator": "none",
   "dataSources": [],
   "dockerImageVersionId": 30626,
   "isGpuEnabled": false,
   "isInternetEnabled": true,
   "language": "python",
   "sourceType": "notebook"
  },
  "kernelspec": {
   "display_name": "Python 3",
   "language": "python",
   "name": "python3"
  },
  "language_info": {
   "codemirror_mode": {
    "name": "ipython",
    "version": 3
   },
   "file_extension": ".py",
   "mimetype": "text/x-python",
   "name": "python",
   "nbconvert_exporter": "python",
   "pygments_lexer": "ipython3",
   "version": "3.10.12"
  },
  "papermill": {
   "default_parameters": {},
   "duration": 6.6652,
   "end_time": "2024-01-03T13:03:09.111222",
   "environment_variables": {},
   "exception": null,
   "input_path": "__notebook__.ipynb",
   "output_path": "__notebook__.ipynb",
   "parameters": {},
   "start_time": "2024-01-03T13:03:02.446022",
   "version": "2.4.0"
  }
 },
 "nbformat": 4,
 "nbformat_minor": 5
}
