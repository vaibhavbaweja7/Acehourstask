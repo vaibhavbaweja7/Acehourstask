{
 "cells": [
  {
   "cell_type": "markdown",
   "id": "a60d3c23",
   "metadata": {
    "execution": {
     "iopub.execute_input": "2024-01-08T10:57:32.829261Z",
     "iopub.status.busy": "2024-01-08T10:57:32.828782Z",
     "iopub.status.idle": "2024-01-08T10:57:32.836387Z",
     "shell.execute_reply": "2024-01-08T10:57:32.835032Z",
     "shell.execute_reply.started": "2024-01-08T10:57:32.829226Z"
    },
    "papermill": {
     "duration": 0.004082,
     "end_time": "2024-01-08T11:39:40.015017",
     "exception": false,
     "start_time": "2024-01-08T11:39:40.010935",
     "status": "completed"
    },
    "tags": []
   },
   "source": [
    "# Importing the required libraries"
   ]
  },
  {
   "cell_type": "code",
   "execution_count": 1,
   "id": "b08a733b",
   "metadata": {
    "execution": {
     "iopub.execute_input": "2024-01-08T11:39:40.024320Z",
     "iopub.status.busy": "2024-01-08T11:39:40.023691Z",
     "iopub.status.idle": "2024-01-08T11:39:52.685380Z",
     "shell.execute_reply": "2024-01-08T11:39:52.684436Z"
    },
    "papermill": {
     "duration": 12.66932,
     "end_time": "2024-01-08T11:39:52.688057",
     "exception": false,
     "start_time": "2024-01-08T11:39:40.018737",
     "status": "completed"
    },
    "tags": []
   },
   "outputs": [],
   "source": [
    "import tensorflow as tf\n",
    "from tensorflow.keras.datasets import imdb\n",
    "from tensorflow.keras.preprocessing.sequence import pad_sequences\n",
    "from sklearn.model_selection import train_test_split\n",
    "from sklearn.preprocessing import OneHotEncoder\n",
    "import matplotlib.pyplot as plt\n",
    "import numpy as np"
   ]
  },
  {
   "cell_type": "markdown",
   "id": "9a522fc7",
   "metadata": {
    "papermill": {
     "duration": 0.003647,
     "end_time": "2024-01-08T11:39:52.695797",
     "exception": false,
     "start_time": "2024-01-08T11:39:52.692150",
     "status": "completed"
    },
    "tags": []
   },
   "source": [
    "# Loading the imdb dataset"
   ]
  },
  {
   "cell_type": "code",
   "execution_count": 2,
   "id": "7e74cc17",
   "metadata": {
    "execution": {
     "iopub.execute_input": "2024-01-08T11:39:52.705111Z",
     "iopub.status.busy": "2024-01-08T11:39:52.704431Z",
     "iopub.status.idle": "2024-01-08T11:39:57.103584Z",
     "shell.execute_reply": "2024-01-08T11:39:57.102771Z"
    },
    "papermill": {
     "duration": 4.405923,
     "end_time": "2024-01-08T11:39:57.105460",
     "exception": false,
     "start_time": "2024-01-08T11:39:52.699537",
     "status": "completed"
    },
    "tags": []
   },
   "outputs": [
    {
     "name": "stdout",
     "output_type": "stream",
     "text": [
      "Downloading data from https://storage.googleapis.com/tensorflow/tf-keras-datasets/imdb.npz\n",
      "17464789/17464789 [==============================] - 0s 0us/step\n"
     ]
    }
   ],
   "source": [
    "# Load the IMDb dataset\n",
    "max_features = 10000  # Number of words to keep in the vocabulary\n",
    "maxlen = 100  # Maximum length of each sequence\n",
    "(x_train, y_train), (x_test, y_test) = imdb.load_data(num_words=max_features)"
   ]
  },
  {
   "cell_type": "code",
   "execution_count": 3,
   "id": "4ff0d288",
   "metadata": {
    "execution": {
     "iopub.execute_input": "2024-01-08T11:39:57.115558Z",
     "iopub.status.busy": "2024-01-08T11:39:57.114818Z",
     "iopub.status.idle": "2024-01-08T11:39:57.502685Z",
     "shell.execute_reply": "2024-01-08T11:39:57.501766Z"
    },
    "papermill": {
     "duration": 0.395592,
     "end_time": "2024-01-08T11:39:57.505242",
     "exception": false,
     "start_time": "2024-01-08T11:39:57.109650",
     "status": "completed"
    },
    "tags": []
   },
   "outputs": [],
   "source": [
    "# Pad sequences to have the same length\n",
    "x_train = pad_sequences(x_train, maxlen=maxlen)\n",
    "x_test = pad_sequences(x_test, maxlen=maxlen)"
   ]
  },
  {
   "cell_type": "markdown",
   "id": "4d38a491",
   "metadata": {
    "papermill": {
     "duration": 0.00369,
     "end_time": "2024-01-08T11:39:57.513141",
     "exception": false,
     "start_time": "2024-01-08T11:39:57.509451",
     "status": "completed"
    },
    "tags": []
   },
   "source": [
    "# Building the RNN model using tensorflow"
   ]
  },
  {
   "cell_type": "code",
   "execution_count": 4,
   "id": "eb06ae54",
   "metadata": {
    "execution": {
     "iopub.execute_input": "2024-01-08T11:39:57.522719Z",
     "iopub.status.busy": "2024-01-08T11:39:57.522307Z",
     "iopub.status.idle": "2024-01-08T11:39:57.743425Z",
     "shell.execute_reply": "2024-01-08T11:39:57.742454Z"
    },
    "papermill": {
     "duration": 0.228624,
     "end_time": "2024-01-08T11:39:57.745666",
     "exception": false,
     "start_time": "2024-01-08T11:39:57.517042",
     "status": "completed"
    },
    "tags": []
   },
   "outputs": [],
   "source": [
    "# Build the RNN model using TensorFlow\n",
    "model = tf.keras.Sequential([\n",
    "    tf.keras.layers.Embedding(max_features, 32, input_length=maxlen),\n",
    "    tf.keras.layers.SimpleRNN(32),\n",
    "    tf.keras.layers.Dense(1, activation='sigmoid')\n",
    "])"
   ]
  },
  {
   "cell_type": "markdown",
   "id": "dcc1aa6e",
   "metadata": {
    "papermill": {
     "duration": 0.003736,
     "end_time": "2024-01-08T11:39:57.753650",
     "exception": false,
     "start_time": "2024-01-08T11:39:57.749914",
     "status": "completed"
    },
    "tags": []
   },
   "source": [
    "# Training the model"
   ]
  },
  {
   "cell_type": "code",
   "execution_count": 5,
   "id": "909ca73f",
   "metadata": {
    "execution": {
     "iopub.execute_input": "2024-01-08T11:39:57.762724Z",
     "iopub.status.busy": "2024-01-08T11:39:57.762371Z",
     "iopub.status.idle": "2024-01-08T11:39:57.778007Z",
     "shell.execute_reply": "2024-01-08T11:39:57.777057Z"
    },
    "papermill": {
     "duration": 0.022816,
     "end_time": "2024-01-08T11:39:57.780229",
     "exception": false,
     "start_time": "2024-01-08T11:39:57.757413",
     "status": "completed"
    },
    "tags": []
   },
   "outputs": [],
   "source": [
    "# Compile the model\n",
    "model.compile(optimizer='adam', loss='binary_crossentropy', metrics=['accuracy'])\n"
   ]
  },
  {
   "cell_type": "code",
   "execution_count": 6,
   "id": "63a545fa",
   "metadata": {
    "execution": {
     "iopub.execute_input": "2024-01-08T11:39:57.789939Z",
     "iopub.status.busy": "2024-01-08T11:39:57.789633Z",
     "iopub.status.idle": "2024-01-08T11:40:31.375893Z",
     "shell.execute_reply": "2024-01-08T11:40:31.374941Z"
    },
    "papermill": {
     "duration": 33.59322,
     "end_time": "2024-01-08T11:40:31.377821",
     "exception": false,
     "start_time": "2024-01-08T11:39:57.784601",
     "status": "completed"
    },
    "tags": []
   },
   "outputs": [
    {
     "name": "stdout",
     "output_type": "stream",
     "text": [
      "Epoch 1/5\n",
      "313/313 [==============================] - 8s 21ms/step - loss: 0.6470 - accuracy: 0.6136 - val_loss: 0.4879 - val_accuracy: 0.7774\n",
      "Epoch 2/5\n",
      "313/313 [==============================] - 6s 21ms/step - loss: 0.3994 - accuracy: 0.8270 - val_loss: 0.4174 - val_accuracy: 0.8166\n",
      "Epoch 3/5\n",
      "313/313 [==============================] - 6s 20ms/step - loss: 0.2702 - accuracy: 0.8928 - val_loss: 0.4172 - val_accuracy: 0.8298\n",
      "Epoch 4/5\n",
      "313/313 [==============================] - 6s 20ms/step - loss: 0.1874 - accuracy: 0.9299 - val_loss: 0.4706 - val_accuracy: 0.8272\n",
      "Epoch 5/5\n",
      "313/313 [==============================] - 7s 21ms/step - loss: 0.0996 - accuracy: 0.9682 - val_loss: 0.5243 - val_accuracy: 0.8212\n"
     ]
    },
    {
     "data": {
      "text/plain": [
       "<keras.src.callbacks.History at 0x78b4b9ae73d0>"
      ]
     },
     "execution_count": 6,
     "metadata": {},
     "output_type": "execute_result"
    }
   ],
   "source": [
    "# Train the model\n",
    "model.fit(x_train, y_train, epochs=5, batch_size=64, validation_split=0.2)"
   ]
  },
  {
   "cell_type": "code",
   "execution_count": 7,
   "id": "15e9a2bd",
   "metadata": {
    "execution": {
     "iopub.execute_input": "2024-01-08T11:40:31.448436Z",
     "iopub.status.busy": "2024-01-08T11:40:31.447830Z",
     "iopub.status.idle": "2024-01-08T11:40:36.617948Z",
     "shell.execute_reply": "2024-01-08T11:40:36.616186Z"
    },
    "papermill": {
     "duration": 5.207578,
     "end_time": "2024-01-08T11:40:36.620040",
     "exception": false,
     "start_time": "2024-01-08T11:40:31.412462",
     "status": "completed"
    },
    "tags": []
   },
   "outputs": [
    {
     "name": "stdout",
     "output_type": "stream",
     "text": [
      "782/782 [==============================] - 4s 5ms/step - loss: 0.5196 - accuracy: 0.8164\n",
      "Test Loss: 0.5195599794387817, Test Accuracy: 0.8163599967956543\n"
     ]
    }
   ],
   "source": [
    "# Evaluate the model on the test set\n",
    "test_loss, test_accuracy = model.evaluate(x_test, y_test)\n",
    "print(f'Test Loss: {test_loss}, Test Accuracy: {test_accuracy}')"
   ]
  },
  {
   "cell_type": "markdown",
   "id": "d8bc56ed",
   "metadata": {
    "papermill": {
     "duration": 0.048713,
     "end_time": "2024-01-08T11:40:36.709068",
     "exception": false,
     "start_time": "2024-01-08T11:40:36.660355",
     "status": "completed"
    },
    "tags": []
   },
   "source": [
    "# Visualizing the results"
   ]
  },
  {
   "cell_type": "code",
   "execution_count": 8,
   "id": "92badd41",
   "metadata": {
    "execution": {
     "iopub.execute_input": "2024-01-08T11:40:36.837290Z",
     "iopub.status.busy": "2024-01-08T11:40:36.836201Z",
     "iopub.status.idle": "2024-01-08T11:40:36.842021Z",
     "shell.execute_reply": "2024-01-08T11:40:36.841037Z"
    },
    "papermill": {
     "duration": 0.093399,
     "end_time": "2024-01-08T11:40:36.843807",
     "exception": false,
     "start_time": "2024-01-08T11:40:36.750408",
     "status": "completed"
    },
    "tags": []
   },
   "outputs": [],
   "source": [
    "# Function to convert word indices back to words\n",
    "def indices_to_words(indices, word_index):\n",
    "    reverse_word_index = dict([(value, key) for (key, value) in word_index.items()])\n",
    "    return ' '.join([reverse_word_index.get(i, '?') for i in indices])\n"
   ]
  },
  {
   "cell_type": "code",
   "execution_count": 9,
   "id": "51b6f04f",
   "metadata": {
    "execution": {
     "iopub.execute_input": "2024-01-08T11:40:36.927146Z",
     "iopub.status.busy": "2024-01-08T11:40:36.926785Z",
     "iopub.status.idle": "2024-01-08T11:40:36.933710Z",
     "shell.execute_reply": "2024-01-08T11:40:36.932646Z"
    },
    "papermill": {
     "duration": 0.050702,
     "end_time": "2024-01-08T11:40:36.935479",
     "exception": false,
     "start_time": "2024-01-08T11:40:36.884777",
     "status": "completed"
    },
    "tags": []
   },
   "outputs": [],
   "source": [
    "def visualize_sample(model, x_test, y_test, index):\n",
    "    sample_input = x_test[index]\n",
    "    true_label = y_test[index]\n",
    "\n",
    "    # Make a prediction\n",
    "    prediction = model.predict(np.expand_dims(sample_input, axis=0))[0]\n",
    "\n",
    "    # Convert indices to words\n",
    "    sample_text = indices_to_words(sample_input, imdb.get_word_index())\n",
    "\n",
    "    # Print the true sentiment and predicted probability\n",
    "    sentiment = 'Positive' if true_label == 1 else 'Negative'\n",
    "    prediction_prob = prediction[0] if true_label == 0 else 1 - prediction[0]\n",
    "    \n",
    "    print(f\"True Sentiment: {sentiment}\")\n",
    "    print(f\"Predicted Probability: {prediction_prob:.4f}\")\n",
    "    print(\"Review:\")\n",
    "    print(sample_text)"
   ]
  },
  {
   "cell_type": "code",
   "execution_count": 10,
   "id": "8755b5d9",
   "metadata": {
    "execution": {
     "iopub.execute_input": "2024-01-08T11:40:37.016007Z",
     "iopub.status.busy": "2024-01-08T11:40:37.015464Z",
     "iopub.status.idle": "2024-01-08T11:40:37.788113Z",
     "shell.execute_reply": "2024-01-08T11:40:37.786578Z"
    },
    "papermill": {
     "duration": 0.815635,
     "end_time": "2024-01-08T11:40:37.790176",
     "exception": false,
     "start_time": "2024-01-08T11:40:36.974541",
     "status": "completed"
    },
    "tags": []
   },
   "outputs": [
    {
     "name": "stdout",
     "output_type": "stream",
     "text": [
      "1/1 [==============================] - 0s 148ms/step\n",
      "Downloading data from https://storage.googleapis.com/tensorflow/tf-keras-datasets/imdb_word_index.json\n",
      "1641221/1641221 [==============================] - 0s 0us/step\n",
      "True Sentiment: Negative\n",
      "Predicted Probability: 0.6521\n",
      "Review:\n",
      "? ? ? ? ? ? ? ? ? ? ? ? ? ? ? ? ? ? ? ? ? ? ? ? ? ? ? ? ? ? ? ? the wonder own as by is sequence i i and and to of hollywood br of down shouting getting boring of ever it sadly sadly sadly i i was then does don't close faint after one carry as by are be favourites all family turn in does as three part in another some to be probably with world and her an have faint beginning own as is sequence\n",
      "\n",
      "---\n",
      "\n",
      "1/1 [==============================] - 0s 18ms/step\n",
      "True Sentiment: Positive\n",
      "Predicted Probability: 0.0056\n",
      "Review:\n",
      "is telling program br silliness okay and to frustration at corner and she of sequences to political clearly in of drugs keep guy i i was throwing room sugar as it by br be plot many for occasionally film verge boyfriend difficult kid as you it failed not if gerard to if woman in and is police fi spooky or of self what have pretty in can so suit you good 2 which why super as it main of my i i  if time screenplay in same this remember assured have action one in realistic that better of lessons\n",
      "\n",
      "---\n",
      "\n",
      "1/1 [==============================] - 0s 18ms/step\n",
      "True Sentiment: Positive\n",
      "Predicted Probability: 0.0714\n",
      "Review:\n",
      "of rukh br for and expressing stunts black that story at actual in can as movie is and has though songs and action it's action his one me and grass this second no all way and not lee and be moves br figure of you boss movie is and 9 br propaganda and and after at of smoke splendid snow saturday it's results this of load it's think class br think cop for games make southern things to it jolly who and if is boyfriend you which is tony by this make residents too not make above it even background\n",
      "\n",
      "---\n",
      "\n",
      "1/1 [==============================] - 0s 19ms/step\n",
      "True Sentiment: Negative\n",
      "Predicted Probability: 0.0696\n",
      "Review:\n",
      "of killer this as on it deborah film about history in of come br tested was saying was three her length has about to about unusual most was story one let's town of genre when is seriously would with long only king's to future deep i'm dvd have can about people friends of here other it especially fan often somewhere br doesn't characters for he means her seemed states by well potential can when it never means movie so night bad he and daughter film of unusual are of goes her them such of number big bad one left bloody\n",
      "\n",
      "---\n",
      "\n",
      "1/1 [==============================] - 0s 21ms/step\n",
      "True Sentiment: Positive\n",
      "Predicted Probability: 0.0552\n",
      "Review:\n",
      "minute each shirley completely to was several as b i i as b gave compared rest not includes we if main that movie sometimes movie have sex man endearing of feet he played to and from into pot have and man second hand in and watching his offering as b it other and to it taste bit i i in perfect as slowly truth was one in perfect only deliver sleazy has thrown not wonder classic as b satisfied at main that i i their among among without didn't later if for very and didn't clearly and didn't forget didn't\n",
      "\n",
      "---\n",
      "\n"
     ]
    }
   ],
   "source": [
    "# Visualize a few sample predictions\n",
    "for i in range(5):\n",
    "    visualize_sample(model, x_test, y_test, i)\n",
    "    print(\"\\n---\\n\")"
   ]
  },
  {
   "cell_type": "code",
   "execution_count": null,
   "id": "58166cae",
   "metadata": {
    "papermill": {
     "duration": 0.040725,
     "end_time": "2024-01-08T11:40:37.871645",
     "exception": false,
     "start_time": "2024-01-08T11:40:37.830920",
     "status": "completed"
    },
    "tags": []
   },
   "outputs": [],
   "source": []
  },
  {
   "cell_type": "code",
   "execution_count": null,
   "id": "827d6a9d",
   "metadata": {
    "papermill": {
     "duration": 0.040444,
     "end_time": "2024-01-08T11:40:37.953616",
     "exception": false,
     "start_time": "2024-01-08T11:40:37.913172",
     "status": "completed"
    },
    "tags": []
   },
   "outputs": [],
   "source": []
  },
  {
   "cell_type": "code",
   "execution_count": null,
   "id": "42df14c5",
   "metadata": {
    "papermill": {
     "duration": 0.040625,
     "end_time": "2024-01-08T11:40:38.035284",
     "exception": false,
     "start_time": "2024-01-08T11:40:37.994659",
     "status": "completed"
    },
    "tags": []
   },
   "outputs": [],
   "source": []
  }
 ],
 "metadata": {
  "kaggle": {
   "accelerator": "none",
   "dataSources": [],
   "dockerImageVersionId": 30626,
   "isGpuEnabled": false,
   "isInternetEnabled": true,
   "language": "python",
   "sourceType": "notebook"
  },
  "kernelspec": {
   "display_name": "Python 3",
   "language": "python",
   "name": "python3"
  },
  "language_info": {
   "codemirror_mode": {
    "name": "ipython",
    "version": 3
   },
   "file_extension": ".py",
   "mimetype": "text/x-python",
   "name": "python",
   "nbconvert_exporter": "python",
   "pygments_lexer": "ipython3",
   "version": "3.10.12"
  },
  "papermill": {
   "default_parameters": {},
   "duration": 63.101768,
   "end_time": "2024-01-08T11:40:40.595426",
   "environment_variables": {},
   "exception": null,
   "input_path": "__notebook__.ipynb",
   "output_path": "__notebook__.ipynb",
   "parameters": {},
   "start_time": "2024-01-08T11:39:37.493658",
   "version": "2.4.0"
  }
 },
 "nbformat": 4,
 "nbformat_minor": 5
}
