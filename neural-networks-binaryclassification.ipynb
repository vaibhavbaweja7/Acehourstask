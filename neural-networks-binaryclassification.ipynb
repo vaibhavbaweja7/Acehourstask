{
 "cells": [
  {
   "cell_type": "markdown",
   "id": "9e2c4c6c",
   "metadata": {
    "_cell_guid": "b1076dfc-b9ad-4769-8c92-a6c4dae69d19",
    "_uuid": "8f2839f25d086af736a60e9eeb907d3b93b6e0e5",
    "papermill": {
     "duration": 0.009426,
     "end_time": "2024-01-11T18:40:34.968928",
     "exception": false,
     "start_time": "2024-01-11T18:40:34.959502",
     "status": "completed"
    },
    "tags": []
   },
   "source": [
    " "
   ]
  },
  {
   "cell_type": "markdown",
   "id": "bbe5a2b1",
   "metadata": {
    "papermill": {
     "duration": 0.00888,
     "end_time": "2024-01-11T18:40:34.987077",
     "exception": false,
     "start_time": "2024-01-11T18:40:34.978197",
     "status": "completed"
    },
    "tags": []
   },
   "source": [
    "# This Notebook is inspired by https://www.kaggle.com/deepakdodi 's public notebook on the same!"
   ]
  },
  {
   "cell_type": "markdown",
   "id": "0d1a083b",
   "metadata": {
    "papermill": {
     "duration": 0.009155,
     "end_time": "2024-01-11T18:40:35.005840",
     "exception": false,
     "start_time": "2024-01-11T18:40:34.996685",
     "status": "completed"
    },
    "tags": []
   },
   "source": [
    "#  Importing all the libraries"
   ]
  },
  {
   "cell_type": "code",
   "execution_count": 1,
   "id": "8fdf0087",
   "metadata": {
    "execution": {
     "iopub.execute_input": "2024-01-11T18:40:35.026965Z",
     "iopub.status.busy": "2024-01-11T18:40:35.026490Z",
     "iopub.status.idle": "2024-01-11T18:40:50.710520Z",
     "shell.execute_reply": "2024-01-11T18:40:50.709392Z"
    },
    "papermill": {
     "duration": 15.6977,
     "end_time": "2024-01-11T18:40:50.713288",
     "exception": false,
     "start_time": "2024-01-11T18:40:35.015588",
     "status": "completed"
    },
    "tags": []
   },
   "outputs": [],
   "source": [
    "import pandas as pd\n",
    "import numpy as np\n",
    "import matplotlib.pyplot as plt\n",
    "import seaborn as sns\n",
    "\n",
    "from sklearn.preprocessing import LabelEncoder\n",
    "from sklearn.model_selection import train_test_split\n",
    "from sklearn.metrics import mean_squared_error\n",
    "from sklearn.linear_model import LogisticRegression\n",
    "from sklearn.ensemble import RandomForestClassifier\n",
    "from sklearn.metrics import accuracy_score, confusion_matrix, classification_report\n",
    "from sklearn.preprocessing import StandardScaler\n",
    "from sklearn.model_selection import ParameterGrid\n",
    "\n",
    "\n",
    "\n",
    "from tensorflow import zeros\n",
    "from tensorflow.data import Dataset\n",
    "from tensorflow.keras import Sequential, backend\n",
    "from tensorflow.keras.layers import Dense, Dropout, LeakyReLU\n",
    "from tensorflow.keras.metrics import AUC\n",
    "from tensorflow.keras.callbacks import EarlyStopping\n",
    "from tensorflow.keras.optimizers import Adam, RMSprop, SGD\n",
    "\n",
    "\n"
   ]
  },
  {
   "cell_type": "code",
   "execution_count": 2,
   "id": "676b3ef7",
   "metadata": {
    "execution": {
     "iopub.execute_input": "2024-01-11T18:40:50.734369Z",
     "iopub.status.busy": "2024-01-11T18:40:50.733688Z",
     "iopub.status.idle": "2024-01-11T18:40:51.404417Z",
     "shell.execute_reply": "2024-01-11T18:40:51.403461Z"
    },
    "papermill": {
     "duration": 0.684396,
     "end_time": "2024-01-11T18:40:51.406981",
     "exception": false,
     "start_time": "2024-01-11T18:40:50.722585",
     "status": "completed"
    },
    "tags": []
   },
   "outputs": [],
   "source": [
    "trainbanking = pd.read_csv(r'/kaggle/input/playground-series-s4e1/train.csv')\n",
    "testbanking = pd.read_csv(r'/kaggle/input/playground-series-s4e1/test.csv')\n"
   ]
  },
  {
   "cell_type": "markdown",
   "id": "0e2d8fd0",
   "metadata": {
    "papermill": {
     "duration": 0.009758,
     "end_time": "2024-01-11T18:40:51.426674",
     "exception": false,
     "start_time": "2024-01-11T18:40:51.416916",
     "status": "completed"
    },
    "tags": []
   },
   "source": [
    "# Explorartory Data Analysis"
   ]
  },
  {
   "cell_type": "code",
   "execution_count": 3,
   "id": "d3f56787",
   "metadata": {
    "execution": {
     "iopub.execute_input": "2024-01-11T18:40:51.447653Z",
     "iopub.status.busy": "2024-01-11T18:40:51.446756Z",
     "iopub.status.idle": "2024-01-11T18:40:51.485132Z",
     "shell.execute_reply": "2024-01-11T18:40:51.483762Z"
    },
    "papermill": {
     "duration": 0.051597,
     "end_time": "2024-01-11T18:40:51.487808",
     "exception": false,
     "start_time": "2024-01-11T18:40:51.436211",
     "status": "completed"
    },
    "tags": []
   },
   "outputs": [],
   "source": [
    "trainbanking.drop(['id','CustomerId','Surname'], axis = 1, inplace = True)\n",
    "testbanking_id = testbanking[['id']].copy()\n",
    "testbanking.drop(['id','CustomerId','Surname'],axis = 1, inplace = True)"
   ]
  },
  {
   "cell_type": "code",
   "execution_count": 4,
   "id": "976056c9",
   "metadata": {
    "execution": {
     "iopub.execute_input": "2024-01-11T18:40:51.508821Z",
     "iopub.status.busy": "2024-01-11T18:40:51.507910Z",
     "iopub.status.idle": "2024-01-11T18:40:51.529640Z",
     "shell.execute_reply": "2024-01-11T18:40:51.528531Z"
    },
    "papermill": {
     "duration": 0.034553,
     "end_time": "2024-01-11T18:40:51.531900",
     "exception": false,
     "start_time": "2024-01-11T18:40:51.497347",
     "status": "completed"
    },
    "tags": []
   },
   "outputs": [
    {
     "data": {
      "text/html": [
       "<div>\n",
       "<style scoped>\n",
       "    .dataframe tbody tr th:only-of-type {\n",
       "        vertical-align: middle;\n",
       "    }\n",
       "\n",
       "    .dataframe tbody tr th {\n",
       "        vertical-align: top;\n",
       "    }\n",
       "\n",
       "    .dataframe thead th {\n",
       "        text-align: right;\n",
       "    }\n",
       "</style>\n",
       "<table border=\"1\" class=\"dataframe\">\n",
       "  <thead>\n",
       "    <tr style=\"text-align: right;\">\n",
       "      <th></th>\n",
       "      <th>CreditScore</th>\n",
       "      <th>Geography</th>\n",
       "      <th>Gender</th>\n",
       "      <th>Age</th>\n",
       "      <th>Tenure</th>\n",
       "      <th>Balance</th>\n",
       "      <th>NumOfProducts</th>\n",
       "      <th>HasCrCard</th>\n",
       "      <th>IsActiveMember</th>\n",
       "      <th>EstimatedSalary</th>\n",
       "      <th>Exited</th>\n",
       "    </tr>\n",
       "  </thead>\n",
       "  <tbody>\n",
       "    <tr>\n",
       "      <th>0</th>\n",
       "      <td>668</td>\n",
       "      <td>France</td>\n",
       "      <td>Male</td>\n",
       "      <td>33.0</td>\n",
       "      <td>3</td>\n",
       "      <td>0.00</td>\n",
       "      <td>2</td>\n",
       "      <td>1.0</td>\n",
       "      <td>0.0</td>\n",
       "      <td>181449.97</td>\n",
       "      <td>0</td>\n",
       "    </tr>\n",
       "    <tr>\n",
       "      <th>1</th>\n",
       "      <td>627</td>\n",
       "      <td>France</td>\n",
       "      <td>Male</td>\n",
       "      <td>33.0</td>\n",
       "      <td>1</td>\n",
       "      <td>0.00</td>\n",
       "      <td>2</td>\n",
       "      <td>1.0</td>\n",
       "      <td>1.0</td>\n",
       "      <td>49503.50</td>\n",
       "      <td>0</td>\n",
       "    </tr>\n",
       "    <tr>\n",
       "      <th>2</th>\n",
       "      <td>678</td>\n",
       "      <td>France</td>\n",
       "      <td>Male</td>\n",
       "      <td>40.0</td>\n",
       "      <td>10</td>\n",
       "      <td>0.00</td>\n",
       "      <td>2</td>\n",
       "      <td>1.0</td>\n",
       "      <td>0.0</td>\n",
       "      <td>184866.69</td>\n",
       "      <td>0</td>\n",
       "    </tr>\n",
       "    <tr>\n",
       "      <th>3</th>\n",
       "      <td>581</td>\n",
       "      <td>France</td>\n",
       "      <td>Male</td>\n",
       "      <td>34.0</td>\n",
       "      <td>2</td>\n",
       "      <td>148882.54</td>\n",
       "      <td>1</td>\n",
       "      <td>1.0</td>\n",
       "      <td>1.0</td>\n",
       "      <td>84560.88</td>\n",
       "      <td>0</td>\n",
       "    </tr>\n",
       "    <tr>\n",
       "      <th>4</th>\n",
       "      <td>716</td>\n",
       "      <td>Spain</td>\n",
       "      <td>Male</td>\n",
       "      <td>33.0</td>\n",
       "      <td>5</td>\n",
       "      <td>0.00</td>\n",
       "      <td>2</td>\n",
       "      <td>1.0</td>\n",
       "      <td>1.0</td>\n",
       "      <td>15068.83</td>\n",
       "      <td>0</td>\n",
       "    </tr>\n",
       "  </tbody>\n",
       "</table>\n",
       "</div>"
      ],
      "text/plain": [
       "   CreditScore Geography Gender   Age  Tenure    Balance  NumOfProducts  \\\n",
       "0          668    France   Male  33.0       3       0.00              2   \n",
       "1          627    France   Male  33.0       1       0.00              2   \n",
       "2          678    France   Male  40.0      10       0.00              2   \n",
       "3          581    France   Male  34.0       2  148882.54              1   \n",
       "4          716     Spain   Male  33.0       5       0.00              2   \n",
       "\n",
       "   HasCrCard  IsActiveMember  EstimatedSalary  Exited  \n",
       "0        1.0             0.0        181449.97       0  \n",
       "1        1.0             1.0         49503.50       0  \n",
       "2        1.0             0.0        184866.69       0  \n",
       "3        1.0             1.0         84560.88       0  \n",
       "4        1.0             1.0         15068.83       0  "
      ]
     },
     "execution_count": 4,
     "metadata": {},
     "output_type": "execute_result"
    }
   ],
   "source": [
    "trainbanking.head()"
   ]
  },
  {
   "cell_type": "code",
   "execution_count": 5,
   "id": "c61ed60f",
   "metadata": {
    "execution": {
     "iopub.execute_input": "2024-01-11T18:40:51.552251Z",
     "iopub.status.busy": "2024-01-11T18:40:51.551830Z",
     "iopub.status.idle": "2024-01-11T18:40:51.559297Z",
     "shell.execute_reply": "2024-01-11T18:40:51.558174Z"
    },
    "papermill": {
     "duration": 0.020239,
     "end_time": "2024-01-11T18:40:51.561506",
     "exception": false,
     "start_time": "2024-01-11T18:40:51.541267",
     "status": "completed"
    },
    "tags": []
   },
   "outputs": [
    {
     "data": {
      "text/plain": [
       "((165034, 11), (110023, 10), (110023, 1))"
      ]
     },
     "execution_count": 5,
     "metadata": {},
     "output_type": "execute_result"
    }
   ],
   "source": [
    "trainbanking.shape,testbanking.shape,testbanking_id.shape"
   ]
  },
  {
   "cell_type": "code",
   "execution_count": 6,
   "id": "d4dcf19d",
   "metadata": {
    "execution": {
     "iopub.execute_input": "2024-01-11T18:40:51.583816Z",
     "iopub.status.busy": "2024-01-11T18:40:51.583382Z",
     "iopub.status.idle": "2024-01-11T18:40:51.624913Z",
     "shell.execute_reply": "2024-01-11T18:40:51.623714Z"
    },
    "papermill": {
     "duration": 0.056133,
     "end_time": "2024-01-11T18:40:51.627356",
     "exception": false,
     "start_time": "2024-01-11T18:40:51.571223",
     "status": "completed"
    },
    "tags": []
   },
   "outputs": [
    {
     "name": "stdout",
     "output_type": "stream",
     "text": [
      "<class 'pandas.core.frame.DataFrame'>\n",
      "RangeIndex: 165034 entries, 0 to 165033\n",
      "Data columns (total 11 columns):\n",
      " #   Column           Non-Null Count   Dtype  \n",
      "---  ------           --------------   -----  \n",
      " 0   CreditScore      165034 non-null  int64  \n",
      " 1   Geography        165034 non-null  object \n",
      " 2   Gender           165034 non-null  object \n",
      " 3   Age              165034 non-null  float64\n",
      " 4   Tenure           165034 non-null  int64  \n",
      " 5   Balance          165034 non-null  float64\n",
      " 6   NumOfProducts    165034 non-null  int64  \n",
      " 7   HasCrCard        165034 non-null  float64\n",
      " 8   IsActiveMember   165034 non-null  float64\n",
      " 9   EstimatedSalary  165034 non-null  float64\n",
      " 10  Exited           165034 non-null  int64  \n",
      "dtypes: float64(5), int64(4), object(2)\n",
      "memory usage: 13.9+ MB\n"
     ]
    }
   ],
   "source": [
    "\n",
    "trainbanking.info()"
   ]
  },
  {
   "cell_type": "code",
   "execution_count": 7,
   "id": "6727c10a",
   "metadata": {
    "execution": {
     "iopub.execute_input": "2024-01-11T18:40:51.648705Z",
     "iopub.status.busy": "2024-01-11T18:40:51.648281Z",
     "iopub.status.idle": "2024-01-11T18:40:51.737655Z",
     "shell.execute_reply": "2024-01-11T18:40:51.736404Z"
    },
    "papermill": {
     "duration": 0.102956,
     "end_time": "2024-01-11T18:40:51.740077",
     "exception": false,
     "start_time": "2024-01-11T18:40:51.637121",
     "status": "completed"
    },
    "tags": []
   },
   "outputs": [
    {
     "data": {
      "text/html": [
       "<div>\n",
       "<style scoped>\n",
       "    .dataframe tbody tr th:only-of-type {\n",
       "        vertical-align: middle;\n",
       "    }\n",
       "\n",
       "    .dataframe tbody tr th {\n",
       "        vertical-align: top;\n",
       "    }\n",
       "\n",
       "    .dataframe thead th {\n",
       "        text-align: right;\n",
       "    }\n",
       "</style>\n",
       "<table border=\"1\" class=\"dataframe\">\n",
       "  <thead>\n",
       "    <tr style=\"text-align: right;\">\n",
       "      <th></th>\n",
       "      <th>CreditScore</th>\n",
       "      <th>Age</th>\n",
       "      <th>Tenure</th>\n",
       "      <th>Balance</th>\n",
       "      <th>NumOfProducts</th>\n",
       "      <th>HasCrCard</th>\n",
       "      <th>IsActiveMember</th>\n",
       "      <th>EstimatedSalary</th>\n",
       "      <th>Exited</th>\n",
       "    </tr>\n",
       "  </thead>\n",
       "  <tbody>\n",
       "    <tr>\n",
       "      <th>count</th>\n",
       "      <td>165034.000000</td>\n",
       "      <td>165034.000000</td>\n",
       "      <td>165034.000000</td>\n",
       "      <td>165034.000000</td>\n",
       "      <td>165034.000000</td>\n",
       "      <td>165034.000000</td>\n",
       "      <td>165034.000000</td>\n",
       "      <td>165034.000000</td>\n",
       "      <td>165034.000000</td>\n",
       "    </tr>\n",
       "    <tr>\n",
       "      <th>mean</th>\n",
       "      <td>656.454373</td>\n",
       "      <td>38.125888</td>\n",
       "      <td>5.020353</td>\n",
       "      <td>55478.086689</td>\n",
       "      <td>1.554455</td>\n",
       "      <td>0.753954</td>\n",
       "      <td>0.497770</td>\n",
       "      <td>112574.822734</td>\n",
       "      <td>0.211599</td>\n",
       "    </tr>\n",
       "    <tr>\n",
       "      <th>std</th>\n",
       "      <td>80.103340</td>\n",
       "      <td>8.867205</td>\n",
       "      <td>2.806159</td>\n",
       "      <td>62817.663278</td>\n",
       "      <td>0.547154</td>\n",
       "      <td>0.430707</td>\n",
       "      <td>0.499997</td>\n",
       "      <td>50292.865585</td>\n",
       "      <td>0.408443</td>\n",
       "    </tr>\n",
       "    <tr>\n",
       "      <th>min</th>\n",
       "      <td>350.000000</td>\n",
       "      <td>18.000000</td>\n",
       "      <td>0.000000</td>\n",
       "      <td>0.000000</td>\n",
       "      <td>1.000000</td>\n",
       "      <td>0.000000</td>\n",
       "      <td>0.000000</td>\n",
       "      <td>11.580000</td>\n",
       "      <td>0.000000</td>\n",
       "    </tr>\n",
       "    <tr>\n",
       "      <th>25%</th>\n",
       "      <td>597.000000</td>\n",
       "      <td>32.000000</td>\n",
       "      <td>3.000000</td>\n",
       "      <td>0.000000</td>\n",
       "      <td>1.000000</td>\n",
       "      <td>1.000000</td>\n",
       "      <td>0.000000</td>\n",
       "      <td>74637.570000</td>\n",
       "      <td>0.000000</td>\n",
       "    </tr>\n",
       "    <tr>\n",
       "      <th>50%</th>\n",
       "      <td>659.000000</td>\n",
       "      <td>37.000000</td>\n",
       "      <td>5.000000</td>\n",
       "      <td>0.000000</td>\n",
       "      <td>2.000000</td>\n",
       "      <td>1.000000</td>\n",
       "      <td>0.000000</td>\n",
       "      <td>117948.000000</td>\n",
       "      <td>0.000000</td>\n",
       "    </tr>\n",
       "    <tr>\n",
       "      <th>75%</th>\n",
       "      <td>710.000000</td>\n",
       "      <td>42.000000</td>\n",
       "      <td>7.000000</td>\n",
       "      <td>119939.517500</td>\n",
       "      <td>2.000000</td>\n",
       "      <td>1.000000</td>\n",
       "      <td>1.000000</td>\n",
       "      <td>155152.467500</td>\n",
       "      <td>0.000000</td>\n",
       "    </tr>\n",
       "    <tr>\n",
       "      <th>max</th>\n",
       "      <td>850.000000</td>\n",
       "      <td>92.000000</td>\n",
       "      <td>10.000000</td>\n",
       "      <td>250898.090000</td>\n",
       "      <td>4.000000</td>\n",
       "      <td>1.000000</td>\n",
       "      <td>1.000000</td>\n",
       "      <td>199992.480000</td>\n",
       "      <td>1.000000</td>\n",
       "    </tr>\n",
       "  </tbody>\n",
       "</table>\n",
       "</div>"
      ],
      "text/plain": [
       "         CreditScore            Age         Tenure        Balance  \\\n",
       "count  165034.000000  165034.000000  165034.000000  165034.000000   \n",
       "mean      656.454373      38.125888       5.020353   55478.086689   \n",
       "std        80.103340       8.867205       2.806159   62817.663278   \n",
       "min       350.000000      18.000000       0.000000       0.000000   \n",
       "25%       597.000000      32.000000       3.000000       0.000000   \n",
       "50%       659.000000      37.000000       5.000000       0.000000   \n",
       "75%       710.000000      42.000000       7.000000  119939.517500   \n",
       "max       850.000000      92.000000      10.000000  250898.090000   \n",
       "\n",
       "       NumOfProducts      HasCrCard  IsActiveMember  EstimatedSalary  \\\n",
       "count  165034.000000  165034.000000   165034.000000    165034.000000   \n",
       "mean        1.554455       0.753954        0.497770    112574.822734   \n",
       "std         0.547154       0.430707        0.499997     50292.865585   \n",
       "min         1.000000       0.000000        0.000000        11.580000   \n",
       "25%         1.000000       1.000000        0.000000     74637.570000   \n",
       "50%         2.000000       1.000000        0.000000    117948.000000   \n",
       "75%         2.000000       1.000000        1.000000    155152.467500   \n",
       "max         4.000000       1.000000        1.000000    199992.480000   \n",
       "\n",
       "              Exited  \n",
       "count  165034.000000  \n",
       "mean        0.211599  \n",
       "std         0.408443  \n",
       "min         0.000000  \n",
       "25%         0.000000  \n",
       "50%         0.000000  \n",
       "75%         0.000000  \n",
       "max         1.000000  "
      ]
     },
     "execution_count": 7,
     "metadata": {},
     "output_type": "execute_result"
    }
   ],
   "source": [
    "trainbanking.describe()"
   ]
  },
  {
   "cell_type": "code",
   "execution_count": 8,
   "id": "46363165",
   "metadata": {
    "execution": {
     "iopub.execute_input": "2024-01-11T18:40:51.763192Z",
     "iopub.status.busy": "2024-01-11T18:40:51.762798Z",
     "iopub.status.idle": "2024-01-11T18:40:51.788068Z",
     "shell.execute_reply": "2024-01-11T18:40:51.786793Z"
    },
    "papermill": {
     "duration": 0.03951,
     "end_time": "2024-01-11T18:40:51.790725",
     "exception": false,
     "start_time": "2024-01-11T18:40:51.751215",
     "status": "completed"
    },
    "tags": []
   },
   "outputs": [
    {
     "data": {
      "text/plain": [
       "CreditScore        0\n",
       "Geography          0\n",
       "Gender             0\n",
       "Age                0\n",
       "Tenure             0\n",
       "Balance            0\n",
       "NumOfProducts      0\n",
       "HasCrCard          0\n",
       "IsActiveMember     0\n",
       "EstimatedSalary    0\n",
       "Exited             0\n",
       "dtype: int64"
      ]
     },
     "execution_count": 8,
     "metadata": {},
     "output_type": "execute_result"
    }
   ],
   "source": [
    "trainbanking.isnull().sum()"
   ]
  },
  {
   "cell_type": "code",
   "execution_count": 9,
   "id": "fcc4b063",
   "metadata": {
    "execution": {
     "iopub.execute_input": "2024-01-11T18:40:51.812711Z",
     "iopub.status.busy": "2024-01-11T18:40:51.812099Z",
     "iopub.status.idle": "2024-01-11T18:40:51.818862Z",
     "shell.execute_reply": "2024-01-11T18:40:51.817920Z"
    },
    "papermill": {
     "duration": 0.020229,
     "end_time": "2024-01-11T18:40:51.820955",
     "exception": false,
     "start_time": "2024-01-11T18:40:51.800726",
     "status": "completed"
    },
    "tags": []
   },
   "outputs": [
    {
     "data": {
      "text/plain": [
       "Index(['CreditScore', 'Geography', 'Gender', 'Age', 'Tenure', 'Balance',\n",
       "       'NumOfProducts', 'HasCrCard', 'IsActiveMember', 'EstimatedSalary',\n",
       "       'Exited'],\n",
       "      dtype='object')"
      ]
     },
     "execution_count": 9,
     "metadata": {},
     "output_type": "execute_result"
    }
   ],
   "source": [
    "trainbanking.columns"
   ]
  },
  {
   "cell_type": "code",
   "execution_count": 10,
   "id": "6dc431d1",
   "metadata": {
    "execution": {
     "iopub.execute_input": "2024-01-11T18:40:51.843479Z",
     "iopub.status.busy": "2024-01-11T18:40:51.842839Z",
     "iopub.status.idle": "2024-01-11T18:40:53.530542Z",
     "shell.execute_reply": "2024-01-11T18:40:53.528909Z"
    },
    "papermill": {
     "duration": 1.702407,
     "end_time": "2024-01-11T18:40:53.533710",
     "exception": false,
     "start_time": "2024-01-11T18:40:51.831303",
     "status": "completed"
    },
    "tags": []
   },
   "outputs": [
    {
     "data": {
      "image/png": "[encoded data removed]",
      "text/plain": [
       "<Figure size 1000x800 with 9 Axes>"
      ]
     },
     "metadata": {},
     "output_type": "display_data"
    }
   ],
   "source": [
    "trainbanking.hist(figsize=(10,8))\n",
    "plt.show()"
   ]
  },
  {
   "cell_type": "code",
   "execution_count": 11,
   "id": "2a89cece",
   "metadata": {
    "execution": {
     "iopub.execute_input": "2024-01-11T18:40:53.558913Z",
     "iopub.status.busy": "2024-01-11T18:40:53.558493Z",
     "iopub.status.idle": "2024-01-11T18:40:53.788304Z",
     "shell.execute_reply": "2024-01-11T18:40:53.786911Z"
    },
    "papermill": {
     "duration": 0.245238,
     "end_time": "2024-01-11T18:40:53.790787",
     "exception": false,
     "start_time": "2024-01-11T18:40:53.545549",
     "status": "completed"
    },
    "tags": []
   },
   "outputs": [
    {
     "data": {
      "image/png": "[encoded data removed]",
      "text/plain": [
       "<Figure size 640x480 with 1 Axes>"
      ]
     },
     "metadata": {},
     "output_type": "display_data"
    }
   ],
   "source": [
    "trainbanking['Geography'].value_counts().plot(kind ='bar')\n",
    "plt.title('Distribution of Geography')\n",
    "plt.show()"
   ]
  },
  {
   "cell_type": "code",
   "execution_count": 12,
   "id": "2eddcfbb",
   "metadata": {
    "execution": {
     "iopub.execute_input": "2024-01-11T18:40:53.880659Z",
     "iopub.status.busy": "2024-01-11T18:40:53.880018Z",
     "iopub.status.idle": "2024-01-11T18:40:54.105124Z",
     "shell.execute_reply": "2024-01-11T18:40:54.103977Z"
    },
    "papermill": {
     "duration": 0.304781,
     "end_time": "2024-01-11T18:40:54.107632",
     "exception": false,
     "start_time": "2024-01-11T18:40:53.802851",
     "status": "completed"
    },
    "tags": []
   },
   "outputs": [
    {
     "data": {
      "image/png": "[encoded data removed]",
      "text/plain": [
       "<Figure size 640x480 with 1 Axes>"
      ]
     },
     "metadata": {},
     "output_type": "display_data"
    }
   ],
   "source": [
    "trainbanking['Gender'].value_counts().plot(kind='bar')\n",
    "plt.title('Distribution of Gender')\n",
    "plt.show()\n"
   ]
  },
  {
   "cell_type": "code",
   "execution_count": 13,
   "id": "0084bef6",
   "metadata": {
    "execution": {
     "iopub.execute_input": "2024-01-11T18:40:54.134370Z",
     "iopub.status.busy": "2024-01-11T18:40:54.133955Z",
     "iopub.status.idle": "2024-01-11T18:40:54.166572Z",
     "shell.execute_reply": "2024-01-11T18:40:54.165214Z"
    },
    "papermill": {
     "duration": 0.048496,
     "end_time": "2024-01-11T18:40:54.169030",
     "exception": false,
     "start_time": "2024-01-11T18:40:54.120534",
     "status": "completed"
    },
    "tags": []
   },
   "outputs": [
    {
     "name": "stdout",
     "output_type": "stream",
     "text": [
      "Geography counts Geography\n",
      "France     94215\n",
      "Spain      36213\n",
      "Germany    34606\n",
      "Name: count, dtype: int64\n",
      "Gender counts Gender\n",
      "Male      93150\n",
      "Female    71884\n",
      "Name: count, dtype: int64\n"
     ]
    }
   ],
   "source": [
    "trainbankinggcounts = trainbanking['Geography'].value_counts()\n",
    "print('Geography counts',trainbankinggcounts)\n",
    "trainbankinggencounts = trainbanking['Gender'].value_counts()\n",
    "print('Gender counts',trainbankinggencounts)"
   ]
  },
  {
   "cell_type": "code",
   "execution_count": 14,
   "id": "6d465b6d",
   "metadata": {
    "execution": {
     "iopub.execute_input": "2024-01-11T18:40:54.196056Z",
     "iopub.status.busy": "2024-01-11T18:40:54.195648Z",
     "iopub.status.idle": "2024-01-11T18:40:54.209233Z",
     "shell.execute_reply": "2024-01-11T18:40:54.208286Z"
    },
    "papermill": {
     "duration": 0.029967,
     "end_time": "2024-01-11T18:40:54.211429",
     "exception": false,
     "start_time": "2024-01-11T18:40:54.181462",
     "status": "completed"
    },
    "tags": []
   },
   "outputs": [
    {
     "name": "stdout",
     "output_type": "stream",
     "text": [
      "\n",
      "Average age by exited\n",
      " Exited\n",
      "0    36.560480\n",
      "1    43.958478\n",
      "Name: Age, dtype: float64\n"
     ]
    }
   ],
   "source": [
    "averageagebyexited = trainbanking.groupby('Exited')['Age'].mean()\n",
    "print(\"\\nAverage age by exited\\n\",averageagebyexited)"
   ]
  },
  {
   "cell_type": "code",
   "execution_count": 15,
   "id": "bb9742c1",
   "metadata": {
    "execution": {
     "iopub.execute_input": "2024-01-11T18:40:54.237849Z",
     "iopub.status.busy": "2024-01-11T18:40:54.237432Z",
     "iopub.status.idle": "2024-01-11T18:40:54.279843Z",
     "shell.execute_reply": "2024-01-11T18:40:54.278564Z"
    },
    "papermill": {
     "duration": 0.058415,
     "end_time": "2024-01-11T18:40:54.282255",
     "exception": false,
     "start_time": "2024-01-11T18:40:54.223840",
     "status": "completed"
    },
    "tags": []
   },
   "outputs": [
    {
     "name": "stdout",
     "output_type": "stream",
     "text": [
      "\n",
      " Cross tabulation between active member and exited \n",
      " Exited                  0          1\n",
      "IsActiveMember                      \n",
      "0.0             70.291368  29.708632\n",
      "1.0             87.465459  12.534541\n"
     ]
    }
   ],
   "source": [
    "activemember_exit_cross = pd.crosstab(trainbanking['IsActiveMember'],trainbanking['Exited'],normalize='index')*100\n",
    "print(\"\\n Cross tabulation between active member and exited \\n\",activemember_exit_cross)"
   ]
  },
  {
   "cell_type": "code",
   "execution_count": 16,
   "id": "b6506d41",
   "metadata": {
    "execution": {
     "iopub.execute_input": "2024-01-11T18:40:54.309061Z",
     "iopub.status.busy": "2024-01-11T18:40:54.308645Z",
     "iopub.status.idle": "2024-01-11T18:40:54.339358Z",
     "shell.execute_reply": "2024-01-11T18:40:54.337868Z"
    },
    "papermill": {
     "duration": 0.047353,
     "end_time": "2024-01-11T18:40:54.342061",
     "exception": false,
     "start_time": "2024-01-11T18:40:54.294708",
     "status": "completed"
    },
    "tags": []
   },
   "outputs": [
    {
     "name": "stdout",
     "output_type": "stream",
     "text": [
      "\n",
      " Cross tabulation between has credit card and exited \n",
      " Exited             0          1\n",
      "HasCrCard                      \n",
      "0.0        77.257056  22.742944\n",
      "1.0        79.356736  20.643264\n"
     ]
    }
   ],
   "source": [
    "hascard_exit_cross = pd.crosstab(trainbanking['HasCrCard'],trainbanking['Exited'],normalize='index')*100\n",
    "print(\"\\n Cross tabulation between has credit card and exited \\n\",hascard_exit_cross)"
   ]
  },
  {
   "cell_type": "markdown",
   "id": "ab1d631f",
   "metadata": {
    "papermill": {
     "duration": 0.013262,
     "end_time": "2024-01-11T18:40:54.367936",
     "exception": false,
     "start_time": "2024-01-11T18:40:54.354674",
     "status": "completed"
    },
    "tags": []
   },
   "source": [
    "# Preparing the data"
   ]
  },
  {
   "cell_type": "code",
   "execution_count": 17,
   "id": "7d3abf2a",
   "metadata": {
    "execution": {
     "iopub.execute_input": "2024-01-11T18:40:54.394776Z",
     "iopub.status.busy": "2024-01-11T18:40:54.394403Z",
     "iopub.status.idle": "2024-01-11T18:40:54.457824Z",
     "shell.execute_reply": "2024-01-11T18:40:54.456566Z"
    },
    "papermill": {
     "duration": 0.079803,
     "end_time": "2024-01-11T18:40:54.460436",
     "exception": false,
     "start_time": "2024-01-11T18:40:54.380633",
     "status": "completed"
    },
    "tags": []
   },
   "outputs": [],
   "source": [
    "# Createing a label encoder\n",
    "label_encoder = LabelEncoder()\n",
    "trainbanking['Gender'] = label_encoder.fit_transform(trainbanking['Gender'])\n",
    "testbanking['Gender'] = label_encoder.fit_transform(testbanking['Gender'])\n"
   ]
  },
  {
   "cell_type": "code",
   "execution_count": 18,
   "id": "40ab4210",
   "metadata": {
    "execution": {
     "iopub.execute_input": "2024-01-11T18:40:54.487780Z",
     "iopub.status.busy": "2024-01-11T18:40:54.487382Z",
     "iopub.status.idle": "2024-01-11T18:40:54.559946Z",
     "shell.execute_reply": "2024-01-11T18:40:54.558847Z"
    },
    "papermill": {
     "duration": 0.08958,
     "end_time": "2024-01-11T18:40:54.562490",
     "exception": false,
     "start_time": "2024-01-11T18:40:54.472910",
     "status": "completed"
    },
    "tags": []
   },
   "outputs": [],
   "source": [
    "trainbanking = pd.get_dummies(trainbanking, columns=['Geography'], prefix='Geography')\n",
    "testbanking = pd.get_dummies(testbanking, columns=['Geography'], prefix='Geography')\n",
    "\n",
    "trainbanking[['Geography_Germany', 'Geography_Spain','Geography_France']] = trainbanking[['Geography_Germany', 'Geography_Spain','Geography_France']].astype(int)\n",
    "testbanking[['Geography_Germany', 'Geography_Spain','Geography_France']] = testbanking[['Geography_Germany', 'Geography_Spain','Geography_France']].astype(int)"
   ]
  },
  {
   "cell_type": "code",
   "execution_count": 19,
   "id": "6b47ac20",
   "metadata": {
    "execution": {
     "iopub.execute_input": "2024-01-11T18:40:54.589465Z",
     "iopub.status.busy": "2024-01-11T18:40:54.589083Z",
     "iopub.status.idle": "2024-01-11T18:40:54.606647Z",
     "shell.execute_reply": "2024-01-11T18:40:54.605472Z"
    },
    "papermill": {
     "duration": 0.033885,
     "end_time": "2024-01-11T18:40:54.608958",
     "exception": false,
     "start_time": "2024-01-11T18:40:54.575073",
     "status": "completed"
    },
    "tags": []
   },
   "outputs": [
    {
     "data": {
      "text/html": [
       "<div>\n",
       "<style scoped>\n",
       "    .dataframe tbody tr th:only-of-type {\n",
       "        vertical-align: middle;\n",
       "    }\n",
       "\n",
       "    .dataframe tbody tr th {\n",
       "        vertical-align: top;\n",
       "    }\n",
       "\n",
       "    .dataframe thead th {\n",
       "        text-align: right;\n",
       "    }\n",
       "</style>\n",
       "<table border=\"1\" class=\"dataframe\">\n",
       "  <thead>\n",
       "    <tr style=\"text-align: right;\">\n",
       "      <th></th>\n",
       "      <th>CreditScore</th>\n",
       "      <th>Gender</th>\n",
       "      <th>Age</th>\n",
       "      <th>Tenure</th>\n",
       "      <th>Balance</th>\n",
       "      <th>NumOfProducts</th>\n",
       "      <th>HasCrCard</th>\n",
       "      <th>IsActiveMember</th>\n",
       "      <th>EstimatedSalary</th>\n",
       "      <th>Exited</th>\n",
       "      <th>Geography_France</th>\n",
       "      <th>Geography_Germany</th>\n",
       "      <th>Geography_Spain</th>\n",
       "    </tr>\n",
       "  </thead>\n",
       "  <tbody>\n",
       "    <tr>\n",
       "      <th>0</th>\n",
       "      <td>668</td>\n",
       "      <td>1</td>\n",
       "      <td>33.0</td>\n",
       "      <td>3</td>\n",
       "      <td>0.00</td>\n",
       "      <td>2</td>\n",
       "      <td>1.0</td>\n",
       "      <td>0.0</td>\n",
       "      <td>181449.97</td>\n",
       "      <td>0</td>\n",
       "      <td>1</td>\n",
       "      <td>0</td>\n",
       "      <td>0</td>\n",
       "    </tr>\n",
       "    <tr>\n",
       "      <th>1</th>\n",
       "      <td>627</td>\n",
       "      <td>1</td>\n",
       "      <td>33.0</td>\n",
       "      <td>1</td>\n",
       "      <td>0.00</td>\n",
       "      <td>2</td>\n",
       "      <td>1.0</td>\n",
       "      <td>1.0</td>\n",
       "      <td>49503.50</td>\n",
       "      <td>0</td>\n",
       "      <td>1</td>\n",
       "      <td>0</td>\n",
       "      <td>0</td>\n",
       "    </tr>\n",
       "    <tr>\n",
       "      <th>2</th>\n",
       "      <td>678</td>\n",
       "      <td>1</td>\n",
       "      <td>40.0</td>\n",
       "      <td>10</td>\n",
       "      <td>0.00</td>\n",
       "      <td>2</td>\n",
       "      <td>1.0</td>\n",
       "      <td>0.0</td>\n",
       "      <td>184866.69</td>\n",
       "      <td>0</td>\n",
       "      <td>1</td>\n",
       "      <td>0</td>\n",
       "      <td>0</td>\n",
       "    </tr>\n",
       "    <tr>\n",
       "      <th>3</th>\n",
       "      <td>581</td>\n",
       "      <td>1</td>\n",
       "      <td>34.0</td>\n",
       "      <td>2</td>\n",
       "      <td>148882.54</td>\n",
       "      <td>1</td>\n",
       "      <td>1.0</td>\n",
       "      <td>1.0</td>\n",
       "      <td>84560.88</td>\n",
       "      <td>0</td>\n",
       "      <td>1</td>\n",
       "      <td>0</td>\n",
       "      <td>0</td>\n",
       "    </tr>\n",
       "    <tr>\n",
       "      <th>4</th>\n",
       "      <td>716</td>\n",
       "      <td>1</td>\n",
       "      <td>33.0</td>\n",
       "      <td>5</td>\n",
       "      <td>0.00</td>\n",
       "      <td>2</td>\n",
       "      <td>1.0</td>\n",
       "      <td>1.0</td>\n",
       "      <td>15068.83</td>\n",
       "      <td>0</td>\n",
       "      <td>0</td>\n",
       "      <td>0</td>\n",
       "      <td>1</td>\n",
       "    </tr>\n",
       "  </tbody>\n",
       "</table>\n",
       "</div>"
      ],
      "text/plain": [
       "   CreditScore  Gender   Age  Tenure    Balance  NumOfProducts  HasCrCard  \\\n",
       "0          668       1  33.0       3       0.00              2        1.0   \n",
       "1          627       1  33.0       1       0.00              2        1.0   \n",
       "2          678       1  40.0      10       0.00              2        1.0   \n",
       "3          581       1  34.0       2  148882.54              1        1.0   \n",
       "4          716       1  33.0       5       0.00              2        1.0   \n",
       "\n",
       "   IsActiveMember  EstimatedSalary  Exited  Geography_France  \\\n",
       "0             0.0        181449.97       0                 1   \n",
       "1             1.0         49503.50       0                 1   \n",
       "2             0.0        184866.69       0                 1   \n",
       "3             1.0         84560.88       0                 1   \n",
       "4             1.0         15068.83       0                 0   \n",
       "\n",
       "   Geography_Germany  Geography_Spain  \n",
       "0                  0                0  \n",
       "1                  0                0  \n",
       "2                  0                0  \n",
       "3                  0                0  \n",
       "4                  0                1  "
      ]
     },
     "execution_count": 19,
     "metadata": {},
     "output_type": "execute_result"
    }
   ],
   "source": [
    "trainbanking.head()"
   ]
  },
  {
   "cell_type": "code",
   "execution_count": 20,
   "id": "3d6214d8",
   "metadata": {
    "execution": {
     "iopub.execute_input": "2024-01-11T18:40:54.636388Z",
     "iopub.status.busy": "2024-01-11T18:40:54.636010Z",
     "iopub.status.idle": "2024-01-11T18:40:54.646021Z",
     "shell.execute_reply": "2024-01-11T18:40:54.644805Z"
    },
    "papermill": {
     "duration": 0.026714,
     "end_time": "2024-01-11T18:40:54.648374",
     "exception": false,
     "start_time": "2024-01-11T18:40:54.621660",
     "status": "completed"
    },
    "tags": []
   },
   "outputs": [
    {
     "data": {
      "text/plain": [
       "Exited\n",
       "0    130113\n",
       "1     34921\n",
       "Name: count, dtype: int64"
      ]
     },
     "execution_count": 20,
     "metadata": {},
     "output_type": "execute_result"
    }
   ],
   "source": [
    "trainbanking['Exited'].value_counts()"
   ]
  },
  {
   "cell_type": "code",
   "execution_count": 21,
   "id": "12e2e3e4",
   "metadata": {
    "execution": {
     "iopub.execute_input": "2024-01-11T18:40:54.677376Z",
     "iopub.status.busy": "2024-01-11T18:40:54.676999Z",
     "iopub.status.idle": "2024-01-11T18:40:54.688314Z",
     "shell.execute_reply": "2024-01-11T18:40:54.687104Z"
    },
    "papermill": {
     "duration": 0.028813,
     "end_time": "2024-01-11T18:40:54.690460",
     "exception": false,
     "start_time": "2024-01-11T18:40:54.661647",
     "status": "completed"
    },
    "tags": []
   },
   "outputs": [
    {
     "data": {
      "text/plain": [
       "Exited\n",
       "0    78.84\n",
       "1    21.16\n",
       "Name: proportion, dtype: float64"
      ]
     },
     "execution_count": 21,
     "metadata": {},
     "output_type": "execute_result"
    }
   ],
   "source": [
    "np.round(100*trainbanking['Exited'].value_counts(normalize = True),2)"
   ]
  },
  {
   "cell_type": "code",
   "execution_count": 22,
   "id": "7d06ad4d",
   "metadata": {
    "execution": {
     "iopub.execute_input": "2024-01-11T18:40:54.718559Z",
     "iopub.status.busy": "2024-01-11T18:40:54.718183Z",
     "iopub.status.idle": "2024-01-11T18:40:54.732719Z",
     "shell.execute_reply": "2024-01-11T18:40:54.731546Z"
    },
    "papermill": {
     "duration": 0.031344,
     "end_time": "2024-01-11T18:40:54.735008",
     "exception": false,
     "start_time": "2024-01-11T18:40:54.703664",
     "status": "completed"
    },
    "tags": []
   },
   "outputs": [],
   "source": [
    "X = trainbanking.drop(\"Exited\", axis=1)  # Features\n",
    "y = trainbanking[\"Exited\"]"
   ]
  },
  {
   "cell_type": "code",
   "execution_count": 23,
   "id": "cd4a2340",
   "metadata": {
    "execution": {
     "iopub.execute_input": "2024-01-11T18:40:54.762965Z",
     "iopub.status.busy": "2024-01-11T18:40:54.762554Z",
     "iopub.status.idle": "2024-01-11T18:40:54.857959Z",
     "shell.execute_reply": "2024-01-11T18:40:54.856898Z"
    },
    "papermill": {
     "duration": 0.11234,
     "end_time": "2024-01-11T18:40:54.860463",
     "exception": false,
     "start_time": "2024-01-11T18:40:54.748123",
     "status": "completed"
    },
    "tags": []
   },
   "outputs": [],
   "source": [
    "X_train, X_test, y_train, y_test = train_test_split(X, y, test_size=0.1, random_state=42,stratify=y)"
   ]
  },
  {
   "cell_type": "code",
   "execution_count": 24,
   "id": "e278a641",
   "metadata": {
    "execution": {
     "iopub.execute_input": "2024-01-11T18:40:54.889627Z",
     "iopub.status.busy": "2024-01-11T18:40:54.889237Z",
     "iopub.status.idle": "2024-01-11T18:40:54.896438Z",
     "shell.execute_reply": "2024-01-11T18:40:54.895192Z"
    },
    "papermill": {
     "duration": 0.024739,
     "end_time": "2024-01-11T18:40:54.898817",
     "exception": false,
     "start_time": "2024-01-11T18:40:54.874078",
     "status": "completed"
    },
    "tags": []
   },
   "outputs": [
    {
     "data": {
      "text/plain": [
       "((148530, 12), (148530,), (16504, 12), (16504,))"
      ]
     },
     "execution_count": 24,
     "metadata": {},
     "output_type": "execute_result"
    }
   ],
   "source": [
    "X_train.shape, y_train.shape, X_test.shape, y_test.shape"
   ]
  },
  {
   "cell_type": "code",
   "execution_count": 25,
   "id": "2f330c06",
   "metadata": {
    "execution": {
     "iopub.execute_input": "2024-01-11T18:40:54.928059Z",
     "iopub.status.busy": "2024-01-11T18:40:54.927616Z",
     "iopub.status.idle": "2024-01-11T18:40:54.945074Z",
     "shell.execute_reply": "2024-01-11T18:40:54.943970Z"
    },
    "papermill": {
     "duration": 0.034687,
     "end_time": "2024-01-11T18:40:54.947417",
     "exception": false,
     "start_time": "2024-01-11T18:40:54.912730",
     "status": "completed"
    },
    "tags": []
   },
   "outputs": [
    {
     "data": {
      "text/html": [
       "<div>\n",
       "<style scoped>\n",
       "    .dataframe tbody tr th:only-of-type {\n",
       "        vertical-align: middle;\n",
       "    }\n",
       "\n",
       "    .dataframe tbody tr th {\n",
       "        vertical-align: top;\n",
       "    }\n",
       "\n",
       "    .dataframe thead th {\n",
       "        text-align: right;\n",
       "    }\n",
       "</style>\n",
       "<table border=\"1\" class=\"dataframe\">\n",
       "  <thead>\n",
       "    <tr style=\"text-align: right;\">\n",
       "      <th></th>\n",
       "      <th>CreditScore</th>\n",
       "      <th>Gender</th>\n",
       "      <th>Age</th>\n",
       "      <th>Tenure</th>\n",
       "      <th>Balance</th>\n",
       "      <th>NumOfProducts</th>\n",
       "      <th>HasCrCard</th>\n",
       "      <th>IsActiveMember</th>\n",
       "      <th>EstimatedSalary</th>\n",
       "      <th>Geography_France</th>\n",
       "      <th>Geography_Germany</th>\n",
       "      <th>Geography_Spain</th>\n",
       "    </tr>\n",
       "  </thead>\n",
       "  <tbody>\n",
       "    <tr>\n",
       "      <th>138507</th>\n",
       "      <td>560</td>\n",
       "      <td>1</td>\n",
       "      <td>38.0</td>\n",
       "      <td>3</td>\n",
       "      <td>0.0</td>\n",
       "      <td>2</td>\n",
       "      <td>1.0</td>\n",
       "      <td>0.0</td>\n",
       "      <td>823.36</td>\n",
       "      <td>0</td>\n",
       "      <td>0</td>\n",
       "      <td>1</td>\n",
       "    </tr>\n",
       "    <tr>\n",
       "      <th>63524</th>\n",
       "      <td>731</td>\n",
       "      <td>1</td>\n",
       "      <td>38.0</td>\n",
       "      <td>5</td>\n",
       "      <td>121541.9</td>\n",
       "      <td>1</td>\n",
       "      <td>1.0</td>\n",
       "      <td>0.0</td>\n",
       "      <td>151325.16</td>\n",
       "      <td>1</td>\n",
       "      <td>0</td>\n",
       "      <td>0</td>\n",
       "    </tr>\n",
       "    <tr>\n",
       "      <th>50921</th>\n",
       "      <td>758</td>\n",
       "      <td>0</td>\n",
       "      <td>41.0</td>\n",
       "      <td>6</td>\n",
       "      <td>0.0</td>\n",
       "      <td>2</td>\n",
       "      <td>1.0</td>\n",
       "      <td>1.0</td>\n",
       "      <td>108872.45</td>\n",
       "      <td>1</td>\n",
       "      <td>0</td>\n",
       "      <td>0</td>\n",
       "    </tr>\n",
       "    <tr>\n",
       "      <th>126829</th>\n",
       "      <td>681</td>\n",
       "      <td>0</td>\n",
       "      <td>37.0</td>\n",
       "      <td>9</td>\n",
       "      <td>0.0</td>\n",
       "      <td>2</td>\n",
       "      <td>1.0</td>\n",
       "      <td>0.0</td>\n",
       "      <td>126469.09</td>\n",
       "      <td>1</td>\n",
       "      <td>0</td>\n",
       "      <td>0</td>\n",
       "    </tr>\n",
       "    <tr>\n",
       "      <th>79936</th>\n",
       "      <td>592</td>\n",
       "      <td>0</td>\n",
       "      <td>37.0</td>\n",
       "      <td>6</td>\n",
       "      <td>0.0</td>\n",
       "      <td>2</td>\n",
       "      <td>1.0</td>\n",
       "      <td>1.0</td>\n",
       "      <td>136551.25</td>\n",
       "      <td>0</td>\n",
       "      <td>0</td>\n",
       "      <td>1</td>\n",
       "    </tr>\n",
       "  </tbody>\n",
       "</table>\n",
       "</div>"
      ],
      "text/plain": [
       "        CreditScore  Gender   Age  Tenure   Balance  NumOfProducts  HasCrCard  \\\n",
       "138507          560       1  38.0       3       0.0              2        1.0   \n",
       "63524           731       1  38.0       5  121541.9              1        1.0   \n",
       "50921           758       0  41.0       6       0.0              2        1.0   \n",
       "126829          681       0  37.0       9       0.0              2        1.0   \n",
       "79936           592       0  37.0       6       0.0              2        1.0   \n",
       "\n",
       "        IsActiveMember  EstimatedSalary  Geography_France  Geography_Germany  \\\n",
       "138507             0.0           823.36                 0                  0   \n",
       "63524              0.0        151325.16                 1                  0   \n",
       "50921              1.0        108872.45                 1                  0   \n",
       "126829             0.0        126469.09                 1                  0   \n",
       "79936              1.0        136551.25                 0                  0   \n",
       "\n",
       "        Geography_Spain  \n",
       "138507                1  \n",
       "63524                 0  \n",
       "50921                 0  \n",
       "126829                0  \n",
       "79936                 1  "
      ]
     },
     "execution_count": 25,
     "metadata": {},
     "output_type": "execute_result"
    }
   ],
   "source": [
    "X_train.head()"
   ]
  },
  {
   "cell_type": "markdown",
   "id": "2893efd1",
   "metadata": {
    "papermill": {
     "duration": 0.013392,
     "end_time": "2024-01-11T18:40:54.974481",
     "exception": false,
     "start_time": "2024-01-11T18:40:54.961089",
     "status": "completed"
    },
    "tags": []
   },
   "source": [
    "# Scaling the data"
   ]
  },
  {
   "cell_type": "code",
   "execution_count": 26,
   "id": "99366650",
   "metadata": {
    "execution": {
     "iopub.execute_input": "2024-01-11T18:40:55.003124Z",
     "iopub.status.busy": "2024-01-11T18:40:55.002464Z",
     "iopub.status.idle": "2024-01-11T18:40:55.074504Z",
     "shell.execute_reply": "2024-01-11T18:40:55.073456Z"
    },
    "papermill": {
     "duration": 0.08933,
     "end_time": "2024-01-11T18:40:55.077164",
     "exception": false,
     "start_time": "2024-01-11T18:40:54.987834",
     "status": "completed"
    },
    "tags": []
   },
   "outputs": [],
   "source": [
    "# Scaling the data values to a certain range\n",
    "scaler = StandardScaler()\n",
    "X_train_scaled = scaler.fit_transform(X_train)\n",
    "X_test_scaled = scaler.transform(X_test)\n",
    "testbanking_scaled = scaler.transform(testbanking)\n",
    "\n",
    "# Convert the scaled arrays back to pandas DataFrames with the original column names\n",
    "X_train_scaled = pd.DataFrame(X_train_scaled, columns=X.columns)\n",
    "X_test_scaled = pd.DataFrame(X_test_scaled, columns=X.columns)\n",
    "testbanking_scaled = pd.DataFrame(testbanking_scaled, columns=testbanking.columns)"
   ]
  },
  {
   "cell_type": "code",
   "execution_count": 27,
   "id": "026f713e",
   "metadata": {
    "execution": {
     "iopub.execute_input": "2024-01-11T18:40:55.106519Z",
     "iopub.status.busy": "2024-01-11T18:40:55.106110Z",
     "iopub.status.idle": "2024-01-11T18:40:55.124917Z",
     "shell.execute_reply": "2024-01-11T18:40:55.123376Z"
    },
    "papermill": {
     "duration": 0.036498,
     "end_time": "2024-01-11T18:40:55.127294",
     "exception": false,
     "start_time": "2024-01-11T18:40:55.090796",
     "status": "completed"
    },
    "tags": []
   },
   "outputs": [
    {
     "data": {
      "text/html": [
       "<div>\n",
       "<style scoped>\n",
       "    .dataframe tbody tr th:only-of-type {\n",
       "        vertical-align: middle;\n",
       "    }\n",
       "\n",
       "    .dataframe tbody tr th {\n",
       "        vertical-align: top;\n",
       "    }\n",
       "\n",
       "    .dataframe thead th {\n",
       "        text-align: right;\n",
       "    }\n",
       "</style>\n",
       "<table border=\"1\" class=\"dataframe\">\n",
       "  <thead>\n",
       "    <tr style=\"text-align: right;\">\n",
       "      <th></th>\n",
       "      <th>CreditScore</th>\n",
       "      <th>Gender</th>\n",
       "      <th>Age</th>\n",
       "      <th>Tenure</th>\n",
       "      <th>Balance</th>\n",
       "      <th>NumOfProducts</th>\n",
       "      <th>HasCrCard</th>\n",
       "      <th>IsActiveMember</th>\n",
       "      <th>EstimatedSalary</th>\n",
       "      <th>Geography_France</th>\n",
       "      <th>Geography_Germany</th>\n",
       "      <th>Geography_Spain</th>\n",
       "    </tr>\n",
       "  </thead>\n",
       "  <tbody>\n",
       "    <tr>\n",
       "      <th>0</th>\n",
       "      <td>-1.204797</td>\n",
       "      <td>0.878534</td>\n",
       "      <td>-0.013452</td>\n",
       "      <td>-0.720505</td>\n",
       "      <td>-0.882727</td>\n",
       "      <td>0.814394</td>\n",
       "      <td>0.570089</td>\n",
       "      <td>-0.994401</td>\n",
       "      <td>-2.220383</td>\n",
       "      <td>-1.152556</td>\n",
       "      <td>-0.514457</td>\n",
       "      <td>1.881816</td>\n",
       "    </tr>\n",
       "    <tr>\n",
       "      <th>1</th>\n",
       "      <td>0.930452</td>\n",
       "      <td>0.878534</td>\n",
       "      <td>-0.013452</td>\n",
       "      <td>-0.007574</td>\n",
       "      <td>1.052736</td>\n",
       "      <td>-1.012522</td>\n",
       "      <td>0.570089</td>\n",
       "      <td>-0.994401</td>\n",
       "      <td>0.771359</td>\n",
       "      <td>0.867637</td>\n",
       "      <td>-0.514457</td>\n",
       "      <td>-0.531402</td>\n",
       "    </tr>\n",
       "    <tr>\n",
       "      <th>2</th>\n",
       "      <td>1.267597</td>\n",
       "      <td>-1.138260</td>\n",
       "      <td>0.324911</td>\n",
       "      <td>0.348891</td>\n",
       "      <td>-0.882727</td>\n",
       "      <td>0.814394</td>\n",
       "      <td>0.570089</td>\n",
       "      <td>1.005631</td>\n",
       "      <td>-0.072535</td>\n",
       "      <td>0.867637</td>\n",
       "      <td>-0.514457</td>\n",
       "      <td>-0.531402</td>\n",
       "    </tr>\n",
       "    <tr>\n",
       "      <th>3</th>\n",
       "      <td>0.306110</td>\n",
       "      <td>-1.138260</td>\n",
       "      <td>-0.126239</td>\n",
       "      <td>1.418288</td>\n",
       "      <td>-0.882727</td>\n",
       "      <td>0.814394</td>\n",
       "      <td>0.570089</td>\n",
       "      <td>-0.994401</td>\n",
       "      <td>0.277259</td>\n",
       "      <td>0.867637</td>\n",
       "      <td>-0.514457</td>\n",
       "      <td>-0.531402</td>\n",
       "    </tr>\n",
       "    <tr>\n",
       "      <th>4</th>\n",
       "      <td>-0.805218</td>\n",
       "      <td>-1.138260</td>\n",
       "      <td>-0.126239</td>\n",
       "      <td>0.348891</td>\n",
       "      <td>-0.882727</td>\n",
       "      <td>0.814394</td>\n",
       "      <td>0.570089</td>\n",
       "      <td>1.005631</td>\n",
       "      <td>0.477677</td>\n",
       "      <td>-1.152556</td>\n",
       "      <td>-0.514457</td>\n",
       "      <td>1.881816</td>\n",
       "    </tr>\n",
       "  </tbody>\n",
       "</table>\n",
       "</div>"
      ],
      "text/plain": [
       "   CreditScore    Gender       Age    Tenure   Balance  NumOfProducts  \\\n",
       "0    -1.204797  0.878534 -0.013452 -0.720505 -0.882727       0.814394   \n",
       "1     0.930452  0.878534 -0.013452 -0.007574  1.052736      -1.012522   \n",
       "2     1.267597 -1.138260  0.324911  0.348891 -0.882727       0.814394   \n",
       "3     0.306110 -1.138260 -0.126239  1.418288 -0.882727       0.814394   \n",
       "4    -0.805218 -1.138260 -0.126239  0.348891 -0.882727       0.814394   \n",
       "\n",
       "   HasCrCard  IsActiveMember  EstimatedSalary  Geography_France  \\\n",
       "0   0.570089       -0.994401        -2.220383         -1.152556   \n",
       "1   0.570089       -0.994401         0.771359          0.867637   \n",
       "2   0.570089        1.005631        -0.072535          0.867637   \n",
       "3   0.570089       -0.994401         0.277259          0.867637   \n",
       "4   0.570089        1.005631         0.477677         -1.152556   \n",
       "\n",
       "   Geography_Germany  Geography_Spain  \n",
       "0          -0.514457         1.881816  \n",
       "1          -0.514457        -0.531402  \n",
       "2          -0.514457        -0.531402  \n",
       "3          -0.514457        -0.531402  \n",
       "4          -0.514457         1.881816  "
      ]
     },
     "execution_count": 27,
     "metadata": {},
     "output_type": "execute_result"
    }
   ],
   "source": [
    "X_train_scaled.head()"
   ]
  },
  {
   "cell_type": "markdown",
   "id": "2e357663",
   "metadata": {
    "papermill": {
     "duration": 0.014128,
     "end_time": "2024-01-11T18:40:55.156113",
     "exception": false,
     "start_time": "2024-01-11T18:40:55.141985",
     "status": "completed"
    },
    "tags": []
   },
   "source": [
    "# Hyperparamter Tuning"
   ]
  },
  {
   "cell_type": "code",
   "execution_count": 28,
   "id": "d9232972",
   "metadata": {
    "execution": {
     "iopub.execute_input": "2024-01-11T18:40:55.194326Z",
     "iopub.status.busy": "2024-01-11T18:40:55.193623Z",
     "iopub.status.idle": "2024-01-11T18:55:02.887494Z",
     "shell.execute_reply": "2024-01-11T18:55:02.886368Z"
    },
    "papermill": {
     "duration": 847.715805,
     "end_time": "2024-01-11T18:55:02.889833",
     "exception": false,
     "start_time": "2024-01-11T18:40:55.174028",
     "status": "completed"
    },
    "tags": []
   },
   "outputs": [
    {
     "name": "stdout",
     "output_type": "stream",
     "text": [
      "\n",
      "\n",
      "\n",
      "\n",
      "{'dropout': 0.2, 'learning_rate': 0.001, 'optimizer': 'Adam'}\n",
      "Epoch 1/25\n",
      "2674/2674 - 6s - loss: 0.3724 - auc: 0.8436 - val_loss: 0.3374 - val_auc: 0.8801 - 6s/epoch - 2ms/step\n",
      "Epoch 2/25\n",
      "2674/2674 - 5s - loss: 0.3400 - auc: 0.8747 - val_loss: 0.3293 - val_auc: 0.8847 - 5s/epoch - 2ms/step\n",
      "Epoch 3/25\n",
      "2674/2674 - 5s - loss: 0.3349 - auc: 0.8785 - val_loss: 0.3280 - val_auc: 0.8861 - 5s/epoch - 2ms/step\n",
      "Epoch 4/25\n",
      "2674/2674 - 4s - loss: 0.3318 - auc: 0.8809 - val_loss: 0.3263 - val_auc: 0.8873 - 4s/epoch - 2ms/step\n",
      "Epoch 5/25\n",
      "2674/2674 - 5s - loss: 0.3308 - auc: 0.8817 - val_loss: 0.3254 - val_auc: 0.8878 - 5s/epoch - 2ms/step\n",
      "Epoch 6/25\n",
      "2674/2674 - 5s - loss: 0.3304 - auc: 0.8823 - val_loss: 0.3259 - val_auc: 0.8878 - 5s/epoch - 2ms/step\n",
      "Epoch 7/25\n",
      "2674/2674 - 5s - loss: 0.3294 - auc: 0.8829 - val_loss: 0.3247 - val_auc: 0.8880 - 5s/epoch - 2ms/step\n",
      "Epoch 8/25\n",
      "2674/2674 - 5s - loss: 0.3287 - auc: 0.8832 - val_loss: 0.3267 - val_auc: 0.8877 - 5s/epoch - 2ms/step\n",
      "Epoch 9/25\n",
      "2674/2674 - 5s - loss: 0.3286 - auc: 0.8833 - val_loss: 0.3265 - val_auc: 0.8884 - 5s/epoch - 2ms/step\n",
      "Epoch 10/25\n",
      "2674/2674 - 5s - loss: 0.3282 - auc: 0.8835 - val_loss: 0.3242 - val_auc: 0.8888 - 5s/epoch - 2ms/step\n",
      "Epoch 11/25\n",
      "2674/2674 - 5s - loss: 0.3276 - auc: 0.8839 - val_loss: 0.3257 - val_auc: 0.8885 - 5s/epoch - 2ms/step\n",
      "Epoch 12/25\n",
      "2674/2674 - 5s - loss: 0.3275 - auc: 0.8841 - val_loss: 0.3240 - val_auc: 0.8891 - 5s/epoch - 2ms/step\n",
      "Epoch 13/25\n",
      "2674/2674 - 5s - loss: 0.3268 - auc: 0.8845 - val_loss: 0.3249 - val_auc: 0.8886 - 5s/epoch - 2ms/step\n",
      "Epoch 14/25\n",
      "2674/2674 - 5s - loss: 0.3268 - auc: 0.8845 - val_loss: 0.3262 - val_auc: 0.8881 - 5s/epoch - 2ms/step\n",
      "4642/4642 [==============================] - 7s 2ms/step - loss: 0.3245 - auc: 0.8876\n",
      "516/516 [==============================] - 1s 2ms/step - loss: 0.3263 - auc: 0.8853\n",
      "Train AUC: 0.8876315355300903 Test AUC: 0.8852959275245667\n",
      "\n",
      "\n",
      "\n",
      "\n",
      "{'dropout': 0.2, 'learning_rate': 0.001, 'optimizer': 'RMSprop'}\n",
      "Epoch 1/25\n",
      "2674/2674 - 5s - loss: 0.3770 - auc: 0.8386 - val_loss: 0.3368 - val_auc: 0.8795 - 5s/epoch - 2ms/step\n",
      "Epoch 2/25\n",
      "2674/2674 - 5s - loss: 0.3416 - auc: 0.8727 - val_loss: 0.3308 - val_auc: 0.8837 - 5s/epoch - 2ms/step\n",
      "Epoch 3/25\n",
      "2674/2674 - 4s - loss: 0.3365 - auc: 0.8772 - val_loss: 0.3286 - val_auc: 0.8852 - 4s/epoch - 2ms/step\n",
      "Epoch 4/25\n",
      "2674/2674 - 5s - loss: 0.3345 - auc: 0.8788 - val_loss: 0.3296 - val_auc: 0.8848 - 5s/epoch - 2ms/step\n",
      "Epoch 5/25\n",
      "2674/2674 - 5s - loss: 0.3325 - auc: 0.8805 - val_loss: 0.3269 - val_auc: 0.8862 - 5s/epoch - 2ms/step\n",
      "Epoch 6/25\n",
      "2674/2674 - 5s - loss: 0.3318 - auc: 0.8809 - val_loss: 0.3263 - val_auc: 0.8865 - 5s/epoch - 2ms/step\n",
      "Epoch 7/25\n",
      "2674/2674 - 4s - loss: 0.3314 - auc: 0.8813 - val_loss: 0.3260 - val_auc: 0.8871 - 4s/epoch - 2ms/step\n",
      "Epoch 8/25\n",
      "2674/2674 - 5s - loss: 0.3309 - auc: 0.8816 - val_loss: 0.3255 - val_auc: 0.8871 - 5s/epoch - 2ms/step\n",
      "Epoch 9/25\n",
      "2674/2674 - 5s - loss: 0.3311 - auc: 0.8813 - val_loss: 0.3257 - val_auc: 0.8871 - 5s/epoch - 2ms/step\n",
      "Epoch 10/25\n",
      "2674/2674 - 4s - loss: 0.3302 - auc: 0.8819 - val_loss: 0.3260 - val_auc: 0.8870 - 4s/epoch - 2ms/step\n",
      "Epoch 11/25\n",
      "2674/2674 - 5s - loss: 0.3305 - auc: 0.8820 - val_loss: 0.3267 - val_auc: 0.8866 - 5s/epoch - 2ms/step\n",
      "4642/4642 [==============================] - 7s 2ms/step - loss: 0.3246 - auc: 0.8862\n",
      "516/516 [==============================] - 1s 2ms/step - loss: 0.3268 - auc: 0.8828\n",
      "Train AUC: 0.8862342238426208 Test AUC: 0.8828169703483582\n",
      "\n",
      "\n",
      "\n",
      "\n",
      "{'dropout': 0.2, 'learning_rate': 0.001, 'optimizer': 'sgd'}\n",
      "Epoch 1/25\n",
      "2674/2674 - 5s - loss: 0.5143 - auc: 0.6520 - val_loss: 0.4614 - val_auc: 0.7462 - 5s/epoch - 2ms/step\n",
      "Epoch 2/25\n",
      "2674/2674 - 5s - loss: 0.4524 - auc: 0.7486 - val_loss: 0.4368 - val_auc: 0.7851 - 5s/epoch - 2ms/step\n",
      "Epoch 3/25\n",
      "2674/2674 - 5s - loss: 0.4346 - auc: 0.7761 - val_loss: 0.4235 - val_auc: 0.7993 - 5s/epoch - 2ms/step\n",
      "Epoch 4/25\n",
      "2674/2674 - 4s - loss: 0.4254 - auc: 0.7869 - val_loss: 0.4154 - val_auc: 0.8069 - 4s/epoch - 2ms/step\n",
      "Epoch 5/25\n",
      "2674/2674 - 5s - loss: 0.4177 - auc: 0.7966 - val_loss: 0.4099 - val_auc: 0.8118 - 5s/epoch - 2ms/step\n",
      "Epoch 6/25\n",
      "2674/2674 - 5s - loss: 0.4136 - auc: 0.8010 - val_loss: 0.4058 - val_auc: 0.8154 - 5s/epoch - 2ms/step\n",
      "Epoch 7/25\n",
      "2674/2674 - 5s - loss: 0.4108 - auc: 0.8040 - val_loss: 0.4025 - val_auc: 0.8187 - 5s/epoch - 2ms/step\n",
      "Epoch 8/25\n",
      "2674/2674 - 5s - loss: 0.4079 - auc: 0.8073 - val_loss: 0.3995 - val_auc: 0.8216 - 5s/epoch - 2ms/step\n",
      "Epoch 9/25\n",
      "2674/2674 - 5s - loss: 0.4043 - auc: 0.8113 - val_loss: 0.3966 - val_auc: 0.8242 - 5s/epoch - 2ms/step\n",
      "Epoch 10/25\n",
      "2674/2674 - 5s - loss: 0.4023 - auc: 0.8131 - val_loss: 0.3938 - val_auc: 0.8268 - 5s/epoch - 2ms/step\n",
      "Epoch 11/25\n",
      "2674/2674 - 5s - loss: 0.3990 - auc: 0.8166 - val_loss: 0.3911 - val_auc: 0.8293 - 5s/epoch - 2ms/step\n",
      "Epoch 12/25\n",
      "2674/2674 - 5s - loss: 0.3966 - auc: 0.8191 - val_loss: 0.3884 - val_auc: 0.8318 - 5s/epoch - 2ms/step\n",
      "Epoch 13/25\n",
      "2674/2674 - 4s - loss: 0.3932 - auc: 0.8224 - val_loss: 0.3857 - val_auc: 0.8344 - 4s/epoch - 2ms/step\n",
      "Epoch 14/25\n",
      "2674/2674 - 5s - loss: 0.3918 - auc: 0.8238 - val_loss: 0.3830 - val_auc: 0.8370 - 5s/epoch - 2ms/step\n",
      "Epoch 15/25\n",
      "2674/2674 - 5s - loss: 0.3892 - auc: 0.8267 - val_loss: 0.3803 - val_auc: 0.8397 - 5s/epoch - 2ms/step\n",
      "Epoch 16/25\n",
      "2674/2674 - 5s - loss: 0.3876 - auc: 0.8278 - val_loss: 0.3779 - val_auc: 0.8422 - 5s/epoch - 2ms/step\n",
      "Epoch 17/25\n",
      "2674/2674 - 4s - loss: 0.3845 - auc: 0.8314 - val_loss: 0.3753 - val_auc: 0.8448 - 4s/epoch - 2ms/step\n",
      "Epoch 18/25\n",
      "2674/2674 - 5s - loss: 0.3828 - auc: 0.8329 - val_loss: 0.3732 - val_auc: 0.8469 - 5s/epoch - 2ms/step\n",
      "Epoch 19/25\n",
      "2674/2674 - 4s - loss: 0.3813 - auc: 0.8344 - val_loss: 0.3710 - val_auc: 0.8491 - 4s/epoch - 2ms/step\n",
      "Epoch 20/25\n",
      "2674/2674 - 5s - loss: 0.3785 - auc: 0.8374 - val_loss: 0.3689 - val_auc: 0.8512 - 5s/epoch - 2ms/step\n",
      "Epoch 21/25\n",
      "2674/2674 - 4s - loss: 0.3773 - auc: 0.8385 - val_loss: 0.3670 - val_auc: 0.8531 - 4s/epoch - 2ms/step\n",
      "Epoch 22/25\n",
      "2674/2674 - 5s - loss: 0.3775 - auc: 0.8384 - val_loss: 0.3652 - val_auc: 0.8550 - 5s/epoch - 2ms/step\n",
      "Epoch 23/25\n",
      "2674/2674 - 5s - loss: 0.3743 - auc: 0.8416 - val_loss: 0.3634 - val_auc: 0.8567 - 5s/epoch - 2ms/step\n",
      "Epoch 24/25\n",
      "2674/2674 - 5s - loss: 0.3743 - auc: 0.8417 - val_loss: 0.3618 - val_auc: 0.8583 - 5s/epoch - 2ms/step\n",
      "Epoch 25/25\n",
      "2674/2674 - 5s - loss: 0.3722 - auc: 0.8440 - val_loss: 0.3604 - val_auc: 0.8598 - 5s/epoch - 2ms/step\n",
      "4642/4642 [==============================] - 7s 2ms/step - loss: 0.3563 - auc: 0.8600\n",
      "516/516 [==============================] - 1s 2ms/step - loss: 0.3605 - auc: 0.8552\n",
      "Train AUC: 0.8600443601608276 Test AUC: 0.8552255630493164\n",
      "\n",
      "\n",
      "\n",
      "\n",
      "{'dropout': 0.2, 'learning_rate': 0.01, 'optimizer': 'Adam'}\n",
      "Epoch 1/25\n",
      "2674/2674 - 6s - loss: 0.3485 - auc: 0.8668 - val_loss: 0.3348 - val_auc: 0.8823 - 6s/epoch - 2ms/step\n",
      "Epoch 2/25\n",
      "2674/2674 - 5s - loss: 0.3367 - auc: 0.8766 - val_loss: 0.3277 - val_auc: 0.8862 - 5s/epoch - 2ms/step\n",
      "Epoch 3/25\n",
      "2674/2674 - 5s - loss: 0.3341 - auc: 0.8785 - val_loss: 0.3348 - val_auc: 0.8814 - 5s/epoch - 2ms/step\n",
      "Epoch 4/25\n",
      "2674/2674 - 5s - loss: 0.3334 - auc: 0.8792 - val_loss: 0.3386 - val_auc: 0.8854 - 5s/epoch - 2ms/step\n",
      "4642/4642 [==============================] - 7s 2ms/step - loss: 0.3361 - auc: 0.8847\n",
      "516/516 [==============================] - 1s 2ms/step - loss: 0.3386 - auc: 0.8823\n",
      "Train AUC: 0.8847047686576843 Test AUC: 0.882266104221344\n",
      "\n",
      "\n",
      "\n",
      "\n",
      "{'dropout': 0.2, 'learning_rate': 0.01, 'optimizer': 'RMSprop'}\n",
      "Epoch 1/25\n",
      "2674/2674 - 6s - loss: 0.3487 - auc: 0.8677 - val_loss: 0.3360 - val_auc: 0.8814 - 6s/epoch - 2ms/step\n",
      "Epoch 2/25\n",
      "2674/2674 - 5s - loss: 0.3404 - auc: 0.8754 - val_loss: 0.3422 - val_auc: 0.8844 - 5s/epoch - 2ms/step\n",
      "Epoch 3/25\n",
      "2674/2674 - 5s - loss: 0.3403 - auc: 0.8758 - val_loss: 0.3423 - val_auc: 0.8841 - 5s/epoch - 2ms/step\n",
      "Epoch 4/25\n",
      "2674/2674 - 5s - loss: 0.3405 - auc: 0.8757 - val_loss: 0.3416 - val_auc: 0.8815 - 5s/epoch - 2ms/step\n",
      "4642/4642 [==============================] - 8s 2ms/step - loss: 0.3407 - auc: 0.8809\n",
      "516/516 [==============================] - 1s 2ms/step - loss: 0.3412 - auc: 0.8792\n",
      "Train AUC: 0.8809157609939575 Test AUC: 0.8791806697845459\n",
      "\n",
      "\n",
      "\n",
      "\n",
      "{'dropout': 0.2, 'learning_rate': 0.01, 'optimizer': 'sgd'}\n",
      "Epoch 1/25\n",
      "2674/2674 - 5s - loss: 0.4323 - auc: 0.7732 - val_loss: 0.3960 - val_auc: 0.8216 - 5s/epoch - 2ms/step\n",
      "Epoch 2/25\n",
      "2674/2674 - 5s - loss: 0.3927 - auc: 0.8211 - val_loss: 0.3789 - val_auc: 0.8393 - 5s/epoch - 2ms/step\n",
      "Epoch 3/25\n",
      "2674/2674 - 4s - loss: 0.3776 - auc: 0.8371 - val_loss: 0.3627 - val_auc: 0.8564 - 4s/epoch - 2ms/step\n",
      "Epoch 4/25\n",
      "2674/2674 - 4s - loss: 0.3657 - auc: 0.8501 - val_loss: 0.3499 - val_auc: 0.8698 - 4s/epoch - 2ms/step\n",
      "Epoch 5/25\n",
      "2674/2674 - 5s - loss: 0.3563 - auc: 0.8594 - val_loss: 0.3412 - val_auc: 0.8766 - 5s/epoch - 2ms/step\n",
      "Epoch 6/25\n",
      "2674/2674 - 4s - loss: 0.3500 - auc: 0.8652 - val_loss: 0.3372 - val_auc: 0.8802 - 4s/epoch - 2ms/step\n",
      "Epoch 7/25\n",
      "2674/2674 - 4s - loss: 0.3462 - auc: 0.8687 - val_loss: 0.3350 - val_auc: 0.8814 - 4s/epoch - 2ms/step\n",
      "Epoch 8/25\n",
      "2674/2674 - 5s - loss: 0.3433 - auc: 0.8714 - val_loss: 0.3344 - val_auc: 0.8823 - 5s/epoch - 2ms/step\n",
      "Epoch 9/25\n",
      "2674/2674 - 4s - loss: 0.3412 - auc: 0.8735 - val_loss: 0.3337 - val_auc: 0.8828 - 4s/epoch - 2ms/step\n",
      "Epoch 10/25\n",
      "2674/2674 - 4s - loss: 0.3397 - auc: 0.8748 - val_loss: 0.3327 - val_auc: 0.8834 - 4s/epoch - 2ms/step\n",
      "Epoch 11/25\n",
      "2674/2674 - 4s - loss: 0.3385 - auc: 0.8757 - val_loss: 0.3316 - val_auc: 0.8838 - 4s/epoch - 2ms/step\n",
      "Epoch 12/25\n",
      "2674/2674 - 4s - loss: 0.3365 - auc: 0.8775 - val_loss: 0.3312 - val_auc: 0.8841 - 4s/epoch - 2ms/step\n",
      "Epoch 13/25\n",
      "2674/2674 - 5s - loss: 0.3370 - auc: 0.8771 - val_loss: 0.3313 - val_auc: 0.8844 - 5s/epoch - 2ms/step\n",
      "Epoch 14/25\n",
      "2674/2674 - 5s - loss: 0.3355 - auc: 0.8782 - val_loss: 0.3301 - val_auc: 0.8847 - 5s/epoch - 2ms/step\n",
      "Epoch 15/25\n",
      "2674/2674 - 5s - loss: 0.3351 - auc: 0.8787 - val_loss: 0.3300 - val_auc: 0.8850 - 5s/epoch - 2ms/step\n",
      "Epoch 16/25\n",
      "2674/2674 - 4s - loss: 0.3348 - auc: 0.8791 - val_loss: 0.3296 - val_auc: 0.8853 - 4s/epoch - 2ms/step\n",
      "Epoch 17/25\n",
      "2674/2674 - 4s - loss: 0.3341 - auc: 0.8794 - val_loss: 0.3294 - val_auc: 0.8853 - 4s/epoch - 2ms/step\n",
      "Epoch 18/25\n",
      "2674/2674 - 5s - loss: 0.3339 - auc: 0.8794 - val_loss: 0.3294 - val_auc: 0.8857 - 5s/epoch - 2ms/step\n",
      "Epoch 19/25\n",
      "2674/2674 - 5s - loss: 0.3338 - auc: 0.8797 - val_loss: 0.3292 - val_auc: 0.8859 - 5s/epoch - 2ms/step\n",
      "Epoch 20/25\n",
      "2674/2674 - 4s - loss: 0.3329 - auc: 0.8805 - val_loss: 0.3281 - val_auc: 0.8861 - 4s/epoch - 2ms/step\n",
      "Epoch 21/25\n",
      "2674/2674 - 4s - loss: 0.3332 - auc: 0.8802 - val_loss: 0.3283 - val_auc: 0.8862 - 4s/epoch - 2ms/step\n",
      "Epoch 22/25\n",
      "2674/2674 - 5s - loss: 0.3326 - auc: 0.8806 - val_loss: 0.3283 - val_auc: 0.8864 - 5s/epoch - 2ms/step\n",
      "Epoch 23/25\n",
      "2674/2674 - 4s - loss: 0.3327 - auc: 0.8805 - val_loss: 0.3282 - val_auc: 0.8863 - 4s/epoch - 2ms/step\n",
      "Epoch 24/25\n",
      "2674/2674 - 5s - loss: 0.3323 - auc: 0.8809 - val_loss: 0.3274 - val_auc: 0.8864 - 5s/epoch - 2ms/step\n",
      "Epoch 25/25\n",
      "2674/2674 - 4s - loss: 0.3324 - auc: 0.8807 - val_loss: 0.3283 - val_auc: 0.8864 - 4s/epoch - 2ms/step\n",
      "4642/4642 [==============================] - 7s 2ms/step - loss: 0.3266 - auc: 0.8861\n",
      "516/516 [==============================] - 1s 2ms/step - loss: 0.3280 - auc: 0.8837\n",
      "Train AUC: 0.886067807674408 Test AUC: 0.8837213516235352\n",
      "\n",
      "\n",
      "\n",
      "\n",
      "{'dropout': 0.1, 'learning_rate': 0.001, 'optimizer': 'Adam'}\n",
      "Epoch 1/25\n",
      "2674/2674 - 6s - loss: 0.3623 - auc: 0.8526 - val_loss: 0.3334 - val_auc: 0.8823 - 6s/epoch - 2ms/step\n",
      "Epoch 2/25\n",
      "2674/2674 - 5s - loss: 0.3339 - auc: 0.8787 - val_loss: 0.3291 - val_auc: 0.8859 - 5s/epoch - 2ms/step\n",
      "Epoch 3/25\n",
      "2674/2674 - 5s - loss: 0.3301 - auc: 0.8818 - val_loss: 0.3263 - val_auc: 0.8871 - 5s/epoch - 2ms/step\n",
      "Epoch 4/25\n",
      "2674/2674 - 5s - loss: 0.3279 - auc: 0.8834 - val_loss: 0.3261 - val_auc: 0.8873 - 5s/epoch - 2ms/step\n",
      "Epoch 5/25\n",
      "2674/2674 - 5s - loss: 0.3272 - auc: 0.8839 - val_loss: 0.3257 - val_auc: 0.8877 - 5s/epoch - 2ms/step\n",
      "Epoch 6/25\n",
      "2674/2674 - 4s - loss: 0.3263 - auc: 0.8844 - val_loss: 0.3248 - val_auc: 0.8877 - 4s/epoch - 2ms/step\n",
      "Epoch 7/25\n",
      "2674/2674 - 5s - loss: 0.3258 - auc: 0.8846 - val_loss: 0.3244 - val_auc: 0.8878 - 5s/epoch - 2ms/step\n",
      "Epoch 8/25\n",
      "2674/2674 - 5s - loss: 0.3252 - auc: 0.8851 - val_loss: 0.3243 - val_auc: 0.8885 - 5s/epoch - 2ms/step\n",
      "Epoch 9/25\n",
      "2674/2674 - 5s - loss: 0.3249 - auc: 0.8852 - val_loss: 0.3246 - val_auc: 0.8884 - 5s/epoch - 2ms/step\n",
      "Epoch 10/25\n",
      "2674/2674 - 5s - loss: 0.3249 - auc: 0.8854 - val_loss: 0.3247 - val_auc: 0.8884 - 5s/epoch - 2ms/step\n",
      "4642/4642 [==============================] - 7s 1ms/step - loss: 0.3226 - auc: 0.8884\n",
      "516/516 [==============================] - 1s 1ms/step - loss: 0.3240 - auc: 0.8861\n",
      "Train AUC: 0.8883953094482422 Test AUC: 0.8860723376274109\n",
      "\n",
      "\n",
      "\n",
      "\n",
      "{'dropout': 0.1, 'learning_rate': 0.001, 'optimizer': 'RMSprop'}\n",
      "Epoch 1/25\n",
      "2674/2674 - 6s - loss: 0.3665 - auc: 0.8484 - val_loss: 0.3339 - val_auc: 0.8811 - 6s/epoch - 2ms/step\n",
      "Epoch 2/25\n",
      "2674/2674 - 5s - loss: 0.3361 - auc: 0.8769 - val_loss: 0.3291 - val_auc: 0.8845 - 5s/epoch - 2ms/step\n",
      "Epoch 3/25\n",
      "2674/2674 - 5s - loss: 0.3325 - auc: 0.8797 - val_loss: 0.3286 - val_auc: 0.8860 - 5s/epoch - 2ms/step\n",
      "Epoch 4/25\n",
      "2674/2674 - 5s - loss: 0.3304 - auc: 0.8816 - val_loss: 0.3254 - val_auc: 0.8875 - 5s/epoch - 2ms/step\n",
      "Epoch 5/25\n",
      "2674/2674 - 5s - loss: 0.3303 - auc: 0.8816 - val_loss: 0.3252 - val_auc: 0.8874 - 5s/epoch - 2ms/step\n",
      "Epoch 6/25\n",
      "2674/2674 - 5s - loss: 0.3293 - auc: 0.8823 - val_loss: 0.3259 - val_auc: 0.8872 - 5s/epoch - 2ms/step\n",
      "4642/4642 [==============================] - 7s 2ms/step - loss: 0.3239 - auc: 0.8868\n",
      "516/516 [==============================] - 1s 2ms/step - loss: 0.3258 - auc: 0.8843\n",
      "Train AUC: 0.8867584466934204 Test AUC: 0.8843437433242798\n",
      "\n",
      "\n",
      "\n",
      "\n",
      "{'dropout': 0.1, 'learning_rate': 0.001, 'optimizer': 'sgd'}\n",
      "Epoch 1/25\n",
      "2674/2674 - 5s - loss: 0.5488 - auc: 0.6097 - val_loss: 0.4710 - val_auc: 0.7358 - 5s/epoch - 2ms/step\n",
      "Epoch 2/25\n",
      "2674/2674 - 5s - loss: 0.4512 - auc: 0.7550 - val_loss: 0.4343 - val_auc: 0.7910 - 5s/epoch - 2ms/step\n",
      "Epoch 3/25\n",
      "2674/2674 - 5s - loss: 0.4252 - auc: 0.7886 - val_loss: 0.4162 - val_auc: 0.8050 - 5s/epoch - 2ms/step\n",
      "Epoch 4/25\n",
      "2674/2674 - 5s - loss: 0.4117 - auc: 0.8014 - val_loss: 0.4069 - val_auc: 0.8114 - 5s/epoch - 2ms/step\n",
      "Epoch 5/25\n",
      "2674/2674 - 5s - loss: 0.4053 - auc: 0.8068 - val_loss: 0.4017 - val_auc: 0.8156 - 5s/epoch - 2ms/step\n",
      "Epoch 6/25\n",
      "2674/2674 - 4s - loss: 0.4004 - auc: 0.8119 - val_loss: 0.3980 - val_auc: 0.8192 - 4s/epoch - 2ms/step\n",
      "Epoch 7/25\n",
      "2674/2674 - 4s - loss: 0.3974 - auc: 0.8151 - val_loss: 0.3946 - val_auc: 0.8224 - 4s/epoch - 2ms/step\n",
      "Epoch 8/25\n",
      "2674/2674 - 5s - loss: 0.3934 - auc: 0.8193 - val_loss: 0.3915 - val_auc: 0.8255 - 5s/epoch - 2ms/step\n",
      "Epoch 9/25\n",
      "2674/2674 - 5s - loss: 0.3906 - auc: 0.8222 - val_loss: 0.3886 - val_auc: 0.8287 - 5s/epoch - 2ms/step\n",
      "Epoch 10/25\n",
      "2674/2674 - 5s - loss: 0.3880 - auc: 0.8248 - val_loss: 0.3855 - val_auc: 0.8320 - 5s/epoch - 2ms/step\n",
      "Epoch 11/25\n",
      "2674/2674 - 4s - loss: 0.3851 - auc: 0.8280 - val_loss: 0.3824 - val_auc: 0.8353 - 4s/epoch - 2ms/step\n",
      "Epoch 12/25\n",
      "2674/2674 - 4s - loss: 0.3822 - auc: 0.8313 - val_loss: 0.3794 - val_auc: 0.8386 - 4s/epoch - 2ms/step\n",
      "Epoch 13/25\n",
      "2674/2674 - 5s - loss: 0.3794 - auc: 0.8340 - val_loss: 0.3761 - val_auc: 0.8422 - 5s/epoch - 2ms/step\n",
      "Epoch 14/25\n",
      "2674/2674 - 5s - loss: 0.3765 - auc: 0.8375 - val_loss: 0.3731 - val_auc: 0.8455 - 5s/epoch - 2ms/step\n",
      "Epoch 15/25\n",
      "2674/2674 - 4s - loss: 0.3739 - auc: 0.8404 - val_loss: 0.3699 - val_auc: 0.8490 - 4s/epoch - 2ms/step\n",
      "Epoch 16/25\n",
      "2674/2674 - 5s - loss: 0.3709 - auc: 0.8435 - val_loss: 0.3666 - val_auc: 0.8524 - 5s/epoch - 2ms/step\n",
      "Epoch 17/25\n",
      "2674/2674 - 4s - loss: 0.3683 - auc: 0.8461 - val_loss: 0.3635 - val_auc: 0.8554 - 4s/epoch - 2ms/step\n",
      "Epoch 18/25\n",
      "2674/2674 - 5s - loss: 0.3654 - auc: 0.8488 - val_loss: 0.3608 - val_auc: 0.8581 - 5s/epoch - 2ms/step\n",
      "Epoch 19/25\n",
      "2674/2674 - 4s - loss: 0.3639 - auc: 0.8507 - val_loss: 0.3580 - val_auc: 0.8608 - 4s/epoch - 2ms/step\n",
      "Epoch 20/25\n",
      "2674/2674 - 5s - loss: 0.3613 - auc: 0.8531 - val_loss: 0.3554 - val_auc: 0.8631 - 5s/epoch - 2ms/step\n",
      "Epoch 21/25\n",
      "2674/2674 - 4s - loss: 0.3594 - auc: 0.8551 - val_loss: 0.3531 - val_auc: 0.8652 - 4s/epoch - 2ms/step\n",
      "Epoch 22/25\n",
      "2674/2674 - 5s - loss: 0.3572 - auc: 0.8572 - val_loss: 0.3511 - val_auc: 0.8671 - 5s/epoch - 2ms/step\n",
      "Epoch 23/25\n",
      "2674/2674 - 4s - loss: 0.3550 - auc: 0.8593 - val_loss: 0.3492 - val_auc: 0.8688 - 4s/epoch - 2ms/step\n",
      "Epoch 24/25\n",
      "2674/2674 - 4s - loss: 0.3538 - auc: 0.8604 - val_loss: 0.3475 - val_auc: 0.8703 - 4s/epoch - 2ms/step\n",
      "Epoch 25/25\n",
      "2674/2674 - 5s - loss: 0.3528 - auc: 0.8613 - val_loss: 0.3461 - val_auc: 0.8714 - 5s/epoch - 2ms/step\n",
      "4642/4642 [==============================] - 7s 1ms/step - loss: 0.3431 - auc: 0.8707\n",
      "516/516 [==============================] - 1s 1ms/step - loss: 0.3458 - auc: 0.8671\n",
      "Train AUC: 0.8707371950149536 Test AUC: 0.8670622706413269\n",
      "\n",
      "\n",
      "\n",
      "\n",
      "{'dropout': 0.1, 'learning_rate': 0.01, 'optimizer': 'Adam'}\n",
      "Epoch 1/25\n",
      "2674/2674 - 6s - loss: 0.3438 - auc: 0.8710 - val_loss: 0.3392 - val_auc: 0.8818 - 6s/epoch - 2ms/step\n",
      "Epoch 2/25\n",
      "2674/2674 - 5s - loss: 0.3340 - auc: 0.8788 - val_loss: 0.3267 - val_auc: 0.8867 - 5s/epoch - 2ms/step\n",
      "Epoch 3/25\n",
      "2674/2674 - 5s - loss: 0.3315 - auc: 0.8808 - val_loss: 0.3293 - val_auc: 0.8857 - 5s/epoch - 2ms/step\n",
      "Epoch 4/25\n",
      "2674/2674 - 5s - loss: 0.3309 - auc: 0.8812 - val_loss: 0.3314 - val_auc: 0.8853 - 5s/epoch - 2ms/step\n",
      "4642/4642 [==============================] - 7s 1ms/step - loss: 0.3284 - auc: 0.8853\n",
      "516/516 [==============================] - 1s 1ms/step - loss: 0.3300 - auc: 0.8830\n",
      "Train AUC: 0.8853479027748108 Test AUC: 0.8830339908599854\n",
      "\n",
      "\n",
      "\n",
      "\n",
      "{'dropout': 0.1, 'learning_rate': 0.01, 'optimizer': 'RMSprop'}\n",
      "Epoch 1/25\n",
      "2674/2674 - 6s - loss: 0.3461 - auc: 0.8702 - val_loss: 0.3344 - val_auc: 0.8838 - 6s/epoch - 2ms/step\n",
      "Epoch 2/25\n",
      "2674/2674 - 5s - loss: 0.3383 - auc: 0.8766 - val_loss: 0.3318 - val_auc: 0.8834 - 5s/epoch - 2ms/step\n",
      "Epoch 3/25\n",
      "2674/2674 - 5s - loss: 0.3372 - auc: 0.8773 - val_loss: 0.3343 - val_auc: 0.8849 - 5s/epoch - 2ms/step\n",
      "Epoch 4/25\n",
      "2674/2674 - 4s - loss: 0.3368 - auc: 0.8776 - val_loss: 0.3277 - val_auc: 0.8858 - 4s/epoch - 2ms/step\n",
      "Epoch 5/25\n",
      "2674/2674 - 5s - loss: 0.3362 - auc: 0.8782 - val_loss: 0.3379 - val_auc: 0.8821 - 5s/epoch - 2ms/step\n",
      "Epoch 6/25\n",
      "2674/2674 - 5s - loss: 0.3356 - auc: 0.8781 - val_loss: 0.3405 - val_auc: 0.8835 - 5s/epoch - 2ms/step\n",
      "4642/4642 [==============================] - 7s 2ms/step - loss: 0.3387 - auc: 0.8833\n",
      "516/516 [==============================] - 1s 1ms/step - loss: 0.3395 - auc: 0.8811\n",
      "Train AUC: 0.8833246827125549 Test AUC: 0.8811423182487488\n",
      "\n",
      "\n",
      "\n",
      "\n",
      "{'dropout': 0.1, 'learning_rate': 0.01, 'optimizer': 'sgd'}\n",
      "Epoch 1/25\n",
      "2674/2674 - 5s - loss: 0.4231 - auc: 0.7854 - val_loss: 0.3820 - val_auc: 0.8350 - 5s/epoch - 2ms/step\n",
      "Epoch 2/25\n",
      "2674/2674 - 5s - loss: 0.3748 - auc: 0.8400 - val_loss: 0.3613 - val_auc: 0.8588 - 5s/epoch - 2ms/step\n",
      "Epoch 3/25\n",
      "2674/2674 - 5s - loss: 0.3600 - auc: 0.8557 - val_loss: 0.3479 - val_auc: 0.8720 - 5s/epoch - 2ms/step\n",
      "Epoch 4/25\n",
      "2674/2674 - 5s - loss: 0.3518 - auc: 0.8639 - val_loss: 0.3397 - val_auc: 0.8780 - 5s/epoch - 2ms/step\n",
      "Epoch 5/25\n",
      "2674/2674 - 5s - loss: 0.3460 - auc: 0.8690 - val_loss: 0.3359 - val_auc: 0.8808 - 5s/epoch - 2ms/step\n",
      "Epoch 6/25\n",
      "2674/2674 - 4s - loss: 0.3421 - auc: 0.8721 - val_loss: 0.3331 - val_auc: 0.8825 - 4s/epoch - 2ms/step\n",
      "Epoch 7/25\n",
      "2674/2674 - 5s - loss: 0.3393 - auc: 0.8747 - val_loss: 0.3314 - val_auc: 0.8834 - 5s/epoch - 2ms/step\n",
      "Epoch 8/25\n",
      "2674/2674 - 4s - loss: 0.3372 - auc: 0.8763 - val_loss: 0.3297 - val_auc: 0.8848 - 4s/epoch - 2ms/step\n",
      "Epoch 9/25\n",
      "2674/2674 - 5s - loss: 0.3358 - auc: 0.8775 - val_loss: 0.3288 - val_auc: 0.8856 - 5s/epoch - 2ms/step\n",
      "Epoch 10/25\n",
      "2674/2674 - 5s - loss: 0.3343 - auc: 0.8787 - val_loss: 0.3275 - val_auc: 0.8861 - 5s/epoch - 2ms/step\n",
      "Epoch 11/25\n",
      "2674/2674 - 5s - loss: 0.3334 - auc: 0.8794 - val_loss: 0.3279 - val_auc: 0.8866 - 5s/epoch - 2ms/step\n",
      "Epoch 12/25\n",
      "2674/2674 - 5s - loss: 0.3326 - auc: 0.8802 - val_loss: 0.3270 - val_auc: 0.8869 - 5s/epoch - 2ms/step\n",
      "Epoch 13/25\n",
      "2674/2674 - 4s - loss: 0.3306 - auc: 0.8815 - val_loss: 0.3269 - val_auc: 0.8870 - 4s/epoch - 2ms/step\n",
      "Epoch 14/25\n",
      "2674/2674 - 4s - loss: 0.3308 - auc: 0.8815 - val_loss: 0.3261 - val_auc: 0.8871 - 4s/epoch - 2ms/step\n",
      "Epoch 15/25\n",
      "2674/2674 - 4s - loss: 0.3306 - auc: 0.8817 - val_loss: 0.3264 - val_auc: 0.8873 - 4s/epoch - 2ms/step\n",
      "Epoch 16/25\n",
      "2674/2674 - 5s - loss: 0.3299 - auc: 0.8820 - val_loss: 0.3255 - val_auc: 0.8873 - 5s/epoch - 2ms/step\n",
      "Epoch 17/25\n",
      "2674/2674 - 5s - loss: 0.3298 - auc: 0.8821 - val_loss: 0.3254 - val_auc: 0.8875 - 5s/epoch - 2ms/step\n",
      "Epoch 18/25\n",
      "2674/2674 - 5s - loss: 0.3292 - auc: 0.8828 - val_loss: 0.3254 - val_auc: 0.8875 - 5s/epoch - 2ms/step\n",
      "Epoch 19/25\n",
      "2674/2674 - 5s - loss: 0.3285 - auc: 0.8833 - val_loss: 0.3252 - val_auc: 0.8877 - 5s/epoch - 2ms/step\n",
      "Epoch 20/25\n",
      "2674/2674 - 5s - loss: 0.3284 - auc: 0.8832 - val_loss: 0.3255 - val_auc: 0.8879 - 5s/epoch - 2ms/step\n",
      "Epoch 21/25\n",
      "2674/2674 - 5s - loss: 0.3280 - auc: 0.8836 - val_loss: 0.3253 - val_auc: 0.8878 - 5s/epoch - 2ms/step\n",
      "Epoch 22/25\n",
      "2674/2674 - 5s - loss: 0.3279 - auc: 0.8835 - val_loss: 0.3252 - val_auc: 0.8878 - 5s/epoch - 2ms/step\n",
      "4642/4642 [==============================] - 7s 2ms/step - loss: 0.3232 - auc: 0.8875\n",
      "516/516 [==============================] - 1s 1ms/step - loss: 0.3242 - auc: 0.8856\n",
      "Train AUC: 0.8875315189361572 Test AUC: 0.8856474161148071\n"
     ]
    }
   ],
   "source": [
    "# Different parameters on which we can tune the model\n",
    "param_grid = {\n",
    "    'learning_rate': [0.001, 0.01],\n",
    "    'optimizer':['Adam', 'RMSprop' , 'sgd'],\n",
    "    'dropout': [0.2, 0.1]\n",
    "}\n",
    "    \n",
    "param_combinations = list(ParameterGrid(param_grid))\n",
    "\n",
    "# Print all combinations\n",
    "for params in param_combinations:\n",
    "    print(\"\\n\\n\\n\")\n",
    "    print(params)\n",
    "    backend.clear_session()\n",
    "    model = Sequential()\n",
    "    model.add(Dense(units = 32, input_dim = 12, activation = 'relu'))\n",
    "    model.add(Dropout(params['dropout']))  \n",
    "    model.add(Dense(units = 16, activation = 'relu'))\n",
    "    model.add(Dense(units = 1, activation='sigmoid'))\n",
    "    if params['optimizer'] == 'Adam':\n",
    "        optimizer = Adam(learning_rate=params['learning_rate'])\n",
    "    elif params['optimizer'] == 'RMSprop':\n",
    "            optimizer = RMSprop(learning_rate=params['learning_rate'])\n",
    "    elif params['optimizer'] == 'sgd':\n",
    "                optimizer = SGD(learning_rate=params['learning_rate'])\n",
    "    model.compile(optimizer = optimizer, loss='binary_crossentropy', metrics=[AUC()])\n",
    "    callback = EarlyStopping(monitor='val_auc', patience=2)\n",
    "    model.fit(X_train_scaled, y_train, epochs=25, batch_size=50, validation_split=0.1, callbacks=[callback], verbose=2)\n",
    "    \n",
    "    train_loss, train_auc = model.evaluate(X_train_scaled, y_train)\n",
    "    test_loss, test_auc = model.evaluate(X_test_scaled, y_test)\n",
    "    print(f'Train AUC: {train_auc} Test AUC: {test_auc}')"
   ]
  },
  {
   "cell_type": "markdown",
   "id": "572b5d25",
   "metadata": {
    "papermill": {
     "duration": 0.163851,
     "end_time": "2024-01-11T18:55:03.212070",
     "exception": false,
     "start_time": "2024-01-11T18:55:03.048219",
     "status": "completed"
    },
    "tags": []
   },
   "source": [
    "# Model Training"
   ]
  },
  {
   "cell_type": "code",
   "execution_count": 29,
   "id": "117222ad",
   "metadata": {
    "execution": {
     "iopub.execute_input": "2024-01-11T18:55:03.535656Z",
     "iopub.status.busy": "2024-01-11T18:55:03.535245Z",
     "iopub.status.idle": "2024-01-11T19:00:28.842482Z",
     "shell.execute_reply": "2024-01-11T19:00:28.841129Z"
    },
    "papermill": {
     "duration": 325.638578,
     "end_time": "2024-01-11T19:00:29.013528",
     "exception": false,
     "start_time": "2024-01-11T18:55:03.374950",
     "status": "completed"
    },
    "tags": []
   },
   "outputs": [
    {
     "name": "stdout",
     "output_type": "stream",
     "text": [
      "Epoch 1/100\n",
      "5348/5348 - 11s - loss: 0.4111 - auc: 0.7982 - val_loss: 0.3695 - val_auc: 0.8506 - 11s/epoch - 2ms/step\n",
      "Epoch 2/100\n",
      "5348/5348 - 9s - loss: 0.3641 - auc: 0.8522 - val_loss: 0.3468 - val_auc: 0.8731 - 9s/epoch - 2ms/step\n",
      "Epoch 3/100\n",
      "5348/5348 - 9s - loss: 0.3523 - auc: 0.8632 - val_loss: 0.3393 - val_auc: 0.8780 - 9s/epoch - 2ms/step\n",
      "Epoch 4/100\n",
      "5348/5348 - 9s - loss: 0.3475 - auc: 0.8673 - val_loss: 0.3379 - val_auc: 0.8788 - 9s/epoch - 2ms/step\n",
      "Epoch 5/100\n",
      "5348/5348 - 9s - loss: 0.3450 - auc: 0.8696 - val_loss: 0.3359 - val_auc: 0.8799 - 9s/epoch - 2ms/step\n",
      "Epoch 6/100\n",
      "5348/5348 - 9s - loss: 0.3424 - auc: 0.8717 - val_loss: 0.3328 - val_auc: 0.8813 - 9s/epoch - 2ms/step\n",
      "Epoch 7/100\n",
      "5348/5348 - 9s - loss: 0.3405 - auc: 0.8731 - val_loss: 0.3326 - val_auc: 0.8826 - 9s/epoch - 2ms/step\n",
      "Epoch 8/100\n",
      "5348/5348 - 9s - loss: 0.3390 - auc: 0.8745 - val_loss: 0.3302 - val_auc: 0.8846 - 9s/epoch - 2ms/step\n",
      "Epoch 9/100\n",
      "5348/5348 - 9s - loss: 0.3380 - auc: 0.8754 - val_loss: 0.3318 - val_auc: 0.8849 - 9s/epoch - 2ms/step\n",
      "Epoch 10/100\n",
      "5348/5348 - 9s - loss: 0.3364 - auc: 0.8768 - val_loss: 0.3298 - val_auc: 0.8859 - 9s/epoch - 2ms/step\n",
      "Epoch 11/100\n",
      "5348/5348 - 9s - loss: 0.3359 - auc: 0.8771 - val_loss: 0.3280 - val_auc: 0.8861 - 9s/epoch - 2ms/step\n",
      "Epoch 12/100\n",
      "5348/5348 - 10s - loss: 0.3347 - auc: 0.8780 - val_loss: 0.3273 - val_auc: 0.8864 - 10s/epoch - 2ms/step\n",
      "Epoch 13/100\n",
      "5348/5348 - 9s - loss: 0.3337 - auc: 0.8791 - val_loss: 0.3277 - val_auc: 0.8867 - 9s/epoch - 2ms/step\n",
      "Epoch 14/100\n",
      "5348/5348 - 9s - loss: 0.3334 - auc: 0.8791 - val_loss: 0.3269 - val_auc: 0.8870 - 9s/epoch - 2ms/step\n",
      "Epoch 15/100\n",
      "5348/5348 - 9s - loss: 0.3329 - auc: 0.8797 - val_loss: 0.3264 - val_auc: 0.8871 - 9s/epoch - 2ms/step\n",
      "Epoch 16/100\n",
      "5348/5348 - 9s - loss: 0.3318 - auc: 0.8804 - val_loss: 0.3251 - val_auc: 0.8877 - 9s/epoch - 2ms/step\n",
      "Epoch 17/100\n",
      "5348/5348 - 9s - loss: 0.3318 - auc: 0.8805 - val_loss: 0.3272 - val_auc: 0.8878 - 9s/epoch - 2ms/step\n",
      "Epoch 18/100\n",
      "5348/5348 - 9s - loss: 0.3307 - auc: 0.8815 - val_loss: 0.3266 - val_auc: 0.8873 - 9s/epoch - 2ms/step\n",
      "Epoch 19/100\n",
      "5348/5348 - 10s - loss: 0.3307 - auc: 0.8814 - val_loss: 0.3263 - val_auc: 0.8874 - 10s/epoch - 2ms/step\n",
      "Epoch 20/100\n",
      "5348/5348 - 9s - loss: 0.3304 - auc: 0.8817 - val_loss: 0.3256 - val_auc: 0.8875 - 9s/epoch - 2ms/step\n",
      "Epoch 21/100\n",
      "5348/5348 - 9s - loss: 0.3297 - auc: 0.8820 - val_loss: 0.3256 - val_auc: 0.8877 - 9s/epoch - 2ms/step\n",
      "Epoch 22/100\n",
      "5348/5348 - 9s - loss: 0.3288 - auc: 0.8826 - val_loss: 0.3252 - val_auc: 0.8879 - 9s/epoch - 2ms/step\n",
      "Epoch 23/100\n",
      "5348/5348 - 9s - loss: 0.3292 - auc: 0.8825 - val_loss: 0.3249 - val_auc: 0.8880 - 9s/epoch - 2ms/step\n",
      "Epoch 24/100\n",
      "5348/5348 - 9s - loss: 0.3286 - auc: 0.8828 - val_loss: 0.3251 - val_auc: 0.8883 - 9s/epoch - 2ms/step\n",
      "Epoch 25/100\n",
      "5348/5348 - 9s - loss: 0.3277 - auc: 0.8833 - val_loss: 0.3250 - val_auc: 0.8879 - 9s/epoch - 2ms/step\n",
      "Epoch 26/100\n",
      "5348/5348 - 9s - loss: 0.3281 - auc: 0.8831 - val_loss: 0.3248 - val_auc: 0.8887 - 9s/epoch - 2ms/step\n",
      "Epoch 27/100\n",
      "5348/5348 - 9s - loss: 0.3269 - auc: 0.8840 - val_loss: 0.3237 - val_auc: 0.8885 - 9s/epoch - 2ms/step\n",
      "Epoch 28/100\n",
      "5348/5348 - 9s - loss: 0.3272 - auc: 0.8840 - val_loss: 0.3245 - val_auc: 0.8886 - 9s/epoch - 2ms/step\n",
      "Epoch 29/100\n",
      "5348/5348 - 9s - loss: 0.3270 - auc: 0.8839 - val_loss: 0.3254 - val_auc: 0.8886 - 9s/epoch - 2ms/step\n",
      "Epoch 30/100\n",
      "5348/5348 - 10s - loss: 0.3267 - auc: 0.8841 - val_loss: 0.3237 - val_auc: 0.8888 - 10s/epoch - 2ms/step\n",
      "Epoch 31/100\n",
      "5348/5348 - 9s - loss: 0.3266 - auc: 0.8843 - val_loss: 0.3238 - val_auc: 0.8885 - 9s/epoch - 2ms/step\n",
      "Epoch 32/100\n",
      "5348/5348 - 10s - loss: 0.3265 - auc: 0.8840 - val_loss: 0.3238 - val_auc: 0.8887 - 10s/epoch - 2ms/step\n",
      "Epoch 33/100\n",
      "5348/5348 - 10s - loss: 0.3265 - auc: 0.8842 - val_loss: 0.3278 - val_auc: 0.8882 - 10s/epoch - 2ms/step\n",
      "Epoch 34/100\n",
      "5348/5348 - 10s - loss: 0.3256 - auc: 0.8849 - val_loss: 0.3238 - val_auc: 0.8885 - 10s/epoch - 2ms/step\n",
      "Epoch 35/100\n",
      "5348/5348 - 12s - loss: 0.3260 - auc: 0.8844 - val_loss: 0.3240 - val_auc: 0.8887 - 12s/epoch - 2ms/step\n"
     ]
    }
   ],
   "source": [
    "# Final model training after hyper parameter tuning\n",
    "backend.clear_session()\n",
    "model = Sequential()\n",
    "model.add(Dense(units = 20, input_dim = 12, activation = 'relu'))\n",
    "model.add(Dropout(0.1))  # Add dropout for regularization\n",
    "model.add(Dense(units = 10, activation = 'relu'))\n",
    "model.add(Dense(units = 5, activation = 'relu'))\n",
    "model.add(Dense(units = 1, activation='sigmoid'))\n",
    "model.compile(optimizer = SGD(learning_rate=0.01), loss='binary_crossentropy', metrics=[AUC()])\n",
    "callback = EarlyStopping(monitor='val_auc', patience=5)\n",
    "history = model.fit(X_train_scaled, y_train, epochs=100, batch_size=25, validation_split=0.1, callbacks=[callback], verbose=2)"
   ]
  },
  {
   "cell_type": "markdown",
   "id": "f6ab9982",
   "metadata": {
    "papermill": {
     "duration": 0.169971,
     "end_time": "2024-01-11T19:00:29.355117",
     "exception": false,
     "start_time": "2024-01-11T19:00:29.185146",
     "status": "completed"
    },
    "tags": []
   },
   "source": [
    "# Plotting the training and validation loss and accuracy"
   ]
  },
  {
   "cell_type": "code",
   "execution_count": 30,
   "id": "865ab5bc",
   "metadata": {
    "execution": {
     "iopub.execute_input": "2024-01-11T19:00:29.699703Z",
     "iopub.status.busy": "2024-01-11T19:00:29.698870Z",
     "iopub.status.idle": "2024-01-11T19:00:30.341319Z",
     "shell.execute_reply": "2024-01-11T19:00:30.339982Z"
    },
    "papermill": {
     "duration": 0.815686,
     "end_time": "2024-01-11T19:00:30.343856",
     "exception": false,
     "start_time": "2024-01-11T19:00:29.528170",
     "status": "completed"
    },
    "tags": []
   },
   "outputs": [
    {
     "data": {
      "image/png": "[encoded data removed]",
      "text/plain": [
       "<Figure size 1000x500 with 2 Axes>"
      ]
     },
     "metadata": {},
     "output_type": "display_data"
    }
   ],
   "source": [
    "# Extract training and validation loss and accuracy from the history object\n",
    "train_loss = history.history['loss']\n",
    "val_loss = history.history['val_loss']\n",
    "train_auc = history.history['auc']\n",
    "val_auc = history.history['val_auc']\n",
    "\n",
    "# Plot training and validation loss\n",
    "plt.figure(figsize=(10, 5))\n",
    "plt.subplot(1, 2, 1)\n",
    "plt.plot(train_loss, label='Training Loss')\n",
    "plt.plot(val_loss, label='Validation Loss')\n",
    "plt.title('Training and Validation Loss')\n",
    "plt.xlabel('Epoch')\n",
    "plt.ylabel('Loss')\n",
    "plt.legend()\n",
    "\n",
    "# Plot training and validation accuracy\n",
    "plt.subplot(1, 2, 2)\n",
    "plt.plot(train_auc, label='Training AUC')\n",
    "plt.plot(val_auc, label='Validation AUC')\n",
    "plt.title('Training and Validation AUC')\n",
    "plt.xlabel('Epoch')\n",
    "plt.ylabel('AUC')\n",
    "plt.legend()\n",
    "\n",
    "# Show the plots\n",
    "plt.tight_layout()\n",
    "plt.show()"
   ]
  },
  {
   "cell_type": "markdown",
   "id": "752655f4",
   "metadata": {
    "papermill": {
     "duration": 0.170359,
     "end_time": "2024-01-11T19:00:30.753658",
     "exception": false,
     "start_time": "2024-01-11T19:00:30.583299",
     "status": "completed"
    },
    "tags": []
   },
   "source": [
    "# Predicting on test data and final outcome!"
   ]
  },
  {
   "cell_type": "code",
   "execution_count": 31,
   "id": "56d3776e",
   "metadata": {
    "execution": {
     "iopub.execute_input": "2024-01-11T19:00:31.108873Z",
     "iopub.status.busy": "2024-01-11T19:00:31.108482Z",
     "iopub.status.idle": "2024-01-11T19:00:32.214330Z",
     "shell.execute_reply": "2024-01-11T19:00:32.213205Z"
    },
    "papermill": {
     "duration": 1.290522,
     "end_time": "2024-01-11T19:00:32.216799",
     "exception": false,
     "start_time": "2024-01-11T19:00:30.926277",
     "status": "completed"
    },
    "tags": []
   },
   "outputs": [
    {
     "name": "stdout",
     "output_type": "stream",
     "text": [
      "516/516 [==============================] - 1s 2ms/step - loss: 0.3233 - auc: 0.8864\n",
      "Test AUC: 0.8863645792007446\n"
     ]
    }
   ],
   "source": [
    "# Evaluating the model on test dataset\n",
    "test_loss, test_auc = model.evaluate(X_test_scaled, y_test)\n",
    "print(f'Test AUC: {test_auc}') "
   ]
  },
  {
   "cell_type": "code",
   "execution_count": 32,
   "id": "97a3a97f",
   "metadata": {
    "execution": {
     "iopub.execute_input": "2024-01-11T19:00:32.558968Z",
     "iopub.status.busy": "2024-01-11T19:00:32.558428Z",
     "iopub.status.idle": "2024-01-11T19:00:39.271348Z",
     "shell.execute_reply": "2024-01-11T19:00:39.270173Z"
    },
    "papermill": {
     "duration": 6.886539,
     "end_time": "2024-01-11T19:00:39.274079",
     "exception": false,
     "start_time": "2024-01-11T19:00:32.387540",
     "status": "completed"
    },
    "tags": []
   },
   "outputs": [
    {
     "name": "stdout",
     "output_type": "stream",
     "text": [
      "3439/3439 [==============================] - 5s 1ms/step\n"
     ]
    }
   ],
   "source": [
    "# Predicting the test set data points\n",
    "preds = model.predict(testbanking_scaled)"
   ]
  },
  {
   "cell_type": "code",
   "execution_count": 33,
   "id": "d95f1dd6",
   "metadata": {
    "execution": {
     "iopub.execute_input": "2024-01-11T19:00:39.627771Z",
     "iopub.status.busy": "2024-01-11T19:00:39.627376Z",
     "iopub.status.idle": "2024-01-11T19:00:39.639095Z",
     "shell.execute_reply": "2024-01-11T19:00:39.637739Z"
    },
    "papermill": {
     "duration": 0.190476,
     "end_time": "2024-01-11T19:00:39.641277",
     "exception": false,
     "start_time": "2024-01-11T19:00:39.450801",
     "status": "completed"
    },
    "tags": []
   },
   "outputs": [
    {
     "data": {
      "text/html": [
       "<div>\n",
       "<style scoped>\n",
       "    .dataframe tbody tr th:only-of-type {\n",
       "        vertical-align: middle;\n",
       "    }\n",
       "\n",
       "    .dataframe tbody tr th {\n",
       "        vertical-align: top;\n",
       "    }\n",
       "\n",
       "    .dataframe thead th {\n",
       "        text-align: right;\n",
       "    }\n",
       "</style>\n",
       "<table border=\"1\" class=\"dataframe\">\n",
       "  <thead>\n",
       "    <tr style=\"text-align: right;\">\n",
       "      <th></th>\n",
       "      <th>id</th>\n",
       "      <th>Exited</th>\n",
       "    </tr>\n",
       "  </thead>\n",
       "  <tbody>\n",
       "    <tr>\n",
       "      <th>0</th>\n",
       "      <td>165034</td>\n",
       "      <td>0.016569</td>\n",
       "    </tr>\n",
       "    <tr>\n",
       "      <th>1</th>\n",
       "      <td>165035</td>\n",
       "      <td>0.809479</td>\n",
       "    </tr>\n",
       "    <tr>\n",
       "      <th>2</th>\n",
       "      <td>165036</td>\n",
       "      <td>0.037799</td>\n",
       "    </tr>\n",
       "    <tr>\n",
       "      <th>3</th>\n",
       "      <td>165037</td>\n",
       "      <td>0.214789</td>\n",
       "    </tr>\n",
       "    <tr>\n",
       "      <th>4</th>\n",
       "      <td>165038</td>\n",
       "      <td>0.347303</td>\n",
       "    </tr>\n",
       "  </tbody>\n",
       "</table>\n",
       "</div>"
      ],
      "text/plain": [
       "       id    Exited\n",
       "0  165034  0.016569\n",
       "1  165035  0.809479\n",
       "2  165036  0.037799\n",
       "3  165037  0.214789\n",
       "4  165038  0.347303"
      ]
     },
     "execution_count": 33,
     "metadata": {},
     "output_type": "execute_result"
    }
   ],
   "source": [
    "testbanking_id['Exited'] = preds\n",
    "testbanking_id.head()"
   ]
  },
  {
   "cell_type": "code",
   "execution_count": 34,
   "id": "a3697ec9",
   "metadata": {
    "execution": {
     "iopub.execute_input": "2024-01-11T19:00:39.991681Z",
     "iopub.status.busy": "2024-01-11T19:00:39.991091Z",
     "iopub.status.idle": "2024-01-11T19:00:40.249162Z",
     "shell.execute_reply": "2024-01-11T19:00:40.247984Z"
    },
    "papermill": {
     "duration": 0.440769,
     "end_time": "2024-01-11T19:00:40.251971",
     "exception": false,
     "start_time": "2024-01-11T19:00:39.811202",
     "status": "completed"
    },
    "tags": []
   },
   "outputs": [],
   "source": [
    "# Saving final outcome file\n",
    "testbanking_id.to_csv(\"submission.csv\", index = False)"
   ]
  },
  {
   "cell_type": "code",
   "execution_count": null,
   "id": "1ab1ae0b",
   "metadata": {
    "papermill": {
     "duration": 0.18068,
     "end_time": "2024-01-11T19:00:40.622459",
     "exception": false,
     "start_time": "2024-01-11T19:00:40.441779",
     "status": "completed"
    },
    "tags": []
   },
   "outputs": [],
   "source": []
  }
 ],
 "metadata": {
  "kaggle": {
   "accelerator": "none",
   "dataSources": [
    {
     "databundleVersionId": 7405009,
     "sourceId": 65711,
     "sourceType": "competition"
    }
   ],
   "dockerImageVersionId": 30635,
   "isGpuEnabled": false,
   "isInternetEnabled": true,
   "language": "python",
   "sourceType": "notebook"
  },
  "kernelspec": {
   "display_name": "Python 3",
   "language": "python",
   "name": "python3"
  },
  "language_info": {
   "codemirror_mode": {
    "name": "ipython",
    "version": 3
   },
   "file_extension": ".py",
   "mimetype": "text/x-python",
   "name": "python",
   "nbconvert_exporter": "python",
   "pygments_lexer": "ipython3",
   "version": "3.10.12"
  },
  "papermill": {
   "default_parameters": {},
   "duration": 1211.008275,
   "end_time": "2024-01-11T19:00:42.733918",
   "environment_variables": {},
   "exception": null,
   "input_path": "__notebook__.ipynb",
   "output_path": "__notebook__.ipynb",
   "parameters": {},
   "start_time": "2024-01-11T18:40:31.725643",
   "version": "2.4.0"
  }
 },
 "nbformat": 4,
 "nbformat_minor": 5
}
