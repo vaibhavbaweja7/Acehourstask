{
 "cells": [
  {
   "cell_type": "markdown",
   "id": "98f1dfab",
   "metadata": {
    "execution": {
     "iopub.execute_input": "2024-01-05T08:20:50.028935Z",
     "iopub.status.busy": "2024-01-05T08:20:50.027823Z",
     "iopub.status.idle": "2024-01-05T08:20:50.034264Z",
     "shell.execute_reply": "2024-01-05T08:20:50.032958Z",
     "shell.execute_reply.started": "2024-01-05T08:20:50.028858Z"
    },
    "papermill": {
     "duration": 0.009651,
     "end_time": "2024-01-05T10:49:39.922094",
     "exception": false,
     "start_time": "2024-01-05T10:49:39.912443",
     "status": "completed"
    },
    "tags": []
   },
   "source": [
    "# Importing the libraries we will be using"
   ]
  },
  {
   "cell_type": "code",
   "execution_count": 1,
   "id": "7d85bfeb",
   "metadata": {
    "execution": {
     "iopub.execute_input": "2024-01-05T10:49:39.943472Z",
     "iopub.status.busy": "2024-01-05T10:49:39.943056Z",
     "iopub.status.idle": "2024-01-05T10:49:55.759042Z",
     "shell.execute_reply": "2024-01-05T10:49:55.757735Z"
    },
    "papermill": {
     "duration": 15.829865,
     "end_time": "2024-01-05T10:49:55.762100",
     "exception": false,
     "start_time": "2024-01-05T10:49:39.932235",
     "status": "completed"
    },
    "tags": []
   },
   "outputs": [],
   "source": [
    "import numpy as np\n",
    "import pandas as pd\n",
    "import tensorflow as tf\n",
    "import matplotlib.pyplot as plt\n",
    "from sklearn.model_selection import train_test_split"
   ]
  },
  {
   "cell_type": "code",
   "execution_count": 2,
   "id": "dddee43c",
   "metadata": {
    "execution": {
     "iopub.execute_input": "2024-01-05T10:49:55.783249Z",
     "iopub.status.busy": "2024-01-05T10:49:55.782160Z",
     "iopub.status.idle": "2024-01-05T10:49:55.924390Z",
     "shell.execute_reply": "2024-01-05T10:49:55.923327Z"
    },
    "papermill": {
     "duration": 0.155488,
     "end_time": "2024-01-05T10:49:55.926977",
     "exception": false,
     "start_time": "2024-01-05T10:49:55.771489",
     "status": "completed"
    },
    "tags": []
   },
   "outputs": [],
   "source": [
    "from tensorflow.python import keras\n",
    "from tensorflow.python.keras.models import Sequential\n",
    "from tensorflow.python.keras.layers import Dense, Flatten, Conv2D\n",
    "from tensorflow.keras.utils import to_categorical\n",
    "from tensorflow.keras import layers, models"
   ]
  },
  {
   "cell_type": "markdown",
   "id": "10655286",
   "metadata": {
    "papermill": {
     "duration": 0.009197,
     "end_time": "2024-01-05T10:49:55.946054",
     "exception": false,
     "start_time": "2024-01-05T10:49:55.936857",
     "status": "completed"
    },
    "tags": []
   },
   "source": [
    "### Reading the data"
   ]
  },
  {
   "cell_type": "code",
   "execution_count": 3,
   "id": "e3d445cd",
   "metadata": {
    "execution": {
     "iopub.execute_input": "2024-01-05T10:49:55.966943Z",
     "iopub.status.busy": "2024-01-05T10:49:55.966036Z",
     "iopub.status.idle": "2024-01-05T10:50:00.298035Z",
     "shell.execute_reply": "2024-01-05T10:50:00.296859Z"
    },
    "papermill": {
     "duration": 4.345043,
     "end_time": "2024-01-05T10:50:00.300524",
     "exception": false,
     "start_time": "2024-01-05T10:49:55.955481",
     "status": "completed"
    },
    "tags": []
   },
   "outputs": [
    {
     "data": {
      "text/html": [
       "<div>\n",
       "<style scoped>\n",
       "    .dataframe tbody tr th:only-of-type {\n",
       "        vertical-align: middle;\n",
       "    }\n",
       "\n",
       "    .dataframe tbody tr th {\n",
       "        vertical-align: top;\n",
       "    }\n",
       "\n",
       "    .dataframe thead th {\n",
       "        text-align: right;\n",
       "    }\n",
       "</style>\n",
       "<table border=\"1\" class=\"dataframe\">\n",
       "  <thead>\n",
       "    <tr style=\"text-align: right;\">\n",
       "      <th></th>\n",
       "      <th>label</th>\n",
       "      <th>pixel0</th>\n",
       "      <th>pixel1</th>\n",
       "      <th>pixel2</th>\n",
       "      <th>pixel3</th>\n",
       "      <th>pixel4</th>\n",
       "      <th>pixel5</th>\n",
       "      <th>pixel6</th>\n",
       "      <th>pixel7</th>\n",
       "      <th>pixel8</th>\n",
       "      <th>...</th>\n",
       "      <th>pixel774</th>\n",
       "      <th>pixel775</th>\n",
       "      <th>pixel776</th>\n",
       "      <th>pixel777</th>\n",
       "      <th>pixel778</th>\n",
       "      <th>pixel779</th>\n",
       "      <th>pixel780</th>\n",
       "      <th>pixel781</th>\n",
       "      <th>pixel782</th>\n",
       "      <th>pixel783</th>\n",
       "    </tr>\n",
       "  </thead>\n",
       "  <tbody>\n",
       "    <tr>\n",
       "      <th>0</th>\n",
       "      <td>1</td>\n",
       "      <td>0</td>\n",
       "      <td>0</td>\n",
       "      <td>0</td>\n",
       "      <td>0</td>\n",
       "      <td>0</td>\n",
       "      <td>0</td>\n",
       "      <td>0</td>\n",
       "      <td>0</td>\n",
       "      <td>0</td>\n",
       "      <td>...</td>\n",
       "      <td>0</td>\n",
       "      <td>0</td>\n",
       "      <td>0</td>\n",
       "      <td>0</td>\n",
       "      <td>0</td>\n",
       "      <td>0</td>\n",
       "      <td>0</td>\n",
       "      <td>0</td>\n",
       "      <td>0</td>\n",
       "      <td>0</td>\n",
       "    </tr>\n",
       "    <tr>\n",
       "      <th>1</th>\n",
       "      <td>0</td>\n",
       "      <td>0</td>\n",
       "      <td>0</td>\n",
       "      <td>0</td>\n",
       "      <td>0</td>\n",
       "      <td>0</td>\n",
       "      <td>0</td>\n",
       "      <td>0</td>\n",
       "      <td>0</td>\n",
       "      <td>0</td>\n",
       "      <td>...</td>\n",
       "      <td>0</td>\n",
       "      <td>0</td>\n",
       "      <td>0</td>\n",
       "      <td>0</td>\n",
       "      <td>0</td>\n",
       "      <td>0</td>\n",
       "      <td>0</td>\n",
       "      <td>0</td>\n",
       "      <td>0</td>\n",
       "      <td>0</td>\n",
       "    </tr>\n",
       "    <tr>\n",
       "      <th>2</th>\n",
       "      <td>1</td>\n",
       "      <td>0</td>\n",
       "      <td>0</td>\n",
       "      <td>0</td>\n",
       "      <td>0</td>\n",
       "      <td>0</td>\n",
       "      <td>0</td>\n",
       "      <td>0</td>\n",
       "      <td>0</td>\n",
       "      <td>0</td>\n",
       "      <td>...</td>\n",
       "      <td>0</td>\n",
       "      <td>0</td>\n",
       "      <td>0</td>\n",
       "      <td>0</td>\n",
       "      <td>0</td>\n",
       "      <td>0</td>\n",
       "      <td>0</td>\n",
       "      <td>0</td>\n",
       "      <td>0</td>\n",
       "      <td>0</td>\n",
       "    </tr>\n",
       "    <tr>\n",
       "      <th>3</th>\n",
       "      <td>4</td>\n",
       "      <td>0</td>\n",
       "      <td>0</td>\n",
       "      <td>0</td>\n",
       "      <td>0</td>\n",
       "      <td>0</td>\n",
       "      <td>0</td>\n",
       "      <td>0</td>\n",
       "      <td>0</td>\n",
       "      <td>0</td>\n",
       "      <td>...</td>\n",
       "      <td>0</td>\n",
       "      <td>0</td>\n",
       "      <td>0</td>\n",
       "      <td>0</td>\n",
       "      <td>0</td>\n",
       "      <td>0</td>\n",
       "      <td>0</td>\n",
       "      <td>0</td>\n",
       "      <td>0</td>\n",
       "      <td>0</td>\n",
       "    </tr>\n",
       "    <tr>\n",
       "      <th>4</th>\n",
       "      <td>0</td>\n",
       "      <td>0</td>\n",
       "      <td>0</td>\n",
       "      <td>0</td>\n",
       "      <td>0</td>\n",
       "      <td>0</td>\n",
       "      <td>0</td>\n",
       "      <td>0</td>\n",
       "      <td>0</td>\n",
       "      <td>0</td>\n",
       "      <td>...</td>\n",
       "      <td>0</td>\n",
       "      <td>0</td>\n",
       "      <td>0</td>\n",
       "      <td>0</td>\n",
       "      <td>0</td>\n",
       "      <td>0</td>\n",
       "      <td>0</td>\n",
       "      <td>0</td>\n",
       "      <td>0</td>\n",
       "      <td>0</td>\n",
       "    </tr>\n",
       "    <tr>\n",
       "      <th>...</th>\n",
       "      <td>...</td>\n",
       "      <td>...</td>\n",
       "      <td>...</td>\n",
       "      <td>...</td>\n",
       "      <td>...</td>\n",
       "      <td>...</td>\n",
       "      <td>...</td>\n",
       "      <td>...</td>\n",
       "      <td>...</td>\n",
       "      <td>...</td>\n",
       "      <td>...</td>\n",
       "      <td>...</td>\n",
       "      <td>...</td>\n",
       "      <td>...</td>\n",
       "      <td>...</td>\n",
       "      <td>...</td>\n",
       "      <td>...</td>\n",
       "      <td>...</td>\n",
       "      <td>...</td>\n",
       "      <td>...</td>\n",
       "      <td>...</td>\n",
       "    </tr>\n",
       "    <tr>\n",
       "      <th>41995</th>\n",
       "      <td>0</td>\n",
       "      <td>0</td>\n",
       "      <td>0</td>\n",
       "      <td>0</td>\n",
       "      <td>0</td>\n",
       "      <td>0</td>\n",
       "      <td>0</td>\n",
       "      <td>0</td>\n",
       "      <td>0</td>\n",
       "      <td>0</td>\n",
       "      <td>...</td>\n",
       "      <td>0</td>\n",
       "      <td>0</td>\n",
       "      <td>0</td>\n",
       "      <td>0</td>\n",
       "      <td>0</td>\n",
       "      <td>0</td>\n",
       "      <td>0</td>\n",
       "      <td>0</td>\n",
       "      <td>0</td>\n",
       "      <td>0</td>\n",
       "    </tr>\n",
       "    <tr>\n",
       "      <th>41996</th>\n",
       "      <td>1</td>\n",
       "      <td>0</td>\n",
       "      <td>0</td>\n",
       "      <td>0</td>\n",
       "      <td>0</td>\n",
       "      <td>0</td>\n",
       "      <td>0</td>\n",
       "      <td>0</td>\n",
       "      <td>0</td>\n",
       "      <td>0</td>\n",
       "      <td>...</td>\n",
       "      <td>0</td>\n",
       "      <td>0</td>\n",
       "      <td>0</td>\n",
       "      <td>0</td>\n",
       "      <td>0</td>\n",
       "      <td>0</td>\n",
       "      <td>0</td>\n",
       "      <td>0</td>\n",
       "      <td>0</td>\n",
       "      <td>0</td>\n",
       "    </tr>\n",
       "    <tr>\n",
       "      <th>41997</th>\n",
       "      <td>7</td>\n",
       "      <td>0</td>\n",
       "      <td>0</td>\n",
       "      <td>0</td>\n",
       "      <td>0</td>\n",
       "      <td>0</td>\n",
       "      <td>0</td>\n",
       "      <td>0</td>\n",
       "      <td>0</td>\n",
       "      <td>0</td>\n",
       "      <td>...</td>\n",
       "      <td>0</td>\n",
       "      <td>0</td>\n",
       "      <td>0</td>\n",
       "      <td>0</td>\n",
       "      <td>0</td>\n",
       "      <td>0</td>\n",
       "      <td>0</td>\n",
       "      <td>0</td>\n",
       "      <td>0</td>\n",
       "      <td>0</td>\n",
       "    </tr>\n",
       "    <tr>\n",
       "      <th>41998</th>\n",
       "      <td>6</td>\n",
       "      <td>0</td>\n",
       "      <td>0</td>\n",
       "      <td>0</td>\n",
       "      <td>0</td>\n",
       "      <td>0</td>\n",
       "      <td>0</td>\n",
       "      <td>0</td>\n",
       "      <td>0</td>\n",
       "      <td>0</td>\n",
       "      <td>...</td>\n",
       "      <td>0</td>\n",
       "      <td>0</td>\n",
       "      <td>0</td>\n",
       "      <td>0</td>\n",
       "      <td>0</td>\n",
       "      <td>0</td>\n",
       "      <td>0</td>\n",
       "      <td>0</td>\n",
       "      <td>0</td>\n",
       "      <td>0</td>\n",
       "    </tr>\n",
       "    <tr>\n",
       "      <th>41999</th>\n",
       "      <td>9</td>\n",
       "      <td>0</td>\n",
       "      <td>0</td>\n",
       "      <td>0</td>\n",
       "      <td>0</td>\n",
       "      <td>0</td>\n",
       "      <td>0</td>\n",
       "      <td>0</td>\n",
       "      <td>0</td>\n",
       "      <td>0</td>\n",
       "      <td>...</td>\n",
       "      <td>0</td>\n",
       "      <td>0</td>\n",
       "      <td>0</td>\n",
       "      <td>0</td>\n",
       "      <td>0</td>\n",
       "      <td>0</td>\n",
       "      <td>0</td>\n",
       "      <td>0</td>\n",
       "      <td>0</td>\n",
       "      <td>0</td>\n",
       "    </tr>\n",
       "  </tbody>\n",
       "</table>\n",
       "<p>42000 rows × 785 columns</p>\n",
       "</div>"
      ],
      "text/plain": [
       "       label  pixel0  pixel1  pixel2  pixel3  pixel4  pixel5  pixel6  pixel7  \\\n",
       "0          1       0       0       0       0       0       0       0       0   \n",
       "1          0       0       0       0       0       0       0       0       0   \n",
       "2          1       0       0       0       0       0       0       0       0   \n",
       "3          4       0       0       0       0       0       0       0       0   \n",
       "4          0       0       0       0       0       0       0       0       0   \n",
       "...      ...     ...     ...     ...     ...     ...     ...     ...     ...   \n",
       "41995      0       0       0       0       0       0       0       0       0   \n",
       "41996      1       0       0       0       0       0       0       0       0   \n",
       "41997      7       0       0       0       0       0       0       0       0   \n",
       "41998      6       0       0       0       0       0       0       0       0   \n",
       "41999      9       0       0       0       0       0       0       0       0   \n",
       "\n",
       "       pixel8  ...  pixel774  pixel775  pixel776  pixel777  pixel778  \\\n",
       "0           0  ...         0         0         0         0         0   \n",
       "1           0  ...         0         0         0         0         0   \n",
       "2           0  ...         0         0         0         0         0   \n",
       "3           0  ...         0         0         0         0         0   \n",
       "4           0  ...         0         0         0         0         0   \n",
       "...       ...  ...       ...       ...       ...       ...       ...   \n",
       "41995       0  ...         0         0         0         0         0   \n",
       "41996       0  ...         0         0         0         0         0   \n",
       "41997       0  ...         0         0         0         0         0   \n",
       "41998       0  ...         0         0         0         0         0   \n",
       "41999       0  ...         0         0         0         0         0   \n",
       "\n",
       "       pixel779  pixel780  pixel781  pixel782  pixel783  \n",
       "0             0         0         0         0         0  \n",
       "1             0         0         0         0         0  \n",
       "2             0         0         0         0         0  \n",
       "3             0         0         0         0         0  \n",
       "4             0         0         0         0         0  \n",
       "...         ...       ...       ...       ...       ...  \n",
       "41995         0         0         0         0         0  \n",
       "41996         0         0         0         0         0  \n",
       "41997         0         0         0         0         0  \n",
       "41998         0         0         0         0         0  \n",
       "41999         0         0         0         0         0  \n",
       "\n",
       "[42000 rows x 785 columns]"
      ]
     },
     "execution_count": 3,
     "metadata": {},
     "output_type": "execute_result"
    }
   ],
   "source": [
    "train = pd.read_csv(r'/kaggle/input/digit-recognizer/train.csv')\n",
    "train"
   ]
  },
  {
   "cell_type": "code",
   "execution_count": 4,
   "id": "04a5b71e",
   "metadata": {
    "execution": {
     "iopub.execute_input": "2024-01-05T10:50:00.323262Z",
     "iopub.status.busy": "2024-01-05T10:50:00.322056Z",
     "iopub.status.idle": "2024-01-05T10:50:02.970509Z",
     "shell.execute_reply": "2024-01-05T10:50:02.969436Z"
    },
    "papermill": {
     "duration": 2.662759,
     "end_time": "2024-01-05T10:50:02.973264",
     "exception": false,
     "start_time": "2024-01-05T10:50:00.310505",
     "status": "completed"
    },
    "tags": []
   },
   "outputs": [],
   "source": [
    "test = pd.read_csv(r'/kaggle/input/digit-recognizer/test.csv')\n"
   ]
  },
  {
   "cell_type": "markdown",
   "id": "fdc635aa",
   "metadata": {
    "papermill": {
     "duration": 0.009679,
     "end_time": "2024-01-05T10:50:02.992799",
     "exception": false,
     "start_time": "2024-01-05T10:50:02.983120",
     "status": "completed"
    },
    "tags": []
   },
   "source": [
    "# Extracting labels and reshaping pixel values"
   ]
  },
  {
   "cell_type": "code",
   "execution_count": 5,
   "id": "89857035",
   "metadata": {
    "execution": {
     "iopub.execute_input": "2024-01-05T10:50:03.014389Z",
     "iopub.status.busy": "2024-01-05T10:50:03.013948Z",
     "iopub.status.idle": "2024-01-05T10:50:03.135500Z",
     "shell.execute_reply": "2024-01-05T10:50:03.134171Z"
    },
    "papermill": {
     "duration": 0.135373,
     "end_time": "2024-01-05T10:50:03.138125",
     "exception": false,
     "start_time": "2024-01-05T10:50:03.002752",
     "status": "completed"
    },
    "tags": []
   },
   "outputs": [],
   "source": [
    "# Extract labels and pixel values\n",
    "labels = train['label']\n",
    "pixels = train.drop('label', axis=1)"
   ]
  },
  {
   "cell_type": "code",
   "execution_count": 6,
   "id": "5afe72e5",
   "metadata": {
    "execution": {
     "iopub.execute_input": "2024-01-05T10:50:03.160079Z",
     "iopub.status.busy": "2024-01-05T10:50:03.159631Z",
     "iopub.status.idle": "2024-01-05T10:50:03.256268Z",
     "shell.execute_reply": "2024-01-05T10:50:03.255203Z"
    },
    "papermill": {
     "duration": 0.11089,
     "end_time": "2024-01-05T10:50:03.259163",
     "exception": false,
     "start_time": "2024-01-05T10:50:03.148273",
     "status": "completed"
    },
    "tags": []
   },
   "outputs": [],
   "source": [
    "# Reshape pixel values and normalize\n",
    "pixels = pixels.values.reshape(-1, 28, 28, 1).astype('float32') / 255.0"
   ]
  },
  {
   "cell_type": "code",
   "execution_count": 7,
   "id": "91a49d2d",
   "metadata": {
    "execution": {
     "iopub.execute_input": "2024-01-05T10:50:03.280631Z",
     "iopub.status.busy": "2024-01-05T10:50:03.280253Z",
     "iopub.status.idle": "2024-01-05T10:50:03.336792Z",
     "shell.execute_reply": "2024-01-05T10:50:03.335772Z"
    },
    "papermill": {
     "duration": 0.070632,
     "end_time": "2024-01-05T10:50:03.339736",
     "exception": false,
     "start_time": "2024-01-05T10:50:03.269104",
     "status": "completed"
    },
    "tags": []
   },
   "outputs": [],
   "source": [
    "# Reshape and normalize pixel values\n",
    "test_pixels = test.values.reshape(-1, 28, 28, 1).astype('float32') / 255.0"
   ]
  },
  {
   "cell_type": "code",
   "execution_count": 8,
   "id": "dee9c38f",
   "metadata": {
    "execution": {
     "iopub.execute_input": "2024-01-05T10:50:03.362025Z",
     "iopub.status.busy": "2024-01-05T10:50:03.361561Z",
     "iopub.status.idle": "2024-01-05T10:50:03.368253Z",
     "shell.execute_reply": "2024-01-05T10:50:03.366916Z"
    },
    "papermill": {
     "duration": 0.020687,
     "end_time": "2024-01-05T10:50:03.370612",
     "exception": false,
     "start_time": "2024-01-05T10:50:03.349925",
     "status": "completed"
    },
    "tags": []
   },
   "outputs": [],
   "source": [
    "\n",
    "# One-hot encode labels\n",
    "labels = to_categorical(labels)\n"
   ]
  },
  {
   "cell_type": "markdown",
   "id": "eec8adf6",
   "metadata": {
    "papermill": {
     "duration": 0.009454,
     "end_time": "2024-01-05T10:50:03.389890",
     "exception": false,
     "start_time": "2024-01-05T10:50:03.380436",
     "status": "completed"
    },
    "tags": []
   },
   "source": [
    "# Splitting the dataset and building the CNN MODEL"
   ]
  },
  {
   "cell_type": "code",
   "execution_count": 9,
   "id": "18011e70",
   "metadata": {
    "execution": {
     "iopub.execute_input": "2024-01-05T10:50:03.412002Z",
     "iopub.status.busy": "2024-01-05T10:50:03.411120Z",
     "iopub.status.idle": "2024-01-05T10:50:03.783304Z",
     "shell.execute_reply": "2024-01-05T10:50:03.782338Z"
    },
    "papermill": {
     "duration": 0.386629,
     "end_time": "2024-01-05T10:50:03.786155",
     "exception": false,
     "start_time": "2024-01-05T10:50:03.399526",
     "status": "completed"
    },
    "tags": []
   },
   "outputs": [],
   "source": [
    "# Split the data into training and validation sets\n",
    "train_images, val_images, train_labels, val_labels = train_test_split(\n",
    "    pixels, labels, test_size=0.2, random_state=42\n",
    ")"
   ]
  },
  {
   "cell_type": "code",
   "execution_count": 10,
   "id": "4ed6fbae",
   "metadata": {
    "execution": {
     "iopub.execute_input": "2024-01-05T10:50:03.808055Z",
     "iopub.status.busy": "2024-01-05T10:50:03.807197Z",
     "iopub.status.idle": "2024-01-05T10:50:04.293392Z",
     "shell.execute_reply": "2024-01-05T10:50:04.292310Z"
    },
    "papermill": {
     "duration": 0.500199,
     "end_time": "2024-01-05T10:50:04.296259",
     "exception": false,
     "start_time": "2024-01-05T10:50:03.796060",
     "status": "completed"
    },
    "tags": []
   },
   "outputs": [],
   "source": [
    "# Build the CNN model\n",
    "model = models.Sequential()\n",
    "model.add(layers.Conv2D(32, (3, 3), activation='relu', input_shape=(28, 28, 1)))\n",
    "model.add(layers.MaxPooling2D((2, 2)))\n",
    "model.add(layers.Conv2D(64, (3, 3), activation='relu'))\n",
    "model.add(layers.MaxPooling2D((2, 2)))\n",
    "model.add(layers.Conv2D(64, (3, 3), activation='relu'))\n",
    "model.add(layers.Flatten())\n",
    "model.add(layers.Dense(64, activation='relu'))\n",
    "model.add(layers.Dense(10, activation='softmax'))"
   ]
  },
  {
   "cell_type": "code",
   "execution_count": 11,
   "id": "0172f271",
   "metadata": {
    "execution": {
     "iopub.execute_input": "2024-01-05T10:50:04.318985Z",
     "iopub.status.busy": "2024-01-05T10:50:04.317833Z",
     "iopub.status.idle": "2024-01-05T10:50:04.513623Z",
     "shell.execute_reply": "2024-01-05T10:50:04.512593Z"
    },
    "papermill": {
     "duration": 0.210132,
     "end_time": "2024-01-05T10:50:04.516338",
     "exception": false,
     "start_time": "2024-01-05T10:50:04.306206",
     "status": "completed"
    },
    "tags": []
   },
   "outputs": [],
   "source": [
    "# Example: Adding dropout and batch normalization to the model\n",
    "model = models.Sequential()\n",
    "\n",
    "model.add(layers.Conv2D(32, (3, 3), activation='relu', input_shape=(28, 28, 1)))\n",
    "model.add(layers.BatchNormalization())\n",
    "model.add(layers.MaxPooling2D((2, 2)))\n",
    "model.add(layers.Dropout(0.25))\n",
    "\n",
    "model.add(layers.Conv2D(64, (3, 3), activation='relu'))\n",
    "model.add(layers.BatchNormalization())\n",
    "model.add(layers.MaxPooling2D((2, 2)))\n",
    "model.add(layers.Dropout(0.25))\n",
    "\n",
    "model.add(layers.Conv2D(128, (3, 3), activation='relu'))\n",
    "model.add(layers.BatchNormalization())\n",
    "model.add(layers.Flatten())\n",
    "model.add(layers.Dropout(0.5))\n",
    "\n",
    "model.add(layers.Dense(128, activation='relu'))\n",
    "model.add(layers.BatchNormalization())\n",
    "model.add(layers.Dropout(0.5))\n",
    "\n",
    "model.add(layers.Dense(10, activation='softmax'))\n"
   ]
  },
  {
   "cell_type": "code",
   "execution_count": 12,
   "id": "424e597b",
   "metadata": {
    "execution": {
     "iopub.execute_input": "2024-01-05T10:50:04.538013Z",
     "iopub.status.busy": "2024-01-05T10:50:04.537582Z",
     "iopub.status.idle": "2024-01-05T10:50:04.557126Z",
     "shell.execute_reply": "2024-01-05T10:50:04.556040Z"
    },
    "papermill": {
     "duration": 0.033525,
     "end_time": "2024-01-05T10:50:04.559895",
     "exception": false,
     "start_time": "2024-01-05T10:50:04.526370",
     "status": "completed"
    },
    "tags": []
   },
   "outputs": [],
   "source": [
    "# Compile the model\n",
    "model.compile(optimizer='adam',\n",
    "              loss='categorical_crossentropy',\n",
    "              metrics=['accuracy'])"
   ]
  },
  {
   "cell_type": "markdown",
   "id": "7c0adff6",
   "metadata": {
    "papermill": {
     "duration": 0.009882,
     "end_time": "2024-01-05T10:50:04.580052",
     "exception": false,
     "start_time": "2024-01-05T10:50:04.570170",
     "status": "completed"
    },
    "tags": []
   },
   "source": [
    "# Training the model"
   ]
  },
  {
   "cell_type": "code",
   "execution_count": 13,
   "id": "6b467b13",
   "metadata": {
    "execution": {
     "iopub.execute_input": "2024-01-05T10:50:04.602263Z",
     "iopub.status.busy": "2024-01-05T10:50:04.601201Z",
     "iopub.status.idle": "2024-01-05T10:54:18.941216Z",
     "shell.execute_reply": "2024-01-05T10:54:18.939936Z"
    },
    "papermill": {
     "duration": 254.35376,
     "end_time": "2024-01-05T10:54:18.943832",
     "exception": false,
     "start_time": "2024-01-05T10:50:04.590072",
     "status": "completed"
    },
    "tags": []
   },
   "outputs": [
    {
     "name": "stdout",
     "output_type": "stream",
     "text": [
      "Epoch 1/10\n",
      "525/525 [==============================] - 29s 51ms/step - loss: 0.3938 - accuracy: 0.8790 - val_loss: 0.5279 - val_accuracy: 0.8399\n",
      "Epoch 2/10\n",
      "525/525 [==============================] - 25s 48ms/step - loss: 0.1281 - accuracy: 0.9609 - val_loss: 0.0475 - val_accuracy: 0.9857\n",
      "Epoch 3/10\n",
      "525/525 [==============================] - 25s 47ms/step - loss: 0.0950 - accuracy: 0.9709 - val_loss: 0.0433 - val_accuracy: 0.9862\n",
      "Epoch 4/10\n",
      "525/525 [==============================] - 26s 50ms/step - loss: 0.0788 - accuracy: 0.9746 - val_loss: 0.0362 - val_accuracy: 0.9871\n",
      "Epoch 5/10\n",
      "525/525 [==============================] - 25s 47ms/step - loss: 0.0707 - accuracy: 0.9783 - val_loss: 0.0343 - val_accuracy: 0.9887\n",
      "Epoch 6/10\n",
      "525/525 [==============================] - 26s 50ms/step - loss: 0.0652 - accuracy: 0.9805 - val_loss: 0.0300 - val_accuracy: 0.9910\n",
      "Epoch 7/10\n",
      "525/525 [==============================] - 25s 47ms/step - loss: 0.0598 - accuracy: 0.9812 - val_loss: 0.0275 - val_accuracy: 0.9905\n",
      "Epoch 8/10\n",
      "525/525 [==============================] - 24s 46ms/step - loss: 0.0533 - accuracy: 0.9837 - val_loss: 0.0245 - val_accuracy: 0.9915\n",
      "Epoch 9/10\n",
      "525/525 [==============================] - 25s 47ms/step - loss: 0.0495 - accuracy: 0.9848 - val_loss: 0.0262 - val_accuracy: 0.9914\n",
      "Epoch 10/10\n",
      "525/525 [==============================] - 25s 47ms/step - loss: 0.0479 - accuracy: 0.9851 - val_loss: 0.0300 - val_accuracy: 0.9905\n"
     ]
    },
    {
     "data": {
      "text/plain": [
       "<keras.src.callbacks.History at 0x7daed8895450>"
      ]
     },
     "execution_count": 13,
     "metadata": {},
     "output_type": "execute_result"
    }
   ],
   "source": [
    "# Train the model\n",
    "model.fit(train_images, train_labels, epochs=10, batch_size=64, validation_data=(val_images, val_labels))"
   ]
  },
  {
   "cell_type": "code",
   "execution_count": 14,
   "id": "07963a3f",
   "metadata": {
    "execution": {
     "iopub.execute_input": "2024-01-05T10:54:19.500513Z",
     "iopub.status.busy": "2024-01-05T10:54:19.499282Z",
     "iopub.status.idle": "2024-01-05T10:54:21.637625Z",
     "shell.execute_reply": "2024-01-05T10:54:21.636643Z"
    },
    "papermill": {
     "duration": 2.41962,
     "end_time": "2024-01-05T10:54:21.639918",
     "exception": false,
     "start_time": "2024-01-05T10:54:19.220298",
     "status": "completed"
    },
    "tags": []
   },
   "outputs": [
    {
     "name": "stdout",
     "output_type": "stream",
     "text": [
      "263/263 [==============================] - 2s 8ms/step - loss: 0.0300 - accuracy: 0.9905\n",
      "Validation accuracy: 99.05%\n"
     ]
    }
   ],
   "source": [
    "# Evaluate the model on the test set\n",
    "test_loss, test_acc = model.evaluate(val_images, val_labels)\n",
    "print(f'Validation accuracy: {test_acc * 100:.2f}%')"
   ]
  },
  {
   "cell_type": "markdown",
   "id": "7acfdccb",
   "metadata": {
    "papermill": {
     "duration": 0.281123,
     "end_time": "2024-01-05T10:54:22.204463",
     "exception": false,
     "start_time": "2024-01-05T10:54:21.923340",
     "status": "completed"
    },
    "tags": []
   },
   "source": [
    "# Making prediction on test data"
   ]
  },
  {
   "cell_type": "code",
   "execution_count": 15,
   "id": "3f789383",
   "metadata": {
    "execution": {
     "iopub.execute_input": "2024-01-05T10:54:22.766872Z",
     "iopub.status.busy": "2024-01-05T10:54:22.766026Z",
     "iopub.status.idle": "2024-01-05T10:54:33.363321Z",
     "shell.execute_reply": "2024-01-05T10:54:33.362261Z"
    },
    "papermill": {
     "duration": 10.882042,
     "end_time": "2024-01-05T10:54:33.366401",
     "exception": false,
     "start_time": "2024-01-05T10:54:22.484359",
     "status": "completed"
    },
    "tags": []
   },
   "outputs": [
    {
     "name": "stdout",
     "output_type": "stream",
     "text": [
      "875/875 [==============================] - 7s 7ms/step\n"
     ]
    }
   ],
   "source": [
    "# Make predictions on the test set\n",
    "test_predictions = model.predict(test_pixels)"
   ]
  },
  {
   "cell_type": "markdown",
   "id": "977a96cf",
   "metadata": {
    "papermill": {
     "duration": 0.361766,
     "end_time": "2024-01-05T10:54:34.024843",
     "exception": false,
     "start_time": "2024-01-05T10:54:33.663077",
     "status": "completed"
    },
    "tags": []
   },
   "source": [
    "# Visualizing our results"
   ]
  },
  {
   "cell_type": "code",
   "execution_count": 16,
   "id": "67682457",
   "metadata": {
    "execution": {
     "iopub.execute_input": "2024-01-05T10:54:34.611143Z",
     "iopub.status.busy": "2024-01-05T10:54:34.610010Z",
     "iopub.status.idle": "2024-01-05T10:54:34.616669Z",
     "shell.execute_reply": "2024-01-05T10:54:34.615931Z"
    },
    "papermill": {
     "duration": 0.302362,
     "end_time": "2024-01-05T10:54:34.619076",
     "exception": false,
     "start_time": "2024-01-05T10:54:34.316714",
     "status": "completed"
    },
    "tags": []
   },
   "outputs": [],
   "source": [
    "# Function to display test images along with their predicted labels\n",
    "def plot_test_images(images, labels_pred):\n",
    "    plt.figure(figsize=(10, 10))\n",
    "    for i in range(min(25, len(images))):\n",
    "        plt.subplot(5, 5, i + 1)\n",
    "        plt.imshow(images[i][:, :, 0], cmap='gray')  # Assuming images are grayscale\n",
    "        plt.axis('off')\n",
    "        plt.title(f\"Predicted: {np.argmax(labels_pred[i])}\")"
   ]
  },
  {
   "cell_type": "code",
   "execution_count": 17,
   "id": "20dcde47",
   "metadata": {
    "execution": {
     "iopub.execute_input": "2024-01-05T10:54:35.204980Z",
     "iopub.status.busy": "2024-01-05T10:54:35.203701Z",
     "iopub.status.idle": "2024-01-05T10:54:36.984600Z",
     "shell.execute_reply": "2024-01-05T10:54:36.983381Z"
    },
    "papermill": {
     "duration": 2.076895,
     "end_time": "2024-01-05T10:54:36.987072",
     "exception": false,
     "start_time": "2024-01-05T10:54:34.910177",
     "status": "completed"
    },
    "tags": []
   },
   "outputs": [
    {
     "data": {
      "image/png": "[encoded data removed]",
      "text/plain": [
       "<Figure size 1000x1000 with 25 Axes>"
      ]
     },
     "metadata": {},
     "output_type": "display_data"
    }
   ],
   "source": [
    "# Plot a sample of test images\n",
    "plot_test_images(test_pixels, test_predictions)\n",
    "\n",
    "plt.show()"
   ]
  },
  {
   "cell_type": "markdown",
   "id": "143a9fc0",
   "metadata": {
    "papermill": {
     "duration": 0.295586,
     "end_time": "2024-01-05T10:54:37.577213",
     "exception": false,
     "start_time": "2024-01-05T10:54:37.281627",
     "status": "completed"
    },
    "tags": []
   },
   "source": [
    "# Preparing the submission file"
   ]
  },
  {
   "cell_type": "code",
   "execution_count": 18,
   "id": "72110ea1",
   "metadata": {
    "execution": {
     "iopub.execute_input": "2024-01-05T10:54:38.161003Z",
     "iopub.status.busy": "2024-01-05T10:54:38.160117Z",
     "iopub.status.idle": "2024-01-05T10:54:38.166249Z",
     "shell.execute_reply": "2024-01-05T10:54:38.165394Z"
    },
    "papermill": {
     "duration": 0.300396,
     "end_time": "2024-01-05T10:54:38.168405",
     "exception": false,
     "start_time": "2024-01-05T10:54:37.868009",
     "status": "completed"
    },
    "tags": []
   },
   "outputs": [],
   "source": [
    "# Get the predicted labels as integers\n",
    "predicted_labels = np.argmax(test_predictions, axis=1)"
   ]
  },
  {
   "cell_type": "code",
   "execution_count": 19,
   "id": "566d6310",
   "metadata": {
    "execution": {
     "iopub.execute_input": "2024-01-05T10:54:38.755746Z",
     "iopub.status.busy": "2024-01-05T10:54:38.755310Z",
     "iopub.status.idle": "2024-01-05T10:54:38.762764Z",
     "shell.execute_reply": "2024-01-05T10:54:38.761276Z"
    },
    "papermill": {
     "duration": 0.303146,
     "end_time": "2024-01-05T10:54:38.764981",
     "exception": false,
     "start_time": "2024-01-05T10:54:38.461835",
     "status": "completed"
    },
    "tags": []
   },
   "outputs": [],
   "source": [
    "# Create a DataFrame with ImageId and Label columns\n",
    "submission_df = pd.DataFrame({'ImageId': range(1, len(test) + 1), 'Label': predicted_labels})"
   ]
  },
  {
   "cell_type": "code",
   "execution_count": 20,
   "id": "d5e8d70d",
   "metadata": {
    "execution": {
     "iopub.execute_input": "2024-01-05T10:54:39.443269Z",
     "iopub.status.busy": "2024-01-05T10:54:39.442822Z",
     "iopub.status.idle": "2024-01-05T10:54:39.517907Z",
     "shell.execute_reply": "2024-01-05T10:54:39.516736Z"
    },
    "papermill": {
     "duration": 0.467007,
     "end_time": "2024-01-05T10:54:39.521329",
     "exception": false,
     "start_time": "2024-01-05T10:54:39.054322",
     "status": "completed"
    },
    "tags": []
   },
   "outputs": [],
   "source": [
    "# Save the DataFrame to a CSV file with the specified format\n",
    "submission_df.to_csv('submission.csv', index=False)\n"
   ]
  },
  {
   "cell_type": "code",
   "execution_count": 21,
   "id": "403cfc95",
   "metadata": {
    "execution": {
     "iopub.execute_input": "2024-01-05T10:54:40.125573Z",
     "iopub.status.busy": "2024-01-05T10:54:40.124893Z",
     "iopub.status.idle": "2024-01-05T10:54:40.132967Z",
     "shell.execute_reply": "2024-01-05T10:54:40.131656Z"
    },
    "papermill": {
     "duration": 0.308298,
     "end_time": "2024-01-05T10:54:40.135434",
     "exception": false,
     "start_time": "2024-01-05T10:54:39.827136",
     "status": "completed"
    },
    "tags": []
   },
   "outputs": [
    {
     "name": "stdout",
     "output_type": "stream",
     "text": [
      "   ImageId  Label\n",
      "0        1      2\n",
      "1        2      0\n",
      "2        3      9\n",
      "3        4      9\n",
      "4        5      3\n"
     ]
    }
   ],
   "source": [
    "# Display the first few rows of the submission DataFrame\n",
    "print(submission_df.head())"
   ]
  },
  {
   "cell_type": "code",
   "execution_count": null,
   "id": "e2a1a34e",
   "metadata": {
    "papermill": {
     "duration": 0.293861,
     "end_time": "2024-01-05T10:54:40.723568",
     "exception": false,
     "start_time": "2024-01-05T10:54:40.429707",
     "status": "completed"
    },
    "tags": []
   },
   "outputs": [],
   "source": []
  }
 ],
 "metadata": {
  "kaggle": {
   "accelerator": "none",
   "dataSources": [
    {
     "databundleVersionId": 861823,
     "sourceId": 3004,
     "sourceType": "competition"
    }
   ],
   "dockerImageVersionId": 30626,
   "isGpuEnabled": false,
   "isInternetEnabled": true,
   "language": "python",
   "sourceType": "notebook"
  },
  "kernelspec": {
   "display_name": "Python 3",
   "language": "python",
   "name": "python3"
  },
  "language_info": {
   "codemirror_mode": {
    "name": "ipython",
    "version": 3
   },
   "file_extension": ".py",
   "mimetype": "text/x-python",
   "name": "python",
   "nbconvert_exporter": "python",
   "pygments_lexer": "ipython3",
   "version": "3.10.12"
  },
  "papermill": {
   "default_parameters": {},
   "duration": 306.259788,
   "end_time": "2024-01-05T10:54:42.741004",
   "environment_variables": {},
   "exception": null,
   "input_path": "__notebook__.ipynb",
   "output_path": "__notebook__.ipynb",
   "parameters": {},
   "start_time": "2024-01-05T10:49:36.481216",
   "version": "2.4.0"
  }
 },
 "nbformat": 4,
 "nbformat_minor": 5
}
